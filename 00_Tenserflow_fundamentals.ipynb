{
  "nbformat": 4,
  "nbformat_minor": 0,
  "metadata": {
    "colab": {
      "name": "00_Tenserflow_fundamentals.ipynb",
      "provenance": []
    },
    "kernelspec": {
      "name": "python3",
      "display_name": "Python 3"
    },
    "language_info": {
      "name": "python"
    }
  },
  "cells": [
    {
      "cell_type": "markdown",
      "metadata": {
        "id": "Z-EEnMcSspS-"
      },
      "source": [
        "In this notebook we are going to cover some of the most fundamental concepts of tensors using tensorflow.\n",
        "\n",
        "More Specially,\n",
        "\n",
        "*intoduction to tensors\n",
        "\n",
        "*getting information from tensors\n",
        "\n",
        "*manipulating tensors\n",
        "\n",
        "*tensors & numpy\n",
        "\n",
        "*using tf.fuunction speed uo the process\n",
        "\n",
        "*using GPU with tensors\n",
        "\n",
        "*Eercise Yourself"
      ]
    },
    {
      "cell_type": "markdown",
      "metadata": {
        "id": "s-q5tjzyskek"
      },
      "source": [
        "#introduction tesors\n",
        "\n"
      ]
    },
    {
      "cell_type": "code",
      "metadata": {
        "colab": {
          "base_uri": "https://localhost:8080/"
        },
        "id": "n9eeEiKvtlrI",
        "outputId": "61a37888-653f-4bf5-8c64-003a470d801f"
      },
      "source": [
        "#import Tensorflow\n",
        "import tensorflow as tf\n",
        "print(tf.__version__)\n"
      ],
      "execution_count": 3,
      "outputs": [
        {
          "output_type": "stream",
          "text": [
            "2.5.0\n"
          ],
          "name": "stdout"
        }
      ]
    },
    {
      "cell_type": "code",
      "metadata": {
        "colab": {
          "base_uri": "https://localhost:8080/"
        },
        "id": "TJVx0Fb5tx07",
        "outputId": "63d84669-353a-4e6b-8e6a-06ef9a2112d0"
      },
      "source": [
        "#Creating tensors with tf.constant()\n",
        "scalar =tf.constant(7)\n",
        "scalar"
      ],
      "execution_count": 5,
      "outputs": [
        {
          "output_type": "execute_result",
          "data": {
            "text/plain": [
              "<tf.Tensor: shape=(), dtype=int32, numpy=7>"
            ]
          },
          "metadata": {
            "tags": []
          },
          "execution_count": 5
        }
      ]
    },
    {
      "cell_type": "code",
      "metadata": {
        "colab": {
          "base_uri": "https://localhost:8080/"
        },
        "id": "1b5w-Zs6uVrn",
        "outputId": "f97e4cd6-93ef-46a3-e7a7-421b7de657bd"
      },
      "source": [
        "#check the number of dimntions(ndim stands for num of dimwntions)\n",
        "scalar.ndim\n"
      ],
      "execution_count": 6,
      "outputs": [
        {
          "output_type": "execute_result",
          "data": {
            "text/plain": [
              "0"
            ]
          },
          "metadata": {
            "tags": []
          },
          "execution_count": 6
        }
      ]
    },
    {
      "cell_type": "code",
      "metadata": {
        "colab": {
          "base_uri": "https://localhost:8080/"
        },
        "id": "mk2URnePuui8",
        "outputId": "cef562bc-b533-4955-82b1-5d63fd7fa711"
      },
      "source": [
        "#create a vector\n",
        "vector= tf.constant([10,10])\n",
        "vector"
      ],
      "execution_count": 7,
      "outputs": [
        {
          "output_type": "execute_result",
          "data": {
            "text/plain": [
              "<tf.Tensor: shape=(2,), dtype=int32, numpy=array([10, 10], dtype=int32)>"
            ]
          },
          "metadata": {
            "tags": []
          },
          "execution_count": 7
        }
      ]
    },
    {
      "cell_type": "code",
      "metadata": {
        "colab": {
          "base_uri": "https://localhost:8080/"
        },
        "id": "epx6l9E6u1vb",
        "outputId": "429cd9e1-36fb-4f6c-e75a-6a51a1c83223"
      },
      "source": [
        "#check the dimetion of the vector\n",
        "vector.ndim\n"
      ],
      "execution_count": 8,
      "outputs": [
        {
          "output_type": "execute_result",
          "data": {
            "text/plain": [
              "1"
            ]
          },
          "metadata": {
            "tags": []
          },
          "execution_count": 8
        }
      ]
    },
    {
      "cell_type": "code",
      "metadata": {
        "colab": {
          "base_uri": "https://localhost:8080/"
        },
        "id": "sfcDF2WYvEbS",
        "outputId": "f4414071-bd2b-4d31-856f-df0f4286f81e"
      },
      "source": [
        "#craete a metrix\n",
        "matrix =tf.constant([[10,7],\n",
        "                     [7,10]])\n",
        "\n",
        "matrix"
      ],
      "execution_count": 10,
      "outputs": [
        {
          "output_type": "execute_result",
          "data": {
            "text/plain": [
              "<tf.Tensor: shape=(2, 2), dtype=int32, numpy=\n",
              "array([[10,  7],\n",
              "       [ 7, 10]], dtype=int32)>"
            ]
          },
          "metadata": {
            "tags": []
          },
          "execution_count": 10
        }
      ]
    },
    {
      "cell_type": "code",
      "metadata": {
        "colab": {
          "base_uri": "https://localhost:8080/"
        },
        "id": "wovVcTq9vM0W",
        "outputId": "a734a69a-ff94-47d2-cc2a-8cff22086176"
      },
      "source": [
        "matrix.ndim"
      ],
      "execution_count": 11,
      "outputs": [
        {
          "output_type": "execute_result",
          "data": {
            "text/plain": [
              "2"
            ]
          },
          "metadata": {
            "tags": []
          },
          "execution_count": 11
        }
      ]
    },
    {
      "cell_type": "code",
      "metadata": {
        "colab": {
          "base_uri": "https://localhost:8080/"
        },
        "id": "bXoX7xESvffk",
        "outputId": "2e258f53-348a-4d58-b55c-2f08b15c0569"
      },
      "source": [
        "#craete a anothe matrix \n",
        "another_matrix =tf.constant([[10.,7.],\n",
        "                             [3.,2.],\n",
        "                             [8.,9.]],dtype=tf.float16) #specify the data typpew with dtype parameter\n",
        "\n",
        "another_matrix"
      ],
      "execution_count": 12,
      "outputs": [
        {
          "output_type": "execute_result",
          "data": {
            "text/plain": [
              "<tf.Tensor: shape=(3, 2), dtype=float16, numpy=\n",
              "array([[10.,  7.],\n",
              "       [ 3.,  2.],\n",
              "       [ 8.,  9.]], dtype=float16)>"
            ]
          },
          "metadata": {
            "tags": []
          },
          "execution_count": 12
        }
      ]
    },
    {
      "cell_type": "code",
      "metadata": {
        "colab": {
          "base_uri": "https://localhost:8080/"
        },
        "id": "WY6vOsMpwRdn",
        "outputId": "a44a6b43-b08f-400e-e3da-cae20c672c99"
      },
      "source": [
        "another_matrix.ndim"
      ],
      "execution_count": 13,
      "outputs": [
        {
          "output_type": "execute_result",
          "data": {
            "text/plain": [
              "2"
            ]
          },
          "metadata": {
            "tags": []
          },
          "execution_count": 13
        }
      ]
    },
    {
      "cell_type": "code",
      "metadata": {
        "colab": {
          "base_uri": "https://localhost:8080/"
        },
        "id": "cO9yqOzZwdqZ",
        "outputId": "9db0ddff-af15-482c-f90e-180efcd02940"
      },
      "source": [
        "#lets create a tensor\n",
        "tensor = tf.constant([[[1,2,3],\n",
        "                       [4,5,6]],\n",
        "                       [[7,8,9],\n",
        "                       [10,11,12]],\n",
        "                      [[13,14,15],\n",
        "                       [16,17,18]]])\n",
        "\n",
        "tensor"
      ],
      "execution_count": 16,
      "outputs": [
        {
          "output_type": "execute_result",
          "data": {
            "text/plain": [
              "<tf.Tensor: shape=(3, 2, 3), dtype=int32, numpy=\n",
              "array([[[ 1,  2,  3],\n",
              "        [ 4,  5,  6]],\n",
              "\n",
              "       [[ 7,  8,  9],\n",
              "        [10, 11, 12]],\n",
              "\n",
              "       [[13, 14, 15],\n",
              "        [16, 17, 18]]], dtype=int32)>"
            ]
          },
          "metadata": {
            "tags": []
          },
          "execution_count": 16
        }
      ]
    },
    {
      "cell_type": "code",
      "metadata": {
        "colab": {
          "base_uri": "https://localhost:8080/"
        },
        "id": "9WYMoQ1jxUG7",
        "outputId": "ca57d206-82a0-4040-d686-a1f0e1485e42"
      },
      "source": [
        "tensor.ndim"
      ],
      "execution_count": 17,
      "outputs": [
        {
          "output_type": "execute_result",
          "data": {
            "text/plain": [
              "3"
            ]
          },
          "metadata": {
            "tags": []
          },
          "execution_count": 17
        }
      ]
    },
    {
      "cell_type": "markdown",
      "metadata": {
        "id": "Q0qpXIT2xfT5"
      },
      "source": [
        "What we created so far\n",
        "\n",
        "*scalar = a single number\n",
        "\n",
        "*vector = a number with direction (wind speed)\n",
        "\n",
        "*matrix = a 2 dimentional array of numbers\n",
        "\n",
        "*tensor = an n dimentional array of number "
      ]
    },
    {
      "cell_type": "code",
      "metadata": {
        "id": "aVYlSQ6_x6NK"
      },
      "source": [
        ""
      ],
      "execution_count": null,
      "outputs": []
    }
  ]
}