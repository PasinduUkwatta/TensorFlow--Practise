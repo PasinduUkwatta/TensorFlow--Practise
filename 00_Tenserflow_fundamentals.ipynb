{
  "nbformat": 4,
  "nbformat_minor": 0,
  "metadata": {
    "colab": {
      "name": "00_Tenserflow_fundamentals.ipynb",
      "provenance": [],
      "toc_visible": true
    },
    "kernelspec": {
      "name": "python3",
      "display_name": "Python 3"
    },
    "language_info": {
      "name": "python"
    }
  },
  "cells": [
    {
      "cell_type": "markdown",
      "metadata": {
        "id": "Z-EEnMcSspS-"
      },
      "source": [
        "In this notebook we are going to cover some of the most fundamental concepts of tensors using tensorflow.\n",
        "\n",
        "More Specially,\n",
        "\n",
        "*intoduction to tensors\n",
        "\n",
        "*getting information from tensors\n",
        "\n",
        "*manipulating tensors\n",
        "\n",
        "*tensors & numpy\n",
        "\n",
        "*using tf.fuunction speed uo the process\n",
        "\n",
        "*using GPU with tensors\n",
        "\n",
        "*Eercise Yourself"
      ]
    },
    {
      "cell_type": "markdown",
      "metadata": {
        "id": "s-q5tjzyskek"
      },
      "source": [
        "#introduction tesors\n",
        "\n"
      ]
    },
    {
      "cell_type": "code",
      "metadata": {
        "colab": {
          "base_uri": "https://localhost:8080/"
        },
        "id": "n9eeEiKvtlrI",
        "outputId": "ebdd1a36-e9fe-4ae5-e8d8-6f3ce9bbf8e3"
      },
      "source": [
        "#import Tensorflow\n",
        "import tensorflow as tf\n",
        "print(tf.__version__)\n"
      ],
      "execution_count": 91,
      "outputs": [
        {
          "output_type": "stream",
          "text": [
            "2.5.0\n"
          ],
          "name": "stdout"
        }
      ]
    },
    {
      "cell_type": "code",
      "metadata": {
        "colab": {
          "base_uri": "https://localhost:8080/"
        },
        "id": "TJVx0Fb5tx07",
        "outputId": "ceb925d6-de4f-439a-fbed-65711e62cfca"
      },
      "source": [
        "#Creating tensors with tf.constant()\n",
        "scalar =tf.constant(7)\n",
        "scalar"
      ],
      "execution_count": 92,
      "outputs": [
        {
          "output_type": "execute_result",
          "data": {
            "text/plain": [
              "<tf.Tensor: shape=(), dtype=int32, numpy=7>"
            ]
          },
          "metadata": {
            "tags": []
          },
          "execution_count": 92
        }
      ]
    },
    {
      "cell_type": "code",
      "metadata": {
        "colab": {
          "base_uri": "https://localhost:8080/"
        },
        "id": "1b5w-Zs6uVrn",
        "outputId": "c3f644b7-9c8d-4f04-887d-f30c1f3dea2b"
      },
      "source": [
        "#check the number of dimntions(ndim stands for num of dimwntions)\n",
        "scalar.ndim\n"
      ],
      "execution_count": 93,
      "outputs": [
        {
          "output_type": "execute_result",
          "data": {
            "text/plain": [
              "0"
            ]
          },
          "metadata": {
            "tags": []
          },
          "execution_count": 93
        }
      ]
    },
    {
      "cell_type": "code",
      "metadata": {
        "colab": {
          "base_uri": "https://localhost:8080/"
        },
        "id": "mk2URnePuui8",
        "outputId": "ba60d7e0-2bfb-4d32-9b26-ebe64cd6d297"
      },
      "source": [
        "#create a vector\n",
        "vector= tf.constant([10,10])\n",
        "vector"
      ],
      "execution_count": 94,
      "outputs": [
        {
          "output_type": "execute_result",
          "data": {
            "text/plain": [
              "<tf.Tensor: shape=(2,), dtype=int32, numpy=array([10, 10], dtype=int32)>"
            ]
          },
          "metadata": {
            "tags": []
          },
          "execution_count": 94
        }
      ]
    },
    {
      "cell_type": "code",
      "metadata": {
        "colab": {
          "base_uri": "https://localhost:8080/"
        },
        "id": "epx6l9E6u1vb",
        "outputId": "36717346-78e2-46d5-f018-a1a0d6c2f1ea"
      },
      "source": [
        "#check the dimetion of the vector\n",
        "vector.ndim\n"
      ],
      "execution_count": 95,
      "outputs": [
        {
          "output_type": "execute_result",
          "data": {
            "text/plain": [
              "1"
            ]
          },
          "metadata": {
            "tags": []
          },
          "execution_count": 95
        }
      ]
    },
    {
      "cell_type": "code",
      "metadata": {
        "colab": {
          "base_uri": "https://localhost:8080/"
        },
        "id": "sfcDF2WYvEbS",
        "outputId": "b96209e3-17f9-4fcd-84c6-0089918f7b5f"
      },
      "source": [
        "#craete a metrix\n",
        "matrix =tf.constant([[10,7],\n",
        "                     [7,10]])\n",
        "\n",
        "matrix"
      ],
      "execution_count": 96,
      "outputs": [
        {
          "output_type": "execute_result",
          "data": {
            "text/plain": [
              "<tf.Tensor: shape=(2, 2), dtype=int32, numpy=\n",
              "array([[10,  7],\n",
              "       [ 7, 10]], dtype=int32)>"
            ]
          },
          "metadata": {
            "tags": []
          },
          "execution_count": 96
        }
      ]
    },
    {
      "cell_type": "code",
      "metadata": {
        "colab": {
          "base_uri": "https://localhost:8080/"
        },
        "id": "wovVcTq9vM0W",
        "outputId": "064cbedf-4a72-4c62-cd49-50a371e43b91"
      },
      "source": [
        "matrix.ndim"
      ],
      "execution_count": 97,
      "outputs": [
        {
          "output_type": "execute_result",
          "data": {
            "text/plain": [
              "2"
            ]
          },
          "metadata": {
            "tags": []
          },
          "execution_count": 97
        }
      ]
    },
    {
      "cell_type": "code",
      "metadata": {
        "colab": {
          "base_uri": "https://localhost:8080/"
        },
        "id": "bXoX7xESvffk",
        "outputId": "375402c6-c864-4eb9-dea0-ccf155ebb8be"
      },
      "source": [
        "#craete a anothe matrix \n",
        "another_matrix =tf.constant([[10.,7.],\n",
        "                             [3.,2.],\n",
        "                             [8.,9.]],dtype=tf.float16) #specify the data typpew with dtype parameter\n",
        "\n",
        "another_matrix"
      ],
      "execution_count": 98,
      "outputs": [
        {
          "output_type": "execute_result",
          "data": {
            "text/plain": [
              "<tf.Tensor: shape=(3, 2), dtype=float16, numpy=\n",
              "array([[10.,  7.],\n",
              "       [ 3.,  2.],\n",
              "       [ 8.,  9.]], dtype=float16)>"
            ]
          },
          "metadata": {
            "tags": []
          },
          "execution_count": 98
        }
      ]
    },
    {
      "cell_type": "code",
      "metadata": {
        "colab": {
          "base_uri": "https://localhost:8080/"
        },
        "id": "WY6vOsMpwRdn",
        "outputId": "e9b144fd-4065-4ae4-bce7-24f097b6f707"
      },
      "source": [
        "another_matrix.ndim"
      ],
      "execution_count": 99,
      "outputs": [
        {
          "output_type": "execute_result",
          "data": {
            "text/plain": [
              "2"
            ]
          },
          "metadata": {
            "tags": []
          },
          "execution_count": 99
        }
      ]
    },
    {
      "cell_type": "code",
      "metadata": {
        "colab": {
          "base_uri": "https://localhost:8080/"
        },
        "id": "cO9yqOzZwdqZ",
        "outputId": "217de736-e73f-4e73-ac19-93d9adc10ad9"
      },
      "source": [
        "#lets create a tensor\n",
        "tensor = tf.constant([[[1,2,3],\n",
        "                       [4,5,6]],\n",
        "                       [[7,8,9],\n",
        "                       [10,11,12]],\n",
        "                      [[13,14,15],\n",
        "                       [16,17,18]]])\n",
        "\n",
        "tensor"
      ],
      "execution_count": 100,
      "outputs": [
        {
          "output_type": "execute_result",
          "data": {
            "text/plain": [
              "<tf.Tensor: shape=(3, 2, 3), dtype=int32, numpy=\n",
              "array([[[ 1,  2,  3],\n",
              "        [ 4,  5,  6]],\n",
              "\n",
              "       [[ 7,  8,  9],\n",
              "        [10, 11, 12]],\n",
              "\n",
              "       [[13, 14, 15],\n",
              "        [16, 17, 18]]], dtype=int32)>"
            ]
          },
          "metadata": {
            "tags": []
          },
          "execution_count": 100
        }
      ]
    },
    {
      "cell_type": "code",
      "metadata": {
        "colab": {
          "base_uri": "https://localhost:8080/"
        },
        "id": "9WYMoQ1jxUG7",
        "outputId": "130d5957-4109-4126-f6cd-24b1f7261e12"
      },
      "source": [
        "tensor.ndim"
      ],
      "execution_count": 101,
      "outputs": [
        {
          "output_type": "execute_result",
          "data": {
            "text/plain": [
              "3"
            ]
          },
          "metadata": {
            "tags": []
          },
          "execution_count": 101
        }
      ]
    },
    {
      "cell_type": "markdown",
      "metadata": {
        "id": "Q0qpXIT2xfT5"
      },
      "source": [
        "What we created so far\n",
        "\n",
        "*scalar = a single number\n",
        "\n",
        "*vector = a number with direction (wind speed)\n",
        "\n",
        "*matrix = a 2 dimentional array of numbers\n",
        "\n",
        "*tensor = an n dimentional array of number "
      ]
    },
    {
      "cell_type": "markdown",
      "metadata": {
        "id": "C4yysg0qFZKi"
      },
      "source": [
        "Creating Tensors with tf Variabel"
      ]
    },
    {
      "cell_type": "code",
      "metadata": {
        "id": "aVYlSQ6_x6NK",
        "colab": {
          "base_uri": "https://localhost:8080/"
        },
        "outputId": "b76cf816-94ab-4a87-93bf-a1788647ef5e"
      },
      "source": [
        "tf.Variable"
      ],
      "execution_count": 102,
      "outputs": [
        {
          "output_type": "execute_result",
          "data": {
            "text/plain": [
              "tensorflow.python.ops.variables.Variable"
            ]
          },
          "metadata": {
            "tags": []
          },
          "execution_count": 102
        }
      ]
    },
    {
      "cell_type": "code",
      "metadata": {
        "colab": {
          "base_uri": "https://localhost:8080/"
        },
        "id": "6Ta-slxGFXqn",
        "outputId": "c44a4532-c9d2-42aa-c167-6c3fe9a11fbe"
      },
      "source": [
        "#craete Same Tensor with tf.Variable()\n",
        "changeable_tensor =tf.Variable([10,7])\n",
        "unchangeable_tensor =tf.constant([10,7])\n",
        "changeable_tensor,unchangeable_tensor"
      ],
      "execution_count": 103,
      "outputs": [
        {
          "output_type": "execute_result",
          "data": {
            "text/plain": [
              "(<tf.Variable 'Variable:0' shape=(2,) dtype=int32, numpy=array([10,  7], dtype=int32)>,\n",
              " <tf.Tensor: shape=(2,), dtype=int32, numpy=array([10,  7], dtype=int32)>)"
            ]
          },
          "metadata": {
            "tags": []
          },
          "execution_count": 103
        }
      ]
    },
    {
      "cell_type": "code",
      "metadata": {
        "id": "3UaIS01HGIwP"
      },
      "source": [
        "# #Let's Try chnage on of the elements in our chnagble Tensor\n",
        "# changeable_tensor[0] =7\n",
        "# changeable_tensor"
      ],
      "execution_count": 104,
      "outputs": []
    },
    {
      "cell_type": "code",
      "metadata": {
        "colab": {
          "base_uri": "https://localhost:8080/"
        },
        "id": "uAey2GQfGdSE",
        "outputId": "e0cfadcb-c2b0-4542-fa45-c7bdfc611dd8"
      },
      "source": [
        "#try .assign()\n",
        "changeable_tensor[0].assign(7)\n",
        "changeable_tensor\n"
      ],
      "execution_count": 105,
      "outputs": [
        {
          "output_type": "execute_result",
          "data": {
            "text/plain": [
              "<tf.Variable 'Variable:0' shape=(2,) dtype=int32, numpy=array([7, 7], dtype=int32)>"
            ]
          },
          "metadata": {
            "tags": []
          },
          "execution_count": 105
        }
      ]
    },
    {
      "cell_type": "code",
      "metadata": {
        "id": "xw-uWr7qGtRO"
      },
      "source": [
        "#Let's Try our unchnagble Tensor\n",
        "# unchangeable_tensor[0].assign(7)\n",
        "# unchangeable_tensor"
      ],
      "execution_count": 106,
      "outputs": []
    },
    {
      "cell_type": "markdown",
      "metadata": {
        "id": "Hjn-gm-jHMTJ"
      },
      "source": [
        "##Creating Random Tensors\n",
        "\n",
        "Creating a random arbitory size of Tensors"
      ]
    },
    {
      "cell_type": "code",
      "metadata": {
        "colab": {
          "base_uri": "https://localhost:8080/"
        },
        "id": "ZVrSX8TEG3XW",
        "outputId": "f26ec18e-8550-4638-830c-66837c88ff91"
      },
      "source": [
        "#craete random and same tensors\n",
        "random_1=tf.random.Generator.from_seed(42)\n",
        "random_1=random_1.normal(shape=(3,2))\n",
        "random_2=tf.random.Generator.from_seed(42)\n",
        "random_2=random_2.normal(shape=(3,2))\n",
        "random_1,random_2\n"
      ],
      "execution_count": 107,
      "outputs": [
        {
          "output_type": "execute_result",
          "data": {
            "text/plain": [
              "(<tf.Tensor: shape=(3, 2), dtype=float32, numpy=\n",
              " array([[-0.7565803 , -0.06854702],\n",
              "        [ 0.07595026, -1.2573844 ],\n",
              "        [-0.23193763, -1.8107855 ]], dtype=float32)>,\n",
              " <tf.Tensor: shape=(3, 2), dtype=float32, numpy=\n",
              " array([[-0.7565803 , -0.06854702],\n",
              "        [ 0.07595026, -1.2573844 ],\n",
              "        [-0.23193763, -1.8107855 ]], dtype=float32)>)"
            ]
          },
          "metadata": {
            "tags": []
          },
          "execution_count": 107
        }
      ]
    },
    {
      "cell_type": "markdown",
      "metadata": {
        "id": "m65dLLiOIera"
      },
      "source": [
        "###Shuffle The Order Of Elements in the Tensor"
      ]
    },
    {
      "cell_type": "code",
      "metadata": {
        "colab": {
          "base_uri": "https://localhost:8080/"
        },
        "id": "2QULdyf-JpKD",
        "outputId": "11da39db-8cd5-4e2c-f6b8-d2bf8ffa1519"
      },
      "source": [
        "#shuffe the tensor with the inherient order \n",
        "not_shuffled =tf.constant([[10,7],\n",
        "                          [3,4],\n",
        "                          [2,5]])\n",
        "\n",
        "\n",
        "\n",
        "\n",
        "tf.random.shuffle(not_shuffled)"
      ],
      "execution_count": 108,
      "outputs": [
        {
          "output_type": "execute_result",
          "data": {
            "text/plain": [
              "<tf.Tensor: shape=(3, 2), dtype=int32, numpy=\n",
              "array([[ 3,  4],\n",
              "       [ 2,  5],\n",
              "       [10,  7]], dtype=int32)>"
            ]
          },
          "metadata": {
            "tags": []
          },
          "execution_count": 108
        }
      ]
    },
    {
      "cell_type": "code",
      "metadata": {
        "id": "-xdSC5WFMrz4"
      },
      "source": [
        "# #shuffle the tensor\n",
        "# tf.random.set_random_seed(42)\n",
        "# tf.random.shuffle(not_shuffled,seed=42)"
      ],
      "execution_count": 109,
      "outputs": []
    },
    {
      "cell_type": "code",
      "metadata": {
        "colab": {
          "base_uri": "https://localhost:8080/"
        },
        "id": "eDT_c2iyQGiY",
        "outputId": "63583701-b5e8-459d-c89b-241c9f3609d1"
      },
      "source": [
        "#shuffe the tensor with the inherient order \n",
        "not_shuffled =tf.constant([[10.0,7,5],\n",
        "                          [3.,2,4],\n",
        "                          [3.,1,4],\n",
        "                          [5.,3,4],\n",
        "                          [6.,7,4],\n",
        "                          [8.,5,9]])\n",
        "\n",
        "not_shuffled"
      ],
      "execution_count": 110,
      "outputs": [
        {
          "output_type": "execute_result",
          "data": {
            "text/plain": [
              "<tf.Tensor: shape=(6, 3), dtype=float32, numpy=\n",
              "array([[10.,  7.,  5.],\n",
              "       [ 3.,  2.,  4.],\n",
              "       [ 3.,  1.,  4.],\n",
              "       [ 5.,  3.,  4.],\n",
              "       [ 6.,  7.,  4.],\n",
              "       [ 8.,  5.,  9.]], dtype=float32)>"
            ]
          },
          "metadata": {
            "tags": []
          },
          "execution_count": 110
        }
      ]
    },
    {
      "cell_type": "code",
      "metadata": {
        "colab": {
          "base_uri": "https://localhost:8080/"
        },
        "id": "_3u4PKwSQu4X",
        "outputId": "ee20e164-9540-4c06-e581-0f2f2e9292eb"
      },
      "source": [
        "print(tf.random.set_seed)\n",
        "tf.random.shuffle(not_shuffled)"
      ],
      "execution_count": 111,
      "outputs": [
        {
          "output_type": "stream",
          "text": [
            "<function set_seed at 0x7fde58dbb5f0>\n"
          ],
          "name": "stdout"
        },
        {
          "output_type": "execute_result",
          "data": {
            "text/plain": [
              "<tf.Tensor: shape=(6, 3), dtype=float32, numpy=\n",
              "array([[ 3.,  1.,  4.],\n",
              "       [ 6.,  7.,  4.],\n",
              "       [ 8.,  5.,  9.],\n",
              "       [ 5.,  3.,  4.],\n",
              "       [ 3.,  2.,  4.],\n",
              "       [10.,  7.,  5.]], dtype=float32)>"
            ]
          },
          "metadata": {
            "tags": []
          },
          "execution_count": 111
        }
      ]
    },
    {
      "cell_type": "markdown",
      "metadata": {
        "id": "4XzMjVicPRaw"
      },
      "source": [
        "It looks like our shuffle tensors in the same order  ,We need to use global and Oprtaional level random seed initilized."
      ]
    },
    {
      "cell_type": "code",
      "metadata": {
        "colab": {
          "base_uri": "https://localhost:8080/"
        },
        "id": "VzRIy3vBR149",
        "outputId": "0789af4b-5b98-48b2-de9e-3edc824627d5"
      },
      "source": [
        "tf.random.set_seed(42)\n",
        "tf.random.shuffle(not_shuffled,seed=42)\n",
        "\n",
        "# <tf.Tensor: shape=(6, 3), dtype=float32, numpy=\n",
        "# array([[ 5.,  3.,  4.],\n",
        "#        [ 6.,  7.,  4.],\n",
        "#        [ 3.,  2.,  4.],\n",
        "#        [ 8.,  5.,  9.],\n",
        "#        [ 3.,  1.,  4.],\n",
        "#        [10.,  7.,  5.]], dtype=float32)>"
      ],
      "execution_count": 112,
      "outputs": [
        {
          "output_type": "execute_result",
          "data": {
            "text/plain": [
              "<tf.Tensor: shape=(6, 3), dtype=float32, numpy=\n",
              "array([[ 5.,  3.,  4.],\n",
              "       [ 6.,  7.,  4.],\n",
              "       [ 3.,  2.,  4.],\n",
              "       [ 8.,  5.,  9.],\n",
              "       [ 3.,  1.,  4.],\n",
              "       [10.,  7.,  5.]], dtype=float32)>"
            ]
          },
          "metadata": {
            "tags": []
          },
          "execution_count": 112
        }
      ]
    },
    {
      "cell_type": "markdown",
      "metadata": {
        "id": "YXefZiWsOuRR"
      },
      "source": [
        "##Other Ways to make Tensors"
      ]
    },
    {
      "cell_type": "code",
      "metadata": {
        "colab": {
          "base_uri": "https://localhost:8080/"
        },
        "id": "m44xE2fYPqEq",
        "outputId": "3d4de563-b8d6-4390-c6b7-1d510088b7de"
      },
      "source": [
        "#create tensor of ones\n",
        "tf.ones([10,7])"
      ],
      "execution_count": 113,
      "outputs": [
        {
          "output_type": "execute_result",
          "data": {
            "text/plain": [
              "<tf.Tensor: shape=(10, 7), dtype=float32, numpy=\n",
              "array([[1., 1., 1., 1., 1., 1., 1.],\n",
              "       [1., 1., 1., 1., 1., 1., 1.],\n",
              "       [1., 1., 1., 1., 1., 1., 1.],\n",
              "       [1., 1., 1., 1., 1., 1., 1.],\n",
              "       [1., 1., 1., 1., 1., 1., 1.],\n",
              "       [1., 1., 1., 1., 1., 1., 1.],\n",
              "       [1., 1., 1., 1., 1., 1., 1.],\n",
              "       [1., 1., 1., 1., 1., 1., 1.],\n",
              "       [1., 1., 1., 1., 1., 1., 1.],\n",
              "       [1., 1., 1., 1., 1., 1., 1.]], dtype=float32)>"
            ]
          },
          "metadata": {
            "tags": []
          },
          "execution_count": 113
        }
      ]
    },
    {
      "cell_type": "code",
      "metadata": {
        "colab": {
          "base_uri": "https://localhost:8080/"
        },
        "id": "dAXCYg4gP2Oa",
        "outputId": "92b33004-ca1d-4b44-9940-4b728a00a928"
      },
      "source": [
        "tf.zeros(shape=(3,4))"
      ],
      "execution_count": 114,
      "outputs": [
        {
          "output_type": "execute_result",
          "data": {
            "text/plain": [
              "<tf.Tensor: shape=(3, 4), dtype=float32, numpy=\n",
              "array([[0., 0., 0., 0.],\n",
              "       [0., 0., 0., 0.],\n",
              "       [0., 0., 0., 0.]], dtype=float32)>"
            ]
          },
          "metadata": {
            "tags": []
          },
          "execution_count": 114
        }
      ]
    },
    {
      "cell_type": "markdown",
      "metadata": {
        "id": "5wGqwa2WQEkI"
      },
      "source": [
        "###Turn Numpy Arrays into tensors\n",
        "\n",
        "main Differences between numpy and tensors is that tensors can run on the gpu that is faster than numpy"
      ]
    },
    {
      "cell_type": "code",
      "metadata": {
        "id": "UB0aHyzHP9rt"
      },
      "source": [
        "#you can turn numpy array into tensors\n",
        "import numpy as np\n",
        "numpy_A=np.arange(1,25,dtype=np.int32)\n"
      ],
      "execution_count": 115,
      "outputs": []
    },
    {
      "cell_type": "code",
      "metadata": {
        "colab": {
          "base_uri": "https://localhost:8080/"
        },
        "id": "9iLy-qpJQdE_",
        "outputId": "0991fcd2-8d7d-44fd-b0e5-059dd0e0fb4f"
      },
      "source": [
        "numpy_A"
      ],
      "execution_count": 116,
      "outputs": [
        {
          "output_type": "execute_result",
          "data": {
            "text/plain": [
              "array([ 1,  2,  3,  4,  5,  6,  7,  8,  9, 10, 11, 12, 13, 14, 15, 16, 17,\n",
              "       18, 19, 20, 21, 22, 23, 24], dtype=int32)"
            ]
          },
          "metadata": {
            "tags": []
          },
          "execution_count": 116
        }
      ]
    },
    {
      "cell_type": "code",
      "metadata": {
        "colab": {
          "base_uri": "https://localhost:8080/"
        },
        "id": "Jxv_XvViQeGd",
        "outputId": "e3df7f66-fcf8-4d7f-da6e-5a2428a699ea"
      },
      "source": [
        "#turn numpy into tensors\n",
        "A=tf.constant(numpy_A)\n",
        "B=tf.constant(numpy_A,shape=(2,1,3,4))\n",
        "\n",
        "A,B"
      ],
      "execution_count": 117,
      "outputs": [
        {
          "output_type": "execute_result",
          "data": {
            "text/plain": [
              "(<tf.Tensor: shape=(24,), dtype=int32, numpy=\n",
              " array([ 1,  2,  3,  4,  5,  6,  7,  8,  9, 10, 11, 12, 13, 14, 15, 16, 17,\n",
              "        18, 19, 20, 21, 22, 23, 24], dtype=int32)>,\n",
              " <tf.Tensor: shape=(2, 1, 3, 4), dtype=int32, numpy=\n",
              " array([[[[ 1,  2,  3,  4],\n",
              "          [ 5,  6,  7,  8],\n",
              "          [ 9, 10, 11, 12]]],\n",
              " \n",
              " \n",
              "        [[[13, 14, 15, 16],\n",
              "          [17, 18, 19, 20],\n",
              "          [21, 22, 23, 24]]]], dtype=int32)>)"
            ]
          },
          "metadata": {
            "tags": []
          },
          "execution_count": 117
        }
      ]
    },
    {
      "cell_type": "code",
      "metadata": {
        "colab": {
          "base_uri": "https://localhost:8080/"
        },
        "id": "G-F-tuMyRa0C",
        "outputId": "729f1bd2-601d-45d0-fc84-ebe38386aad0"
      },
      "source": [
        "A.ndim,B.ndim"
      ],
      "execution_count": 118,
      "outputs": [
        {
          "output_type": "execute_result",
          "data": {
            "text/plain": [
              "(1, 4)"
            ]
          },
          "metadata": {
            "tags": []
          },
          "execution_count": 118
        }
      ]
    },
    {
      "cell_type": "markdown",
      "metadata": {
        "id": "dEWKvjfwQkmM"
      },
      "source": [
        "Getting Information From Tensors,Dealing with tenosors you need following attributes,\n",
        "\n",
        "\n",
        "*shape\n",
        "\n",
        "*rank\n",
        "\n",
        "*dimention\n",
        "\n",
        "*size"
      ]
    },
    {
      "cell_type": "code",
      "metadata": {
        "colab": {
          "base_uri": "https://localhost:8080/"
        },
        "id": "Fab1wldvRXfx",
        "outputId": "df835c2c-b66b-4688-ecb7-0af2f04ce906"
      },
      "source": [
        "#craete a rank 3 tensor\n",
        "rank_4_tensor =tf.zeros(shape=(2,3,4,5))\n",
        "rank_4_tensor\n"
      ],
      "execution_count": 119,
      "outputs": [
        {
          "output_type": "execute_result",
          "data": {
            "text/plain": [
              "<tf.Tensor: shape=(2, 3, 4, 5), dtype=float32, numpy=\n",
              "array([[[[0., 0., 0., 0., 0.],\n",
              "         [0., 0., 0., 0., 0.],\n",
              "         [0., 0., 0., 0., 0.],\n",
              "         [0., 0., 0., 0., 0.]],\n",
              "\n",
              "        [[0., 0., 0., 0., 0.],\n",
              "         [0., 0., 0., 0., 0.],\n",
              "         [0., 0., 0., 0., 0.],\n",
              "         [0., 0., 0., 0., 0.]],\n",
              "\n",
              "        [[0., 0., 0., 0., 0.],\n",
              "         [0., 0., 0., 0., 0.],\n",
              "         [0., 0., 0., 0., 0.],\n",
              "         [0., 0., 0., 0., 0.]]],\n",
              "\n",
              "\n",
              "       [[[0., 0., 0., 0., 0.],\n",
              "         [0., 0., 0., 0., 0.],\n",
              "         [0., 0., 0., 0., 0.],\n",
              "         [0., 0., 0., 0., 0.]],\n",
              "\n",
              "        [[0., 0., 0., 0., 0.],\n",
              "         [0., 0., 0., 0., 0.],\n",
              "         [0., 0., 0., 0., 0.],\n",
              "         [0., 0., 0., 0., 0.]],\n",
              "\n",
              "        [[0., 0., 0., 0., 0.],\n",
              "         [0., 0., 0., 0., 0.],\n",
              "         [0., 0., 0., 0., 0.],\n",
              "         [0., 0., 0., 0., 0.]]]], dtype=float32)>"
            ]
          },
          "metadata": {
            "tags": []
          },
          "execution_count": 119
        }
      ]
    },
    {
      "cell_type": "code",
      "metadata": {
        "colab": {
          "base_uri": "https://localhost:8080/"
        },
        "id": "7HElW7t5SnT1",
        "outputId": "15297994-8d17-4de6-9e73-932c146bcd91"
      },
      "source": [
        "rank_4_tensor.ndim"
      ],
      "execution_count": 120,
      "outputs": [
        {
          "output_type": "execute_result",
          "data": {
            "text/plain": [
              "4"
            ]
          },
          "metadata": {
            "tags": []
          },
          "execution_count": 120
        }
      ]
    },
    {
      "cell_type": "code",
      "metadata": {
        "colab": {
          "base_uri": "https://localhost:8080/"
        },
        "id": "aE8pycv_TBMm",
        "outputId": "7eecaa59-e067-452e-8bfb-fa2ffb535391"
      },
      "source": [
        "rank_4_tensor.ndim,rank_4_tensor.shape,tf.size(rank_4_tensor)"
      ],
      "execution_count": 121,
      "outputs": [
        {
          "output_type": "execute_result",
          "data": {
            "text/plain": [
              "(4, TensorShape([2, 3, 4, 5]), <tf.Tensor: shape=(), dtype=int32, numpy=120>)"
            ]
          },
          "metadata": {
            "tags": []
          },
          "execution_count": 121
        }
      ]
    },
    {
      "cell_type": "code",
      "metadata": {
        "colab": {
          "base_uri": "https://localhost:8080/"
        },
        "id": "CtnOz96LTP1Z",
        "outputId": "ed446ef0-dc9d-49e2-c365-4461819331c4"
      },
      "source": [
        "#get varioues attributed of our tensor\n",
        "\n",
        "print(\"Datatypes of every Elemnt :\",rank_4_tensor.dtype)\n",
        "print(\"Number Of Dimnetions :\",rank_4_tensor.ndim)\n",
        "print(\"Shape of the Tensor:\",rank_4_tensor.shape)\n",
        "print(\"Elemnts along 0 axis :\",rank_4_tensor.shape[0])\n",
        "print(\"Elemnts Along last axis :\",rank_4_tensor.shape[-1])\n",
        "print(\"Total no of Elemnts :\",tf.size(rank_4_tensor))\n",
        "print(\"Total no of Elemnts :\",tf.size(rank_4_tensor).numpy())\n"
      ],
      "execution_count": 122,
      "outputs": [
        {
          "output_type": "stream",
          "text": [
            "Datatypes of every Elemnt : <dtype: 'float32'>\n",
            "Number Of Dimnetions : 4\n",
            "Shape of the Tensor: (2, 3, 4, 5)\n",
            "Elemnts along 0 axis : 2\n",
            "Elemnts Along last axis : 5\n",
            "Total no of Elemnts : tf.Tensor(120, shape=(), dtype=int32)\n",
            "Total no of Elemnts : 120\n"
          ],
          "name": "stdout"
        }
      ]
    },
    {
      "cell_type": "markdown",
      "metadata": {
        "id": "b_3BwVKedtZF"
      },
      "source": [
        "###Indexing Tensords\n",
        "\n",
        "indexing can be done to the tensors"
      ]
    },
    {
      "cell_type": "code",
      "metadata": {
        "colab": {
          "base_uri": "https://localhost:8080/"
        },
        "id": "ePE5s2Nud_Nr",
        "outputId": "3d12d70a-54fc-4e9c-b76d-93ecfbfdcdf5"
      },
      "source": [
        "#get the first two elemnts in the tensors\n",
        "rank_4_tensor[:2,:2,:2,:2]"
      ],
      "execution_count": 123,
      "outputs": [
        {
          "output_type": "execute_result",
          "data": {
            "text/plain": [
              "<tf.Tensor: shape=(2, 2, 2, 2), dtype=float32, numpy=\n",
              "array([[[[0., 0.],\n",
              "         [0., 0.]],\n",
              "\n",
              "        [[0., 0.],\n",
              "         [0., 0.]]],\n",
              "\n",
              "\n",
              "       [[[0., 0.],\n",
              "         [0., 0.]],\n",
              "\n",
              "        [[0., 0.],\n",
              "         [0., 0.]]]], dtype=float32)>"
            ]
          },
          "metadata": {
            "tags": []
          },
          "execution_count": 123
        }
      ]
    },
    {
      "cell_type": "code",
      "metadata": {
        "colab": {
          "base_uri": "https://localhost:8080/"
        },
        "id": "jzByy86teKO3",
        "outputId": "ccbf9b35-b248-4713-fa40-43161e77182c"
      },
      "source": [
        "#get the first element from each dimntion from each index except final\n",
        "rank_4_tensor[:1,:1,:1] "
      ],
      "execution_count": 124,
      "outputs": [
        {
          "output_type": "execute_result",
          "data": {
            "text/plain": [
              "<tf.Tensor: shape=(1, 1, 1, 5), dtype=float32, numpy=array([[[[0., 0., 0., 0., 0.]]]], dtype=float32)>"
            ]
          },
          "metadata": {
            "tags": []
          },
          "execution_count": 124
        }
      ]
    },
    {
      "cell_type": "code",
      "metadata": {
        "colab": {
          "base_uri": "https://localhost:8080/"
        },
        "id": "JngIB2SIekHY",
        "outputId": "e9f4a840-1b43-4e9d-a751-2ab77fd3f9a6"
      },
      "source": [
        "#Create a rank 2 tensor\n",
        "rank_2_tensor=tf.zeros([2,2])\n",
        "rank_2_tensor"
      ],
      "execution_count": 125,
      "outputs": [
        {
          "output_type": "execute_result",
          "data": {
            "text/plain": [
              "<tf.Tensor: shape=(2, 2), dtype=float32, numpy=\n",
              "array([[0., 0.],\n",
              "       [0., 0.]], dtype=float32)>"
            ]
          },
          "metadata": {
            "tags": []
          },
          "execution_count": 125
        }
      ]
    },
    {
      "cell_type": "code",
      "metadata": {
        "colab": {
          "base_uri": "https://localhost:8080/"
        },
        "id": "Ux4-ADF6fFUp",
        "outputId": "8dd93941-3d71-4359-ddcf-3ea60e7f1a80"
      },
      "source": [
        "rank_2_tensor.shape"
      ],
      "execution_count": 126,
      "outputs": [
        {
          "output_type": "execute_result",
          "data": {
            "text/plain": [
              "TensorShape([2, 2])"
            ]
          },
          "metadata": {
            "tags": []
          },
          "execution_count": 126
        }
      ]
    },
    {
      "cell_type": "code",
      "metadata": {
        "colab": {
          "base_uri": "https://localhost:8080/"
        },
        "id": "qeFepmptfNdQ",
        "outputId": "14693fb2-3c63-4965-a633-94ce897ee65e"
      },
      "source": [
        "rank_2_tensor.ndim"
      ],
      "execution_count": 127,
      "outputs": [
        {
          "output_type": "execute_result",
          "data": {
            "text/plain": [
              "2"
            ]
          },
          "metadata": {
            "tags": []
          },
          "execution_count": 127
        }
      ]
    },
    {
      "cell_type": "code",
      "metadata": {
        "colab": {
          "base_uri": "https://localhost:8080/"
        },
        "id": "vf85IBo7fQLL",
        "outputId": "a35757b5-e0d9-4c88-cf30-51f9ff5a5909"
      },
      "source": [
        "#get the last item of each of the row\n",
        "rank_2_tensor[:,-1]\n"
      ],
      "execution_count": 128,
      "outputs": [
        {
          "output_type": "execute_result",
          "data": {
            "text/plain": [
              "<tf.Tensor: shape=(2,), dtype=float32, numpy=array([0., 0.], dtype=float32)>"
            ]
          },
          "metadata": {
            "tags": []
          },
          "execution_count": 128
        }
      ]
    },
    {
      "cell_type": "code",
      "metadata": {
        "colab": {
          "base_uri": "https://localhost:8080/"
        },
        "id": "SHrcr9dJfYyy",
        "outputId": "46dd38b5-bf70-4833-a0e5-bbd56f9ef9ee"
      },
      "source": [
        "# Adding extra dimntion to tensor\n",
        "rank_3_tensor=rank_2_tensor[...,tf.newaxis]\n",
        "rank_3_tensor"
      ],
      "execution_count": 129,
      "outputs": [
        {
          "output_type": "execute_result",
          "data": {
            "text/plain": [
              "<tf.Tensor: shape=(2, 2, 1), dtype=float32, numpy=\n",
              "array([[[0.],\n",
              "        [0.]],\n",
              "\n",
              "       [[0.],\n",
              "        [0.]]], dtype=float32)>"
            ]
          },
          "metadata": {
            "tags": []
          },
          "execution_count": 129
        }
      ]
    },
    {
      "cell_type": "code",
      "metadata": {
        "colab": {
          "base_uri": "https://localhost:8080/"
        },
        "id": "DDMwW-FWfnr2",
        "outputId": "fbb2f783-d55e-4613-b99a-a6a087715eb3"
      },
      "source": [
        "rank_3_tensor.shape\n"
      ],
      "execution_count": 130,
      "outputs": [
        {
          "output_type": "execute_result",
          "data": {
            "text/plain": [
              "TensorShape([2, 2, 1])"
            ]
          },
          "metadata": {
            "tags": []
          },
          "execution_count": 130
        }
      ]
    },
    {
      "cell_type": "code",
      "metadata": {
        "colab": {
          "base_uri": "https://localhost:8080/"
        },
        "id": "s7Wy8GJsfrJp",
        "outputId": "991198e1-7bde-4496-8a15-2312f44c1c9b"
      },
      "source": [
        "#Alternativ to tf.nexaxis()\n",
        "tf.expand_dims(rank_2_tensor,axis=-1)\n"
      ],
      "execution_count": 131,
      "outputs": [
        {
          "output_type": "execute_result",
          "data": {
            "text/plain": [
              "<tf.Tensor: shape=(2, 2, 1), dtype=float32, numpy=\n",
              "array([[[0.],\n",
              "        [0.]],\n",
              "\n",
              "       [[0.],\n",
              "        [0.]]], dtype=float32)>"
            ]
          },
          "metadata": {
            "tags": []
          },
          "execution_count": 131
        }
      ]
    },
    {
      "cell_type": "code",
      "metadata": {
        "colab": {
          "base_uri": "https://localhost:8080/"
        },
        "id": "ub3rv-CpgY4f",
        "outputId": "728fd44b-db44-4d8b-c2ed-a1593e11afb6"
      },
      "source": [
        "rank_2_tensor.shape"
      ],
      "execution_count": 132,
      "outputs": [
        {
          "output_type": "execute_result",
          "data": {
            "text/plain": [
              "TensorShape([2, 2])"
            ]
          },
          "metadata": {
            "tags": []
          },
          "execution_count": 132
        }
      ]
    },
    {
      "cell_type": "code",
      "metadata": {
        "colab": {
          "base_uri": "https://localhost:8080/"
        },
        "id": "jlNypCQogFRf",
        "outputId": "7b4eb3f2-17c2-4bf1-c25b-4ac5e8fec717"
      },
      "source": [
        "tf.expand_dims(rank_2_tensor,axis=0)"
      ],
      "execution_count": 133,
      "outputs": [
        {
          "output_type": "execute_result",
          "data": {
            "text/plain": [
              "<tf.Tensor: shape=(1, 2, 2), dtype=float32, numpy=\n",
              "array([[[0., 0.],\n",
              "        [0., 0.]]], dtype=float32)>"
            ]
          },
          "metadata": {
            "tags": []
          },
          "execution_count": 133
        }
      ]
    },
    {
      "cell_type": "markdown",
      "metadata": {
        "id": "yLQMYrPjghRE"
      },
      "source": [
        "###Manipulating Tensors\n",
        "\n",
        "basic operations\n",
        "\n",
        "\n",
        "\n"
      ]
    },
    {
      "cell_type": "code",
      "metadata": {
        "colab": {
          "base_uri": "https://localhost:8080/"
        },
        "id": "WUzdOagOgm2K",
        "outputId": "0ce01027-fdbd-446b-ad43-26a329dbcf62"
      },
      "source": [
        "#You can add values to a tensor using addition operator\n",
        "\n",
        "tensor =tf.constant([[10,7],[3,4]])\n",
        "tensor+10"
      ],
      "execution_count": 134,
      "outputs": [
        {
          "output_type": "execute_result",
          "data": {
            "text/plain": [
              "<tf.Tensor: shape=(2, 2), dtype=int32, numpy=\n",
              "array([[20, 17],\n",
              "       [13, 14]], dtype=int32)>"
            ]
          },
          "metadata": {
            "tags": []
          },
          "execution_count": 134
        }
      ]
    },
    {
      "cell_type": "code",
      "metadata": {
        "colab": {
          "base_uri": "https://localhost:8080/"
        },
        "id": "wWb_T1apilwk",
        "outputId": "6e24e8ec-9d98-4e94-968c-4619ffaa9a99"
      },
      "source": [
        "#original tensor unchnged\n",
        "tensor"
      ],
      "execution_count": 135,
      "outputs": [
        {
          "output_type": "execute_result",
          "data": {
            "text/plain": [
              "<tf.Tensor: shape=(2, 2), dtype=int32, numpy=\n",
              "array([[10,  7],\n",
              "       [ 3,  4]], dtype=int32)>"
            ]
          },
          "metadata": {
            "tags": []
          },
          "execution_count": 135
        }
      ]
    },
    {
      "cell_type": "code",
      "metadata": {
        "colab": {
          "base_uri": "https://localhost:8080/"
        },
        "id": "t0y5YQ6eirB4",
        "outputId": "85239847-b5d7-43e3-8429-50b1c83652da"
      },
      "source": [
        "#multiplication\n",
        "tensor*10"
      ],
      "execution_count": 136,
      "outputs": [
        {
          "output_type": "execute_result",
          "data": {
            "text/plain": [
              "<tf.Tensor: shape=(2, 2), dtype=int32, numpy=\n",
              "array([[100,  70],\n",
              "       [ 30,  40]], dtype=int32)>"
            ]
          },
          "metadata": {
            "tags": []
          },
          "execution_count": 136
        }
      ]
    },
    {
      "cell_type": "code",
      "metadata": {
        "colab": {
          "base_uri": "https://localhost:8080/"
        },
        "id": "fFv8SZ-iiv4S",
        "outputId": "85a770ac-faf1-4a5d-ae3d-8b4da8d80d46"
      },
      "source": [
        "#substarction\n",
        "tensor-10"
      ],
      "execution_count": 137,
      "outputs": [
        {
          "output_type": "execute_result",
          "data": {
            "text/plain": [
              "<tf.Tensor: shape=(2, 2), dtype=int32, numpy=\n",
              "array([[ 0, -3],\n",
              "       [-7, -6]], dtype=int32)>"
            ]
          },
          "metadata": {
            "tags": []
          },
          "execution_count": 137
        }
      ]
    },
    {
      "cell_type": "code",
      "metadata": {
        "colab": {
          "base_uri": "https://localhost:8080/"
        },
        "id": "0FdVhs2Eiylp",
        "outputId": "4d66cc43-57af-40ef-b1ff-84f9df0ff51b"
      },
      "source": [
        "#we can use tenserflow buit in fucntion\n",
        "tf.multiply(tensor,10)"
      ],
      "execution_count": 138,
      "outputs": [
        {
          "output_type": "execute_result",
          "data": {
            "text/plain": [
              "<tf.Tensor: shape=(2, 2), dtype=int32, numpy=\n",
              "array([[100,  70],\n",
              "       [ 30,  40]], dtype=int32)>"
            ]
          },
          "metadata": {
            "tags": []
          },
          "execution_count": 138
        }
      ]
    },
    {
      "cell_type": "code",
      "metadata": {
        "colab": {
          "base_uri": "https://localhost:8080/"
        },
        "id": "-kUBMcddjEa9",
        "outputId": "45564cb9-4b51-4604-9a93-32876e013efb"
      },
      "source": [
        "tf.add(tensor,43)"
      ],
      "execution_count": 139,
      "outputs": [
        {
          "output_type": "execute_result",
          "data": {
            "text/plain": [
              "<tf.Tensor: shape=(2, 2), dtype=int32, numpy=\n",
              "array([[53, 50],\n",
              "       [46, 47]], dtype=int32)>"
            ]
          },
          "metadata": {
            "tags": []
          },
          "execution_count": 139
        }
      ]
    },
    {
      "cell_type": "markdown",
      "metadata": {
        "id": "bakJRXKWmWez"
      },
      "source": [
        "###Matrix Multiplication\n",
        "\n",
        "two rules in the matrix multiplication\n",
        "\n",
        "1.inner dimentions mmust match\n",
        "\n",
        "2.result is the inner dimnetions"
      ]
    },
    {
      "cell_type": "code",
      "metadata": {
        "colab": {
          "base_uri": "https://localhost:8080/"
        },
        "id": "rh1eEKO1mbjC",
        "outputId": "087ef1f3-8e18-4585-f4d5-0f2b44d693f8"
      },
      "source": [
        "#Matrix Multiplication on Teserflow\n",
        "print(tensor)"
      ],
      "execution_count": 140,
      "outputs": [
        {
          "output_type": "stream",
          "text": [
            "tf.Tensor(\n",
            "[[10  7]\n",
            " [ 3  4]], shape=(2, 2), dtype=int32)\n"
          ],
          "name": "stdout"
        }
      ]
    },
    {
      "cell_type": "code",
      "metadata": {
        "colab": {
          "base_uri": "https://localhost:8080/"
        },
        "id": "37FwN2WznlZk",
        "outputId": "a6c49bc0-6771-4ae8-a464-6624275a4e3c"
      },
      "source": [
        "tf.matmul(tensor,tensor)\n"
      ],
      "execution_count": 141,
      "outputs": [
        {
          "output_type": "execute_result",
          "data": {
            "text/plain": [
              "<tf.Tensor: shape=(2, 2), dtype=int32, numpy=\n",
              "array([[121,  98],\n",
              "       [ 42,  37]], dtype=int32)>"
            ]
          },
          "metadata": {
            "tags": []
          },
          "execution_count": 141
        }
      ]
    },
    {
      "cell_type": "code",
      "metadata": {
        "colab": {
          "base_uri": "https://localhost:8080/"
        },
        "id": "mdj5ltxfnx4G",
        "outputId": "b1df2f17-f1c6-418d-8266-f04231843a8f"
      },
      "source": [
        "tensor*tensor\n"
      ],
      "execution_count": 142,
      "outputs": [
        {
          "output_type": "execute_result",
          "data": {
            "text/plain": [
              "<tf.Tensor: shape=(2, 2), dtype=int32, numpy=\n",
              "array([[100,  49],\n",
              "       [  9,  16]], dtype=int32)>"
            ]
          },
          "metadata": {
            "tags": []
          },
          "execution_count": 142
        }
      ]
    },
    {
      "cell_type": "code",
      "metadata": {
        "colab": {
          "base_uri": "https://localhost:8080/"
        },
        "id": "77lPw6qkn7Wl",
        "outputId": "d0448b06-1829-4bd0-c3af-792f60fed386"
      },
      "source": [
        "matrix_1 =tf.constant([[1,2,5],\n",
        "                       [7,2,1],\n",
        "                       [3,3,3]])\n",
        "\n",
        "matrix_2 =tf.constant([[3,5],\n",
        "                       [6,7],\n",
        "                       [1,8]])\n",
        "\n",
        "matrix_1,matrix_2"
      ],
      "execution_count": 143,
      "outputs": [
        {
          "output_type": "execute_result",
          "data": {
            "text/plain": [
              "(<tf.Tensor: shape=(3, 3), dtype=int32, numpy=\n",
              " array([[1, 2, 5],\n",
              "        [7, 2, 1],\n",
              "        [3, 3, 3]], dtype=int32)>,\n",
              " <tf.Tensor: shape=(3, 2), dtype=int32, numpy=\n",
              " array([[3, 5],\n",
              "        [6, 7],\n",
              "        [1, 8]], dtype=int32)>)"
            ]
          },
          "metadata": {
            "tags": []
          },
          "execution_count": 143
        }
      ]
    },
    {
      "cell_type": "code",
      "metadata": {
        "colab": {
          "base_uri": "https://localhost:8080/"
        },
        "id": "jzf4_8l7oShu",
        "outputId": "6eed6efd-99d3-4222-da29-93411311bac9"
      },
      "source": [
        "tf.matmul(matrix_1,matrix_2)"
      ],
      "execution_count": 144,
      "outputs": [
        {
          "output_type": "execute_result",
          "data": {
            "text/plain": [
              "<tf.Tensor: shape=(3, 2), dtype=int32, numpy=\n",
              "array([[20, 59],\n",
              "       [34, 57],\n",
              "       [30, 60]], dtype=int32)>"
            ]
          },
          "metadata": {
            "tags": []
          },
          "execution_count": 144
        }
      ]
    },
    {
      "cell_type": "code",
      "metadata": {
        "colab": {
          "base_uri": "https://localhost:8080/"
        },
        "id": "UK5YUkIYnqp-",
        "outputId": "40b7a5fe-862c-446c-9537-0986920285ad"
      },
      "source": [
        "#matrix multiplication with python operator\n",
        "tensor@tensor"
      ],
      "execution_count": 145,
      "outputs": [
        {
          "output_type": "execute_result",
          "data": {
            "text/plain": [
              "<tf.Tensor: shape=(2, 2), dtype=int32, numpy=\n",
              "array([[121,  98],\n",
              "       [ 42,  37]], dtype=int32)>"
            ]
          },
          "metadata": {
            "tags": []
          },
          "execution_count": 145
        }
      ]
    },
    {
      "cell_type": "code",
      "metadata": {
        "colab": {
          "base_uri": "https://localhost:8080/"
        },
        "id": "1a8TKZRIohFA",
        "outputId": "8f30c213-4389-4a79-af0c-febe8072e58a"
      },
      "source": [
        "matrix_1@matrix_2"
      ],
      "execution_count": 146,
      "outputs": [
        {
          "output_type": "execute_result",
          "data": {
            "text/plain": [
              "<tf.Tensor: shape=(3, 2), dtype=int32, numpy=\n",
              "array([[20, 59],\n",
              "       [34, 57],\n",
              "       [30, 60]], dtype=int32)>"
            ]
          },
          "metadata": {
            "tags": []
          },
          "execution_count": 146
        }
      ]
    },
    {
      "cell_type": "code",
      "metadata": {
        "colab": {
          "base_uri": "https://localhost:8080/"
        },
        "id": "ThkhxdAPolNb",
        "outputId": "6292b895-8e73-4107-94ed-233f6f27a83b"
      },
      "source": [
        "#create a tensor with (3,2)\n",
        "X =tf.constant([[1,2],\n",
        "                [4,5],\n",
        "                [7,8]])\n",
        "#create a tensor with (3,2)\n",
        "Y =tf.constant([[7,8],\n",
        "                [9,10],\n",
        "                [11,12]])\n",
        "X,Y"
      ],
      "execution_count": 147,
      "outputs": [
        {
          "output_type": "execute_result",
          "data": {
            "text/plain": [
              "(<tf.Tensor: shape=(3, 2), dtype=int32, numpy=\n",
              " array([[1, 2],\n",
              "        [4, 5],\n",
              "        [7, 8]], dtype=int32)>, <tf.Tensor: shape=(3, 2), dtype=int32, numpy=\n",
              " array([[ 7,  8],\n",
              "        [ 9, 10],\n",
              "        [11, 12]], dtype=int32)>)"
            ]
          },
          "metadata": {
            "tags": []
          },
          "execution_count": 147
        }
      ]
    },
    {
      "cell_type": "code",
      "metadata": {
        "id": "Sf6Owy7-pEId"
      },
      "source": [
        "# #try to multiply tesors\n",
        "# tf.matmul(X,Y)"
      ],
      "execution_count": 148,
      "outputs": []
    },
    {
      "cell_type": "code",
      "metadata": {
        "colab": {
          "base_uri": "https://localhost:8080/"
        },
        "id": "X9fUzdqLpLJM",
        "outputId": "05b4af2d-6312-450c-e7c4-1c17ca2ba64a"
      },
      "source": [
        "#transpose the matrix to multilply\n",
        "tf.matmul(X,tf.transpose(Y))"
      ],
      "execution_count": 149,
      "outputs": [
        {
          "output_type": "execute_result",
          "data": {
            "text/plain": [
              "<tf.Tensor: shape=(3, 3), dtype=int32, numpy=\n",
              "array([[ 23,  29,  35],\n",
              "       [ 68,  86, 104],\n",
              "       [113, 143, 173]], dtype=int32)>"
            ]
          },
          "metadata": {
            "tags": []
          },
          "execution_count": 149
        }
      ]
    },
    {
      "cell_type": "code",
      "metadata": {
        "id": "KhmqydVjpmoG"
      },
      "source": [
        ""
      ],
      "execution_count": 149,
      "outputs": []
    }
  ]
}