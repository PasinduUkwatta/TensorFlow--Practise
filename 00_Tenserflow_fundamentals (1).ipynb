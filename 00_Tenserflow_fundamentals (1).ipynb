{
  "nbformat": 4,
  "nbformat_minor": 0,
  "metadata": {
    "colab": {
      "name": "00_Tenserflow_fundamentals.ipynb",
      "provenance": [],
      "collapsed_sections": [],
      "toc_visible": true
    },
    "kernelspec": {
      "name": "python3",
      "display_name": "Python 3"
    },
    "language_info": {
      "name": "python"
    },
    "accelerator": "GPU"
  },
  "cells": [
    {
      "cell_type": "markdown",
      "metadata": {
        "id": "Z-EEnMcSspS-"
      },
      "source": [
        "In this notebook we are going to cover some of the most fundamental concepts of tensors using tensorflow.\n",
        "\n",
        "More Specially,\n",
        "\n",
        "*intoduction to tensors\n",
        "\n",
        "*getting information from tensors\n",
        "\n",
        "*manipulating tensors\n",
        "\n",
        "*tensors & numpy\n",
        "\n",
        "*using tf.fuunction speed uo the process\n",
        "\n",
        "*using GPU with tensors\n",
        "\n",
        "*Eercise Yourself"
      ]
    },
    {
      "cell_type": "markdown",
      "metadata": {
        "id": "s-q5tjzyskek"
      },
      "source": [
        "#introduction tesors\n",
        "\n"
      ]
    },
    {
      "cell_type": "code",
      "metadata": {
        "colab": {
          "base_uri": "https://localhost:8080/"
        },
        "id": "n9eeEiKvtlrI",
        "outputId": "a3dac189-7600-4a45-e9e2-0927ecfc1d6f"
      },
      "source": [
        "#import Tensorflow\n",
        "import tensorflow as tf\n",
        "print(tf.__version__)\n"
      ],
      "execution_count": 1,
      "outputs": [
        {
          "output_type": "stream",
          "text": [
            "2.5.0\n"
          ],
          "name": "stdout"
        }
      ]
    },
    {
      "cell_type": "code",
      "metadata": {
        "colab": {
          "base_uri": "https://localhost:8080/"
        },
        "id": "TJVx0Fb5tx07",
        "outputId": "b5ba132d-30e6-4af7-9e24-e5ae98fa0fb0"
      },
      "source": [
        "#Creating tensors with tf.constant()\n",
        "scalar =tf.constant(7)\n",
        "scalar"
      ],
      "execution_count": 2,
      "outputs": [
        {
          "output_type": "execute_result",
          "data": {
            "text/plain": [
              "<tf.Tensor: shape=(), dtype=int32, numpy=7>"
            ]
          },
          "metadata": {
            "tags": []
          },
          "execution_count": 2
        }
      ]
    },
    {
      "cell_type": "code",
      "metadata": {
        "colab": {
          "base_uri": "https://localhost:8080/"
        },
        "id": "1b5w-Zs6uVrn",
        "outputId": "b1c26fe0-d7df-4005-a5fc-ef089c356a7e"
      },
      "source": [
        "#check the number of dimntions(ndim stands for num of dimwntions)\n",
        "scalar.ndim\n"
      ],
      "execution_count": 3,
      "outputs": [
        {
          "output_type": "execute_result",
          "data": {
            "text/plain": [
              "0"
            ]
          },
          "metadata": {
            "tags": []
          },
          "execution_count": 3
        }
      ]
    },
    {
      "cell_type": "code",
      "metadata": {
        "colab": {
          "base_uri": "https://localhost:8080/"
        },
        "id": "mk2URnePuui8",
        "outputId": "bcf162b8-4a33-4fc0-97a4-c5341bf6fd95"
      },
      "source": [
        "#create a vector\n",
        "vector= tf.constant([10,10])\n",
        "vector"
      ],
      "execution_count": 4,
      "outputs": [
        {
          "output_type": "execute_result",
          "data": {
            "text/plain": [
              "<tf.Tensor: shape=(2,), dtype=int32, numpy=array([10, 10], dtype=int32)>"
            ]
          },
          "metadata": {
            "tags": []
          },
          "execution_count": 4
        }
      ]
    },
    {
      "cell_type": "code",
      "metadata": {
        "colab": {
          "base_uri": "https://localhost:8080/"
        },
        "id": "epx6l9E6u1vb",
        "outputId": "b9b7280e-8abc-46d7-d01e-856772c500cf"
      },
      "source": [
        "#check the dimetion of the vector\n",
        "vector.ndim\n"
      ],
      "execution_count": 5,
      "outputs": [
        {
          "output_type": "execute_result",
          "data": {
            "text/plain": [
              "1"
            ]
          },
          "metadata": {
            "tags": []
          },
          "execution_count": 5
        }
      ]
    },
    {
      "cell_type": "code",
      "metadata": {
        "colab": {
          "base_uri": "https://localhost:8080/"
        },
        "id": "sfcDF2WYvEbS",
        "outputId": "b5c9bd23-1a0d-4141-a646-5cf195596f9b"
      },
      "source": [
        "#craete a metrix\n",
        "matrix =tf.constant([[10,7],\n",
        "                     [7,10]])\n",
        "\n",
        "matrix"
      ],
      "execution_count": 6,
      "outputs": [
        {
          "output_type": "execute_result",
          "data": {
            "text/plain": [
              "<tf.Tensor: shape=(2, 2), dtype=int32, numpy=\n",
              "array([[10,  7],\n",
              "       [ 7, 10]], dtype=int32)>"
            ]
          },
          "metadata": {
            "tags": []
          },
          "execution_count": 6
        }
      ]
    },
    {
      "cell_type": "code",
      "metadata": {
        "colab": {
          "base_uri": "https://localhost:8080/"
        },
        "id": "wovVcTq9vM0W",
        "outputId": "8a934451-b81b-4231-95b1-23efc42d72a5"
      },
      "source": [
        "matrix.ndim"
      ],
      "execution_count": 7,
      "outputs": [
        {
          "output_type": "execute_result",
          "data": {
            "text/plain": [
              "2"
            ]
          },
          "metadata": {
            "tags": []
          },
          "execution_count": 7
        }
      ]
    },
    {
      "cell_type": "code",
      "metadata": {
        "colab": {
          "base_uri": "https://localhost:8080/"
        },
        "id": "bXoX7xESvffk",
        "outputId": "af111312-423a-4abb-f988-94dc3eec6ba0"
      },
      "source": [
        "#craete a anothe matrix \n",
        "another_matrix =tf.constant([[10.,7.],\n",
        "                             [3.,2.],\n",
        "                             [8.,9.]],dtype=tf.float16) #specify the data typpew with dtype parameter\n",
        "\n",
        "another_matrix"
      ],
      "execution_count": 8,
      "outputs": [
        {
          "output_type": "execute_result",
          "data": {
            "text/plain": [
              "<tf.Tensor: shape=(3, 2), dtype=float16, numpy=\n",
              "array([[10.,  7.],\n",
              "       [ 3.,  2.],\n",
              "       [ 8.,  9.]], dtype=float16)>"
            ]
          },
          "metadata": {
            "tags": []
          },
          "execution_count": 8
        }
      ]
    },
    {
      "cell_type": "code",
      "metadata": {
        "colab": {
          "base_uri": "https://localhost:8080/"
        },
        "id": "WY6vOsMpwRdn",
        "outputId": "b06cd320-6e7e-4ffa-cd74-43d134325dcc"
      },
      "source": [
        "another_matrix.ndim"
      ],
      "execution_count": 9,
      "outputs": [
        {
          "output_type": "execute_result",
          "data": {
            "text/plain": [
              "2"
            ]
          },
          "metadata": {
            "tags": []
          },
          "execution_count": 9
        }
      ]
    },
    {
      "cell_type": "code",
      "metadata": {
        "colab": {
          "base_uri": "https://localhost:8080/"
        },
        "id": "cO9yqOzZwdqZ",
        "outputId": "7b911a51-74c8-495f-d76f-5170cb3acc29"
      },
      "source": [
        "#lets create a tensor\n",
        "tensor = tf.constant([[[1,2,3],\n",
        "                       [4,5,6]],\n",
        "                       [[7,8,9],\n",
        "                       [10,11,12]],\n",
        "                      [[13,14,15],\n",
        "                       [16,17,18]]])\n",
        "\n",
        "tensor"
      ],
      "execution_count": 10,
      "outputs": [
        {
          "output_type": "execute_result",
          "data": {
            "text/plain": [
              "<tf.Tensor: shape=(3, 2, 3), dtype=int32, numpy=\n",
              "array([[[ 1,  2,  3],\n",
              "        [ 4,  5,  6]],\n",
              "\n",
              "       [[ 7,  8,  9],\n",
              "        [10, 11, 12]],\n",
              "\n",
              "       [[13, 14, 15],\n",
              "        [16, 17, 18]]], dtype=int32)>"
            ]
          },
          "metadata": {
            "tags": []
          },
          "execution_count": 10
        }
      ]
    },
    {
      "cell_type": "code",
      "metadata": {
        "colab": {
          "base_uri": "https://localhost:8080/"
        },
        "id": "9WYMoQ1jxUG7",
        "outputId": "d5c750d2-6dc3-4bbd-e620-228561d67e92"
      },
      "source": [
        "tensor.ndim"
      ],
      "execution_count": 11,
      "outputs": [
        {
          "output_type": "execute_result",
          "data": {
            "text/plain": [
              "3"
            ]
          },
          "metadata": {
            "tags": []
          },
          "execution_count": 11
        }
      ]
    },
    {
      "cell_type": "markdown",
      "metadata": {
        "id": "Q0qpXIT2xfT5"
      },
      "source": [
        "What we created so far\n",
        "\n",
        "*scalar = a single number\n",
        "\n",
        "*vector = a number with direction (wind speed)\n",
        "\n",
        "*matrix = a 2 dimentional array of numbers\n",
        "\n",
        "*tensor = an n dimentional array of number "
      ]
    },
    {
      "cell_type": "markdown",
      "metadata": {
        "id": "C4yysg0qFZKi"
      },
      "source": [
        "Creating Tensors with tf Variabel"
      ]
    },
    {
      "cell_type": "code",
      "metadata": {
        "id": "aVYlSQ6_x6NK",
        "colab": {
          "base_uri": "https://localhost:8080/"
        },
        "outputId": "ee604664-2fb2-455b-cc0c-835b765e6465"
      },
      "source": [
        "tf.Variable"
      ],
      "execution_count": 12,
      "outputs": [
        {
          "output_type": "execute_result",
          "data": {
            "text/plain": [
              "tensorflow.python.ops.variables.Variable"
            ]
          },
          "metadata": {
            "tags": []
          },
          "execution_count": 12
        }
      ]
    },
    {
      "cell_type": "code",
      "metadata": {
        "colab": {
          "base_uri": "https://localhost:8080/"
        },
        "id": "6Ta-slxGFXqn",
        "outputId": "04828611-9849-4a0f-9f5e-5398df598b6a"
      },
      "source": [
        "#craete Same Tensor with tf.Variable()\n",
        "changeable_tensor =tf.Variable([10,7])\n",
        "unchangeable_tensor =tf.constant([10,7])\n",
        "changeable_tensor,unchangeable_tensor"
      ],
      "execution_count": 13,
      "outputs": [
        {
          "output_type": "execute_result",
          "data": {
            "text/plain": [
              "(<tf.Variable 'Variable:0' shape=(2,) dtype=int32, numpy=array([10,  7], dtype=int32)>,\n",
              " <tf.Tensor: shape=(2,), dtype=int32, numpy=array([10,  7], dtype=int32)>)"
            ]
          },
          "metadata": {
            "tags": []
          },
          "execution_count": 13
        }
      ]
    },
    {
      "cell_type": "code",
      "metadata": {
        "id": "3UaIS01HGIwP"
      },
      "source": [
        "# #Let's Try chnage on of the elements in our chnagble Tensor\n",
        "# changeable_tensor[0] =7\n",
        "# changeable_tensor"
      ],
      "execution_count": 14,
      "outputs": []
    },
    {
      "cell_type": "code",
      "metadata": {
        "colab": {
          "base_uri": "https://localhost:8080/"
        },
        "id": "uAey2GQfGdSE",
        "outputId": "e56e8855-7447-4c0c-c75c-7eb8581b758c"
      },
      "source": [
        "#try .assign()\n",
        "changeable_tensor[0].assign(7)\n",
        "changeable_tensor\n"
      ],
      "execution_count": 15,
      "outputs": [
        {
          "output_type": "execute_result",
          "data": {
            "text/plain": [
              "<tf.Variable 'Variable:0' shape=(2,) dtype=int32, numpy=array([7, 7], dtype=int32)>"
            ]
          },
          "metadata": {
            "tags": []
          },
          "execution_count": 15
        }
      ]
    },
    {
      "cell_type": "code",
      "metadata": {
        "id": "xw-uWr7qGtRO"
      },
      "source": [
        "#Let's Try our unchnagble Tensor\n",
        "# unchangeable_tensor[0].assign(7)\n",
        "# unchangeable_tensor"
      ],
      "execution_count": 16,
      "outputs": []
    },
    {
      "cell_type": "markdown",
      "metadata": {
        "id": "Hjn-gm-jHMTJ"
      },
      "source": [
        "##Creating Random Tensors\n",
        "\n",
        "Creating a random arbitory size of Tensors"
      ]
    },
    {
      "cell_type": "code",
      "metadata": {
        "colab": {
          "base_uri": "https://localhost:8080/"
        },
        "id": "ZVrSX8TEG3XW",
        "outputId": "84e1bf2b-7d09-4b68-8eb3-b907e9b8aa4e"
      },
      "source": [
        "#craete random and same tensors\n",
        "random_1=tf.random.Generator.from_seed(42)\n",
        "random_1=random_1.normal(shape=(3,2))\n",
        "random_2=tf.random.Generator.from_seed(42)\n",
        "random_2=random_2.normal(shape=(3,2))\n",
        "random_1,random_2\n"
      ],
      "execution_count": 17,
      "outputs": [
        {
          "output_type": "execute_result",
          "data": {
            "text/plain": [
              "(<tf.Tensor: shape=(3, 2), dtype=float32, numpy=\n",
              " array([[-0.7565803 , -0.06854702],\n",
              "        [ 0.07595026, -1.2573844 ],\n",
              "        [-0.23193765, -1.8107855 ]], dtype=float32)>,\n",
              " <tf.Tensor: shape=(3, 2), dtype=float32, numpy=\n",
              " array([[-0.7565803 , -0.06854702],\n",
              "        [ 0.07595026, -1.2573844 ],\n",
              "        [-0.23193765, -1.8107855 ]], dtype=float32)>)"
            ]
          },
          "metadata": {
            "tags": []
          },
          "execution_count": 17
        }
      ]
    },
    {
      "cell_type": "markdown",
      "metadata": {
        "id": "m65dLLiOIera"
      },
      "source": [
        "###Shuffle The Order Of Elements in the Tensor"
      ]
    },
    {
      "cell_type": "code",
      "metadata": {
        "colab": {
          "base_uri": "https://localhost:8080/"
        },
        "id": "2QULdyf-JpKD",
        "outputId": "00b34f24-7113-4959-e4e6-0e85ee8bbfd7"
      },
      "source": [
        "#shuffe the tensor with the inherient order \n",
        "not_shuffled =tf.constant([[10,7],\n",
        "                          [3,4],\n",
        "                          [2,5]])\n",
        "\n",
        "\n",
        "\n",
        "\n",
        "tf.random.shuffle(not_shuffled)"
      ],
      "execution_count": 18,
      "outputs": [
        {
          "output_type": "execute_result",
          "data": {
            "text/plain": [
              "<tf.Tensor: shape=(3, 2), dtype=int32, numpy=\n",
              "array([[ 2,  5],\n",
              "       [ 3,  4],\n",
              "       [10,  7]], dtype=int32)>"
            ]
          },
          "metadata": {
            "tags": []
          },
          "execution_count": 18
        }
      ]
    },
    {
      "cell_type": "code",
      "metadata": {
        "id": "-xdSC5WFMrz4"
      },
      "source": [
        "# #shuffle the tensor\n",
        "# tf.random.set_random_seed(42)\n",
        "# tf.random.shuffle(not_shuffled,seed=42)"
      ],
      "execution_count": 19,
      "outputs": []
    },
    {
      "cell_type": "code",
      "metadata": {
        "colab": {
          "base_uri": "https://localhost:8080/"
        },
        "id": "eDT_c2iyQGiY",
        "outputId": "9660e5bb-3934-43b7-d872-fe42ed0b0cdb"
      },
      "source": [
        "#shuffe the tensor with the inherient order \n",
        "not_shuffled =tf.constant([[10.0,7,5],\n",
        "                          [3.,2,4],\n",
        "                          [3.,1,4],\n",
        "                          [5.,3,4],\n",
        "                          [6.,7,4],\n",
        "                          [8.,5,9]])\n",
        "\n",
        "not_shuffled"
      ],
      "execution_count": 20,
      "outputs": [
        {
          "output_type": "execute_result",
          "data": {
            "text/plain": [
              "<tf.Tensor: shape=(6, 3), dtype=float32, numpy=\n",
              "array([[10.,  7.,  5.],\n",
              "       [ 3.,  2.,  4.],\n",
              "       [ 3.,  1.,  4.],\n",
              "       [ 5.,  3.,  4.],\n",
              "       [ 6.,  7.,  4.],\n",
              "       [ 8.,  5.,  9.]], dtype=float32)>"
            ]
          },
          "metadata": {
            "tags": []
          },
          "execution_count": 20
        }
      ]
    },
    {
      "cell_type": "code",
      "metadata": {
        "colab": {
          "base_uri": "https://localhost:8080/"
        },
        "id": "_3u4PKwSQu4X",
        "outputId": "dc9faad9-9358-4176-cfdb-c50455bfabf5"
      },
      "source": [
        "print(tf.random.set_seed)\n",
        "tf.random.shuffle(not_shuffled)"
      ],
      "execution_count": 21,
      "outputs": [
        {
          "output_type": "stream",
          "text": [
            "<function set_seed at 0x7f8a8818e5f0>\n"
          ],
          "name": "stdout"
        },
        {
          "output_type": "execute_result",
          "data": {
            "text/plain": [
              "<tf.Tensor: shape=(6, 3), dtype=float32, numpy=\n",
              "array([[ 3.,  1.,  4.],\n",
              "       [ 3.,  2.,  4.],\n",
              "       [ 6.,  7.,  4.],\n",
              "       [ 5.,  3.,  4.],\n",
              "       [10.,  7.,  5.],\n",
              "       [ 8.,  5.,  9.]], dtype=float32)>"
            ]
          },
          "metadata": {
            "tags": []
          },
          "execution_count": 21
        }
      ]
    },
    {
      "cell_type": "markdown",
      "metadata": {
        "id": "4XzMjVicPRaw"
      },
      "source": [
        "It looks like our shuffle tensors in the same order  ,We need to use global and Oprtaional level random seed initilized."
      ]
    },
    {
      "cell_type": "code",
      "metadata": {
        "colab": {
          "base_uri": "https://localhost:8080/"
        },
        "id": "VzRIy3vBR149",
        "outputId": "59b7ab47-f6db-43a4-f914-099565a3b2b7"
      },
      "source": [
        "tf.random.set_seed(42)\n",
        "tf.random.shuffle(not_shuffled,seed=42)\n",
        "\n",
        "# <tf.Tensor: shape=(6, 3), dtype=float32, numpy=\n",
        "# array([[ 5.,  3.,  4.],\n",
        "#        [ 6.,  7.,  4.],\n",
        "#        [ 3.,  2.,  4.],\n",
        "#        [ 8.,  5.,  9.],\n",
        "#        [ 3.,  1.,  4.],\n",
        "#        [10.,  7.,  5.]], dtype=float32)>"
      ],
      "execution_count": 22,
      "outputs": [
        {
          "output_type": "execute_result",
          "data": {
            "text/plain": [
              "<tf.Tensor: shape=(6, 3), dtype=float32, numpy=\n",
              "array([[ 5.,  3.,  4.],\n",
              "       [ 6.,  7.,  4.],\n",
              "       [ 3.,  2.,  4.],\n",
              "       [ 8.,  5.,  9.],\n",
              "       [ 3.,  1.,  4.],\n",
              "       [10.,  7.,  5.]], dtype=float32)>"
            ]
          },
          "metadata": {
            "tags": []
          },
          "execution_count": 22
        }
      ]
    },
    {
      "cell_type": "markdown",
      "metadata": {
        "id": "YXefZiWsOuRR"
      },
      "source": [
        "##Other Ways to make Tensors"
      ]
    },
    {
      "cell_type": "code",
      "metadata": {
        "colab": {
          "base_uri": "https://localhost:8080/"
        },
        "id": "m44xE2fYPqEq",
        "outputId": "e228684c-4627-4aa9-a492-c7aa804709b7"
      },
      "source": [
        "#create tensor of ones\n",
        "tf.ones([10,7])"
      ],
      "execution_count": 23,
      "outputs": [
        {
          "output_type": "execute_result",
          "data": {
            "text/plain": [
              "<tf.Tensor: shape=(10, 7), dtype=float32, numpy=\n",
              "array([[1., 1., 1., 1., 1., 1., 1.],\n",
              "       [1., 1., 1., 1., 1., 1., 1.],\n",
              "       [1., 1., 1., 1., 1., 1., 1.],\n",
              "       [1., 1., 1., 1., 1., 1., 1.],\n",
              "       [1., 1., 1., 1., 1., 1., 1.],\n",
              "       [1., 1., 1., 1., 1., 1., 1.],\n",
              "       [1., 1., 1., 1., 1., 1., 1.],\n",
              "       [1., 1., 1., 1., 1., 1., 1.],\n",
              "       [1., 1., 1., 1., 1., 1., 1.],\n",
              "       [1., 1., 1., 1., 1., 1., 1.]], dtype=float32)>"
            ]
          },
          "metadata": {
            "tags": []
          },
          "execution_count": 23
        }
      ]
    },
    {
      "cell_type": "code",
      "metadata": {
        "colab": {
          "base_uri": "https://localhost:8080/"
        },
        "id": "dAXCYg4gP2Oa",
        "outputId": "73c0eaca-4cdd-419e-87b5-0afd35355824"
      },
      "source": [
        "tf.zeros(shape=(3,4))"
      ],
      "execution_count": 24,
      "outputs": [
        {
          "output_type": "execute_result",
          "data": {
            "text/plain": [
              "<tf.Tensor: shape=(3, 4), dtype=float32, numpy=\n",
              "array([[0., 0., 0., 0.],\n",
              "       [0., 0., 0., 0.],\n",
              "       [0., 0., 0., 0.]], dtype=float32)>"
            ]
          },
          "metadata": {
            "tags": []
          },
          "execution_count": 24
        }
      ]
    },
    {
      "cell_type": "markdown",
      "metadata": {
        "id": "5wGqwa2WQEkI"
      },
      "source": [
        "###Turn Numpy Arrays into tensors\n",
        "\n",
        "main Differences between numpy and tensors is that tensors can run on the gpu that is faster than numpy"
      ]
    },
    {
      "cell_type": "code",
      "metadata": {
        "id": "UB0aHyzHP9rt"
      },
      "source": [
        "#you can turn numpy array into tensors\n",
        "import numpy as np\n",
        "numpy_A=np.arange(1,25,dtype=np.int32)\n"
      ],
      "execution_count": 25,
      "outputs": []
    },
    {
      "cell_type": "code",
      "metadata": {
        "colab": {
          "base_uri": "https://localhost:8080/"
        },
        "id": "9iLy-qpJQdE_",
        "outputId": "737b9770-ca4c-4d1e-b424-eb084bc21488"
      },
      "source": [
        "numpy_A"
      ],
      "execution_count": 26,
      "outputs": [
        {
          "output_type": "execute_result",
          "data": {
            "text/plain": [
              "array([ 1,  2,  3,  4,  5,  6,  7,  8,  9, 10, 11, 12, 13, 14, 15, 16, 17,\n",
              "       18, 19, 20, 21, 22, 23, 24], dtype=int32)"
            ]
          },
          "metadata": {
            "tags": []
          },
          "execution_count": 26
        }
      ]
    },
    {
      "cell_type": "code",
      "metadata": {
        "colab": {
          "base_uri": "https://localhost:8080/"
        },
        "id": "Jxv_XvViQeGd",
        "outputId": "a1f5a0c9-f60c-4e2f-b765-9d76725af861"
      },
      "source": [
        "#turn numpy into tensors\n",
        "A=tf.constant(numpy_A)\n",
        "B=tf.constant(numpy_A,shape=(2,1,3,4))\n",
        "\n",
        "A,B"
      ],
      "execution_count": 27,
      "outputs": [
        {
          "output_type": "execute_result",
          "data": {
            "text/plain": [
              "(<tf.Tensor: shape=(24,), dtype=int32, numpy=\n",
              " array([ 1,  2,  3,  4,  5,  6,  7,  8,  9, 10, 11, 12, 13, 14, 15, 16, 17,\n",
              "        18, 19, 20, 21, 22, 23, 24], dtype=int32)>,\n",
              " <tf.Tensor: shape=(2, 1, 3, 4), dtype=int32, numpy=\n",
              " array([[[[ 1,  2,  3,  4],\n",
              "          [ 5,  6,  7,  8],\n",
              "          [ 9, 10, 11, 12]]],\n",
              " \n",
              " \n",
              "        [[[13, 14, 15, 16],\n",
              "          [17, 18, 19, 20],\n",
              "          [21, 22, 23, 24]]]], dtype=int32)>)"
            ]
          },
          "metadata": {
            "tags": []
          },
          "execution_count": 27
        }
      ]
    },
    {
      "cell_type": "code",
      "metadata": {
        "colab": {
          "base_uri": "https://localhost:8080/"
        },
        "id": "G-F-tuMyRa0C",
        "outputId": "cdc37222-3445-4efe-e25f-ba3bc9ba5f13"
      },
      "source": [
        "A.ndim,B.ndim"
      ],
      "execution_count": 28,
      "outputs": [
        {
          "output_type": "execute_result",
          "data": {
            "text/plain": [
              "(1, 4)"
            ]
          },
          "metadata": {
            "tags": []
          },
          "execution_count": 28
        }
      ]
    },
    {
      "cell_type": "markdown",
      "metadata": {
        "id": "dEWKvjfwQkmM"
      },
      "source": [
        "Getting Information From Tensors,Dealing with tenosors you need following attributes,\n",
        "\n",
        "\n",
        "*shape\n",
        "\n",
        "*rank\n",
        "\n",
        "*dimention\n",
        "\n",
        "*size"
      ]
    },
    {
      "cell_type": "code",
      "metadata": {
        "colab": {
          "base_uri": "https://localhost:8080/"
        },
        "id": "Fab1wldvRXfx",
        "outputId": "27dbc3f3-1c63-4787-96a4-e0712a979925"
      },
      "source": [
        "#craete a rank 3 tensor\n",
        "rank_4_tensor =tf.zeros(shape=(2,3,4,5))\n",
        "rank_4_tensor\n"
      ],
      "execution_count": 29,
      "outputs": [
        {
          "output_type": "execute_result",
          "data": {
            "text/plain": [
              "<tf.Tensor: shape=(2, 3, 4, 5), dtype=float32, numpy=\n",
              "array([[[[0., 0., 0., 0., 0.],\n",
              "         [0., 0., 0., 0., 0.],\n",
              "         [0., 0., 0., 0., 0.],\n",
              "         [0., 0., 0., 0., 0.]],\n",
              "\n",
              "        [[0., 0., 0., 0., 0.],\n",
              "         [0., 0., 0., 0., 0.],\n",
              "         [0., 0., 0., 0., 0.],\n",
              "         [0., 0., 0., 0., 0.]],\n",
              "\n",
              "        [[0., 0., 0., 0., 0.],\n",
              "         [0., 0., 0., 0., 0.],\n",
              "         [0., 0., 0., 0., 0.],\n",
              "         [0., 0., 0., 0., 0.]]],\n",
              "\n",
              "\n",
              "       [[[0., 0., 0., 0., 0.],\n",
              "         [0., 0., 0., 0., 0.],\n",
              "         [0., 0., 0., 0., 0.],\n",
              "         [0., 0., 0., 0., 0.]],\n",
              "\n",
              "        [[0., 0., 0., 0., 0.],\n",
              "         [0., 0., 0., 0., 0.],\n",
              "         [0., 0., 0., 0., 0.],\n",
              "         [0., 0., 0., 0., 0.]],\n",
              "\n",
              "        [[0., 0., 0., 0., 0.],\n",
              "         [0., 0., 0., 0., 0.],\n",
              "         [0., 0., 0., 0., 0.],\n",
              "         [0., 0., 0., 0., 0.]]]], dtype=float32)>"
            ]
          },
          "metadata": {
            "tags": []
          },
          "execution_count": 29
        }
      ]
    },
    {
      "cell_type": "code",
      "metadata": {
        "colab": {
          "base_uri": "https://localhost:8080/"
        },
        "id": "7HElW7t5SnT1",
        "outputId": "4abc0755-5d47-47c9-c01e-b997e58a58c9"
      },
      "source": [
        "rank_4_tensor.ndim"
      ],
      "execution_count": 30,
      "outputs": [
        {
          "output_type": "execute_result",
          "data": {
            "text/plain": [
              "4"
            ]
          },
          "metadata": {
            "tags": []
          },
          "execution_count": 30
        }
      ]
    },
    {
      "cell_type": "code",
      "metadata": {
        "colab": {
          "base_uri": "https://localhost:8080/"
        },
        "id": "aE8pycv_TBMm",
        "outputId": "7bd69e84-7cd4-4cf0-dfa3-45cde623824a"
      },
      "source": [
        "rank_4_tensor.ndim,rank_4_tensor.shape,tf.size(rank_4_tensor)"
      ],
      "execution_count": 31,
      "outputs": [
        {
          "output_type": "execute_result",
          "data": {
            "text/plain": [
              "(4, TensorShape([2, 3, 4, 5]), <tf.Tensor: shape=(), dtype=int32, numpy=120>)"
            ]
          },
          "metadata": {
            "tags": []
          },
          "execution_count": 31
        }
      ]
    },
    {
      "cell_type": "code",
      "metadata": {
        "colab": {
          "base_uri": "https://localhost:8080/"
        },
        "id": "CtnOz96LTP1Z",
        "outputId": "2acb6813-e21e-4db6-dd74-102dcf0a57fa"
      },
      "source": [
        "#get varioues attributed of our tensor\n",
        "\n",
        "print(\"Datatypes of every Elemnt :\",rank_4_tensor.dtype)\n",
        "print(\"Number Of Dimnetions :\",rank_4_tensor.ndim)\n",
        "print(\"Shape of the Tensor:\",rank_4_tensor.shape)\n",
        "print(\"Elemnts along 0 axis :\",rank_4_tensor.shape[0])\n",
        "print(\"Elemnts Along last axis :\",rank_4_tensor.shape[-1])\n",
        "print(\"Total no of Elemnts :\",tf.size(rank_4_tensor))\n",
        "print(\"Total no of Elemnts :\",tf.size(rank_4_tensor).numpy())\n"
      ],
      "execution_count": 32,
      "outputs": [
        {
          "output_type": "stream",
          "text": [
            "Datatypes of every Elemnt : <dtype: 'float32'>\n",
            "Number Of Dimnetions : 4\n",
            "Shape of the Tensor: (2, 3, 4, 5)\n",
            "Elemnts along 0 axis : 2\n",
            "Elemnts Along last axis : 5\n",
            "Total no of Elemnts : tf.Tensor(120, shape=(), dtype=int32)\n",
            "Total no of Elemnts : 120\n"
          ],
          "name": "stdout"
        }
      ]
    },
    {
      "cell_type": "markdown",
      "metadata": {
        "id": "b_3BwVKedtZF"
      },
      "source": [
        "###Indexing Tensords\n",
        "\n",
        "indexing can be done to the tensors"
      ]
    },
    {
      "cell_type": "code",
      "metadata": {
        "colab": {
          "base_uri": "https://localhost:8080/"
        },
        "id": "ePE5s2Nud_Nr",
        "outputId": "f93cfccf-51ee-4b6c-f149-e4d426a15cca"
      },
      "source": [
        "#get the first two elemnts in the tensors\n",
        "rank_4_tensor[:2,:2,:2,:2]"
      ],
      "execution_count": 33,
      "outputs": [
        {
          "output_type": "execute_result",
          "data": {
            "text/plain": [
              "<tf.Tensor: shape=(2, 2, 2, 2), dtype=float32, numpy=\n",
              "array([[[[0., 0.],\n",
              "         [0., 0.]],\n",
              "\n",
              "        [[0., 0.],\n",
              "         [0., 0.]]],\n",
              "\n",
              "\n",
              "       [[[0., 0.],\n",
              "         [0., 0.]],\n",
              "\n",
              "        [[0., 0.],\n",
              "         [0., 0.]]]], dtype=float32)>"
            ]
          },
          "metadata": {
            "tags": []
          },
          "execution_count": 33
        }
      ]
    },
    {
      "cell_type": "code",
      "metadata": {
        "colab": {
          "base_uri": "https://localhost:8080/"
        },
        "id": "jzByy86teKO3",
        "outputId": "2d919b35-9026-4377-cc52-a6245fc14d1e"
      },
      "source": [
        "#get the first element from each dimntion from each index except final\n",
        "rank_4_tensor[:1,:1,:1] "
      ],
      "execution_count": 34,
      "outputs": [
        {
          "output_type": "execute_result",
          "data": {
            "text/plain": [
              "<tf.Tensor: shape=(1, 1, 1, 5), dtype=float32, numpy=array([[[[0., 0., 0., 0., 0.]]]], dtype=float32)>"
            ]
          },
          "metadata": {
            "tags": []
          },
          "execution_count": 34
        }
      ]
    },
    {
      "cell_type": "code",
      "metadata": {
        "colab": {
          "base_uri": "https://localhost:8080/"
        },
        "id": "JngIB2SIekHY",
        "outputId": "45c495fd-5928-4264-99cd-83eb1fcf0436"
      },
      "source": [
        "#Create a rank 2 tensor\n",
        "rank_2_tensor=tf.zeros([2,2])\n",
        "rank_2_tensor"
      ],
      "execution_count": 35,
      "outputs": [
        {
          "output_type": "execute_result",
          "data": {
            "text/plain": [
              "<tf.Tensor: shape=(2, 2), dtype=float32, numpy=\n",
              "array([[0., 0.],\n",
              "       [0., 0.]], dtype=float32)>"
            ]
          },
          "metadata": {
            "tags": []
          },
          "execution_count": 35
        }
      ]
    },
    {
      "cell_type": "code",
      "metadata": {
        "colab": {
          "base_uri": "https://localhost:8080/"
        },
        "id": "Ux4-ADF6fFUp",
        "outputId": "83d71283-585d-4469-de99-e910eb299f7f"
      },
      "source": [
        "rank_2_tensor.shape"
      ],
      "execution_count": 36,
      "outputs": [
        {
          "output_type": "execute_result",
          "data": {
            "text/plain": [
              "TensorShape([2, 2])"
            ]
          },
          "metadata": {
            "tags": []
          },
          "execution_count": 36
        }
      ]
    },
    {
      "cell_type": "code",
      "metadata": {
        "colab": {
          "base_uri": "https://localhost:8080/"
        },
        "id": "qeFepmptfNdQ",
        "outputId": "c5ec9ab6-4129-4944-bae3-8c804925a010"
      },
      "source": [
        "rank_2_tensor.ndim"
      ],
      "execution_count": 37,
      "outputs": [
        {
          "output_type": "execute_result",
          "data": {
            "text/plain": [
              "2"
            ]
          },
          "metadata": {
            "tags": []
          },
          "execution_count": 37
        }
      ]
    },
    {
      "cell_type": "code",
      "metadata": {
        "colab": {
          "base_uri": "https://localhost:8080/"
        },
        "id": "vf85IBo7fQLL",
        "outputId": "af081260-329f-4da8-b78e-2dc0a69be31d"
      },
      "source": [
        "#get the last item of each of the row\n",
        "rank_2_tensor[:,-1]\n"
      ],
      "execution_count": 38,
      "outputs": [
        {
          "output_type": "execute_result",
          "data": {
            "text/plain": [
              "<tf.Tensor: shape=(2,), dtype=float32, numpy=array([0., 0.], dtype=float32)>"
            ]
          },
          "metadata": {
            "tags": []
          },
          "execution_count": 38
        }
      ]
    },
    {
      "cell_type": "code",
      "metadata": {
        "colab": {
          "base_uri": "https://localhost:8080/"
        },
        "id": "SHrcr9dJfYyy",
        "outputId": "61ffa895-f66d-4924-c197-33e43cf45dc4"
      },
      "source": [
        "# Adding extra dimntion to tensor\n",
        "rank_3_tensor=rank_2_tensor[...,tf.newaxis]\n",
        "rank_3_tensor"
      ],
      "execution_count": 39,
      "outputs": [
        {
          "output_type": "execute_result",
          "data": {
            "text/plain": [
              "<tf.Tensor: shape=(2, 2, 1), dtype=float32, numpy=\n",
              "array([[[0.],\n",
              "        [0.]],\n",
              "\n",
              "       [[0.],\n",
              "        [0.]]], dtype=float32)>"
            ]
          },
          "metadata": {
            "tags": []
          },
          "execution_count": 39
        }
      ]
    },
    {
      "cell_type": "code",
      "metadata": {
        "colab": {
          "base_uri": "https://localhost:8080/"
        },
        "id": "DDMwW-FWfnr2",
        "outputId": "444644a6-00c9-477d-c4f5-2493615fb381"
      },
      "source": [
        "rank_3_tensor.shape\n"
      ],
      "execution_count": 40,
      "outputs": [
        {
          "output_type": "execute_result",
          "data": {
            "text/plain": [
              "TensorShape([2, 2, 1])"
            ]
          },
          "metadata": {
            "tags": []
          },
          "execution_count": 40
        }
      ]
    },
    {
      "cell_type": "code",
      "metadata": {
        "colab": {
          "base_uri": "https://localhost:8080/"
        },
        "id": "s7Wy8GJsfrJp",
        "outputId": "831ad9dc-9c5b-4a99-a2f6-c126432546fc"
      },
      "source": [
        "#Alternativ to tf.nexaxis()\n",
        "tf.expand_dims(rank_2_tensor,axis=-1)\n"
      ],
      "execution_count": 41,
      "outputs": [
        {
          "output_type": "execute_result",
          "data": {
            "text/plain": [
              "<tf.Tensor: shape=(2, 2, 1), dtype=float32, numpy=\n",
              "array([[[0.],\n",
              "        [0.]],\n",
              "\n",
              "       [[0.],\n",
              "        [0.]]], dtype=float32)>"
            ]
          },
          "metadata": {
            "tags": []
          },
          "execution_count": 41
        }
      ]
    },
    {
      "cell_type": "code",
      "metadata": {
        "colab": {
          "base_uri": "https://localhost:8080/"
        },
        "id": "ub3rv-CpgY4f",
        "outputId": "ac2f45fb-968b-4903-c8ef-dad8e24c346b"
      },
      "source": [
        "rank_2_tensor.shape"
      ],
      "execution_count": 42,
      "outputs": [
        {
          "output_type": "execute_result",
          "data": {
            "text/plain": [
              "TensorShape([2, 2])"
            ]
          },
          "metadata": {
            "tags": []
          },
          "execution_count": 42
        }
      ]
    },
    {
      "cell_type": "code",
      "metadata": {
        "colab": {
          "base_uri": "https://localhost:8080/"
        },
        "id": "jlNypCQogFRf",
        "outputId": "dba05e20-7aa9-408c-9139-fceb041855fe"
      },
      "source": [
        "tf.expand_dims(rank_2_tensor,axis=0)"
      ],
      "execution_count": 43,
      "outputs": [
        {
          "output_type": "execute_result",
          "data": {
            "text/plain": [
              "<tf.Tensor: shape=(1, 2, 2), dtype=float32, numpy=\n",
              "array([[[0., 0.],\n",
              "        [0., 0.]]], dtype=float32)>"
            ]
          },
          "metadata": {
            "tags": []
          },
          "execution_count": 43
        }
      ]
    },
    {
      "cell_type": "markdown",
      "metadata": {
        "id": "yLQMYrPjghRE"
      },
      "source": [
        "###Manipulating Tensors\n",
        "\n",
        "basic operations\n",
        "\n",
        "\n",
        "\n"
      ]
    },
    {
      "cell_type": "code",
      "metadata": {
        "colab": {
          "base_uri": "https://localhost:8080/"
        },
        "id": "WUzdOagOgm2K",
        "outputId": "43d2a3f9-6a15-4f2e-e98c-1f28af41158a"
      },
      "source": [
        "#You can add values to a tensor using addition operator\n",
        "\n",
        "tensor =tf.constant([[10,7],[3,4]])\n",
        "tensor+10"
      ],
      "execution_count": 44,
      "outputs": [
        {
          "output_type": "execute_result",
          "data": {
            "text/plain": [
              "<tf.Tensor: shape=(2, 2), dtype=int32, numpy=\n",
              "array([[20, 17],\n",
              "       [13, 14]], dtype=int32)>"
            ]
          },
          "metadata": {
            "tags": []
          },
          "execution_count": 44
        }
      ]
    },
    {
      "cell_type": "code",
      "metadata": {
        "colab": {
          "base_uri": "https://localhost:8080/"
        },
        "id": "wWb_T1apilwk",
        "outputId": "f712cb35-6d4e-4a7f-ae93-ce90e2a5c486"
      },
      "source": [
        "#original tensor unchnged\n",
        "tensor"
      ],
      "execution_count": 45,
      "outputs": [
        {
          "output_type": "execute_result",
          "data": {
            "text/plain": [
              "<tf.Tensor: shape=(2, 2), dtype=int32, numpy=\n",
              "array([[10,  7],\n",
              "       [ 3,  4]], dtype=int32)>"
            ]
          },
          "metadata": {
            "tags": []
          },
          "execution_count": 45
        }
      ]
    },
    {
      "cell_type": "code",
      "metadata": {
        "colab": {
          "base_uri": "https://localhost:8080/"
        },
        "id": "t0y5YQ6eirB4",
        "outputId": "f79ba64c-9910-4e07-b857-9789446d2129"
      },
      "source": [
        "#multiplication\n",
        "tensor*10"
      ],
      "execution_count": 46,
      "outputs": [
        {
          "output_type": "execute_result",
          "data": {
            "text/plain": [
              "<tf.Tensor: shape=(2, 2), dtype=int32, numpy=\n",
              "array([[100,  70],\n",
              "       [ 30,  40]], dtype=int32)>"
            ]
          },
          "metadata": {
            "tags": []
          },
          "execution_count": 46
        }
      ]
    },
    {
      "cell_type": "code",
      "metadata": {
        "colab": {
          "base_uri": "https://localhost:8080/"
        },
        "id": "fFv8SZ-iiv4S",
        "outputId": "889980b3-3581-4ac9-dbd3-3c15d0fab22e"
      },
      "source": [
        "#substarction\n",
        "tensor-10"
      ],
      "execution_count": 47,
      "outputs": [
        {
          "output_type": "execute_result",
          "data": {
            "text/plain": [
              "<tf.Tensor: shape=(2, 2), dtype=int32, numpy=\n",
              "array([[ 0, -3],\n",
              "       [-7, -6]], dtype=int32)>"
            ]
          },
          "metadata": {
            "tags": []
          },
          "execution_count": 47
        }
      ]
    },
    {
      "cell_type": "code",
      "metadata": {
        "colab": {
          "base_uri": "https://localhost:8080/"
        },
        "id": "0FdVhs2Eiylp",
        "outputId": "be79e43e-a597-4ca8-d25c-571c2f0fde3d"
      },
      "source": [
        "#we can use tenserflow buit in fucntion\n",
        "tf.multiply(tensor,10)"
      ],
      "execution_count": 48,
      "outputs": [
        {
          "output_type": "execute_result",
          "data": {
            "text/plain": [
              "<tf.Tensor: shape=(2, 2), dtype=int32, numpy=\n",
              "array([[100,  70],\n",
              "       [ 30,  40]], dtype=int32)>"
            ]
          },
          "metadata": {
            "tags": []
          },
          "execution_count": 48
        }
      ]
    },
    {
      "cell_type": "code",
      "metadata": {
        "colab": {
          "base_uri": "https://localhost:8080/"
        },
        "id": "-kUBMcddjEa9",
        "outputId": "43e6c33e-4676-4219-a638-037c2bab4352"
      },
      "source": [
        "tf.add(tensor,43)"
      ],
      "execution_count": 49,
      "outputs": [
        {
          "output_type": "execute_result",
          "data": {
            "text/plain": [
              "<tf.Tensor: shape=(2, 2), dtype=int32, numpy=\n",
              "array([[53, 50],\n",
              "       [46, 47]], dtype=int32)>"
            ]
          },
          "metadata": {
            "tags": []
          },
          "execution_count": 49
        }
      ]
    },
    {
      "cell_type": "markdown",
      "metadata": {
        "id": "bakJRXKWmWez"
      },
      "source": [
        "###Matrix Multiplication\n",
        "\n",
        "two rules in the matrix multiplication\n",
        "\n",
        "1.inner dimentions mmust match\n",
        "\n",
        "2.result is the inner dimnetions"
      ]
    },
    {
      "cell_type": "code",
      "metadata": {
        "colab": {
          "base_uri": "https://localhost:8080/"
        },
        "id": "rh1eEKO1mbjC",
        "outputId": "521cdc16-3713-4c5e-ae29-19a9a87a9b37"
      },
      "source": [
        "#Matrix Multiplication on Teserflow\n",
        "print(tensor)"
      ],
      "execution_count": 50,
      "outputs": [
        {
          "output_type": "stream",
          "text": [
            "tf.Tensor(\n",
            "[[10  7]\n",
            " [ 3  4]], shape=(2, 2), dtype=int32)\n"
          ],
          "name": "stdout"
        }
      ]
    },
    {
      "cell_type": "code",
      "metadata": {
        "colab": {
          "base_uri": "https://localhost:8080/"
        },
        "id": "37FwN2WznlZk",
        "outputId": "a4545d86-05a7-427c-b21b-bd9060c7f48e"
      },
      "source": [
        "tf.matmul(tensor,tensor)\n"
      ],
      "execution_count": 51,
      "outputs": [
        {
          "output_type": "execute_result",
          "data": {
            "text/plain": [
              "<tf.Tensor: shape=(2, 2), dtype=int32, numpy=\n",
              "array([[121,  98],\n",
              "       [ 42,  37]], dtype=int32)>"
            ]
          },
          "metadata": {
            "tags": []
          },
          "execution_count": 51
        }
      ]
    },
    {
      "cell_type": "code",
      "metadata": {
        "colab": {
          "base_uri": "https://localhost:8080/"
        },
        "id": "mdj5ltxfnx4G",
        "outputId": "d2ed96b6-ee03-4bd4-ffc4-60fef8ca4423"
      },
      "source": [
        "tensor*tensor\n"
      ],
      "execution_count": 52,
      "outputs": [
        {
          "output_type": "execute_result",
          "data": {
            "text/plain": [
              "<tf.Tensor: shape=(2, 2), dtype=int32, numpy=\n",
              "array([[100,  49],\n",
              "       [  9,  16]], dtype=int32)>"
            ]
          },
          "metadata": {
            "tags": []
          },
          "execution_count": 52
        }
      ]
    },
    {
      "cell_type": "code",
      "metadata": {
        "colab": {
          "base_uri": "https://localhost:8080/"
        },
        "id": "77lPw6qkn7Wl",
        "outputId": "d35c0745-8aba-4819-b870-122b64470156"
      },
      "source": [
        "matrix_1 =tf.constant([[1,2,5],\n",
        "                       [7,2,1],\n",
        "                       [3,3,3]])\n",
        "\n",
        "matrix_2 =tf.constant([[3,5],\n",
        "                       [6,7],\n",
        "                       [1,8]])\n",
        "\n",
        "matrix_1,matrix_2"
      ],
      "execution_count": 53,
      "outputs": [
        {
          "output_type": "execute_result",
          "data": {
            "text/plain": [
              "(<tf.Tensor: shape=(3, 3), dtype=int32, numpy=\n",
              " array([[1, 2, 5],\n",
              "        [7, 2, 1],\n",
              "        [3, 3, 3]], dtype=int32)>,\n",
              " <tf.Tensor: shape=(3, 2), dtype=int32, numpy=\n",
              " array([[3, 5],\n",
              "        [6, 7],\n",
              "        [1, 8]], dtype=int32)>)"
            ]
          },
          "metadata": {
            "tags": []
          },
          "execution_count": 53
        }
      ]
    },
    {
      "cell_type": "code",
      "metadata": {
        "colab": {
          "base_uri": "https://localhost:8080/"
        },
        "id": "jzf4_8l7oShu",
        "outputId": "3d78fba9-77b1-4931-e951-2e85dd392020"
      },
      "source": [
        "tf.matmul(matrix_1,matrix_2)"
      ],
      "execution_count": 54,
      "outputs": [
        {
          "output_type": "execute_result",
          "data": {
            "text/plain": [
              "<tf.Tensor: shape=(3, 2), dtype=int32, numpy=\n",
              "array([[20, 59],\n",
              "       [34, 57],\n",
              "       [30, 60]], dtype=int32)>"
            ]
          },
          "metadata": {
            "tags": []
          },
          "execution_count": 54
        }
      ]
    },
    {
      "cell_type": "code",
      "metadata": {
        "colab": {
          "base_uri": "https://localhost:8080/"
        },
        "id": "UK5YUkIYnqp-",
        "outputId": "5a7e1d01-dd49-4308-e029-e97352b2c32c"
      },
      "source": [
        "#matrix multiplication with python operator\n",
        "tensor@tensor"
      ],
      "execution_count": 55,
      "outputs": [
        {
          "output_type": "execute_result",
          "data": {
            "text/plain": [
              "<tf.Tensor: shape=(2, 2), dtype=int32, numpy=\n",
              "array([[121,  98],\n",
              "       [ 42,  37]], dtype=int32)>"
            ]
          },
          "metadata": {
            "tags": []
          },
          "execution_count": 55
        }
      ]
    },
    {
      "cell_type": "code",
      "metadata": {
        "colab": {
          "base_uri": "https://localhost:8080/"
        },
        "id": "1a8TKZRIohFA",
        "outputId": "6820b83b-daf9-4197-e939-1110363cf1e4"
      },
      "source": [
        "matrix_1@matrix_2"
      ],
      "execution_count": 56,
      "outputs": [
        {
          "output_type": "execute_result",
          "data": {
            "text/plain": [
              "<tf.Tensor: shape=(3, 2), dtype=int32, numpy=\n",
              "array([[20, 59],\n",
              "       [34, 57],\n",
              "       [30, 60]], dtype=int32)>"
            ]
          },
          "metadata": {
            "tags": []
          },
          "execution_count": 56
        }
      ]
    },
    {
      "cell_type": "code",
      "metadata": {
        "colab": {
          "base_uri": "https://localhost:8080/"
        },
        "id": "ThkhxdAPolNb",
        "outputId": "bc69de14-badc-4f6b-85a3-218cc7397af4"
      },
      "source": [
        "#create a tensor with (3,2)\n",
        "X =tf.constant([[1,2],\n",
        "                [4,5],\n",
        "                [7,8]])\n",
        "#create a tensor with (3,2)\n",
        "Y =tf.constant([[7,8],\n",
        "                [9,10],\n",
        "                [11,12]])\n",
        "X,Y"
      ],
      "execution_count": 57,
      "outputs": [
        {
          "output_type": "execute_result",
          "data": {
            "text/plain": [
              "(<tf.Tensor: shape=(3, 2), dtype=int32, numpy=\n",
              " array([[1, 2],\n",
              "        [4, 5],\n",
              "        [7, 8]], dtype=int32)>, <tf.Tensor: shape=(3, 2), dtype=int32, numpy=\n",
              " array([[ 7,  8],\n",
              "        [ 9, 10],\n",
              "        [11, 12]], dtype=int32)>)"
            ]
          },
          "metadata": {
            "tags": []
          },
          "execution_count": 57
        }
      ]
    },
    {
      "cell_type": "code",
      "metadata": {
        "id": "Sf6Owy7-pEId"
      },
      "source": [
        "# #try to multiply tesors\n",
        "# tf.matmul(X,Y)"
      ],
      "execution_count": 58,
      "outputs": []
    },
    {
      "cell_type": "code",
      "metadata": {
        "colab": {
          "base_uri": "https://localhost:8080/"
        },
        "id": "X9fUzdqLpLJM",
        "outputId": "65eed051-99d3-4145-fe58-961ced34db18"
      },
      "source": [
        "#transpose the matrix to multilply\n",
        "tf.matmul(X,tf.transpose(Y))"
      ],
      "execution_count": 59,
      "outputs": [
        {
          "output_type": "execute_result",
          "data": {
            "text/plain": [
              "<tf.Tensor: shape=(3, 3), dtype=int32, numpy=\n",
              "array([[ 23,  29,  35],\n",
              "       [ 68,  86, 104],\n",
              "       [113, 143, 173]], dtype=int32)>"
            ]
          },
          "metadata": {
            "tags": []
          },
          "execution_count": 59
        }
      ]
    },
    {
      "cell_type": "markdown",
      "metadata": {
        "id": "KhmqydVjpmoG"
      },
      "source": [
        "Dot Product\n",
        "\n",
        "Matrix Multplication known as dot procduct .\n",
        "\n",
        "YOU can perform dot product using :\n",
        "\n",
        "  *tf.matmul()\n",
        "\n",
        "  *tf.tenserdot()"
      ]
    },
    {
      "cell_type": "markdown",
      "metadata": {
        "id": "Dfb5hMGSh_WW"
      },
      "source": [
        "Dot Product\n",
        "\n",
        "Mtrix multiplication also reffered as matrix mulytiplication.\n",
        "\n",
        "*`tf.matmul()`\n",
        "\n",
        "*`tf.tensordot()`"
      ]
    },
    {
      "cell_type": "code",
      "metadata": {
        "colab": {
          "base_uri": "https://localhost:8080/"
        },
        "id": "CKqc0fIicjKv",
        "outputId": "989f0b26-fdce-40e1-e56c-9970e916dee3"
      },
      "source": [
        "X,Y"
      ],
      "execution_count": 60,
      "outputs": [
        {
          "output_type": "execute_result",
          "data": {
            "text/plain": [
              "(<tf.Tensor: shape=(3, 2), dtype=int32, numpy=\n",
              " array([[1, 2],\n",
              "        [4, 5],\n",
              "        [7, 8]], dtype=int32)>, <tf.Tensor: shape=(3, 2), dtype=int32, numpy=\n",
              " array([[ 7,  8],\n",
              "        [ 9, 10],\n",
              "        [11, 12]], dtype=int32)>)"
            ]
          },
          "metadata": {
            "tags": []
          },
          "execution_count": 60
        }
      ]
    },
    {
      "cell_type": "code",
      "metadata": {
        "colab": {
          "base_uri": "https://localhost:8080/"
        },
        "id": "ZeuO6NlfcWxb",
        "outputId": "9542366f-97d1-442c-cc19-793e92a7f891"
      },
      "source": [
        "#perform the dot product on metrix\n",
        "tf.tensordot(tf.transpose(X),Y,axes=1)"
      ],
      "execution_count": 61,
      "outputs": [
        {
          "output_type": "execute_result",
          "data": {
            "text/plain": [
              "<tf.Tensor: shape=(2, 2), dtype=int32, numpy=\n",
              "array([[120, 132],\n",
              "       [147, 162]], dtype=int32)>"
            ]
          },
          "metadata": {
            "tags": []
          },
          "execution_count": 61
        }
      ]
    },
    {
      "cell_type": "code",
      "metadata": {
        "colab": {
          "base_uri": "https://localhost:8080/"
        },
        "id": "lcKlV6INc8tO",
        "outputId": "a3d0dfca-9571-4c43-9940-7ab9db139480"
      },
      "source": [
        "#perform matrix multiplication between X and y\n",
        "tf.matmul(X,tf.reshape(Y,shape=(2,3)))"
      ],
      "execution_count": 62,
      "outputs": [
        {
          "output_type": "execute_result",
          "data": {
            "text/plain": [
              "<tf.Tensor: shape=(3, 3), dtype=int32, numpy=\n",
              "array([[ 27,  30,  33],\n",
              "       [ 78,  87,  96],\n",
              "       [129, 144, 159]], dtype=int32)>"
            ]
          },
          "metadata": {
            "tags": []
          },
          "execution_count": 62
        }
      ]
    },
    {
      "cell_type": "code",
      "metadata": {
        "colab": {
          "base_uri": "https://localhost:8080/"
        },
        "id": "Svk04T3lddPa",
        "outputId": "213141d4-3ff4-4d11-8b64-2ae315504e99"
      },
      "source": [
        "#check the values of Y,and reshape X and transposed y\n",
        "\n",
        "print(\"Normal y:\")\n",
        "print(Y,\"\\n\")\n",
        "\n",
        "print(\"Y shaped to (2,3) :\")\n",
        "print(tf.reshape(Y,(2,3)),\"\\n\")\n",
        "\n",
        "print(\" y transposed :\")\n",
        "\n",
        "print(tf.transpose(Y))"
      ],
      "execution_count": 63,
      "outputs": [
        {
          "output_type": "stream",
          "text": [
            "Normal y:\n",
            "tf.Tensor(\n",
            "[[ 7  8]\n",
            " [ 9 10]\n",
            " [11 12]], shape=(3, 2), dtype=int32) \n",
            "\n",
            "Y shaped to (2,3) :\n",
            "tf.Tensor(\n",
            "[[ 7  8  9]\n",
            " [10 11 12]], shape=(2, 3), dtype=int32) \n",
            "\n",
            " y transposed :\n",
            "tf.Tensor(\n",
            "[[ 7  9 11]\n",
            " [ 8 10 12]], shape=(2, 3), dtype=int32)\n"
          ],
          "name": "stdout"
        }
      ]
    },
    {
      "cell_type": "markdown",
      "metadata": {
        "id": "quHlIdQjenXg"
      },
      "source": [
        "Genarally performing multilpication , you will transpose than reshaping the matrix rather than transpose to complete the atrix multiplication"
      ]
    },
    {
      "cell_type": "markdown",
      "metadata": {
        "id": "CBCpQJ8Pe0Wl"
      },
      "source": [
        "##Changing the Datatype of the Tensor"
      ]
    },
    {
      "cell_type": "code",
      "metadata": {
        "colab": {
          "base_uri": "https://localhost:8080/"
        },
        "id": "pUdMZV3we_8R",
        "outputId": "55cd81d1-91a6-49b6-8a98-f461f837cd70"
      },
      "source": [
        "#craete a new tesnsor\n",
        "B = tf.constant([1.7,7.4])\n",
        "B.dtype"
      ],
      "execution_count": 64,
      "outputs": [
        {
          "output_type": "execute_result",
          "data": {
            "text/plain": [
              "tf.float32"
            ]
          },
          "metadata": {
            "tags": []
          },
          "execution_count": 64
        }
      ]
    },
    {
      "cell_type": "code",
      "metadata": {
        "colab": {
          "base_uri": "https://localhost:8080/"
        },
        "id": "jvxjbTtIfIx_",
        "outputId": "cfb1791a-6de3-4261-899b-db236b53fb99"
      },
      "source": [
        "C= tf.constant([7,10])\n",
        "C.dtype"
      ],
      "execution_count": 65,
      "outputs": [
        {
          "output_type": "execute_result",
          "data": {
            "text/plain": [
              "tf.int32"
            ]
          },
          "metadata": {
            "tags": []
          },
          "execution_count": 65
        }
      ]
    },
    {
      "cell_type": "code",
      "metadata": {
        "colab": {
          "base_uri": "https://localhost:8080/"
        },
        "id": "c66eqtyGfN3Q",
        "outputId": "e98365d4-7542-4a7c-f249-b43221c3c09a"
      },
      "source": [
        "#change the float32 to float16\n",
        "B =tf.cast(B,dtype=tf.float16)\n",
        "B"
      ],
      "execution_count": 66,
      "outputs": [
        {
          "output_type": "execute_result",
          "data": {
            "text/plain": [
              "<tf.Tensor: shape=(2,), dtype=float16, numpy=array([1.7, 7.4], dtype=float16)>"
            ]
          },
          "metadata": {
            "tags": []
          },
          "execution_count": 66
        }
      ]
    },
    {
      "cell_type": "code",
      "metadata": {
        "colab": {
          "base_uri": "https://localhost:8080/"
        },
        "id": "RZv2rAo5f6nM",
        "outputId": "37be636b-4ffe-4724-9503-2c645ff23df1"
      },
      "source": [
        "#change from int32 to int16\n",
        "E=tf.cast(B,dtype=tf.float16)\n",
        "E"
      ],
      "execution_count": 67,
      "outputs": [
        {
          "output_type": "execute_result",
          "data": {
            "text/plain": [
              "<tf.Tensor: shape=(2,), dtype=float16, numpy=array([1.7, 7.4], dtype=float16)>"
            ]
          },
          "metadata": {
            "tags": []
          },
          "execution_count": 67
        }
      ]
    },
    {
      "cell_type": "markdown",
      "metadata": {
        "id": "uoJVQCYhgVtQ"
      },
      "source": [
        "###Aggregating Tensors\n",
        "\n",
        "Aggregating Tensors =Condesing them from multiple values down to a saamller amount of values\n"
      ]
    },
    {
      "cell_type": "code",
      "metadata": {
        "colab": {
          "base_uri": "https://localhost:8080/"
        },
        "id": "uTCtgvpkgfOi",
        "outputId": "3d5d910b-2ff3-457a-c63d-633cb8790ddc"
      },
      "source": [
        "#get the absolute values\n",
        "D =tf.constant([-7,-10])\n",
        "D"
      ],
      "execution_count": 68,
      "outputs": [
        {
          "output_type": "execute_result",
          "data": {
            "text/plain": [
              "<tf.Tensor: shape=(2,), dtype=int32, numpy=array([ -7, -10], dtype=int32)>"
            ]
          },
          "metadata": {
            "tags": []
          },
          "execution_count": 68
        }
      ]
    },
    {
      "cell_type": "code",
      "metadata": {
        "colab": {
          "base_uri": "https://localhost:8080/"
        },
        "id": "kF6R-JJWheXi",
        "outputId": "cc5d525c-78d9-4785-cb54-c83b73c9f0e1"
      },
      "source": [
        "tf.abs(D)"
      ],
      "execution_count": 69,
      "outputs": [
        {
          "output_type": "execute_result",
          "data": {
            "text/plain": [
              "<tf.Tensor: shape=(2,), dtype=int32, numpy=array([ 7, 10], dtype=int32)>"
            ]
          },
          "metadata": {
            "tags": []
          },
          "execution_count": 69
        }
      ]
    },
    {
      "cell_type": "markdown",
      "metadata": {
        "id": "-v_YlDathitX"
      },
      "source": [
        "Lets go thourgh follwing forms of aggregation\n",
        "\n",
        "*   Get the minimum\n",
        "*   Get the Maximum\n",
        "*   Get the Mean of the Tensor\n",
        "*   Get the Sum of the Tensor\n",
        "\n"
      ]
    },
    {
      "cell_type": "code",
      "metadata": {
        "colab": {
          "base_uri": "https://localhost:8080/"
        },
        "id": "zcwEAyvnhwlE",
        "outputId": "1e19a969-32bf-4a3d-aa52-04e0d1e6c419"
      },
      "source": [
        "X,Y"
      ],
      "execution_count": 70,
      "outputs": [
        {
          "output_type": "execute_result",
          "data": {
            "text/plain": [
              "(<tf.Tensor: shape=(3, 2), dtype=int32, numpy=\n",
              " array([[1, 2],\n",
              "        [4, 5],\n",
              "        [7, 8]], dtype=int32)>, <tf.Tensor: shape=(3, 2), dtype=int32, numpy=\n",
              " array([[ 7,  8],\n",
              "        [ 9, 10],\n",
              "        [11, 12]], dtype=int32)>)"
            ]
          },
          "metadata": {
            "tags": []
          },
          "execution_count": 70
        }
      ]
    },
    {
      "cell_type": "code",
      "metadata": {
        "colab": {
          "base_uri": "https://localhost:8080/"
        },
        "id": "Hp418CYNiArF",
        "outputId": "5ab4a781-0343-4ad4-ac90-6c0369959d6f"
      },
      "source": [
        "tf.minimum( X,Y)"
      ],
      "execution_count": 71,
      "outputs": [
        {
          "output_type": "execute_result",
          "data": {
            "text/plain": [
              "<tf.Tensor: shape=(3, 2), dtype=int32, numpy=\n",
              "array([[1, 2],\n",
              "       [4, 5],\n",
              "       [7, 8]], dtype=int32)>"
            ]
          },
          "metadata": {
            "tags": []
          },
          "execution_count": 71
        }
      ]
    },
    {
      "cell_type": "code",
      "metadata": {
        "colab": {
          "base_uri": "https://localhost:8080/"
        },
        "id": "KzJwwI7niFAl",
        "outputId": "ce176eec-c2ec-40fb-b87a-e06d1f70c4fd"
      },
      "source": [
        "tf.maximum(X,Y)"
      ],
      "execution_count": 72,
      "outputs": [
        {
          "output_type": "execute_result",
          "data": {
            "text/plain": [
              "<tf.Tensor: shape=(3, 2), dtype=int32, numpy=\n",
              "array([[ 7,  8],\n",
              "       [ 9, 10],\n",
              "       [11, 12]], dtype=int32)>"
            ]
          },
          "metadata": {
            "tags": []
          },
          "execution_count": 72
        }
      ]
    },
    {
      "cell_type": "code",
      "metadata": {
        "colab": {
          "base_uri": "https://localhost:8080/"
        },
        "id": "qMzDT7Xuilu-",
        "outputId": "6602d943-ff0a-47ef-c255-c5e6b6a88e17"
      },
      "source": [
        "tf.reduce_mean(X),tf.reduce_mean(Y)"
      ],
      "execution_count": 73,
      "outputs": [
        {
          "output_type": "execute_result",
          "data": {
            "text/plain": [
              "(<tf.Tensor: shape=(), dtype=int32, numpy=4>,\n",
              " <tf.Tensor: shape=(), dtype=int32, numpy=9>)"
            ]
          },
          "metadata": {
            "tags": []
          },
          "execution_count": 73
        }
      ]
    },
    {
      "cell_type": "code",
      "metadata": {
        "colab": {
          "base_uri": "https://localhost:8080/"
        },
        "id": "Pc3zRmvCi0aS",
        "outputId": "1e4e66d7-ed17-4a5b-b61b-44abdb782c58"
      },
      "source": [
        "tf.reduce_sum(X),tf.reduce_sum(Y)"
      ],
      "execution_count": 74,
      "outputs": [
        {
          "output_type": "execute_result",
          "data": {
            "text/plain": [
              "(<tf.Tensor: shape=(), dtype=int32, numpy=27>,\n",
              " <tf.Tensor: shape=(), dtype=int32, numpy=57>)"
            ]
          },
          "metadata": {
            "tags": []
          },
          "execution_count": 74
        }
      ]
    },
    {
      "cell_type": "code",
      "metadata": {
        "id": "8rTySAwUjAwb"
      },
      "source": [
        "import tensorflow_probability as tfp\n"
      ],
      "execution_count": 75,
      "outputs": []
    },
    {
      "cell_type": "code",
      "metadata": {
        "colab": {
          "base_uri": "https://localhost:8080/"
        },
        "id": "4tT9UoCpje8X",
        "outputId": "63995546-bb97-4568-85dd-d9681051eab8"
      },
      "source": [
        "x = tf.constant([[1., 2.], [3., 4.]])\n",
        "tf.math.reduce_std(x)"
      ],
      "execution_count": 76,
      "outputs": [
        {
          "output_type": "execute_result",
          "data": {
            "text/plain": [
              "<tf.Tensor: shape=(), dtype=float32, numpy=1.118034>"
            ]
          },
          "metadata": {
            "tags": []
          },
          "execution_count": 76
        }
      ]
    },
    {
      "cell_type": "code",
      "metadata": {
        "colab": {
          "base_uri": "https://localhost:8080/"
        },
        "id": "2aReKzvwkGOe",
        "outputId": "13db9d80-40b2-488d-b9d9-692981f4a201"
      },
      "source": [
        "x"
      ],
      "execution_count": 77,
      "outputs": [
        {
          "output_type": "execute_result",
          "data": {
            "text/plain": [
              "<tf.Tensor: shape=(2, 2), dtype=float32, numpy=\n",
              "array([[1., 2.],\n",
              "       [3., 4.]], dtype=float32)>"
            ]
          },
          "metadata": {
            "tags": []
          },
          "execution_count": 77
        }
      ]
    },
    {
      "cell_type": "code",
      "metadata": {
        "colab": {
          "base_uri": "https://localhost:8080/"
        },
        "id": "Nn1XI-2akIlR",
        "outputId": "98417d1b-82b3-406c-f35f-0f3c12fdbfb2"
      },
      "source": [
        "X"
      ],
      "execution_count": 78,
      "outputs": [
        {
          "output_type": "execute_result",
          "data": {
            "text/plain": [
              "<tf.Tensor: shape=(3, 2), dtype=int32, numpy=\n",
              "array([[1, 2],\n",
              "       [4, 5],\n",
              "       [7, 8]], dtype=int32)>"
            ]
          },
          "metadata": {
            "tags": []
          },
          "execution_count": 78
        }
      ]
    },
    {
      "cell_type": "code",
      "metadata": {
        "id": "gfneZgqhkMTe"
      },
      "source": [
        "x = tf.random.normal(shape=(100, 2, 3))\n",
        "\n",
        "# var[i, j] is the sample variance of the (i, j) batch member of x.\n",
        "var = tfp.stats.variance(x, sample_axis=0)"
      ],
      "execution_count": 79,
      "outputs": []
    },
    {
      "cell_type": "code",
      "metadata": {
        "colab": {
          "base_uri": "https://localhost:8080/"
        },
        "id": "sypYwzzLk7EP",
        "outputId": "adf17bdc-911a-4885-da33-234385248aec"
      },
      "source": [
        "tfp.stats.variance(X)"
      ],
      "execution_count": 80,
      "outputs": [
        {
          "output_type": "execute_result",
          "data": {
            "text/plain": [
              "<tf.Tensor: shape=(2,), dtype=int32, numpy=array([6, 6], dtype=int32)>"
            ]
          },
          "metadata": {
            "tags": []
          },
          "execution_count": 80
        }
      ]
    },
    {
      "cell_type": "code",
      "metadata": {
        "colab": {
          "base_uri": "https://localhost:8080/"
        },
        "id": "iEOP5Z5zlCDq",
        "outputId": "6873efcc-7535-43f9-8794-4f34a0bc7fb9"
      },
      "source": [
        "#change the float32 to float16\n",
        "B =tf.cast(X,dtype=tf.float16)\n",
        "B\n",
        "tfp.stats.stddev(B)"
      ],
      "execution_count": 81,
      "outputs": [
        {
          "output_type": "execute_result",
          "data": {
            "text/plain": [
              "<tf.Tensor: shape=(2,), dtype=float16, numpy=array([2.45, 2.45], dtype=float16)>"
            ]
          },
          "metadata": {
            "tags": []
          },
          "execution_count": 81
        }
      ]
    },
    {
      "cell_type": "code",
      "metadata": {
        "colab": {
          "base_uri": "https://localhost:8080/"
        },
        "id": "G6J1QuFflKwz",
        "outputId": "fb53f5ce-02e6-4a53-f913-93dff0f58b97"
      },
      "source": [
        "#change the float32 to float16\n",
        "C =tf.cast(Y,dtype=tf.float16)\n",
        "C\n",
        "tfp.stats.stddev(C)"
      ],
      "execution_count": 82,
      "outputs": [
        {
          "output_type": "execute_result",
          "data": {
            "text/plain": [
              "<tf.Tensor: shape=(2,), dtype=float16, numpy=array([1.633, 1.633], dtype=float16)>"
            ]
          },
          "metadata": {
            "tags": []
          },
          "execution_count": 82
        }
      ]
    },
    {
      "cell_type": "code",
      "metadata": {
        "colab": {
          "base_uri": "https://localhost:8080/"
        },
        "id": "17E8OisRmtlo",
        "outputId": "db812b7b-6b08-4e57-d746-6d82e9f75d6c"
      },
      "source": [
        "#find the varience\n",
        "#change the float32 to float16\n",
        "X =tf.cast(X,dtype=tf.float16)\n",
        "X\n",
        "\n",
        "tf.math.reduce_variance(X)"
      ],
      "execution_count": 83,
      "outputs": [
        {
          "output_type": "execute_result",
          "data": {
            "text/plain": [
              "<tf.Tensor: shape=(), dtype=float16, numpy=6.25>"
            ]
          },
          "metadata": {
            "tags": []
          },
          "execution_count": 83
        }
      ]
    },
    {
      "cell_type": "markdown",
      "metadata": {
        "id": "Z3vhlk7FmAGr"
      },
      "source": [
        "###Find the Positonal maximum and Minimun"
      ]
    },
    {
      "cell_type": "code",
      "metadata": {
        "colab": {
          "base_uri": "https://localhost:8080/"
        },
        "id": "JDogBc4QmQYc",
        "outputId": "6b6cce60-5cee-4409-ce0c-80e162941573"
      },
      "source": [
        "#Postional maxmum\n",
        "tf.math.argmax(  X)"
      ],
      "execution_count": 84,
      "outputs": [
        {
          "output_type": "execute_result",
          "data": {
            "text/plain": [
              "<tf.Tensor: shape=(2,), dtype=int64, numpy=array([2, 2])>"
            ]
          },
          "metadata": {
            "tags": []
          },
          "execution_count": 84
        }
      ]
    },
    {
      "cell_type": "code",
      "metadata": {
        "colab": {
          "base_uri": "https://localhost:8080/"
        },
        "id": "NyqrFy-MmSkI",
        "outputId": "656b7d3c-3f63-43b3-f0e6-eccf8591e6c9"
      },
      "source": [
        "#positional minimum\n",
        "tf.argmin(X)"
      ],
      "execution_count": 85,
      "outputs": [
        {
          "output_type": "execute_result",
          "data": {
            "text/plain": [
              "<tf.Tensor: shape=(2,), dtype=int64, numpy=array([0, 0])>"
            ]
          },
          "metadata": {
            "tags": []
          },
          "execution_count": 85
        }
      ]
    },
    {
      "cell_type": "code",
      "metadata": {
        "colab": {
          "base_uri": "https://localhost:8080/"
        },
        "id": "ggF98KHnmcPh",
        "outputId": "cc04a55d-9294-4dd6-8ff4-943db692fe0b"
      },
      "source": [
        "tf.random.set_seed(42)\n",
        "F=tf.random.uniform(shape=[50])\n",
        "F"
      ],
      "execution_count": 86,
      "outputs": [
        {
          "output_type": "execute_result",
          "data": {
            "text/plain": [
              "<tf.Tensor: shape=(50,), dtype=float32, numpy=\n",
              "array([0.6645621 , 0.44100678, 0.3528825 , 0.46448255, 0.03366041,\n",
              "       0.68467236, 0.74011743, 0.8724445 , 0.22632635, 0.22319686,\n",
              "       0.3103881 , 0.7223358 , 0.13318717, 0.5480639 , 0.5746088 ,\n",
              "       0.8996835 , 0.00946367, 0.5212307 , 0.6345445 , 0.1993283 ,\n",
              "       0.72942245, 0.54583454, 0.10756552, 0.6767061 , 0.6602763 ,\n",
              "       0.33695042, 0.60141766, 0.21062577, 0.8527372 , 0.44062173,\n",
              "       0.9485276 , 0.23752594, 0.81179297, 0.5263394 , 0.494308  ,\n",
              "       0.21612847, 0.8457197 , 0.8718841 , 0.3083862 , 0.6868038 ,\n",
              "       0.23764038, 0.7817228 , 0.9671384 , 0.06870162, 0.79873943,\n",
              "       0.66028714, 0.5871513 , 0.16461694, 0.7381023 , 0.32054043],\n",
              "      dtype=float32)>"
            ]
          },
          "metadata": {
            "tags": []
          },
          "execution_count": 86
        }
      ]
    },
    {
      "cell_type": "code",
      "metadata": {
        "colab": {
          "base_uri": "https://localhost:8080/"
        },
        "id": "wUOLXJEcn1I5",
        "outputId": "c72345c9-b9f3-43fe-95a7-c82e8bc46e75"
      },
      "source": [
        "#find the postional maximb\n",
        "tf.argmax(F)\n"
      ],
      "execution_count": 87,
      "outputs": [
        {
          "output_type": "execute_result",
          "data": {
            "text/plain": [
              "<tf.Tensor: shape=(), dtype=int64, numpy=42>"
            ]
          },
          "metadata": {
            "tags": []
          },
          "execution_count": 87
        }
      ]
    },
    {
      "cell_type": "code",
      "metadata": {
        "colab": {
          "base_uri": "https://localhost:8080/"
        },
        "id": "egXBdTlVn9Ny",
        "outputId": "54eb71df-510f-41b5-ceb0-ec969e535205"
      },
      "source": [
        "#index on largest value\n",
        "F[tf.argmax(F)]"
      ],
      "execution_count": 88,
      "outputs": [
        {
          "output_type": "execute_result",
          "data": {
            "text/plain": [
              "<tf.Tensor: shape=(), dtype=float32, numpy=0.9671384>"
            ]
          },
          "metadata": {
            "tags": []
          },
          "execution_count": 88
        }
      ]
    },
    {
      "cell_type": "code",
      "metadata": {
        "colab": {
          "base_uri": "https://localhost:8080/"
        },
        "id": "D936rTdeoLB9",
        "outputId": "7776cb46-5d10-4675-d4b4-76499d2b4b3a"
      },
      "source": [
        "#find the max value F\n",
        "tf.reduce_max(F)"
      ],
      "execution_count": 89,
      "outputs": [
        {
          "output_type": "execute_result",
          "data": {
            "text/plain": [
              "<tf.Tensor: shape=(), dtype=float32, numpy=0.9671384>"
            ]
          },
          "metadata": {
            "tags": []
          },
          "execution_count": 89
        }
      ]
    },
    {
      "cell_type": "code",
      "metadata": {
        "colab": {
          "base_uri": "https://localhost:8080/"
        },
        "id": "-915VoUWoUiX",
        "outputId": "35c0b023-4e56-4924-f48a-46fa9d5f9250"
      },
      "source": [
        "#Check the Eqlity\n",
        "F[tf.argmax(F)]==tf.reduce_max(F)"
      ],
      "execution_count": 90,
      "outputs": [
        {
          "output_type": "execute_result",
          "data": {
            "text/plain": [
              "<tf.Tensor: shape=(), dtype=bool, numpy=True>"
            ]
          },
          "metadata": {
            "tags": []
          },
          "execution_count": 90
        }
      ]
    },
    {
      "cell_type": "code",
      "metadata": {
        "colab": {
          "base_uri": "https://localhost:8080/"
        },
        "id": "JhuUIIvLohjK",
        "outputId": "24955742-42dd-4a0e-f412-ebde6159df93"
      },
      "source": [
        "tf.reduce_min(F)"
      ],
      "execution_count": 91,
      "outputs": [
        {
          "output_type": "execute_result",
          "data": {
            "text/plain": [
              "<tf.Tensor: shape=(), dtype=float32, numpy=0.009463668>"
            ]
          },
          "metadata": {
            "tags": []
          },
          "execution_count": 91
        }
      ]
    },
    {
      "cell_type": "markdown",
      "metadata": {
        "id": "QoedFw66pI0e"
      },
      "source": [
        "##Squeezing the Tensor(Removing all single dimentions)"
      ]
    },
    {
      "cell_type": "code",
      "metadata": {
        "colab": {
          "base_uri": "https://localhost:8080/"
        },
        "id": "sWM4MiFIpQ1W",
        "outputId": "7dbabb70-a8c2-48c5-9000-d37ccd209937"
      },
      "source": [
        "#create a tensor to get started\n",
        "tf.random.set_seed(42)\n",
        "G =tf.constant(tf.random.uniform(shape=[50]),shape=(1,1,1,1,50))\n",
        "G"
      ],
      "execution_count": 92,
      "outputs": [
        {
          "output_type": "execute_result",
          "data": {
            "text/plain": [
              "<tf.Tensor: shape=(1, 1, 1, 1, 50), dtype=float32, numpy=\n",
              "array([[[[[0.6645621 , 0.44100678, 0.3528825 , 0.46448255, 0.03366041,\n",
              "           0.68467236, 0.74011743, 0.8724445 , 0.22632635, 0.22319686,\n",
              "           0.3103881 , 0.7223358 , 0.13318717, 0.5480639 , 0.5746088 ,\n",
              "           0.8996835 , 0.00946367, 0.5212307 , 0.6345445 , 0.1993283 ,\n",
              "           0.72942245, 0.54583454, 0.10756552, 0.6767061 , 0.6602763 ,\n",
              "           0.33695042, 0.60141766, 0.21062577, 0.8527372 , 0.44062173,\n",
              "           0.9485276 , 0.23752594, 0.81179297, 0.5263394 , 0.494308  ,\n",
              "           0.21612847, 0.8457197 , 0.8718841 , 0.3083862 , 0.6868038 ,\n",
              "           0.23764038, 0.7817228 , 0.9671384 , 0.06870162, 0.79873943,\n",
              "           0.66028714, 0.5871513 , 0.16461694, 0.7381023 , 0.32054043]]]]],\n",
              "      dtype=float32)>"
            ]
          },
          "metadata": {
            "tags": []
          },
          "execution_count": 92
        }
      ]
    },
    {
      "cell_type": "code",
      "metadata": {
        "colab": {
          "base_uri": "https://localhost:8080/"
        },
        "id": "PBMFY9D8pfjY",
        "outputId": "65f7fbf6-4073-495c-d37a-8e2e9440be91"
      },
      "source": [
        "G.shape"
      ],
      "execution_count": 93,
      "outputs": [
        {
          "output_type": "execute_result",
          "data": {
            "text/plain": [
              "TensorShape([1, 1, 1, 1, 50])"
            ]
          },
          "metadata": {
            "tags": []
          },
          "execution_count": 93
        }
      ]
    },
    {
      "cell_type": "code",
      "metadata": {
        "colab": {
          "base_uri": "https://localhost:8080/"
        },
        "id": "8PqZE29Spxr1",
        "outputId": "21e3ff20-5b2d-4d7c-9832-643ce9a09695"
      },
      "source": [
        "G_squeezed=tf.squeeze(G)\n",
        "G_squeezed"
      ],
      "execution_count": 94,
      "outputs": [
        {
          "output_type": "execute_result",
          "data": {
            "text/plain": [
              "<tf.Tensor: shape=(50,), dtype=float32, numpy=\n",
              "array([0.6645621 , 0.44100678, 0.3528825 , 0.46448255, 0.03366041,\n",
              "       0.68467236, 0.74011743, 0.8724445 , 0.22632635, 0.22319686,\n",
              "       0.3103881 , 0.7223358 , 0.13318717, 0.5480639 , 0.5746088 ,\n",
              "       0.8996835 , 0.00946367, 0.5212307 , 0.6345445 , 0.1993283 ,\n",
              "       0.72942245, 0.54583454, 0.10756552, 0.6767061 , 0.6602763 ,\n",
              "       0.33695042, 0.60141766, 0.21062577, 0.8527372 , 0.44062173,\n",
              "       0.9485276 , 0.23752594, 0.81179297, 0.5263394 , 0.494308  ,\n",
              "       0.21612847, 0.8457197 , 0.8718841 , 0.3083862 , 0.6868038 ,\n",
              "       0.23764038, 0.7817228 , 0.9671384 , 0.06870162, 0.79873943,\n",
              "       0.66028714, 0.5871513 , 0.16461694, 0.7381023 , 0.32054043],\n",
              "      dtype=float32)>"
            ]
          },
          "metadata": {
            "tags": []
          },
          "execution_count": 94
        }
      ]
    },
    {
      "cell_type": "markdown",
      "metadata": {
        "id": "V3QFVkmPp48I"
      },
      "source": [
        "##One hot Enoding"
      ]
    },
    {
      "cell_type": "code",
      "metadata": {
        "colab": {
          "base_uri": "https://localhost:8080/"
        },
        "id": "TvvcjRY97BlT",
        "outputId": "b80a8451-349d-4306-8308-8f239be93485"
      },
      "source": [
        "#craete a list of indices\n",
        "some_list =[0,1,2,3]\n",
        "\n",
        "#one hot encode the list\n",
        "tf.one_hot(some_list,depth=4)\n"
      ],
      "execution_count": 95,
      "outputs": [
        {
          "output_type": "execute_result",
          "data": {
            "text/plain": [
              "<tf.Tensor: shape=(4, 4), dtype=float32, numpy=\n",
              "array([[1., 0., 0., 0.],\n",
              "       [0., 1., 0., 0.],\n",
              "       [0., 0., 1., 0.],\n",
              "       [0., 0., 0., 1.]], dtype=float32)>"
            ]
          },
          "metadata": {
            "tags": []
          },
          "execution_count": 95
        }
      ]
    },
    {
      "cell_type": "code",
      "metadata": {
        "colab": {
          "base_uri": "https://localhost:8080/"
        },
        "id": "RdF4oPJW7Uck",
        "outputId": "73f961fc-fb7c-4522-be0a-e6e0520f7e18"
      },
      "source": [
        "#specify custom values for one hot ecoding\n",
        "tf.one_hot(some_list,on_value=\"i like deep learning\", off_value=\"i like to l=play cricket\",depth=4)"
      ],
      "execution_count": 96,
      "outputs": [
        {
          "output_type": "execute_result",
          "data": {
            "text/plain": [
              "<tf.Tensor: shape=(4, 4), dtype=string, numpy=\n",
              "array([[b'i like deep learning', b'i like to l=play cricket',\n",
              "        b'i like to l=play cricket', b'i like to l=play cricket'],\n",
              "       [b'i like to l=play cricket', b'i like deep learning',\n",
              "        b'i like to l=play cricket', b'i like to l=play cricket'],\n",
              "       [b'i like to l=play cricket', b'i like to l=play cricket',\n",
              "        b'i like deep learning', b'i like to l=play cricket'],\n",
              "       [b'i like to l=play cricket', b'i like to l=play cricket',\n",
              "        b'i like to l=play cricket', b'i like deep learning']],\n",
              "      dtype=object)>"
            ]
          },
          "metadata": {
            "tags": []
          },
          "execution_count": 96
        }
      ]
    },
    {
      "cell_type": "markdown",
      "metadata": {
        "id": "xhxcnbCr7wjp"
      },
      "source": [
        "###Squering,Squre Root ,Log"
      ]
    },
    {
      "cell_type": "code",
      "metadata": {
        "colab": {
          "base_uri": "https://localhost:8080/"
        },
        "id": "vhi8EvUw8G89",
        "outputId": "418fefff-8de9-4874-96cc-d92578144888"
      },
      "source": [
        "#create a new tensor\n",
        "H =tf.range(1,10)\n",
        "H"
      ],
      "execution_count": 97,
      "outputs": [
        {
          "output_type": "execute_result",
          "data": {
            "text/plain": [
              "<tf.Tensor: shape=(9,), dtype=int32, numpy=array([1, 2, 3, 4, 5, 6, 7, 8, 9], dtype=int32)>"
            ]
          },
          "metadata": {
            "tags": []
          },
          "execution_count": 97
        }
      ]
    },
    {
      "cell_type": "code",
      "metadata": {
        "colab": {
          "base_uri": "https://localhost:8080/"
        },
        "id": "1tB3Bnng8NcW",
        "outputId": "039cb8b9-c6e2-4f1b-93cf-7fe9d96b80fe"
      },
      "source": [
        "#squre it\n",
        "tf.square(H)"
      ],
      "execution_count": 98,
      "outputs": [
        {
          "output_type": "execute_result",
          "data": {
            "text/plain": [
              "<tf.Tensor: shape=(9,), dtype=int32, numpy=array([ 1,  4,  9, 16, 25, 36, 49, 64, 81], dtype=int32)>"
            ]
          },
          "metadata": {
            "tags": []
          },
          "execution_count": 98
        }
      ]
    },
    {
      "cell_type": "code",
      "metadata": {
        "colab": {
          "base_uri": "https://localhost:8080/"
        },
        "id": "FQQeIVoV8UEm",
        "outputId": "eedebe69-4b91-45f7-a75f-97cbd4b0b389"
      },
      "source": [
        "#find the squreroot\n",
        "tf.sqrt(tf.cast(H,dtype=tf.float32))"
      ],
      "execution_count": 99,
      "outputs": [
        {
          "output_type": "execute_result",
          "data": {
            "text/plain": [
              "<tf.Tensor: shape=(9,), dtype=float32, numpy=\n",
              "array([1.       , 1.4142135, 1.7320508, 2.       , 2.236068 , 2.4494898,\n",
              "       2.6457512, 2.828427 , 3.       ], dtype=float32)>"
            ]
          },
          "metadata": {
            "tags": []
          },
          "execution_count": 99
        }
      ]
    },
    {
      "cell_type": "code",
      "metadata": {
        "colab": {
          "base_uri": "https://localhost:8080/"
        },
        "id": "cBtZ6Slu8iht",
        "outputId": "fb61f55f-26e5-45a3-c7ef-de77e4d24019"
      },
      "source": [
        "#find the log\n",
        "tf.math.log(tf.cast(H,dtype=tf.float32))"
      ],
      "execution_count": 100,
      "outputs": [
        {
          "output_type": "execute_result",
          "data": {
            "text/plain": [
              "<tf.Tensor: shape=(9,), dtype=float32, numpy=\n",
              "array([0.       , 0.6931472, 1.0986123, 1.3862944, 1.609438 , 1.7917595,\n",
              "       1.9459102, 2.0794415, 2.1972246], dtype=float32)>"
            ]
          },
          "metadata": {
            "tags": []
          },
          "execution_count": 100
        }
      ]
    },
    {
      "cell_type": "markdown",
      "metadata": {
        "id": "Cpl6LHfC8-lc"
      },
      "source": [
        "###Tensors and NumPy\n",
        "\n",
        "Tenserflow interects beauifully with NumPy array"
      ]
    },
    {
      "cell_type": "code",
      "metadata": {
        "colab": {
          "base_uri": "https://localhost:8080/"
        },
        "id": "DfyZmzIb9TKA",
        "outputId": "eca9fd93-b6c0-4fd0-96fa-0df39555cfaa"
      },
      "source": [
        "#create a tensor directly from numpy\n",
        "J =tf.constant(np.array([3.,7.,10.]))\n",
        "J"
      ],
      "execution_count": 101,
      "outputs": [
        {
          "output_type": "execute_result",
          "data": {
            "text/plain": [
              "<tf.Tensor: shape=(3,), dtype=float64, numpy=array([ 3.,  7., 10.])>"
            ]
          },
          "metadata": {
            "tags": []
          },
          "execution_count": 101
        }
      ]
    },
    {
      "cell_type": "code",
      "metadata": {
        "colab": {
          "base_uri": "https://localhost:8080/"
        },
        "id": "umwjws5w9TEj",
        "outputId": "54d4903e-59ae-4477-fb42-9b40024449fe"
      },
      "source": [
        "#convert or tensor back to numpy array\n",
        "np.array(J) ,type(np.array(J))"
      ],
      "execution_count": 102,
      "outputs": [
        {
          "output_type": "execute_result",
          "data": {
            "text/plain": [
              "(array([ 3.,  7., 10.]), numpy.ndarray)"
            ]
          },
          "metadata": {
            "tags": []
          },
          "execution_count": 102
        }
      ]
    },
    {
      "cell_type": "code",
      "metadata": {
        "colab": {
          "base_uri": "https://localhost:8080/"
        },
        "id": "31_GhLSA93ND",
        "outputId": "50c311df-578e-44ca-d3ed-deac8363377e"
      },
      "source": [
        "J=tf.constant([3.])\n",
        "J.numpy()[0]\n"
      ],
      "execution_count": 103,
      "outputs": [
        {
          "output_type": "execute_result",
          "data": {
            "text/plain": [
              "3.0"
            ]
          },
          "metadata": {
            "tags": []
          },
          "execution_count": 103
        }
      ]
    },
    {
      "cell_type": "code",
      "metadata": {
        "colab": {
          "base_uri": "https://localhost:8080/"
        },
        "id": "gDxdRZJ999sL",
        "outputId": "210bc049-1e5e-483c-b0ea-d8b118975f48"
      },
      "source": [
        "#default types\n",
        "numpy_j=tf.constant(np.array([3.,7.,10.]))\n",
        "tensor_j=tf.constant([3.,7.,10.])\n",
        "\n",
        "#check the datatypes of each\n",
        "numpy_j.dtype,tensor_j.dtype"
      ],
      "execution_count": 104,
      "outputs": [
        {
          "output_type": "execute_result",
          "data": {
            "text/plain": [
              "(tf.float64, tf.float32)"
            ]
          },
          "metadata": {
            "tags": []
          },
          "execution_count": 104
        }
      ]
    },
    {
      "cell_type": "markdown",
      "metadata": {
        "id": "juYjm_dl-S2p"
      },
      "source": [
        "###Finding the Access to GPU"
      ]
    },
    {
      "cell_type": "code",
      "metadata": {
        "colab": {
          "base_uri": "https://localhost:8080/"
        },
        "id": "y9pu4Zr5_J2u",
        "outputId": "7d3fb949-d273-46e0-f429-e2a9b7d8bcd1"
      },
      "source": [
        "tf.config.list_physical_devices(\"GPU\")"
      ],
      "execution_count": 105,
      "outputs": [
        {
          "output_type": "execute_result",
          "data": {
            "text/plain": [
              "[PhysicalDevice(name='/physical_device:GPU:0', device_type='GPU')]"
            ]
          },
          "metadata": {
            "tags": []
          },
          "execution_count": 105
        }
      ]
    },
    {
      "cell_type": "code",
      "metadata": {
        "colab": {
          "base_uri": "https://localhost:8080/"
        },
        "id": "v2AN1GAa_JtI",
        "outputId": "7b0bb68e-7bba-421e-ddd1-36e0c919d43b"
      },
      "source": [
        "tf.config.list_physical_devices()"
      ],
      "execution_count": 106,
      "outputs": [
        {
          "output_type": "execute_result",
          "data": {
            "text/plain": [
              "[PhysicalDevice(name='/physical_device:CPU:0', device_type='CPU'),\n",
              " PhysicalDevice(name='/physical_device:GPU:0', device_type='GPU')]"
            ]
          },
          "metadata": {
            "tags": []
          },
          "execution_count": 106
        }
      ]
    },
    {
      "cell_type": "code",
      "metadata": {
        "colab": {
          "base_uri": "https://localhost:8080/"
        },
        "id": "KbZDQrZTAKS1",
        "outputId": "8d93ed31-e9fe-4582-f883-81736f193731"
      },
      "source": [
        "!nvidia-smi"
      ],
      "execution_count": 107,
      "outputs": [
        {
          "output_type": "stream",
          "text": [
            "Sat Jun  5 07:08:57 2021       \n",
            "+-----------------------------------------------------------------------------+\n",
            "| NVIDIA-SMI 465.27       Driver Version: 460.32.03    CUDA Version: 11.2     |\n",
            "|-------------------------------+----------------------+----------------------+\n",
            "| GPU  Name        Persistence-M| Bus-Id        Disp.A | Volatile Uncorr. ECC |\n",
            "| Fan  Temp  Perf  Pwr:Usage/Cap|         Memory-Usage | GPU-Util  Compute M. |\n",
            "|                               |                      |               MIG M. |\n",
            "|===============================+======================+======================|\n",
            "|   0  Tesla T4            Off  | 00000000:00:04.0 Off |                    0 |\n",
            "| N/A   45C    P0    27W /  70W |    224MiB / 15109MiB |      0%      Default |\n",
            "|                               |                      |                  N/A |\n",
            "+-------------------------------+----------------------+----------------------+\n",
            "                                                                               \n",
            "+-----------------------------------------------------------------------------+\n",
            "| Processes:                                                                  |\n",
            "|  GPU   GI   CI        PID   Type   Process name                  GPU Memory |\n",
            "|        ID   ID                                                   Usage      |\n",
            "|=============================================================================|\n",
            "+-----------------------------------------------------------------------------+\n"
          ],
          "name": "stdout"
        }
      ]
    },
    {
      "cell_type": "markdown",
      "metadata": {
        "id": "vuLSqXFVAayr"
      },
      "source": [
        "If you  have a acess to a Cuda -enabled GPU ,Tenserfloe use it whenever it possible"
      ]
    },
    {
      "cell_type": "code",
      "metadata": {
        "id": "KjWHLjMRANV1"
      },
      "source": [
        ""
      ],
      "execution_count": null,
      "outputs": []
    }
  ]
}