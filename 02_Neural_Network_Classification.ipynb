{
  "nbformat": 4,
  "nbformat_minor": 0,
  "metadata": {
    "colab": {
      "name": "02-Neural_Network_Classification.ipynb",
      "provenance": [],
      "toc_visible": true
    },
    "kernelspec": {
      "name": "python3",
      "display_name": "Python 3"
    },
    "language_info": {
      "name": "python"
    }
  },
  "cells": [
    {
      "cell_type": "markdown",
      "metadata": {
        "id": "q5CiKQ-cbgOW"
      },
      "source": [
        "##Introduction to Neural Network Classificaion with Tenserflow\n",
        "\n",
        "A Classfication problem is try to classify things \n",
        "\n",
        "*Binary Classifation\n",
        "\n",
        "*Multiclass Classfication\n",
        "\n",
        "*Multilabel Classcification "
      ]
    },
    {
      "cell_type": "markdown",
      "metadata": {
        "id": "xetuIbodb9Og"
      },
      "source": [
        "##Creating data and view and Edit"
      ]
    },
    {
      "cell_type": "code",
      "metadata": {
        "id": "RfnNpHhRcDa9"
      },
      "source": [
        "from sklearn.datasets import make_circles\n",
        "\n",
        "#make 1000 examples\n",
        "n_samples=1000\n",
        "\n",
        "#create circles\n",
        "X,y=make_circles(n_samples,\n",
        "                  noise=0.03,\n",
        "                  random_state=42)"
      ],
      "execution_count": 4,
      "outputs": []
    },
    {
      "cell_type": "code",
      "metadata": {
        "colab": {
          "base_uri": "https://localhost:8080/"
        },
        "id": "_v4aUVuGcRzl",
        "outputId": "6b2ed0fd-e424-4724-dda6-d63ec0b20561"
      },
      "source": [
        "#check out the features\n",
        "X"
      ],
      "execution_count": 5,
      "outputs": [
        {
          "output_type": "execute_result",
          "data": {
            "text/plain": [
              "array([[ 0.75424625,  0.23148074],\n",
              "       [-0.75615888,  0.15325888],\n",
              "       [-0.81539193,  0.17328203],\n",
              "       ...,\n",
              "       [-0.13690036, -0.81001183],\n",
              "       [ 0.67036156, -0.76750154],\n",
              "       [ 0.28105665,  0.96382443]])"
            ]
          },
          "metadata": {
            "tags": []
          },
          "execution_count": 5
        }
      ]
    },
    {
      "cell_type": "code",
      "metadata": {
        "colab": {
          "base_uri": "https://localhost:8080/"
        },
        "id": "FEMIjgvjcs9L",
        "outputId": "9291a774-aec3-4a02-957a-61e51e71cb18"
      },
      "source": [
        "#check the labels\n",
        "y"
      ],
      "execution_count": 6,
      "outputs": [
        {
          "output_type": "execute_result",
          "data": {
            "text/plain": [
              "array([1, 1, 1, 1, 0, 1, 1, 1, 1, 0, 1, 0, 1, 1, 1, 1, 0, 1, 1, 0, 1, 0,\n",
              "       0, 1, 0, 0, 0, 1, 1, 1, 0, 0, 1, 0, 0, 0, 1, 1, 1, 0, 0, 0, 0, 1,\n",
              "       0, 0, 1, 1, 0, 1, 1, 1, 0, 1, 0, 0, 1, 0, 0, 1, 0, 0, 1, 0, 1, 1,\n",
              "       1, 1, 0, 1, 0, 0, 1, 1, 0, 0, 1, 0, 1, 0, 1, 0, 0, 0, 0, 1, 1, 1,\n",
              "       1, 0, 0, 0, 1, 0, 1, 0, 1, 0, 0, 1, 1, 0, 1, 0, 1, 1, 1, 1, 0, 1,\n",
              "       1, 1, 1, 1, 0, 0, 0, 1, 1, 0, 1, 0, 1, 0, 0, 1, 1, 0, 1, 1, 1, 1,\n",
              "       0, 1, 1, 0, 0, 0, 0, 0, 0, 0, 1, 0, 1, 1, 1, 0, 1, 0, 1, 0, 1, 0,\n",
              "       1, 0, 0, 1, 0, 1, 1, 1, 1, 1, 1, 1, 0, 1, 0, 0, 0, 0, 0, 1, 0, 0,\n",
              "       0, 0, 1, 1, 0, 1, 0, 1, 1, 0, 0, 0, 1, 1, 1, 1, 1, 0, 0, 0, 0, 0,\n",
              "       1, 0, 0, 1, 1, 1, 1, 1, 0, 1, 0, 1, 0, 0, 1, 1, 1, 0, 1, 0, 1, 1,\n",
              "       0, 1, 1, 0, 1, 0, 1, 0, 1, 1, 0, 1, 0, 1, 0, 0, 0, 1, 0, 0, 0, 0,\n",
              "       1, 1, 0, 0, 0, 0, 0, 0, 0, 1, 1, 1, 0, 0, 1, 1, 1, 0, 1, 0, 0, 0,\n",
              "       0, 1, 1, 0, 1, 0, 0, 0, 1, 0, 1, 0, 0, 1, 0, 1, 1, 1, 0, 0, 0, 1,\n",
              "       0, 0, 0, 1, 1, 1, 1, 0, 0, 0, 1, 0, 0, 0, 1, 0, 0, 0, 1, 1, 0, 1,\n",
              "       1, 1, 1, 1, 1, 1, 0, 0, 0, 0, 1, 0, 0, 0, 0, 1, 1, 1, 0, 0, 1, 0,\n",
              "       1, 0, 1, 1, 0, 0, 1, 1, 1, 1, 0, 0, 0, 0, 0, 0, 1, 1, 0, 1, 0, 0,\n",
              "       1, 0, 0, 0, 0, 0, 0, 0, 0, 1, 0, 0, 0, 0, 1, 0, 0, 1, 0, 1, 0, 0,\n",
              "       0, 1, 0, 0, 1, 1, 0, 0, 1, 0, 0, 1, 1, 0, 1, 1, 0, 0, 1, 0, 1, 0,\n",
              "       0, 0, 1, 1, 0, 0, 1, 1, 1, 1, 1, 0, 0, 1, 1, 1, 1, 0, 1, 1, 1, 1,\n",
              "       1, 0, 0, 1, 0, 1, 0, 0, 0, 0, 1, 0, 0, 0, 0, 0, 0, 0, 0, 0, 1, 1,\n",
              "       0, 1, 1, 1, 1, 1, 1, 0, 1, 1, 1, 1, 0, 0, 0, 1, 1, 1, 0, 0, 0, 0,\n",
              "       1, 1, 0, 0, 0, 0, 1, 0, 0, 0, 1, 0, 0, 1, 1, 1, 1, 1, 1, 0, 0, 0,\n",
              "       1, 0, 0, 0, 0, 0, 1, 1, 1, 0, 0, 0, 0, 0, 1, 1, 1, 0, 0, 1, 1, 1,\n",
              "       1, 0, 1, 1, 0, 1, 0, 0, 0, 1, 0, 0, 1, 0, 0, 1, 1, 0, 0, 1, 1, 0,\n",
              "       1, 0, 1, 0, 1, 0, 1, 0, 0, 0, 1, 0, 0, 0, 0, 0, 0, 1, 1, 1, 1, 0,\n",
              "       0, 0, 1, 0, 1, 1, 0, 0, 0, 0, 0, 1, 1, 1, 0, 0, 1, 0, 0, 1, 0, 0,\n",
              "       1, 0, 0, 1, 0, 0, 0, 1, 0, 0, 1, 1, 1, 0, 1, 1, 0, 0, 0, 1, 1, 1,\n",
              "       1, 0, 0, 1, 1, 1, 0, 0, 0, 0, 1, 1, 0, 0, 1, 1, 0, 0, 1, 1, 1, 1,\n",
              "       1, 1, 1, 0, 1, 0, 1, 0, 0, 1, 0, 1, 1, 1, 1, 0, 0, 1, 1, 0, 0, 1,\n",
              "       0, 1, 0, 0, 0, 1, 0, 0, 1, 1, 1, 1, 0, 1, 1, 1, 1, 1, 1, 1, 0, 1,\n",
              "       0, 1, 1, 1, 0, 0, 1, 0, 0, 0, 1, 1, 1, 1, 0, 0, 0, 0, 1, 0, 1, 1,\n",
              "       1, 0, 1, 0, 0, 1, 0, 0, 1, 1, 1, 1, 1, 0, 1, 0, 0, 0, 1, 1, 1, 1,\n",
              "       1, 0, 0, 0, 1, 1, 1, 1, 0, 0, 0, 0, 0, 1, 1, 0, 1, 0, 1, 0, 0, 0,\n",
              "       0, 0, 0, 0, 0, 0, 1, 1, 1, 1, 1, 0, 1, 0, 1, 1, 1, 1, 0, 1, 1, 1,\n",
              "       1, 1, 1, 1, 1, 0, 1, 1, 0, 1, 0, 0, 0, 1, 0, 1, 1, 1, 0, 1, 1, 0,\n",
              "       1, 1, 0, 1, 0, 1, 1, 0, 0, 1, 1, 1, 0, 0, 0, 0, 1, 1, 0, 0, 1, 1,\n",
              "       1, 1, 1, 1, 1, 1, 1, 1, 1, 1, 1, 1, 0, 0, 1, 0, 1, 0, 1, 0, 1, 1,\n",
              "       1, 1, 1, 1, 0, 1, 0, 1, 1, 1, 0, 1, 1, 0, 0, 1, 0, 1, 1, 0, 0, 1,\n",
              "       1, 1, 1, 1, 1, 1, 1, 0, 1, 1, 1, 0, 1, 0, 0, 1, 1, 0, 0, 0, 1, 0,\n",
              "       0, 1, 0, 0, 0, 1, 0, 1, 0, 0, 0, 0, 1, 0, 1, 1, 1, 1, 0, 1, 0, 0,\n",
              "       0, 0, 0, 0, 1, 0, 1, 0, 1, 0, 1, 1, 1, 0, 1, 0, 1, 0, 0, 1, 1, 1,\n",
              "       0, 0, 0, 1, 1, 0, 1, 0, 1, 1, 0, 1, 0, 0, 1, 1, 1, 0, 0, 0, 1, 1,\n",
              "       0, 0, 0, 0, 0, 1, 1, 0, 1, 0, 0, 0, 1, 0, 0, 0, 1, 1, 1, 1, 0, 1,\n",
              "       1, 1, 0, 1, 1, 1, 1, 0, 1, 1, 0, 1, 1, 0, 0, 1, 1, 1, 0, 0, 0, 0,\n",
              "       0, 0, 1, 0, 0, 1, 0, 0, 0, 1, 0, 1, 0, 1, 1, 0, 0, 0, 0, 0, 0, 0,\n",
              "       0, 1, 0, 1, 0, 0, 0, 1, 0, 0])"
            ]
          },
          "metadata": {
            "tags": []
          },
          "execution_count": 6
        }
      ]
    },
    {
      "cell_type": "markdown",
      "metadata": {
        "id": "a8Lxl8-IcvRQ"
      },
      "source": [
        "Data is little hard to understand, we need to visulaize them"
      ]
    },
    {
      "cell_type": "code",
      "metadata": {
        "colab": {
          "base_uri": "https://localhost:8080/",
          "height": 417
        },
        "id": "W-bedw7uc1yV",
        "outputId": "58b5aa00-deff-4348-a00b-d09ddf37f7af"
      },
      "source": [
        "import pandas as pd\n",
        "\n",
        "circles =pd.DataFrame({\"X0\":X[:,0],\"X1\":X[:,1],\"label\":y})\n",
        "circles"
      ],
      "execution_count": 9,
      "outputs": [
        {
          "output_type": "execute_result",
          "data": {
            "text/html": [
              "<div>\n",
              "<style scoped>\n",
              "    .dataframe tbody tr th:only-of-type {\n",
              "        vertical-align: middle;\n",
              "    }\n",
              "\n",
              "    .dataframe tbody tr th {\n",
              "        vertical-align: top;\n",
              "    }\n",
              "\n",
              "    .dataframe thead th {\n",
              "        text-align: right;\n",
              "    }\n",
              "</style>\n",
              "<table border=\"1\" class=\"dataframe\">\n",
              "  <thead>\n",
              "    <tr style=\"text-align: right;\">\n",
              "      <th></th>\n",
              "      <th>X0</th>\n",
              "      <th>X1</th>\n",
              "      <th>label</th>\n",
              "    </tr>\n",
              "  </thead>\n",
              "  <tbody>\n",
              "    <tr>\n",
              "      <th>0</th>\n",
              "      <td>0.754246</td>\n",
              "      <td>0.231481</td>\n",
              "      <td>1</td>\n",
              "    </tr>\n",
              "    <tr>\n",
              "      <th>1</th>\n",
              "      <td>-0.756159</td>\n",
              "      <td>0.153259</td>\n",
              "      <td>1</td>\n",
              "    </tr>\n",
              "    <tr>\n",
              "      <th>2</th>\n",
              "      <td>-0.815392</td>\n",
              "      <td>0.173282</td>\n",
              "      <td>1</td>\n",
              "    </tr>\n",
              "    <tr>\n",
              "      <th>3</th>\n",
              "      <td>-0.393731</td>\n",
              "      <td>0.692883</td>\n",
              "      <td>1</td>\n",
              "    </tr>\n",
              "    <tr>\n",
              "      <th>4</th>\n",
              "      <td>0.442208</td>\n",
              "      <td>-0.896723</td>\n",
              "      <td>0</td>\n",
              "    </tr>\n",
              "    <tr>\n",
              "      <th>...</th>\n",
              "      <td>...</td>\n",
              "      <td>...</td>\n",
              "      <td>...</td>\n",
              "    </tr>\n",
              "    <tr>\n",
              "      <th>995</th>\n",
              "      <td>0.244054</td>\n",
              "      <td>0.944125</td>\n",
              "      <td>0</td>\n",
              "    </tr>\n",
              "    <tr>\n",
              "      <th>996</th>\n",
              "      <td>-0.978655</td>\n",
              "      <td>-0.272373</td>\n",
              "      <td>0</td>\n",
              "    </tr>\n",
              "    <tr>\n",
              "      <th>997</th>\n",
              "      <td>-0.136900</td>\n",
              "      <td>-0.810012</td>\n",
              "      <td>1</td>\n",
              "    </tr>\n",
              "    <tr>\n",
              "      <th>998</th>\n",
              "      <td>0.670362</td>\n",
              "      <td>-0.767502</td>\n",
              "      <td>0</td>\n",
              "    </tr>\n",
              "    <tr>\n",
              "      <th>999</th>\n",
              "      <td>0.281057</td>\n",
              "      <td>0.963824</td>\n",
              "      <td>0</td>\n",
              "    </tr>\n",
              "  </tbody>\n",
              "</table>\n",
              "<p>1000 rows × 3 columns</p>\n",
              "</div>"
            ],
            "text/plain": [
              "           X0        X1  label\n",
              "0    0.754246  0.231481      1\n",
              "1   -0.756159  0.153259      1\n",
              "2   -0.815392  0.173282      1\n",
              "3   -0.393731  0.692883      1\n",
              "4    0.442208 -0.896723      0\n",
              "..        ...       ...    ...\n",
              "995  0.244054  0.944125      0\n",
              "996 -0.978655 -0.272373      0\n",
              "997 -0.136900 -0.810012      1\n",
              "998  0.670362 -0.767502      0\n",
              "999  0.281057  0.963824      0\n",
              "\n",
              "[1000 rows x 3 columns]"
            ]
          },
          "metadata": {
            "tags": []
          },
          "execution_count": 9
        }
      ]
    },
    {
      "cell_type": "markdown",
      "metadata": {
        "id": "T7S3u8ZKdhVo"
      },
      "source": [
        "##Visualize with plot"
      ]
    },
    {
      "cell_type": "code",
      "metadata": {
        "colab": {
          "base_uri": "https://localhost:8080/",
          "height": 282
        },
        "id": "J5uQXin7dvvc",
        "outputId": "7c48e65d-cab3-49dd-e5be-3564f0ac4141"
      },
      "source": [
        "#scatter plot\n",
        "import matplotlib.pyplot as plt\n",
        "\n",
        "plt.scatter(X[:,0],X[:,1],c=y,cmap=plt.cm.RdYlBu)"
      ],
      "execution_count": 11,
      "outputs": [
        {
          "output_type": "execute_result",
          "data": {
            "text/plain": [
              "<matplotlib.collections.PathCollection at 0x7fcc1eca04d0>"
            ]
          },
          "metadata": {
            "tags": []
          },
          "execution_count": 11
        },
        {
          "output_type": "display_data",
          "data": {
            "image/png": "[encoded data removed]",
            "text/plain": [
              "<Figure size 432x288 with 1 Axes>"
            ]
          },
          "metadata": {
            "tags": [],
            "needs_background": "light"
          }
        }
      ]
    },
    {
      "cell_type": "markdown",
      "metadata": {
        "id": "Y6oiImMHeBMF"
      },
      "source": [
        "##Input and Output Shape"
      ]
    },
    {
      "cell_type": "code",
      "metadata": {
        "colab": {
          "base_uri": "https://localhost:8080/"
        },
        "id": "0Y-ftrHQhPrR",
        "outputId": "51d03fe0-fca4-443b-a2d6-0b0e8e82f530"
      },
      "source": [
        "#check the input and output shape\n",
        "X.shape,y.shape"
      ],
      "execution_count": 12,
      "outputs": [
        {
          "output_type": "execute_result",
          "data": {
            "text/plain": [
              "((1000, 2), (1000,))"
            ]
          },
          "metadata": {
            "tags": []
          },
          "execution_count": 12
        }
      ]
    },
    {
      "cell_type": "markdown",
      "metadata": {
        "id": "cnDh5g2zhUbG"
      },
      "source": [
        "##Steps in Modelling\n",
        "\n",
        "1.create or import the model\n",
        "\n",
        "2.compile the model\n",
        "\n",
        "3.Fit the model\n",
        "\n",
        "4.Evaluate the model\n",
        "\n",
        "5.Tweak\n",
        "\n",
        "6.Evalaute"
      ]
    },
    {
      "cell_type": "code",
      "metadata": {
        "id": "LOrg9easho9f"
      },
      "source": [
        "#spit the data\n",
        "from sklearn.model_selection import train_test_split\n",
        "\n",
        "X_train,X_test,y_train,y_test =train_test_split(X,y,test_size=0.2,random_state=42)\n",
        "\n"
      ],
      "execution_count": 53,
      "outputs": []
    },
    {
      "cell_type": "code",
      "metadata": {
        "colab": {
          "base_uri": "https://localhost:8080/"
        },
        "id": "5WKmM2OuiveX",
        "outputId": "8cff2ca9-86b7-4823-8007-9be7acab588a"
      },
      "source": [
        "len(X_train),len(X_test),len(y_train),len(y_test)"
      ],
      "execution_count": 54,
      "outputs": [
        {
          "output_type": "execute_result",
          "data": {
            "text/plain": [
              "(800, 200, 800, 200)"
            ]
          },
          "metadata": {
            "tags": []
          },
          "execution_count": 54
        }
      ]
    },
    {
      "cell_type": "code",
      "metadata": {
        "colab": {
          "base_uri": "https://localhost:8080/"
        },
        "id": "5mZ76wf4moub",
        "outputId": "75c2a7cf-0b67-4f70-96e4-66ec722dd48c"
      },
      "source": [
        "X_train.shape,y_train.shape"
      ],
      "execution_count": 55,
      "outputs": [
        {
          "output_type": "execute_result",
          "data": {
            "text/plain": [
              "((800, 2), (800,))"
            ]
          },
          "metadata": {
            "tags": []
          },
          "execution_count": 55
        }
      ]
    },
    {
      "cell_type": "code",
      "metadata": {
        "id": "5f3bZCj-i4-r"
      },
      "source": [
        "import tensorflow as tf\n"
      ],
      "execution_count": 56,
      "outputs": []
    },
    {
      "cell_type": "code",
      "metadata": {
        "colab": {
          "base_uri": "https://localhost:8080/"
        },
        "id": "7Shd6_YEjIOy",
        "outputId": "e7cf72d7-f8c5-4834-e381-f384845067f3"
      },
      "source": [
        "#create the model\n",
        "model =tf.keras.Sequential([\n",
        "                            tf.keras.layers.Dense(100,activation=\"relu\")\n",
        "])\n",
        "\n",
        "#compile the model\n",
        "model.compile(loss=tf.keras.losses.BinaryCrossentropy(),\n",
        "              optimizer=tf.keras.optimizers.Adam(),\n",
        "              metrics=[\"accuracy\"])\n",
        "\n",
        "#fit the model\n",
        "model.fit(X,y,epochs=50)\n",
        "\n",
        "#evaluate the model\n",
        "model.evaluate(X_test,y_test)"
      ],
      "execution_count": 57,
      "outputs": [
        {
          "output_type": "stream",
          "text": [
            "Epoch 1/50\n",
            "32/32 [==============================] - 0s 2ms/step - loss: 4.3660 - accuracy: 0.0000e+00\n",
            "Epoch 2/50\n",
            "32/32 [==============================] - 0s 1ms/step - loss: 4.0342 - accuracy: 0.0000e+00\n",
            "Epoch 3/50\n",
            "32/32 [==============================] - 0s 1ms/step - loss: 3.7040 - accuracy: 0.0000e+00\n",
            "Epoch 4/50\n",
            "32/32 [==============================] - 0s 1ms/step - loss: 3.3213 - accuracy: 0.0000e+00\n",
            "Epoch 5/50\n",
            "32/32 [==============================] - 0s 1ms/step - loss: 3.0024 - accuracy: 0.0000e+00\n",
            "Epoch 6/50\n",
            "32/32 [==============================] - 0s 2ms/step - loss: 2.7051 - accuracy: 0.0000e+00\n",
            "Epoch 7/50\n",
            "32/32 [==============================] - 0s 1ms/step - loss: 2.4480 - accuracy: 0.0000e+00\n",
            "Epoch 8/50\n",
            "32/32 [==============================] - 0s 1ms/step - loss: 2.2704 - accuracy: 0.0000e+00\n",
            "Epoch 9/50\n",
            "32/32 [==============================] - 0s 1ms/step - loss: 2.1231 - accuracy: 0.0000e+00\n",
            "Epoch 10/50\n",
            "32/32 [==============================] - 0s 1ms/step - loss: 1.9773 - accuracy: 0.0000e+00\n",
            "Epoch 11/50\n",
            "32/32 [==============================] - 0s 2ms/step - loss: 1.8717 - accuracy: 0.0000e+00\n",
            "Epoch 12/50\n",
            "32/32 [==============================] - 0s 2ms/step - loss: 1.7723 - accuracy: 0.0000e+00\n",
            "Epoch 13/50\n",
            "32/32 [==============================] - 0s 1ms/step - loss: 1.6455 - accuracy: 0.0000e+00\n",
            "Epoch 14/50\n",
            "32/32 [==============================] - 0s 1ms/step - loss: 1.5436 - accuracy: 0.0000e+00\n",
            "Epoch 15/50\n",
            "32/32 [==============================] - 0s 2ms/step - loss: 1.4780 - accuracy: 0.0000e+00\n",
            "Epoch 16/50\n",
            "32/32 [==============================] - 0s 2ms/step - loss: 1.4277 - accuracy: 0.0000e+00\n",
            "Epoch 17/50\n",
            "32/32 [==============================] - 0s 1ms/step - loss: 1.3674 - accuracy: 0.0000e+00\n",
            "Epoch 18/50\n",
            "32/32 [==============================] - 0s 1ms/step - loss: 1.3139 - accuracy: 0.0000e+00\n",
            "Epoch 19/50\n",
            "32/32 [==============================] - 0s 2ms/step - loss: 1.2790 - accuracy: 0.0000e+00\n",
            "Epoch 20/50\n",
            "32/32 [==============================] - 0s 1ms/step - loss: 1.2388 - accuracy: 0.0000e+00\n",
            "Epoch 21/50\n",
            "32/32 [==============================] - 0s 1ms/step - loss: 1.2062 - accuracy: 0.0000e+00\n",
            "Epoch 22/50\n",
            "32/32 [==============================] - 0s 1ms/step - loss: 1.1829 - accuracy: 0.0000e+00\n",
            "Epoch 23/50\n",
            "32/32 [==============================] - 0s 1ms/step - loss: 1.1541 - accuracy: 0.0000e+00\n",
            "Epoch 24/50\n",
            "32/32 [==============================] - 0s 1ms/step - loss: 1.1225 - accuracy: 0.0000e+00\n",
            "Epoch 25/50\n",
            "32/32 [==============================] - 0s 1ms/step - loss: 1.0985 - accuracy: 0.0000e+00\n",
            "Epoch 26/50\n",
            "32/32 [==============================] - 0s 1ms/step - loss: 1.0820 - accuracy: 0.0000e+00\n",
            "Epoch 27/50\n",
            "32/32 [==============================] - 0s 1ms/step - loss: 1.0682 - accuracy: 0.0000e+00\n",
            "Epoch 28/50\n",
            "32/32 [==============================] - 0s 2ms/step - loss: 1.0522 - accuracy: 0.0000e+00\n",
            "Epoch 29/50\n",
            "32/32 [==============================] - 0s 1ms/step - loss: 1.0245 - accuracy: 0.0000e+00\n",
            "Epoch 30/50\n",
            "32/32 [==============================] - 0s 1ms/step - loss: 1.0059 - accuracy: 0.0000e+00\n",
            "Epoch 31/50\n",
            "32/32 [==============================] - 0s 2ms/step - loss: 0.9941 - accuracy: 0.0000e+00\n",
            "Epoch 32/50\n",
            "32/32 [==============================] - 0s 1ms/step - loss: 0.9817 - accuracy: 0.0010\n",
            "Epoch 33/50\n",
            "32/32 [==============================] - 0s 2ms/step - loss: 0.9730 - accuracy: 0.0020\n",
            "Epoch 34/50\n",
            "32/32 [==============================] - 0s 1ms/step - loss: 0.9640 - accuracy: 0.0050\n",
            "Epoch 35/50\n",
            "32/32 [==============================] - 0s 1ms/step - loss: 0.9558 - accuracy: 0.0100\n",
            "Epoch 36/50\n",
            "32/32 [==============================] - 0s 1ms/step - loss: 0.9451 - accuracy: 0.0160\n",
            "Epoch 37/50\n",
            "32/32 [==============================] - 0s 1ms/step - loss: 0.9323 - accuracy: 0.0210\n",
            "Epoch 38/50\n",
            "32/32 [==============================] - 0s 2ms/step - loss: 0.9243 - accuracy: 0.0240\n",
            "Epoch 39/50\n",
            "32/32 [==============================] - 0s 1ms/step - loss: 0.9167 - accuracy: 0.0320\n",
            "Epoch 40/50\n",
            "32/32 [==============================] - 0s 1ms/step - loss: 0.9079 - accuracy: 0.0410\n",
            "Epoch 41/50\n",
            "32/32 [==============================] - 0s 1ms/step - loss: 0.8948 - accuracy: 0.0530\n",
            "Epoch 42/50\n",
            "32/32 [==============================] - 0s 1ms/step - loss: 0.8883 - accuracy: 0.0600\n",
            "Epoch 43/50\n",
            "32/32 [==============================] - 0s 2ms/step - loss: 0.8833 - accuracy: 0.0700\n",
            "Epoch 44/50\n",
            "32/32 [==============================] - 0s 2ms/step - loss: 0.8786 - accuracy: 0.0790\n",
            "Epoch 45/50\n",
            "32/32 [==============================] - 0s 1ms/step - loss: 0.8741 - accuracy: 0.0950\n",
            "Epoch 46/50\n",
            "32/32 [==============================] - 0s 1ms/step - loss: 0.8697 - accuracy: 0.1200\n",
            "Epoch 47/50\n",
            "32/32 [==============================] - 0s 1ms/step - loss: 0.8655 - accuracy: 0.1480\n",
            "Epoch 48/50\n",
            "32/32 [==============================] - 0s 1ms/step - loss: 0.8613 - accuracy: 0.1640\n",
            "Epoch 49/50\n",
            "32/32 [==============================] - 0s 1ms/step - loss: 0.8573 - accuracy: 0.1820\n",
            "Epoch 50/50\n",
            "32/32 [==============================] - 0s 1ms/step - loss: 0.8534 - accuracy: 0.2150\n",
            "7/7 [==============================] - 0s 2ms/step - loss: 0.8510 - accuracy: 0.2250\n"
          ],
          "name": "stdout"
        },
        {
          "output_type": "execute_result",
          "data": {
            "text/plain": [
              "[0.8510363698005676, 0.22499999403953552]"
            ]
          },
          "metadata": {
            "tags": []
          },
          "execution_count": 57
        }
      ]
    },
    {
      "cell_type": "code",
      "metadata": {
        "colab": {
          "base_uri": "https://localhost:8080/"
        },
        "id": "bOOgkQegnC0g",
        "outputId": "2a0ef178-ac3a-408c-f27d-3fd7c5a94a9f"
      },
      "source": [
        "#set the random seed\n",
        "\n",
        "tf.random.set_seed(42)\n",
        "\n",
        "#craete the model\n",
        "model_1 =tf.keras.Sequential([\n",
        "                              tf.keras.layers.Dense(1)\n",
        "])\n",
        "\n",
        "#compile the model\n",
        "model_1.compile(loss=tf.keras.losses.BinaryCrossentropy(),\n",
        "                optimizer=tf.keras.optimizers.SGD(),\n",
        "                metrics=[\"accuracy\"])\n",
        "\n",
        "#fit the model\n",
        "model_1.fit(X,y,epochs=10)"
      ],
      "execution_count": 58,
      "outputs": [
        {
          "output_type": "stream",
          "text": [
            "Epoch 1/10\n",
            "32/32 [==============================] - 0s 1ms/step - loss: 2.8544 - accuracy: 0.4600\n",
            "Epoch 2/10\n",
            "32/32 [==============================] - 0s 1ms/step - loss: 0.7131 - accuracy: 0.5430\n",
            "Epoch 3/10\n",
            "32/32 [==============================] - 0s 1ms/step - loss: 0.6973 - accuracy: 0.5090\n",
            "Epoch 4/10\n",
            "32/32 [==============================] - 0s 1ms/step - loss: 0.6950 - accuracy: 0.5010\n",
            "Epoch 5/10\n",
            "32/32 [==============================] - 0s 1ms/step - loss: 0.6942 - accuracy: 0.4830\n",
            "Epoch 6/10\n",
            "32/32 [==============================] - 0s 1ms/step - loss: 0.6938 - accuracy: 0.4990\n",
            "Epoch 7/10\n",
            "32/32 [==============================] - 0s 1ms/step - loss: 0.6943 - accuracy: 0.4880\n",
            "Epoch 8/10\n",
            "32/32 [==============================] - 0s 1ms/step - loss: 0.6941 - accuracy: 0.4950\n",
            "Epoch 9/10\n",
            "32/32 [==============================] - 0s 1ms/step - loss: 0.6940 - accuracy: 0.4840\n",
            "Epoch 10/10\n",
            "32/32 [==============================] - 0s 1ms/step - loss: 0.6938 - accuracy: 0.4820\n"
          ],
          "name": "stdout"
        },
        {
          "output_type": "execute_result",
          "data": {
            "text/plain": [
              "<tensorflow.python.keras.callbacks.History at 0x7fcbdd0eaa90>"
            ]
          },
          "metadata": {
            "tags": []
          },
          "execution_count": 58
        }
      ]
    },
    {
      "cell_type": "code",
      "metadata": {
        "colab": {
          "base_uri": "https://localhost:8080/"
        },
        "id": "PrkEYoGRpbXk",
        "outputId": "0b6ab90a-e0f8-4bf3-b7ee-79a7cdbfb298"
      },
      "source": [
        "#improve the model\n",
        "model_1.fit(X,y,epochs=200,verbose=0)\n",
        "model_1.evaluate(X,y)"
      ],
      "execution_count": 59,
      "outputs": [
        {
          "output_type": "stream",
          "text": [
            "32/32 [==============================] - 0s 1ms/step - loss: 0.6935 - accuracy: 0.5000\n"
          ],
          "name": "stdout"
        },
        {
          "output_type": "execute_result",
          "data": {
            "text/plain": [
              "[0.6934829950332642, 0.5]"
            ]
          },
          "metadata": {
            "tags": []
          },
          "execution_count": 59
        }
      ]
    },
    {
      "cell_type": "markdown",
      "metadata": {
        "id": "W9nOKdQbq5T6"
      },
      "source": [
        "since we are working in binary classification,Model performing like guessing,Add another layer and incease the perfomnce"
      ]
    },
    {
      "cell_type": "code",
      "metadata": {
        "colab": {
          "base_uri": "https://localhost:8080/"
        },
        "id": "3Fjlizt-rK4m",
        "outputId": "49ebc560-6c41-4de6-c2d7-926aeab69666"
      },
      "source": [
        "#set the random seed\n",
        "tf.random.set_seed(42)\n",
        "\n",
        "#create the model\n",
        "\n",
        "model_2=tf.keras.Sequential([\n",
        "                             tf.keras.layers.Dense(10),\n",
        "                             tf.keras.layers.Dense(1)\n",
        "])\n",
        "\n",
        "#compile the model\n",
        "model_2.compile(loss=tf.keras.losses.BinaryCrossentropy(),\n",
        "                optimizer=tf.keras.optimizers.SGD(),\n",
        "                metrics=[\"accuracy\"])\n",
        "\n",
        "#fit the model\n",
        "model_2.fit(X,y,epochs=200)\n",
        "\n"
      ],
      "execution_count": 60,
      "outputs": [
        {
          "output_type": "stream",
          "text": [
            "Epoch 1/200\n",
            "32/32 [==============================] - 0s 1ms/step - loss: 1.8689 - accuracy: 0.4700\n",
            "Epoch 2/200\n",
            "32/32 [==============================] - 0s 1ms/step - loss: 0.6977 - accuracy: 0.5040\n",
            "Epoch 3/200\n",
            "32/32 [==============================] - 0s 1ms/step - loss: 0.6968 - accuracy: 0.4660\n",
            "Epoch 4/200\n",
            "32/32 [==============================] - 0s 1ms/step - loss: 0.6952 - accuracy: 0.4850\n",
            "Epoch 5/200\n",
            "32/32 [==============================] - 0s 1ms/step - loss: 0.6949 - accuracy: 0.4740\n",
            "Epoch 6/200\n",
            "32/32 [==============================] - 0s 1ms/step - loss: 0.6941 - accuracy: 0.5230\n",
            "Epoch 7/200\n",
            "32/32 [==============================] - 0s 1ms/step - loss: 0.6962 - accuracy: 0.4780\n",
            "Epoch 8/200\n",
            "32/32 [==============================] - 0s 1ms/step - loss: 0.6952 - accuracy: 0.4940\n",
            "Epoch 9/200\n",
            "32/32 [==============================] - 0s 1ms/step - loss: 0.6956 - accuracy: 0.4860\n",
            "Epoch 10/200\n",
            "32/32 [==============================] - 0s 1ms/step - loss: 0.6946 - accuracy: 0.4840\n",
            "Epoch 11/200\n",
            "32/32 [==============================] - 0s 2ms/step - loss: 0.6963 - accuracy: 0.4610\n",
            "Epoch 12/200\n",
            "32/32 [==============================] - 0s 1ms/step - loss: 0.6963 - accuracy: 0.4970\n",
            "Epoch 13/200\n",
            "32/32 [==============================] - 0s 1ms/step - loss: 0.6963 - accuracy: 0.4750\n",
            "Epoch 14/200\n",
            "32/32 [==============================] - 0s 1ms/step - loss: 0.6963 - accuracy: 0.4900\n",
            "Epoch 15/200\n",
            "32/32 [==============================] - 0s 1ms/step - loss: 0.6954 - accuracy: 0.4630\n",
            "Epoch 16/200\n",
            "32/32 [==============================] - 0s 1ms/step - loss: 0.6964 - accuracy: 0.4920\n",
            "Epoch 17/200\n",
            "32/32 [==============================] - 0s 1ms/step - loss: 0.6952 - accuracy: 0.5030\n",
            "Epoch 18/200\n",
            "32/32 [==============================] - 0s 1ms/step - loss: 0.6951 - accuracy: 0.4940\n",
            "Epoch 19/200\n",
            "32/32 [==============================] - 0s 1ms/step - loss: 0.6952 - accuracy: 0.5010\n",
            "Epoch 20/200\n",
            "32/32 [==============================] - 0s 2ms/step - loss: 0.6953 - accuracy: 0.4700\n",
            "Epoch 21/200\n",
            "32/32 [==============================] - 0s 1ms/step - loss: 0.6945 - accuracy: 0.4880\n",
            "Epoch 22/200\n",
            "32/32 [==============================] - 0s 1ms/step - loss: 0.6957 - accuracy: 0.4800\n",
            "Epoch 23/200\n",
            "32/32 [==============================] - 0s 1ms/step - loss: 0.6951 - accuracy: 0.4810\n",
            "Epoch 24/200\n",
            "32/32 [==============================] - 0s 1ms/step - loss: 0.6955 - accuracy: 0.4760\n",
            "Epoch 25/200\n",
            "32/32 [==============================] - 0s 1ms/step - loss: 0.6946 - accuracy: 0.4900\n",
            "Epoch 26/200\n",
            "32/32 [==============================] - 0s 1ms/step - loss: 0.6960 - accuracy: 0.4720\n",
            "Epoch 27/200\n",
            "32/32 [==============================] - 0s 1ms/step - loss: 0.6941 - accuracy: 0.4980\n",
            "Epoch 28/200\n",
            "32/32 [==============================] - 0s 1ms/step - loss: 0.6964 - accuracy: 0.4560\n",
            "Epoch 29/200\n",
            "32/32 [==============================] - 0s 1ms/step - loss: 0.6953 - accuracy: 0.4770\n",
            "Epoch 30/200\n",
            "32/32 [==============================] - 0s 1ms/step - loss: 0.6953 - accuracy: 0.4940\n",
            "Epoch 31/200\n",
            "32/32 [==============================] - 0s 1ms/step - loss: 0.6955 - accuracy: 0.5120\n",
            "Epoch 32/200\n",
            "32/32 [==============================] - 0s 1ms/step - loss: 0.6951 - accuracy: 0.4970\n",
            "Epoch 33/200\n",
            "32/32 [==============================] - 0s 1ms/step - loss: 0.6955 - accuracy: 0.4640\n",
            "Epoch 34/200\n",
            "32/32 [==============================] - 0s 1ms/step - loss: 0.6963 - accuracy: 0.4690\n",
            "Epoch 35/200\n",
            "32/32 [==============================] - 0s 1ms/step - loss: 0.6952 - accuracy: 0.5180\n",
            "Epoch 36/200\n",
            "32/32 [==============================] - 0s 1ms/step - loss: 0.6961 - accuracy: 0.4720\n",
            "Epoch 37/200\n",
            "32/32 [==============================] - 0s 1ms/step - loss: 0.6953 - accuracy: 0.4900\n",
            "Epoch 38/200\n",
            "32/32 [==============================] - 0s 1ms/step - loss: 0.6950 - accuracy: 0.4790\n",
            "Epoch 39/200\n",
            "32/32 [==============================] - 0s 1ms/step - loss: 0.6955 - accuracy: 0.4410\n",
            "Epoch 40/200\n",
            "32/32 [==============================] - 0s 1ms/step - loss: 0.6971 - accuracy: 0.4710\n",
            "Epoch 41/200\n",
            "32/32 [==============================] - 0s 1ms/step - loss: 0.6951 - accuracy: 0.4980\n",
            "Epoch 42/200\n",
            "32/32 [==============================] - 0s 1ms/step - loss: 0.6951 - accuracy: 0.4710\n",
            "Epoch 43/200\n",
            "32/32 [==============================] - 0s 1ms/step - loss: 0.6957 - accuracy: 0.4850\n",
            "Epoch 44/200\n",
            "32/32 [==============================] - 0s 1ms/step - loss: 0.6935 - accuracy: 0.5120\n",
            "Epoch 45/200\n",
            "32/32 [==============================] - 0s 1ms/step - loss: 0.6966 - accuracy: 0.4850\n",
            "Epoch 46/200\n",
            "32/32 [==============================] - 0s 1ms/step - loss: 0.6957 - accuracy: 0.4660\n",
            "Epoch 47/200\n",
            "32/32 [==============================] - 0s 1ms/step - loss: 0.6943 - accuracy: 0.5190\n",
            "Epoch 48/200\n",
            "32/32 [==============================] - 0s 1ms/step - loss: 0.6947 - accuracy: 0.4940\n",
            "Epoch 49/200\n",
            "32/32 [==============================] - 0s 1ms/step - loss: 0.6954 - accuracy: 0.4730\n",
            "Epoch 50/200\n",
            "32/32 [==============================] - 0s 1ms/step - loss: 0.6953 - accuracy: 0.4970\n",
            "Epoch 51/200\n",
            "32/32 [==============================] - 0s 1ms/step - loss: 0.6959 - accuracy: 0.4850\n",
            "Epoch 52/200\n",
            "32/32 [==============================] - 0s 1ms/step - loss: 0.6953 - accuracy: 0.5060\n",
            "Epoch 53/200\n",
            "32/32 [==============================] - 0s 1ms/step - loss: 0.6945 - accuracy: 0.4780\n",
            "Epoch 54/200\n",
            "32/32 [==============================] - 0s 1ms/step - loss: 0.6962 - accuracy: 0.4970\n",
            "Epoch 55/200\n",
            "32/32 [==============================] - 0s 1ms/step - loss: 0.6952 - accuracy: 0.5070\n",
            "Epoch 56/200\n",
            "32/32 [==============================] - 0s 2ms/step - loss: 0.6949 - accuracy: 0.4780\n",
            "Epoch 57/200\n",
            "32/32 [==============================] - 0s 1ms/step - loss: 0.6962 - accuracy: 0.4820\n",
            "Epoch 58/200\n",
            "32/32 [==============================] - 0s 1ms/step - loss: 0.6954 - accuracy: 0.4730\n",
            "Epoch 59/200\n",
            "32/32 [==============================] - 0s 1ms/step - loss: 0.6944 - accuracy: 0.5280\n",
            "Epoch 60/200\n",
            "32/32 [==============================] - 0s 2ms/step - loss: 0.6956 - accuracy: 0.5020\n",
            "Epoch 61/200\n",
            "32/32 [==============================] - 0s 2ms/step - loss: 0.6962 - accuracy: 0.4570\n",
            "Epoch 62/200\n",
            "32/32 [==============================] - 0s 1ms/step - loss: 0.6953 - accuracy: 0.4970\n",
            "Epoch 63/200\n",
            "32/32 [==============================] - 0s 1ms/step - loss: 0.6952 - accuracy: 0.4610\n",
            "Epoch 64/200\n",
            "32/32 [==============================] - 0s 1ms/step - loss: 0.6955 - accuracy: 0.4960\n",
            "Epoch 65/200\n",
            "32/32 [==============================] - 0s 1ms/step - loss: 0.6960 - accuracy: 0.4770\n",
            "Epoch 66/200\n",
            "32/32 [==============================] - 0s 1ms/step - loss: 0.6951 - accuracy: 0.4890\n",
            "Epoch 67/200\n",
            "32/32 [==============================] - 0s 2ms/step - loss: 0.6965 - accuracy: 0.4610\n",
            "Epoch 68/200\n",
            "32/32 [==============================] - 0s 1ms/step - loss: 0.6948 - accuracy: 0.4720\n",
            "Epoch 69/200\n",
            "32/32 [==============================] - 0s 1ms/step - loss: 0.6961 - accuracy: 0.4930\n",
            "Epoch 70/200\n",
            "32/32 [==============================] - 0s 1ms/step - loss: 0.6959 - accuracy: 0.4790\n",
            "Epoch 71/200\n",
            "32/32 [==============================] - 0s 1ms/step - loss: 0.6951 - accuracy: 0.4900\n",
            "Epoch 72/200\n",
            "32/32 [==============================] - 0s 2ms/step - loss: 0.6956 - accuracy: 0.4780\n",
            "Epoch 73/200\n",
            "32/32 [==============================] - 0s 1ms/step - loss: 0.6954 - accuracy: 0.5070\n",
            "Epoch 74/200\n",
            "32/32 [==============================] - 0s 1ms/step - loss: 0.6951 - accuracy: 0.5080\n",
            "Epoch 75/200\n",
            "32/32 [==============================] - 0s 1ms/step - loss: 0.6952 - accuracy: 0.4910\n",
            "Epoch 76/200\n",
            "32/32 [==============================] - 0s 1ms/step - loss: 0.6951 - accuracy: 0.5030\n",
            "Epoch 77/200\n",
            "32/32 [==============================] - 0s 1ms/step - loss: 0.6956 - accuracy: 0.4940\n",
            "Epoch 78/200\n",
            "32/32 [==============================] - 0s 1ms/step - loss: 0.6953 - accuracy: 0.4770\n",
            "Epoch 79/200\n",
            "32/32 [==============================] - 0s 2ms/step - loss: 0.6950 - accuracy: 0.5030\n",
            "Epoch 80/200\n",
            "32/32 [==============================] - 0s 1ms/step - loss: 0.6960 - accuracy: 0.4830\n",
            "Epoch 81/200\n",
            "32/32 [==============================] - 0s 1ms/step - loss: 0.6954 - accuracy: 0.4890\n",
            "Epoch 82/200\n",
            "32/32 [==============================] - 0s 1ms/step - loss: 0.6951 - accuracy: 0.4730\n",
            "Epoch 83/200\n",
            "32/32 [==============================] - 0s 1ms/step - loss: 0.6949 - accuracy: 0.4780\n",
            "Epoch 84/200\n",
            "32/32 [==============================] - 0s 1ms/step - loss: 0.6961 - accuracy: 0.4850\n",
            "Epoch 85/200\n",
            "32/32 [==============================] - 0s 1ms/step - loss: 0.6950 - accuracy: 0.4920\n",
            "Epoch 86/200\n",
            "32/32 [==============================] - 0s 1ms/step - loss: 0.6949 - accuracy: 0.5070\n",
            "Epoch 87/200\n",
            "32/32 [==============================] - 0s 1ms/step - loss: 0.6959 - accuracy: 0.4810\n",
            "Epoch 88/200\n",
            "32/32 [==============================] - 0s 1ms/step - loss: 0.6962 - accuracy: 0.4540\n",
            "Epoch 89/200\n",
            "32/32 [==============================] - 0s 1ms/step - loss: 0.6961 - accuracy: 0.4760\n",
            "Epoch 90/200\n",
            "32/32 [==============================] - 0s 1ms/step - loss: 0.6950 - accuracy: 0.5040\n",
            "Epoch 91/200\n",
            "32/32 [==============================] - 0s 1ms/step - loss: 0.6963 - accuracy: 0.4870\n",
            "Epoch 92/200\n",
            "32/32 [==============================] - 0s 1ms/step - loss: 0.6951 - accuracy: 0.4850\n",
            "Epoch 93/200\n",
            "32/32 [==============================] - 0s 1ms/step - loss: 0.6949 - accuracy: 0.4970\n",
            "Epoch 94/200\n",
            "32/32 [==============================] - 0s 1ms/step - loss: 0.6968 - accuracy: 0.4940\n",
            "Epoch 95/200\n",
            "32/32 [==============================] - 0s 1ms/step - loss: 0.6951 - accuracy: 0.4860\n",
            "Epoch 96/200\n",
            "32/32 [==============================] - 0s 1ms/step - loss: 0.6961 - accuracy: 0.4750\n",
            "Epoch 97/200\n",
            "32/32 [==============================] - 0s 1ms/step - loss: 0.6955 - accuracy: 0.4790\n",
            "Epoch 98/200\n",
            "32/32 [==============================] - 0s 1ms/step - loss: 0.6955 - accuracy: 0.4770\n",
            "Epoch 99/200\n",
            "32/32 [==============================] - 0s 2ms/step - loss: 0.6962 - accuracy: 0.4970\n",
            "Epoch 100/200\n",
            "32/32 [==============================] - 0s 1ms/step - loss: 0.6955 - accuracy: 0.4700\n",
            "Epoch 101/200\n",
            "32/32 [==============================] - 0s 1ms/step - loss: 0.6948 - accuracy: 0.4960\n",
            "Epoch 102/200\n",
            "32/32 [==============================] - 0s 1ms/step - loss: 0.6970 - accuracy: 0.4730\n",
            "Epoch 103/200\n",
            "32/32 [==============================] - 0s 1ms/step - loss: 0.6962 - accuracy: 0.4520\n",
            "Epoch 104/200\n",
            "32/32 [==============================] - 0s 2ms/step - loss: 0.6954 - accuracy: 0.4870\n",
            "Epoch 105/200\n",
            "32/32 [==============================] - 0s 1ms/step - loss: 0.6943 - accuracy: 0.5060\n",
            "Epoch 106/200\n",
            "32/32 [==============================] - 0s 1ms/step - loss: 0.6949 - accuracy: 0.4880\n",
            "Epoch 107/200\n",
            "32/32 [==============================] - 0s 2ms/step - loss: 0.6943 - accuracy: 0.4670\n",
            "Epoch 108/200\n",
            "32/32 [==============================] - 0s 1ms/step - loss: 0.6962 - accuracy: 0.4910\n",
            "Epoch 109/200\n",
            "32/32 [==============================] - 0s 1ms/step - loss: 0.6958 - accuracy: 0.4610\n",
            "Epoch 110/200\n",
            "32/32 [==============================] - 0s 1ms/step - loss: 0.6961 - accuracy: 0.4690\n",
            "Epoch 111/200\n",
            "32/32 [==============================] - 0s 1ms/step - loss: 0.6958 - accuracy: 0.4820\n",
            "Epoch 112/200\n",
            "32/32 [==============================] - 0s 1ms/step - loss: 0.6962 - accuracy: 0.4630\n",
            "Epoch 113/200\n",
            "32/32 [==============================] - 0s 2ms/step - loss: 0.6961 - accuracy: 0.4700\n",
            "Epoch 114/200\n",
            "32/32 [==============================] - 0s 1ms/step - loss: 0.6963 - accuracy: 0.4520\n",
            "Epoch 115/200\n",
            "32/32 [==============================] - 0s 1ms/step - loss: 0.6953 - accuracy: 0.4850\n",
            "Epoch 116/200\n",
            "32/32 [==============================] - 0s 1ms/step - loss: 0.6956 - accuracy: 0.4680\n",
            "Epoch 117/200\n",
            "32/32 [==============================] - 0s 1ms/step - loss: 0.6955 - accuracy: 0.5020\n",
            "Epoch 118/200\n",
            "32/32 [==============================] - 0s 1ms/step - loss: 0.6946 - accuracy: 0.5050\n",
            "Epoch 119/200\n",
            "32/32 [==============================] - 0s 1ms/step - loss: 0.6962 - accuracy: 0.4760\n",
            "Epoch 120/200\n",
            "32/32 [==============================] - 0s 1ms/step - loss: 0.6952 - accuracy: 0.5030\n",
            "Epoch 121/200\n",
            "32/32 [==============================] - 0s 1ms/step - loss: 0.6956 - accuracy: 0.4750\n",
            "Epoch 122/200\n",
            "32/32 [==============================] - 0s 2ms/step - loss: 0.6953 - accuracy: 0.4800\n",
            "Epoch 123/200\n",
            "32/32 [==============================] - 0s 1ms/step - loss: 0.6961 - accuracy: 0.4920\n",
            "Epoch 124/200\n",
            "32/32 [==============================] - 0s 1ms/step - loss: 0.6957 - accuracy: 0.4540\n",
            "Epoch 125/200\n",
            "32/32 [==============================] - 0s 1ms/step - loss: 0.6949 - accuracy: 0.4880\n",
            "Epoch 126/200\n",
            "32/32 [==============================] - 0s 1ms/step - loss: 0.6954 - accuracy: 0.4840\n",
            "Epoch 127/200\n",
            "32/32 [==============================] - 0s 1ms/step - loss: 0.6957 - accuracy: 0.4760\n",
            "Epoch 128/200\n",
            "32/32 [==============================] - 0s 1ms/step - loss: 0.6953 - accuracy: 0.5100\n",
            "Epoch 129/200\n",
            "32/32 [==============================] - 0s 1ms/step - loss: 0.6949 - accuracy: 0.4910\n",
            "Epoch 130/200\n",
            "32/32 [==============================] - 0s 1ms/step - loss: 0.6939 - accuracy: 0.4830\n",
            "Epoch 131/200\n",
            "32/32 [==============================] - 0s 1ms/step - loss: 0.6962 - accuracy: 0.4780\n",
            "Epoch 132/200\n",
            "32/32 [==============================] - 0s 1ms/step - loss: 0.6947 - accuracy: 0.4760\n",
            "Epoch 133/200\n",
            "32/32 [==============================] - 0s 1ms/step - loss: 0.6955 - accuracy: 0.4990\n",
            "Epoch 134/200\n",
            "32/32 [==============================] - 0s 1ms/step - loss: 0.6961 - accuracy: 0.4780\n",
            "Epoch 135/200\n",
            "32/32 [==============================] - 0s 1ms/step - loss: 0.6960 - accuracy: 0.4760\n",
            "Epoch 136/200\n",
            "32/32 [==============================] - 0s 1ms/step - loss: 0.6961 - accuracy: 0.4850\n",
            "Epoch 137/200\n",
            "32/32 [==============================] - 0s 1ms/step - loss: 0.6955 - accuracy: 0.4810\n",
            "Epoch 138/200\n",
            "32/32 [==============================] - 0s 1ms/step - loss: 0.6954 - accuracy: 0.4790\n",
            "Epoch 139/200\n",
            "32/32 [==============================] - 0s 2ms/step - loss: 0.6957 - accuracy: 0.4870\n",
            "Epoch 140/200\n",
            "32/32 [==============================] - 0s 1ms/step - loss: 0.6951 - accuracy: 0.4970\n",
            "Epoch 141/200\n",
            "32/32 [==============================] - 0s 2ms/step - loss: 0.6953 - accuracy: 0.4650\n",
            "Epoch 142/200\n",
            "32/32 [==============================] - 0s 1ms/step - loss: 0.6956 - accuracy: 0.4880\n",
            "Epoch 143/200\n",
            "32/32 [==============================] - 0s 1ms/step - loss: 0.6956 - accuracy: 0.4770\n",
            "Epoch 144/200\n",
            "32/32 [==============================] - 0s 1ms/step - loss: 0.6961 - accuracy: 0.4690\n",
            "Epoch 145/200\n",
            "32/32 [==============================] - 0s 1ms/step - loss: 0.6957 - accuracy: 0.4860\n",
            "Epoch 146/200\n",
            "32/32 [==============================] - 0s 1ms/step - loss: 0.6967 - accuracy: 0.4690\n",
            "Epoch 147/200\n",
            "32/32 [==============================] - 0s 2ms/step - loss: 0.6954 - accuracy: 0.5120\n",
            "Epoch 148/200\n",
            "32/32 [==============================] - 0s 1ms/step - loss: 0.6962 - accuracy: 0.4860\n",
            "Epoch 149/200\n",
            "32/32 [==============================] - 0s 1ms/step - loss: 0.6955 - accuracy: 0.4540\n",
            "Epoch 150/200\n",
            "32/32 [==============================] - 0s 1ms/step - loss: 0.6954 - accuracy: 0.4890\n",
            "Epoch 151/200\n",
            "32/32 [==============================] - 0s 1ms/step - loss: 0.6945 - accuracy: 0.4680\n",
            "Epoch 152/200\n",
            "32/32 [==============================] - 0s 2ms/step - loss: 0.6950 - accuracy: 0.4930\n",
            "Epoch 153/200\n",
            "32/32 [==============================] - 0s 1ms/step - loss: 0.6953 - accuracy: 0.4990\n",
            "Epoch 154/200\n",
            "32/32 [==============================] - 0s 1ms/step - loss: 0.6939 - accuracy: 0.4980\n",
            "Epoch 155/200\n",
            "32/32 [==============================] - 0s 1ms/step - loss: 0.6963 - accuracy: 0.4960\n",
            "Epoch 156/200\n",
            "32/32 [==============================] - 0s 1ms/step - loss: 0.6962 - accuracy: 0.4720\n",
            "Epoch 157/200\n",
            "32/32 [==============================] - 0s 2ms/step - loss: 0.6963 - accuracy: 0.4840\n",
            "Epoch 158/200\n",
            "32/32 [==============================] - 0s 1ms/step - loss: 0.6950 - accuracy: 0.4830\n",
            "Epoch 159/200\n",
            "32/32 [==============================] - 0s 1ms/step - loss: 0.6957 - accuracy: 0.4700\n",
            "Epoch 160/200\n",
            "32/32 [==============================] - 0s 2ms/step - loss: 0.6954 - accuracy: 0.5090\n",
            "Epoch 161/200\n",
            "32/32 [==============================] - 0s 2ms/step - loss: 0.6956 - accuracy: 0.4550\n",
            "Epoch 162/200\n",
            "32/32 [==============================] - 0s 1ms/step - loss: 0.6959 - accuracy: 0.4630\n",
            "Epoch 163/200\n",
            "32/32 [==============================] - 0s 1ms/step - loss: 0.6963 - accuracy: 0.4720\n",
            "Epoch 164/200\n",
            "32/32 [==============================] - 0s 1ms/step - loss: 0.6955 - accuracy: 0.4650\n",
            "Epoch 165/200\n",
            "32/32 [==============================] - 0s 2ms/step - loss: 0.6944 - accuracy: 0.4990\n",
            "Epoch 166/200\n",
            "32/32 [==============================] - 0s 2ms/step - loss: 0.6956 - accuracy: 0.4750\n",
            "Epoch 167/200\n",
            "32/32 [==============================] - 0s 1ms/step - loss: 0.6969 - accuracy: 0.4970\n",
            "Epoch 168/200\n",
            "32/32 [==============================] - 0s 1ms/step - loss: 0.6954 - accuracy: 0.4730\n",
            "Epoch 169/200\n",
            "32/32 [==============================] - 0s 1ms/step - loss: 0.6952 - accuracy: 0.4750\n",
            "Epoch 170/200\n",
            "32/32 [==============================] - 0s 1ms/step - loss: 0.6946 - accuracy: 0.4960\n",
            "Epoch 171/200\n",
            "32/32 [==============================] - 0s 1ms/step - loss: 0.6948 - accuracy: 0.4910\n",
            "Epoch 172/200\n",
            "32/32 [==============================] - 0s 2ms/step - loss: 0.6952 - accuracy: 0.4780\n",
            "Epoch 173/200\n",
            "32/32 [==============================] - 0s 2ms/step - loss: 0.6954 - accuracy: 0.4860\n",
            "Epoch 174/200\n",
            "32/32 [==============================] - 0s 1ms/step - loss: 0.6958 - accuracy: 0.4800\n",
            "Epoch 175/200\n",
            "32/32 [==============================] - 0s 2ms/step - loss: 0.6966 - accuracy: 0.4820\n",
            "Epoch 176/200\n",
            "32/32 [==============================] - 0s 1ms/step - loss: 0.6954 - accuracy: 0.4840\n",
            "Epoch 177/200\n",
            "32/32 [==============================] - 0s 1ms/step - loss: 0.6953 - accuracy: 0.4700\n",
            "Epoch 178/200\n",
            "32/32 [==============================] - 0s 1ms/step - loss: 0.6952 - accuracy: 0.4900\n",
            "Epoch 179/200\n",
            "32/32 [==============================] - 0s 1ms/step - loss: 0.6958 - accuracy: 0.5000\n",
            "Epoch 180/200\n",
            "32/32 [==============================] - 0s 1ms/step - loss: 0.6956 - accuracy: 0.4850\n",
            "Epoch 181/200\n",
            "32/32 [==============================] - 0s 2ms/step - loss: 0.6957 - accuracy: 0.4690\n",
            "Epoch 182/200\n",
            "32/32 [==============================] - 0s 1ms/step - loss: 0.6950 - accuracy: 0.5020\n",
            "Epoch 183/200\n",
            "32/32 [==============================] - 0s 1ms/step - loss: 0.6953 - accuracy: 0.4930\n",
            "Epoch 184/200\n",
            "32/32 [==============================] - 0s 1ms/step - loss: 0.6956 - accuracy: 0.5060\n",
            "Epoch 185/200\n",
            "32/32 [==============================] - 0s 1ms/step - loss: 0.6956 - accuracy: 0.4920\n",
            "Epoch 186/200\n",
            "32/32 [==============================] - 0s 1ms/step - loss: 0.6962 - accuracy: 0.4880\n",
            "Epoch 187/200\n",
            "32/32 [==============================] - 0s 1ms/step - loss: 0.6958 - accuracy: 0.4700\n",
            "Epoch 188/200\n",
            "32/32 [==============================] - 0s 1ms/step - loss: 0.6959 - accuracy: 0.4770\n",
            "Epoch 189/200\n",
            "32/32 [==============================] - 0s 1ms/step - loss: 0.6950 - accuracy: 0.4700\n",
            "Epoch 190/200\n",
            "32/32 [==============================] - 0s 1ms/step - loss: 0.6957 - accuracy: 0.4780\n",
            "Epoch 191/200\n",
            "32/32 [==============================] - 0s 1ms/step - loss: 0.6952 - accuracy: 0.4740\n",
            "Epoch 192/200\n",
            "32/32 [==============================] - 0s 1ms/step - loss: 0.6949 - accuracy: 0.4900\n",
            "Epoch 193/200\n",
            "32/32 [==============================] - 0s 1ms/step - loss: 0.6946 - accuracy: 0.4890\n",
            "Epoch 194/200\n",
            "32/32 [==============================] - 0s 2ms/step - loss: 0.6952 - accuracy: 0.4980\n",
            "Epoch 195/200\n",
            "32/32 [==============================] - 0s 1ms/step - loss: 0.6955 - accuracy: 0.4580\n",
            "Epoch 196/200\n",
            "32/32 [==============================] - 0s 2ms/step - loss: 0.6956 - accuracy: 0.4840\n",
            "Epoch 197/200\n",
            "32/32 [==============================] - 0s 1ms/step - loss: 0.6953 - accuracy: 0.4830\n",
            "Epoch 198/200\n",
            "32/32 [==============================] - 0s 1ms/step - loss: 0.6957 - accuracy: 0.4620\n",
            "Epoch 199/200\n",
            "32/32 [==============================] - 0s 1ms/step - loss: 0.6938 - accuracy: 0.5170\n",
            "Epoch 200/200\n",
            "32/32 [==============================] - 0s 1ms/step - loss: 0.6956 - accuracy: 0.4830\n"
          ],
          "name": "stdout"
        },
        {
          "output_type": "execute_result",
          "data": {
            "text/plain": [
              "<tensorflow.python.keras.callbacks.History at 0x7fcbdd006050>"
            ]
          },
          "metadata": {
            "tags": []
          },
          "execution_count": 60
        }
      ]
    },
    {
      "cell_type": "code",
      "metadata": {
        "colab": {
          "base_uri": "https://localhost:8080/"
        },
        "id": "G2z9PmJMsFCl",
        "outputId": "34d2570a-6234-46d0-c28c-34e7bdaf2d3b"
      },
      "source": [
        "#evaluate the model\n",
        "model_2.evaluate(X,y)"
      ],
      "execution_count": 61,
      "outputs": [
        {
          "output_type": "stream",
          "text": [
            "32/32 [==============================] - 0s 1ms/step - loss: 0.6945 - accuracy: 0.5000\n"
          ],
          "name": "stdout"
        },
        {
          "output_type": "execute_result",
          "data": {
            "text/plain": [
              "[0.6945482492446899, 0.5]"
            ]
          },
          "metadata": {
            "tags": []
          },
          "execution_count": 61
        }
      ]
    },
    {
      "cell_type": "markdown",
      "metadata": {
        "id": "ahi7JyDlsK8l"
      },
      "source": [
        "##Improve the model\n",
        "\n",
        "things we can do to improve the model\n",
        "\n",
        "1.add more layers\n",
        "\n",
        "2.incease the no of hidden units\n",
        "\n",
        "3.choose different optimizaion fucntion(Adam/SGD)\n",
        "\n",
        "4.fit the model for more epochs\n"
      ]
    },
    {
      "cell_type": "code",
      "metadata": {
        "colab": {
          "base_uri": "https://localhost:8080/"
        },
        "id": "ToFGVszTsXpB",
        "outputId": "1d8eb4fe-3239-4ede-d09d-4d0beafe61c0"
      },
      "source": [
        "#set the random seed\n",
        "tf.random.set_seed(42)\n",
        "\n",
        "#create the model\n",
        "model_3=tf.keras.Sequential([\n",
        "                             tf.keras.layers.Dense(100),\n",
        "                             tf.keras.layers.Dense(10),\n",
        "                             tf.keras.layers.Dense(1)\n",
        "\n",
        "])\n",
        "\n",
        "\n",
        "#compile the model\n",
        "model_3.compile(loss=tf.keras.losses.BinaryCrossentropy(),\n",
        "                optimizer=tf.keras.optimizers.Adam(),\n",
        "                metrics=[\"accuracy\"])\n",
        "\n",
        "#fit the model\n",
        "model_3.fit(X,y,epochs=200,verbose=0)\n",
        "\n"
      ],
      "execution_count": 45,
      "outputs": [
        {
          "output_type": "execute_result",
          "data": {
            "text/plain": [
              "<tensorflow.python.keras.callbacks.History at 0x7fcbdd67aa10>"
            ]
          },
          "metadata": {
            "tags": []
          },
          "execution_count": 45
        }
      ]
    },
    {
      "cell_type": "code",
      "metadata": {
        "colab": {
          "base_uri": "https://localhost:8080/"
        },
        "id": "l4aHJImLuPCN",
        "outputId": "cf77e252-0418-4dfb-efd7-2fb9f81480c9"
      },
      "source": [
        "model_3.evaluate(X,y)"
      ],
      "execution_count": 46,
      "outputs": [
        {
          "output_type": "stream",
          "text": [
            "32/32 [==============================] - 0s 992us/step - loss: 0.6933 - accuracy: 0.5000\n"
          ],
          "name": "stdout"
        },
        {
          "output_type": "execute_result",
          "data": {
            "text/plain": [
              "[0.6932550668716431, 0.5]"
            ]
          },
          "metadata": {
            "tags": []
          },
          "execution_count": 46
        }
      ]
    },
    {
      "cell_type": "markdown",
      "metadata": {
        "id": "F7nFuYe5upsB"
      },
      "source": [
        "##Visualize the Predictions\n",
        "\n",
        "*create a function to plot \n",
        "\n",
        "*create a mesh grid with different values \n",
        "\n",
        "*make predictions accross mesh grid\n",
        "\n",
        "*plot the predicts in mesh grid"
      ]
    },
    {
      "cell_type": "code",
      "metadata": {
        "id": "hnB8NNXhwh_9"
      },
      "source": [
        "import numpy as np\n"
      ],
      "execution_count": 62,
      "outputs": []
    },
    {
      "cell_type": "code",
      "metadata": {
        "id": "LXpwlpP4vRyW"
      },
      "source": [
        "import numpy as np\n",
        "\n",
        "def plot_decision_boundary(model, X, y):\n",
        "  \"\"\"\n",
        "  Plots the decision boundary created by a model predicting on X.\n",
        "  This function has been adapted from two phenomenal resources:\n",
        "   1. CS231n - https://cs231n.github.io/neural-networks-case-study/\n",
        "   2. Made with ML basics - https://github.com/GokuMohandas/MadeWithML/blob/main/notebooks/08_Neural_Networks.ipynb\n",
        "  \"\"\"\n",
        "  # Define the axis boundaries of the plot and create a meshgrid\n",
        "  x_min, x_max = X[:, 0].min() - 0.1, X[:, 0].max() + 0.1\n",
        "  y_min, y_max = X[:, 1].min() - 0.1, X[:, 1].max() + 0.1\n",
        "  xx, yy = np.meshgrid(np.linspace(x_min, x_max, 100),\n",
        "                       np.linspace(y_min, y_max, 100))\n",
        "  \n",
        "  # Create X values (we're going to predict on all of these)\n",
        "  x_in = np.c_[xx.ravel(), yy.ravel()] # stack 2D arrays together: https://numpy.org/devdocs/reference/generated/numpy.c_.html\n",
        "  \n",
        "  # Make predictions using the trained model\n",
        "  y_pred = model.predict(x_in)\n",
        "\n",
        "  # Check for multi-class\n",
        "  if len(y_pred[0]) > 1:\n",
        "    print(\"doing multiclass classification...\")\n",
        "    # We have to reshape our predictions to get them ready for plotting\n",
        "    y_pred = np.argmax(y_pred, axis=1).reshape(xx.shape)\n",
        "  else:\n",
        "    print(\"doing binary classifcation...\")\n",
        "    y_pred = np.round(y_pred).reshape(xx.shape)\n",
        "  \n",
        "  # Plot decision boundary\n",
        "  plt.contourf(xx, yy, y_pred, cmap=plt.cm.RdYlBu, alpha=0.7)\n",
        "  plt.scatter(X[:, 0], X[:, 1], c=y, s=40, cmap=plt.cm.RdYlBu)\n",
        "  plt.xlim(xx.min(), xx.max())\n",
        "  plt.ylim(yy.min(), yy.max())\n"
      ],
      "execution_count": 74,
      "outputs": []
    },
    {
      "cell_type": "code",
      "metadata": {
        "colab": {
          "base_uri": "https://localhost:8080/",
          "height": 282
        },
        "id": "GhKuU4-HywkT",
        "outputId": "132298e2-980e-4472-9ba6-0180e89f2307"
      },
      "source": [
        "#check out the model predciton\n",
        "plot_desicion_boundry(model=model_3,X=X,y=y)"
      ],
      "execution_count": 75,
      "outputs": [
        {
          "output_type": "stream",
          "text": [
            "doing binary classiifcation\n"
          ],
          "name": "stdout"
        },
        {
          "output_type": "display_data",
          "data": {
            "image/png": "[encoded data removed]",
            "text/plain": [
              "<Figure size 432x288 with 1 Axes>"
            ]
          },
          "metadata": {
            "tags": [],
            "needs_background": "light"
          }
        }
      ]
    }
  ]
}