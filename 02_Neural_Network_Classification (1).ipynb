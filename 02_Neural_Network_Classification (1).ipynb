{
  "nbformat": 4,
  "nbformat_minor": 0,
  "metadata": {
    "colab": {
      "name": "02-Neural_Network_Classification.ipynb",
      "provenance": [],
      "toc_visible": true
    },
    "kernelspec": {
      "name": "python3",
      "display_name": "Python 3"
    },
    "language_info": {
      "name": "python"
    }
  },
  "cells": [
    {
      "cell_type": "markdown",
      "metadata": {
        "id": "q5CiKQ-cbgOW"
      },
      "source": [
        "##Introduction to Neural Network Classificaion with Tenserflow\n",
        "\n",
        "A Classfication problem is try to classify things \n",
        "\n",
        "*Binary Classifation\n",
        "\n",
        "*Multiclass Classfication\n",
        "\n",
        "*Multilabel Classcification "
      ]
    },
    {
      "cell_type": "markdown",
      "metadata": {
        "id": "xetuIbodb9Og"
      },
      "source": [
        "##Creating data and view and Edit"
      ]
    },
    {
      "cell_type": "code",
      "metadata": {
        "id": "RfnNpHhRcDa9"
      },
      "source": [
        "from sklearn.datasets import make_circles\n",
        "\n",
        "#make 1000 examples\n",
        "n_samples=1000\n",
        "\n",
        "#create circles\n",
        "X,y=make_circles(n_samples,\n",
        "                  noise=0.03,\n",
        "                  random_state=42)"
      ],
      "execution_count": 1,
      "outputs": []
    },
    {
      "cell_type": "code",
      "metadata": {
        "colab": {
          "base_uri": "https://localhost:8080/"
        },
        "id": "_v4aUVuGcRzl",
        "outputId": "38f48448-d43f-44cf-8979-8e7ccd4cb8c2"
      },
      "source": [
        "#check out the features\n",
        "X"
      ],
      "execution_count": 2,
      "outputs": [
        {
          "output_type": "execute_result",
          "data": {
            "text/plain": [
              "array([[ 0.75424625,  0.23148074],\n",
              "       [-0.75615888,  0.15325888],\n",
              "       [-0.81539193,  0.17328203],\n",
              "       ...,\n",
              "       [-0.13690036, -0.81001183],\n",
              "       [ 0.67036156, -0.76750154],\n",
              "       [ 0.28105665,  0.96382443]])"
            ]
          },
          "metadata": {
            "tags": []
          },
          "execution_count": 2
        }
      ]
    },
    {
      "cell_type": "code",
      "metadata": {
        "colab": {
          "base_uri": "https://localhost:8080/"
        },
        "id": "FEMIjgvjcs9L",
        "outputId": "bd1b433a-5b8e-4e87-bea1-0de315a067f8"
      },
      "source": [
        "#check the labels\n",
        "y"
      ],
      "execution_count": 3,
      "outputs": [
        {
          "output_type": "execute_result",
          "data": {
            "text/plain": [
              "array([1, 1, 1, 1, 0, 1, 1, 1, 1, 0, 1, 0, 1, 1, 1, 1, 0, 1, 1, 0, 1, 0,\n",
              "       0, 1, 0, 0, 0, 1, 1, 1, 0, 0, 1, 0, 0, 0, 1, 1, 1, 0, 0, 0, 0, 1,\n",
              "       0, 0, 1, 1, 0, 1, 1, 1, 0, 1, 0, 0, 1, 0, 0, 1, 0, 0, 1, 0, 1, 1,\n",
              "       1, 1, 0, 1, 0, 0, 1, 1, 0, 0, 1, 0, 1, 0, 1, 0, 0, 0, 0, 1, 1, 1,\n",
              "       1, 0, 0, 0, 1, 0, 1, 0, 1, 0, 0, 1, 1, 0, 1, 0, 1, 1, 1, 1, 0, 1,\n",
              "       1, 1, 1, 1, 0, 0, 0, 1, 1, 0, 1, 0, 1, 0, 0, 1, 1, 0, 1, 1, 1, 1,\n",
              "       0, 1, 1, 0, 0, 0, 0, 0, 0, 0, 1, 0, 1, 1, 1, 0, 1, 0, 1, 0, 1, 0,\n",
              "       1, 0, 0, 1, 0, 1, 1, 1, 1, 1, 1, 1, 0, 1, 0, 0, 0, 0, 0, 1, 0, 0,\n",
              "       0, 0, 1, 1, 0, 1, 0, 1, 1, 0, 0, 0, 1, 1, 1, 1, 1, 0, 0, 0, 0, 0,\n",
              "       1, 0, 0, 1, 1, 1, 1, 1, 0, 1, 0, 1, 0, 0, 1, 1, 1, 0, 1, 0, 1, 1,\n",
              "       0, 1, 1, 0, 1, 0, 1, 0, 1, 1, 0, 1, 0, 1, 0, 0, 0, 1, 0, 0, 0, 0,\n",
              "       1, 1, 0, 0, 0, 0, 0, 0, 0, 1, 1, 1, 0, 0, 1, 1, 1, 0, 1, 0, 0, 0,\n",
              "       0, 1, 1, 0, 1, 0, 0, 0, 1, 0, 1, 0, 0, 1, 0, 1, 1, 1, 0, 0, 0, 1,\n",
              "       0, 0, 0, 1, 1, 1, 1, 0, 0, 0, 1, 0, 0, 0, 1, 0, 0, 0, 1, 1, 0, 1,\n",
              "       1, 1, 1, 1, 1, 1, 0, 0, 0, 0, 1, 0, 0, 0, 0, 1, 1, 1, 0, 0, 1, 0,\n",
              "       1, 0, 1, 1, 0, 0, 1, 1, 1, 1, 0, 0, 0, 0, 0, 0, 1, 1, 0, 1, 0, 0,\n",
              "       1, 0, 0, 0, 0, 0, 0, 0, 0, 1, 0, 0, 0, 0, 1, 0, 0, 1, 0, 1, 0, 0,\n",
              "       0, 1, 0, 0, 1, 1, 0, 0, 1, 0, 0, 1, 1, 0, 1, 1, 0, 0, 1, 0, 1, 0,\n",
              "       0, 0, 1, 1, 0, 0, 1, 1, 1, 1, 1, 0, 0, 1, 1, 1, 1, 0, 1, 1, 1, 1,\n",
              "       1, 0, 0, 1, 0, 1, 0, 0, 0, 0, 1, 0, 0, 0, 0, 0, 0, 0, 0, 0, 1, 1,\n",
              "       0, 1, 1, 1, 1, 1, 1, 0, 1, 1, 1, 1, 0, 0, 0, 1, 1, 1, 0, 0, 0, 0,\n",
              "       1, 1, 0, 0, 0, 0, 1, 0, 0, 0, 1, 0, 0, 1, 1, 1, 1, 1, 1, 0, 0, 0,\n",
              "       1, 0, 0, 0, 0, 0, 1, 1, 1, 0, 0, 0, 0, 0, 1, 1, 1, 0, 0, 1, 1, 1,\n",
              "       1, 0, 1, 1, 0, 1, 0, 0, 0, 1, 0, 0, 1, 0, 0, 1, 1, 0, 0, 1, 1, 0,\n",
              "       1, 0, 1, 0, 1, 0, 1, 0, 0, 0, 1, 0, 0, 0, 0, 0, 0, 1, 1, 1, 1, 0,\n",
              "       0, 0, 1, 0, 1, 1, 0, 0, 0, 0, 0, 1, 1, 1, 0, 0, 1, 0, 0, 1, 0, 0,\n",
              "       1, 0, 0, 1, 0, 0, 0, 1, 0, 0, 1, 1, 1, 0, 1, 1, 0, 0, 0, 1, 1, 1,\n",
              "       1, 0, 0, 1, 1, 1, 0, 0, 0, 0, 1, 1, 0, 0, 1, 1, 0, 0, 1, 1, 1, 1,\n",
              "       1, 1, 1, 0, 1, 0, 1, 0, 0, 1, 0, 1, 1, 1, 1, 0, 0, 1, 1, 0, 0, 1,\n",
              "       0, 1, 0, 0, 0, 1, 0, 0, 1, 1, 1, 1, 0, 1, 1, 1, 1, 1, 1, 1, 0, 1,\n",
              "       0, 1, 1, 1, 0, 0, 1, 0, 0, 0, 1, 1, 1, 1, 0, 0, 0, 0, 1, 0, 1, 1,\n",
              "       1, 0, 1, 0, 0, 1, 0, 0, 1, 1, 1, 1, 1, 0, 1, 0, 0, 0, 1, 1, 1, 1,\n",
              "       1, 0, 0, 0, 1, 1, 1, 1, 0, 0, 0, 0, 0, 1, 1, 0, 1, 0, 1, 0, 0, 0,\n",
              "       0, 0, 0, 0, 0, 0, 1, 1, 1, 1, 1, 0, 1, 0, 1, 1, 1, 1, 0, 1, 1, 1,\n",
              "       1, 1, 1, 1, 1, 0, 1, 1, 0, 1, 0, 0, 0, 1, 0, 1, 1, 1, 0, 1, 1, 0,\n",
              "       1, 1, 0, 1, 0, 1, 1, 0, 0, 1, 1, 1, 0, 0, 0, 0, 1, 1, 0, 0, 1, 1,\n",
              "       1, 1, 1, 1, 1, 1, 1, 1, 1, 1, 1, 1, 0, 0, 1, 0, 1, 0, 1, 0, 1, 1,\n",
              "       1, 1, 1, 1, 0, 1, 0, 1, 1, 1, 0, 1, 1, 0, 0, 1, 0, 1, 1, 0, 0, 1,\n",
              "       1, 1, 1, 1, 1, 1, 1, 0, 1, 1, 1, 0, 1, 0, 0, 1, 1, 0, 0, 0, 1, 0,\n",
              "       0, 1, 0, 0, 0, 1, 0, 1, 0, 0, 0, 0, 1, 0, 1, 1, 1, 1, 0, 1, 0, 0,\n",
              "       0, 0, 0, 0, 1, 0, 1, 0, 1, 0, 1, 1, 1, 0, 1, 0, 1, 0, 0, 1, 1, 1,\n",
              "       0, 0, 0, 1, 1, 0, 1, 0, 1, 1, 0, 1, 0, 0, 1, 1, 1, 0, 0, 0, 1, 1,\n",
              "       0, 0, 0, 0, 0, 1, 1, 0, 1, 0, 0, 0, 1, 0, 0, 0, 1, 1, 1, 1, 0, 1,\n",
              "       1, 1, 0, 1, 1, 1, 1, 0, 1, 1, 0, 1, 1, 0, 0, 1, 1, 1, 0, 0, 0, 0,\n",
              "       0, 0, 1, 0, 0, 1, 0, 0, 0, 1, 0, 1, 0, 1, 1, 0, 0, 0, 0, 0, 0, 0,\n",
              "       0, 1, 0, 1, 0, 0, 0, 1, 0, 0])"
            ]
          },
          "metadata": {
            "tags": []
          },
          "execution_count": 3
        }
      ]
    },
    {
      "cell_type": "markdown",
      "metadata": {
        "id": "a8Lxl8-IcvRQ"
      },
      "source": [
        "Data is little hard to understand, we need to visulaize them"
      ]
    },
    {
      "cell_type": "code",
      "metadata": {
        "colab": {
          "base_uri": "https://localhost:8080/",
          "height": 417
        },
        "id": "W-bedw7uc1yV",
        "outputId": "88f6329d-5e22-4ed5-f933-bbf13f4dbf2c"
      },
      "source": [
        "import pandas as pd\n",
        "\n",
        "circles =pd.DataFrame({\"X0\":X[:,0],\"X1\":X[:,1],\"label\":y})\n",
        "circles"
      ],
      "execution_count": 4,
      "outputs": [
        {
          "output_type": "execute_result",
          "data": {
            "text/html": [
              "<div>\n",
              "<style scoped>\n",
              "    .dataframe tbody tr th:only-of-type {\n",
              "        vertical-align: middle;\n",
              "    }\n",
              "\n",
              "    .dataframe tbody tr th {\n",
              "        vertical-align: top;\n",
              "    }\n",
              "\n",
              "    .dataframe thead th {\n",
              "        text-align: right;\n",
              "    }\n",
              "</style>\n",
              "<table border=\"1\" class=\"dataframe\">\n",
              "  <thead>\n",
              "    <tr style=\"text-align: right;\">\n",
              "      <th></th>\n",
              "      <th>X0</th>\n",
              "      <th>X1</th>\n",
              "      <th>label</th>\n",
              "    </tr>\n",
              "  </thead>\n",
              "  <tbody>\n",
              "    <tr>\n",
              "      <th>0</th>\n",
              "      <td>0.754246</td>\n",
              "      <td>0.231481</td>\n",
              "      <td>1</td>\n",
              "    </tr>\n",
              "    <tr>\n",
              "      <th>1</th>\n",
              "      <td>-0.756159</td>\n",
              "      <td>0.153259</td>\n",
              "      <td>1</td>\n",
              "    </tr>\n",
              "    <tr>\n",
              "      <th>2</th>\n",
              "      <td>-0.815392</td>\n",
              "      <td>0.173282</td>\n",
              "      <td>1</td>\n",
              "    </tr>\n",
              "    <tr>\n",
              "      <th>3</th>\n",
              "      <td>-0.393731</td>\n",
              "      <td>0.692883</td>\n",
              "      <td>1</td>\n",
              "    </tr>\n",
              "    <tr>\n",
              "      <th>4</th>\n",
              "      <td>0.442208</td>\n",
              "      <td>-0.896723</td>\n",
              "      <td>0</td>\n",
              "    </tr>\n",
              "    <tr>\n",
              "      <th>...</th>\n",
              "      <td>...</td>\n",
              "      <td>...</td>\n",
              "      <td>...</td>\n",
              "    </tr>\n",
              "    <tr>\n",
              "      <th>995</th>\n",
              "      <td>0.244054</td>\n",
              "      <td>0.944125</td>\n",
              "      <td>0</td>\n",
              "    </tr>\n",
              "    <tr>\n",
              "      <th>996</th>\n",
              "      <td>-0.978655</td>\n",
              "      <td>-0.272373</td>\n",
              "      <td>0</td>\n",
              "    </tr>\n",
              "    <tr>\n",
              "      <th>997</th>\n",
              "      <td>-0.136900</td>\n",
              "      <td>-0.810012</td>\n",
              "      <td>1</td>\n",
              "    </tr>\n",
              "    <tr>\n",
              "      <th>998</th>\n",
              "      <td>0.670362</td>\n",
              "      <td>-0.767502</td>\n",
              "      <td>0</td>\n",
              "    </tr>\n",
              "    <tr>\n",
              "      <th>999</th>\n",
              "      <td>0.281057</td>\n",
              "      <td>0.963824</td>\n",
              "      <td>0</td>\n",
              "    </tr>\n",
              "  </tbody>\n",
              "</table>\n",
              "<p>1000 rows × 3 columns</p>\n",
              "</div>"
            ],
            "text/plain": [
              "           X0        X1  label\n",
              "0    0.754246  0.231481      1\n",
              "1   -0.756159  0.153259      1\n",
              "2   -0.815392  0.173282      1\n",
              "3   -0.393731  0.692883      1\n",
              "4    0.442208 -0.896723      0\n",
              "..        ...       ...    ...\n",
              "995  0.244054  0.944125      0\n",
              "996 -0.978655 -0.272373      0\n",
              "997 -0.136900 -0.810012      1\n",
              "998  0.670362 -0.767502      0\n",
              "999  0.281057  0.963824      0\n",
              "\n",
              "[1000 rows x 3 columns]"
            ]
          },
          "metadata": {
            "tags": []
          },
          "execution_count": 4
        }
      ]
    },
    {
      "cell_type": "markdown",
      "metadata": {
        "id": "T7S3u8ZKdhVo"
      },
      "source": [
        "##Visualize with plot"
      ]
    },
    {
      "cell_type": "code",
      "metadata": {
        "colab": {
          "base_uri": "https://localhost:8080/",
          "height": 282
        },
        "id": "J5uQXin7dvvc",
        "outputId": "f4dba87d-b5e3-4030-da1f-6e3903bc92c2"
      },
      "source": [
        "#scatter plot\n",
        "import matplotlib.pyplot as plt\n",
        "\n",
        "plt.scatter(X[:,0],X[:,1],c=y,cmap=plt.cm.RdYlBu)"
      ],
      "execution_count": 5,
      "outputs": [
        {
          "output_type": "execute_result",
          "data": {
            "text/plain": [
              "<matplotlib.collections.PathCollection at 0x7fe1dd12b6d0>"
            ]
          },
          "metadata": {
            "tags": []
          },
          "execution_count": 5
        },
        {
          "output_type": "display_data",
          "data": {
            "image/png": "[encoded data removed]",
            "text/plain": [
              "<Figure size 432x288 with 1 Axes>"
            ]
          },
          "metadata": {
            "tags": [],
            "needs_background": "light"
          }
        }
      ]
    },
    {
      "cell_type": "markdown",
      "metadata": {
        "id": "Y6oiImMHeBMF"
      },
      "source": [
        "##Input and Output Shape"
      ]
    },
    {
      "cell_type": "code",
      "metadata": {
        "colab": {
          "base_uri": "https://localhost:8080/"
        },
        "id": "0Y-ftrHQhPrR",
        "outputId": "74a8770e-58cb-44b1-ad58-b025ee812966"
      },
      "source": [
        "#check the input and output shape\n",
        "X.shape,y.shape"
      ],
      "execution_count": 6,
      "outputs": [
        {
          "output_type": "execute_result",
          "data": {
            "text/plain": [
              "((1000, 2), (1000,))"
            ]
          },
          "metadata": {
            "tags": []
          },
          "execution_count": 6
        }
      ]
    },
    {
      "cell_type": "markdown",
      "metadata": {
        "id": "cnDh5g2zhUbG"
      },
      "source": [
        "##Steps in Modelling\n",
        "\n",
        "1.create or import the model\n",
        "\n",
        "2.compile the model\n",
        "\n",
        "3.Fit the model\n",
        "\n",
        "4.Evaluate the model\n",
        "\n",
        "5.Tweak\n",
        "\n",
        "6.Evalaute"
      ]
    },
    {
      "cell_type": "code",
      "metadata": {
        "id": "LOrg9easho9f"
      },
      "source": [
        "#spit the data\n",
        "from sklearn.model_selection import train_test_split\n",
        "\n",
        "X_train,X_test,y_train,y_test =train_test_split(X,y,test_size=0.2,random_state=42)\n",
        "\n"
      ],
      "execution_count": 7,
      "outputs": []
    },
    {
      "cell_type": "code",
      "metadata": {
        "colab": {
          "base_uri": "https://localhost:8080/"
        },
        "id": "5WKmM2OuiveX",
        "outputId": "c2e6b2b0-fb58-42db-be51-61fb03f05630"
      },
      "source": [
        "len(X_train),len(X_test),len(y_train),len(y_test)"
      ],
      "execution_count": 8,
      "outputs": [
        {
          "output_type": "execute_result",
          "data": {
            "text/plain": [
              "(800, 200, 800, 200)"
            ]
          },
          "metadata": {
            "tags": []
          },
          "execution_count": 8
        }
      ]
    },
    {
      "cell_type": "code",
      "metadata": {
        "colab": {
          "base_uri": "https://localhost:8080/"
        },
        "id": "5mZ76wf4moub",
        "outputId": "a7f7ff03-072c-44f9-f802-8a1f5586701b"
      },
      "source": [
        "X_train.shape,y_train.shape"
      ],
      "execution_count": 9,
      "outputs": [
        {
          "output_type": "execute_result",
          "data": {
            "text/plain": [
              "((800, 2), (800,))"
            ]
          },
          "metadata": {
            "tags": []
          },
          "execution_count": 9
        }
      ]
    },
    {
      "cell_type": "code",
      "metadata": {
        "id": "5f3bZCj-i4-r"
      },
      "source": [
        "import tensorflow as tf\n"
      ],
      "execution_count": 10,
      "outputs": []
    },
    {
      "cell_type": "code",
      "metadata": {
        "colab": {
          "base_uri": "https://localhost:8080/"
        },
        "id": "7Shd6_YEjIOy",
        "outputId": "dbcf147f-9951-4f80-9ab8-ed653eb34cb0"
      },
      "source": [
        "#create the model\n",
        "model =tf.keras.Sequential([\n",
        "                            tf.keras.layers.Dense(100,activation=\"relu\")\n",
        "])\n",
        "\n",
        "#compile the model\n",
        "model.compile(loss=tf.keras.losses.BinaryCrossentropy(),\n",
        "              optimizer=tf.keras.optimizers.Adam(),\n",
        "              metrics=[\"accuracy\"])\n",
        "\n",
        "#fit the model\n",
        "model.fit(X,y,epochs=50)\n",
        "\n",
        "#evaluate the model\n",
        "model.evaluate(X_test,y_test)"
      ],
      "execution_count": 11,
      "outputs": [
        {
          "output_type": "stream",
          "text": [
            "Epoch 1/50\n",
            "32/32 [==============================] - 1s 1ms/step - loss: 4.3551 - accuracy: 0.0060 \n",
            "Epoch 2/50\n",
            "32/32 [==============================] - 0s 1ms/step - loss: 4.0532 - accuracy: 0.0150\n",
            "Epoch 3/50\n",
            "32/32 [==============================] - 0s 1ms/step - loss: 3.7868 - accuracy: 0.0230\n",
            "Epoch 4/50\n",
            "32/32 [==============================] - 0s 2ms/step - loss: 3.4785 - accuracy: 0.0100\n",
            "Epoch 5/50\n",
            "32/32 [==============================] - 0s 1ms/step - loss: 3.2213 - accuracy: 0.0050\n",
            "Epoch 6/50\n",
            "32/32 [==============================] - 0s 1ms/step - loss: 2.9947 - accuracy: 0.0020\n",
            "Epoch 7/50\n",
            "32/32 [==============================] - 0s 1ms/step - loss: 2.7709 - accuracy: 0.0000e+00\n",
            "Epoch 8/50\n",
            "32/32 [==============================] - 0s 1ms/step - loss: 2.6051 - accuracy: 0.0000e+00\n",
            "Epoch 9/50\n",
            "32/32 [==============================] - 0s 1ms/step - loss: 2.4347 - accuracy: 0.0000e+00\n",
            "Epoch 10/50\n",
            "32/32 [==============================] - 0s 1ms/step - loss: 2.2659 - accuracy: 0.0000e+00\n",
            "Epoch 11/50\n",
            "32/32 [==============================] - 0s 2ms/step - loss: 2.1063 - accuracy: 0.0000e+00\n",
            "Epoch 12/50\n",
            "32/32 [==============================] - 0s 1ms/step - loss: 1.9828 - accuracy: 0.0000e+00\n",
            "Epoch 13/50\n",
            "32/32 [==============================] - 0s 1ms/step - loss: 1.8523 - accuracy: 0.0000e+00\n",
            "Epoch 14/50\n",
            "32/32 [==============================] - 0s 1ms/step - loss: 1.7569 - accuracy: 0.0000e+00\n",
            "Epoch 15/50\n",
            "32/32 [==============================] - 0s 1ms/step - loss: 1.6480 - accuracy: 0.0000e+00\n",
            "Epoch 16/50\n",
            "32/32 [==============================] - 0s 1ms/step - loss: 1.5686 - accuracy: 0.0000e+00\n",
            "Epoch 17/50\n",
            "32/32 [==============================] - 0s 1ms/step - loss: 1.5155 - accuracy: 0.0000e+00\n",
            "Epoch 18/50\n",
            "32/32 [==============================] - 0s 1ms/step - loss: 1.4754 - accuracy: 0.0000e+00\n",
            "Epoch 19/50\n",
            "32/32 [==============================] - 0s 1ms/step - loss: 1.4208 - accuracy: 0.0000e+00\n",
            "Epoch 20/50\n",
            "32/32 [==============================] - 0s 1ms/step - loss: 1.3403 - accuracy: 0.0000e+00\n",
            "Epoch 21/50\n",
            "32/32 [==============================] - 0s 1ms/step - loss: 1.2678 - accuracy: 0.0000e+00\n",
            "Epoch 22/50\n",
            "32/32 [==============================] - 0s 1ms/step - loss: 1.2433 - accuracy: 0.0000e+00\n",
            "Epoch 23/50\n",
            "32/32 [==============================] - 0s 2ms/step - loss: 1.2220 - accuracy: 0.0000e+00\n",
            "Epoch 24/50\n",
            "32/32 [==============================] - 0s 1ms/step - loss: 1.1969 - accuracy: 0.0000e+00\n",
            "Epoch 25/50\n",
            "32/32 [==============================] - 0s 1ms/step - loss: 1.1796 - accuracy: 0.0000e+00\n",
            "Epoch 26/50\n",
            "32/32 [==============================] - 0s 1ms/step - loss: 1.1612 - accuracy: 0.0000e+00\n",
            "Epoch 27/50\n",
            "32/32 [==============================] - 0s 1ms/step - loss: 1.1411 - accuracy: 0.0000e+00\n",
            "Epoch 28/50\n",
            "32/32 [==============================] - 0s 1ms/step - loss: 1.1304 - accuracy: 0.0000e+00\n",
            "Epoch 29/50\n",
            "32/32 [==============================] - 0s 1ms/step - loss: 1.1191 - accuracy: 0.0000e+00\n",
            "Epoch 30/50\n",
            "32/32 [==============================] - 0s 1ms/step - loss: 1.1095 - accuracy: 0.0000e+00\n",
            "Epoch 31/50\n",
            "32/32 [==============================] - 0s 1ms/step - loss: 1.0975 - accuracy: 0.0000e+00\n",
            "Epoch 32/50\n",
            "32/32 [==============================] - 0s 1ms/step - loss: 1.0848 - accuracy: 0.0000e+00\n",
            "Epoch 33/50\n",
            "32/32 [==============================] - 0s 2ms/step - loss: 1.0680 - accuracy: 0.0000e+00\n",
            "Epoch 34/50\n",
            "32/32 [==============================] - 0s 2ms/step - loss: 1.0572 - accuracy: 0.0000e+00\n",
            "Epoch 35/50\n",
            "32/32 [==============================] - 0s 1ms/step - loss: 1.0485 - accuracy: 0.0000e+00\n",
            "Epoch 36/50\n",
            "32/32 [==============================] - 0s 1ms/step - loss: 1.0390 - accuracy: 0.0000e+00\n",
            "Epoch 37/50\n",
            "32/32 [==============================] - 0s 1ms/step - loss: 1.0281 - accuracy: 0.0000e+00\n",
            "Epoch 38/50\n",
            "32/32 [==============================] - 0s 1ms/step - loss: 1.0174 - accuracy: 0.0000e+00\n",
            "Epoch 39/50\n",
            "32/32 [==============================] - 0s 1ms/step - loss: 1.0089 - accuracy: 0.0000e+00\n",
            "Epoch 40/50\n",
            "32/32 [==============================] - 0s 1ms/step - loss: 1.0011 - accuracy: 0.0000e+00\n",
            "Epoch 41/50\n",
            "32/32 [==============================] - 0s 1ms/step - loss: 0.9909 - accuracy: 0.0000e+00\n",
            "Epoch 42/50\n",
            "32/32 [==============================] - 0s 2ms/step - loss: 0.9728 - accuracy: 0.0000e+00\n",
            "Epoch 43/50\n",
            "32/32 [==============================] - 0s 2ms/step - loss: 0.9612 - accuracy: 0.0000e+00\n",
            "Epoch 44/50\n",
            "32/32 [==============================] - 0s 1ms/step - loss: 0.9541 - accuracy: 0.0000e+00\n",
            "Epoch 45/50\n",
            "32/32 [==============================] - 0s 1ms/step - loss: 0.9487 - accuracy: 0.0000e+00\n",
            "Epoch 46/50\n",
            "32/32 [==============================] - 0s 1ms/step - loss: 0.9436 - accuracy: 0.0000e+00\n",
            "Epoch 47/50\n",
            "32/32 [==============================] - 0s 1ms/step - loss: 0.9386 - accuracy: 0.0000e+00\n",
            "Epoch 48/50\n",
            "32/32 [==============================] - 0s 1ms/step - loss: 0.9333 - accuracy: 0.0000e+00\n",
            "Epoch 49/50\n",
            "32/32 [==============================] - 0s 1ms/step - loss: 0.9274 - accuracy: 0.0000e+00\n",
            "Epoch 50/50\n",
            "32/32 [==============================] - 0s 1ms/step - loss: 0.9230 - accuracy: 0.0000e+00\n",
            "7/7 [==============================] - 0s 2ms/step - loss: 0.9185 - accuracy: 0.0000e+00\n"
          ],
          "name": "stdout"
        },
        {
          "output_type": "execute_result",
          "data": {
            "text/plain": [
              "[0.9184876084327698, 0.0]"
            ]
          },
          "metadata": {
            "tags": []
          },
          "execution_count": 11
        }
      ]
    },
    {
      "cell_type": "code",
      "metadata": {
        "colab": {
          "base_uri": "https://localhost:8080/"
        },
        "id": "bOOgkQegnC0g",
        "outputId": "af131f8c-544f-43a8-998c-992eae6655e4"
      },
      "source": [
        "#set the random seed\n",
        "\n",
        "tf.random.set_seed(42)\n",
        "\n",
        "#craete the model\n",
        "model_1 =tf.keras.Sequential([\n",
        "                              tf.keras.layers.Dense(1)\n",
        "])\n",
        "\n",
        "#compile the model\n",
        "model_1.compile(loss=tf.keras.losses.BinaryCrossentropy(),\n",
        "                optimizer=tf.keras.optimizers.SGD(),\n",
        "                metrics=[\"accuracy\"])\n",
        "\n",
        "#fit the model\n",
        "model_1.fit(X,y,epochs=10)"
      ],
      "execution_count": 12,
      "outputs": [
        {
          "output_type": "stream",
          "text": [
            "Epoch 1/10\n",
            "32/32 [==============================] - 0s 1ms/step - loss: 2.8544 - accuracy: 0.4600\n",
            "Epoch 2/10\n",
            "32/32 [==============================] - 0s 994us/step - loss: 0.7131 - accuracy: 0.5430\n",
            "Epoch 3/10\n",
            "32/32 [==============================] - 0s 1ms/step - loss: 0.6973 - accuracy: 0.5090\n",
            "Epoch 4/10\n",
            "32/32 [==============================] - 0s 1ms/step - loss: 0.6950 - accuracy: 0.5010\n",
            "Epoch 5/10\n",
            "32/32 [==============================] - 0s 1ms/step - loss: 0.6942 - accuracy: 0.4830\n",
            "Epoch 6/10\n",
            "32/32 [==============================] - 0s 1ms/step - loss: 0.6938 - accuracy: 0.4990\n",
            "Epoch 7/10\n",
            "32/32 [==============================] - 0s 1ms/step - loss: 0.6943 - accuracy: 0.4880\n",
            "Epoch 8/10\n",
            "32/32 [==============================] - 0s 1ms/step - loss: 0.6941 - accuracy: 0.4950\n",
            "Epoch 9/10\n",
            "32/32 [==============================] - 0s 981us/step - loss: 0.6940 - accuracy: 0.4840\n",
            "Epoch 10/10\n",
            "32/32 [==============================] - 0s 1ms/step - loss: 0.6938 - accuracy: 0.4820\n"
          ],
          "name": "stdout"
        },
        {
          "output_type": "execute_result",
          "data": {
            "text/plain": [
              "<tensorflow.python.keras.callbacks.History at 0x7fe197159e50>"
            ]
          },
          "metadata": {
            "tags": []
          },
          "execution_count": 12
        }
      ]
    },
    {
      "cell_type": "code",
      "metadata": {
        "colab": {
          "base_uri": "https://localhost:8080/"
        },
        "id": "PrkEYoGRpbXk",
        "outputId": "2063ecdf-ee95-4a73-cc43-bae7d696a96a"
      },
      "source": [
        "#improve the model\n",
        "model_1.fit(X,y,epochs=200,verbose=0)\n",
        "model_1.evaluate(X,y)"
      ],
      "execution_count": 13,
      "outputs": [
        {
          "output_type": "stream",
          "text": [
            "32/32 [==============================] - 0s 948us/step - loss: 0.6935 - accuracy: 0.5000\n"
          ],
          "name": "stdout"
        },
        {
          "output_type": "execute_result",
          "data": {
            "text/plain": [
              "[0.6934829950332642, 0.5]"
            ]
          },
          "metadata": {
            "tags": []
          },
          "execution_count": 13
        }
      ]
    },
    {
      "cell_type": "markdown",
      "metadata": {
        "id": "W9nOKdQbq5T6"
      },
      "source": [
        "since we are working in binary classification,Model performing like guessing,Add another layer and incease the perfomnce"
      ]
    },
    {
      "cell_type": "code",
      "metadata": {
        "colab": {
          "base_uri": "https://localhost:8080/"
        },
        "id": "3Fjlizt-rK4m",
        "outputId": "f0a304e7-2e56-4503-de7e-944b450e52b2"
      },
      "source": [
        "#set the random seed\n",
        "tf.random.set_seed(42)\n",
        "\n",
        "#create the model\n",
        "\n",
        "model_2=tf.keras.Sequential([\n",
        "                             tf.keras.layers.Dense(10),\n",
        "                             tf.keras.layers.Dense(1)\n",
        "])\n",
        "\n",
        "#compile the model\n",
        "model_2.compile(loss=tf.keras.losses.BinaryCrossentropy(),\n",
        "                optimizer=tf.keras.optimizers.SGD(),\n",
        "                metrics=[\"accuracy\"])\n",
        "\n",
        "#fit the model\n",
        "model_2.fit(X,y,epochs=200)\n",
        "\n"
      ],
      "execution_count": 14,
      "outputs": [
        {
          "output_type": "stream",
          "text": [
            "Epoch 1/200\n",
            "32/32 [==============================] - 0s 1ms/step - loss: 1.8689 - accuracy: 0.4700\n",
            "Epoch 2/200\n",
            "32/32 [==============================] - 0s 1ms/step - loss: 0.6977 - accuracy: 0.5040\n",
            "Epoch 3/200\n",
            "32/32 [==============================] - 0s 1ms/step - loss: 0.6968 - accuracy: 0.4660\n",
            "Epoch 4/200\n",
            "32/32 [==============================] - 0s 1ms/step - loss: 0.6952 - accuracy: 0.4840\n",
            "Epoch 5/200\n",
            "32/32 [==============================] - 0s 1ms/step - loss: 0.6949 - accuracy: 0.4740\n",
            "Epoch 6/200\n",
            "32/32 [==============================] - 0s 1ms/step - loss: 0.6941 - accuracy: 0.5230\n",
            "Epoch 7/200\n",
            "32/32 [==============================] - 0s 1ms/step - loss: 0.6962 - accuracy: 0.4780\n",
            "Epoch 8/200\n",
            "32/32 [==============================] - 0s 1ms/step - loss: 0.6952 - accuracy: 0.4940\n",
            "Epoch 9/200\n",
            "32/32 [==============================] - 0s 1ms/step - loss: 0.6956 - accuracy: 0.4860\n",
            "Epoch 10/200\n",
            "32/32 [==============================] - 0s 1ms/step - loss: 0.6946 - accuracy: 0.4840\n",
            "Epoch 11/200\n",
            "32/32 [==============================] - 0s 1ms/step - loss: 0.6963 - accuracy: 0.4610\n",
            "Epoch 12/200\n",
            "32/32 [==============================] - 0s 1ms/step - loss: 0.6963 - accuracy: 0.4970\n",
            "Epoch 13/200\n",
            "32/32 [==============================] - 0s 1ms/step - loss: 0.6963 - accuracy: 0.4750\n",
            "Epoch 14/200\n",
            "32/32 [==============================] - 0s 1ms/step - loss: 0.6963 - accuracy: 0.4900\n",
            "Epoch 15/200\n",
            "32/32 [==============================] - 0s 1ms/step - loss: 0.6954 - accuracy: 0.4630\n",
            "Epoch 16/200\n",
            "32/32 [==============================] - 0s 1ms/step - loss: 0.6964 - accuracy: 0.4920\n",
            "Epoch 17/200\n",
            "32/32 [==============================] - 0s 1ms/step - loss: 0.6952 - accuracy: 0.5030\n",
            "Epoch 18/200\n",
            "32/32 [==============================] - 0s 1ms/step - loss: 0.6951 - accuracy: 0.4940\n",
            "Epoch 19/200\n",
            "32/32 [==============================] - 0s 1ms/step - loss: 0.6952 - accuracy: 0.5010\n",
            "Epoch 20/200\n",
            "32/32 [==============================] - 0s 1ms/step - loss: 0.6953 - accuracy: 0.4700\n",
            "Epoch 21/200\n",
            "32/32 [==============================] - 0s 1ms/step - loss: 0.6945 - accuracy: 0.4880\n",
            "Epoch 22/200\n",
            "32/32 [==============================] - 0s 991us/step - loss: 0.6957 - accuracy: 0.4800\n",
            "Epoch 23/200\n",
            "32/32 [==============================] - 0s 975us/step - loss: 0.6951 - accuracy: 0.4810\n",
            "Epoch 24/200\n",
            "32/32 [==============================] - 0s 1ms/step - loss: 0.6955 - accuracy: 0.4760\n",
            "Epoch 25/200\n",
            "32/32 [==============================] - 0s 1ms/step - loss: 0.6946 - accuracy: 0.4900\n",
            "Epoch 26/200\n",
            "32/32 [==============================] - 0s 1ms/step - loss: 0.6960 - accuracy: 0.4720\n",
            "Epoch 27/200\n",
            "32/32 [==============================] - 0s 1ms/step - loss: 0.6941 - accuracy: 0.4980\n",
            "Epoch 28/200\n",
            "32/32 [==============================] - 0s 1ms/step - loss: 0.6964 - accuracy: 0.4560\n",
            "Epoch 29/200\n",
            "32/32 [==============================] - 0s 1ms/step - loss: 0.6953 - accuracy: 0.4770\n",
            "Epoch 30/200\n",
            "32/32 [==============================] - 0s 1ms/step - loss: 0.6953 - accuracy: 0.4940\n",
            "Epoch 31/200\n",
            "32/32 [==============================] - 0s 1ms/step - loss: 0.6955 - accuracy: 0.5120\n",
            "Epoch 32/200\n",
            "32/32 [==============================] - 0s 1ms/step - loss: 0.6951 - accuracy: 0.4970\n",
            "Epoch 33/200\n",
            "32/32 [==============================] - 0s 1ms/step - loss: 0.6955 - accuracy: 0.4640\n",
            "Epoch 34/200\n",
            "32/32 [==============================] - 0s 1ms/step - loss: 0.6963 - accuracy: 0.4690\n",
            "Epoch 35/200\n",
            "32/32 [==============================] - 0s 1ms/step - loss: 0.6952 - accuracy: 0.5180\n",
            "Epoch 36/200\n",
            "32/32 [==============================] - 0s 1ms/step - loss: 0.6961 - accuracy: 0.4720\n",
            "Epoch 37/200\n",
            "32/32 [==============================] - 0s 1ms/step - loss: 0.6953 - accuracy: 0.4900\n",
            "Epoch 38/200\n",
            "32/32 [==============================] - 0s 1ms/step - loss: 0.6950 - accuracy: 0.4790\n",
            "Epoch 39/200\n",
            "32/32 [==============================] - 0s 1ms/step - loss: 0.6955 - accuracy: 0.4410\n",
            "Epoch 40/200\n",
            "32/32 [==============================] - 0s 1ms/step - loss: 0.6971 - accuracy: 0.4710\n",
            "Epoch 41/200\n",
            "32/32 [==============================] - 0s 1ms/step - loss: 0.6951 - accuracy: 0.4980\n",
            "Epoch 42/200\n",
            "32/32 [==============================] - 0s 1ms/step - loss: 0.6951 - accuracy: 0.4710\n",
            "Epoch 43/200\n",
            "32/32 [==============================] - 0s 1ms/step - loss: 0.6957 - accuracy: 0.4850\n",
            "Epoch 44/200\n",
            "32/32 [==============================] - 0s 1ms/step - loss: 0.6935 - accuracy: 0.5120\n",
            "Epoch 45/200\n",
            "32/32 [==============================] - 0s 1ms/step - loss: 0.6966 - accuracy: 0.4850\n",
            "Epoch 46/200\n",
            "32/32 [==============================] - 0s 1ms/step - loss: 0.6957 - accuracy: 0.4660\n",
            "Epoch 47/200\n",
            "32/32 [==============================] - 0s 1ms/step - loss: 0.6943 - accuracy: 0.5190\n",
            "Epoch 48/200\n",
            "32/32 [==============================] - 0s 1ms/step - loss: 0.6947 - accuracy: 0.4940\n",
            "Epoch 49/200\n",
            "32/32 [==============================] - 0s 1ms/step - loss: 0.6954 - accuracy: 0.4730\n",
            "Epoch 50/200\n",
            "32/32 [==============================] - 0s 1ms/step - loss: 0.6953 - accuracy: 0.4970\n",
            "Epoch 51/200\n",
            "32/32 [==============================] - 0s 1ms/step - loss: 0.6959 - accuracy: 0.4850\n",
            "Epoch 52/200\n",
            "32/32 [==============================] - 0s 1ms/step - loss: 0.6953 - accuracy: 0.5060\n",
            "Epoch 53/200\n",
            "32/32 [==============================] - 0s 1ms/step - loss: 0.6945 - accuracy: 0.4780\n",
            "Epoch 54/200\n",
            "32/32 [==============================] - 0s 1ms/step - loss: 0.6962 - accuracy: 0.4970\n",
            "Epoch 55/200\n",
            "32/32 [==============================] - 0s 1ms/step - loss: 0.6952 - accuracy: 0.5070\n",
            "Epoch 56/200\n",
            "32/32 [==============================] - 0s 1ms/step - loss: 0.6949 - accuracy: 0.4780\n",
            "Epoch 57/200\n",
            "32/32 [==============================] - 0s 1ms/step - loss: 0.6962 - accuracy: 0.4820\n",
            "Epoch 58/200\n",
            "32/32 [==============================] - 0s 1ms/step - loss: 0.6954 - accuracy: 0.4730\n",
            "Epoch 59/200\n",
            "32/32 [==============================] - 0s 1ms/step - loss: 0.6944 - accuracy: 0.5280\n",
            "Epoch 60/200\n",
            "32/32 [==============================] - 0s 1ms/step - loss: 0.6956 - accuracy: 0.5020\n",
            "Epoch 61/200\n",
            "32/32 [==============================] - 0s 1ms/step - loss: 0.6962 - accuracy: 0.4570\n",
            "Epoch 62/200\n",
            "32/32 [==============================] - 0s 1ms/step - loss: 0.6953 - accuracy: 0.4970\n",
            "Epoch 63/200\n",
            "32/32 [==============================] - 0s 1ms/step - loss: 0.6952 - accuracy: 0.4610\n",
            "Epoch 64/200\n",
            "32/32 [==============================] - 0s 1ms/step - loss: 0.6955 - accuracy: 0.4960\n",
            "Epoch 65/200\n",
            "32/32 [==============================] - 0s 1ms/step - loss: 0.6960 - accuracy: 0.4770\n",
            "Epoch 66/200\n",
            "32/32 [==============================] - 0s 1ms/step - loss: 0.6951 - accuracy: 0.4890\n",
            "Epoch 67/200\n",
            "32/32 [==============================] - 0s 1ms/step - loss: 0.6965 - accuracy: 0.4610\n",
            "Epoch 68/200\n",
            "32/32 [==============================] - 0s 1ms/step - loss: 0.6948 - accuracy: 0.4720\n",
            "Epoch 69/200\n",
            "32/32 [==============================] - 0s 1ms/step - loss: 0.6961 - accuracy: 0.4930\n",
            "Epoch 70/200\n",
            "32/32 [==============================] - 0s 1ms/step - loss: 0.6959 - accuracy: 0.4790\n",
            "Epoch 71/200\n",
            "32/32 [==============================] - 0s 1ms/step - loss: 0.6951 - accuracy: 0.4900\n",
            "Epoch 72/200\n",
            "32/32 [==============================] - 0s 1ms/step - loss: 0.6956 - accuracy: 0.4780\n",
            "Epoch 73/200\n",
            "32/32 [==============================] - 0s 1ms/step - loss: 0.6954 - accuracy: 0.5070\n",
            "Epoch 74/200\n",
            "32/32 [==============================] - 0s 1ms/step - loss: 0.6951 - accuracy: 0.5080\n",
            "Epoch 75/200\n",
            "32/32 [==============================] - 0s 1ms/step - loss: 0.6952 - accuracy: 0.4910\n",
            "Epoch 76/200\n",
            "32/32 [==============================] - 0s 1ms/step - loss: 0.6951 - accuracy: 0.5030\n",
            "Epoch 77/200\n",
            "32/32 [==============================] - 0s 1ms/step - loss: 0.6956 - accuracy: 0.4940\n",
            "Epoch 78/200\n",
            "32/32 [==============================] - 0s 1ms/step - loss: 0.6953 - accuracy: 0.4770\n",
            "Epoch 79/200\n",
            "32/32 [==============================] - 0s 1ms/step - loss: 0.6950 - accuracy: 0.5030\n",
            "Epoch 80/200\n",
            "32/32 [==============================] - 0s 1ms/step - loss: 0.6960 - accuracy: 0.4830\n",
            "Epoch 81/200\n",
            "32/32 [==============================] - 0s 1ms/step - loss: 0.6954 - accuracy: 0.4890\n",
            "Epoch 82/200\n",
            "32/32 [==============================] - 0s 1ms/step - loss: 0.6951 - accuracy: 0.4730\n",
            "Epoch 83/200\n",
            "32/32 [==============================] - 0s 1ms/step - loss: 0.6949 - accuracy: 0.4780\n",
            "Epoch 84/200\n",
            "32/32 [==============================] - 0s 1ms/step - loss: 0.6961 - accuracy: 0.4850\n",
            "Epoch 85/200\n",
            "32/32 [==============================] - 0s 1ms/step - loss: 0.6950 - accuracy: 0.4920\n",
            "Epoch 86/200\n",
            "32/32 [==============================] - 0s 1ms/step - loss: 0.6949 - accuracy: 0.5070\n",
            "Epoch 87/200\n",
            "32/32 [==============================] - 0s 1ms/step - loss: 0.6959 - accuracy: 0.4810\n",
            "Epoch 88/200\n",
            "32/32 [==============================] - 0s 1ms/step - loss: 0.6962 - accuracy: 0.4540\n",
            "Epoch 89/200\n",
            "32/32 [==============================] - 0s 1ms/step - loss: 0.6961 - accuracy: 0.4760\n",
            "Epoch 90/200\n",
            "32/32 [==============================] - 0s 1ms/step - loss: 0.6950 - accuracy: 0.5040\n",
            "Epoch 91/200\n",
            "32/32 [==============================] - 0s 2ms/step - loss: 0.6963 - accuracy: 0.4870\n",
            "Epoch 92/200\n",
            "32/32 [==============================] - 0s 1ms/step - loss: 0.6951 - accuracy: 0.4850\n",
            "Epoch 93/200\n",
            "32/32 [==============================] - 0s 1ms/step - loss: 0.6949 - accuracy: 0.4970\n",
            "Epoch 94/200\n",
            "32/32 [==============================] - 0s 1ms/step - loss: 0.6968 - accuracy: 0.4940\n",
            "Epoch 95/200\n",
            "32/32 [==============================] - 0s 1ms/step - loss: 0.6951 - accuracy: 0.4860\n",
            "Epoch 96/200\n",
            "32/32 [==============================] - 0s 1ms/step - loss: 0.6961 - accuracy: 0.4750\n",
            "Epoch 97/200\n",
            "32/32 [==============================] - 0s 1ms/step - loss: 0.6955 - accuracy: 0.4790\n",
            "Epoch 98/200\n",
            "32/32 [==============================] - 0s 1ms/step - loss: 0.6955 - accuracy: 0.4770\n",
            "Epoch 99/200\n",
            "32/32 [==============================] - 0s 1ms/step - loss: 0.6962 - accuracy: 0.4970\n",
            "Epoch 100/200\n",
            "32/32 [==============================] - 0s 1ms/step - loss: 0.6955 - accuracy: 0.4700\n",
            "Epoch 101/200\n",
            "32/32 [==============================] - 0s 1ms/step - loss: 0.6948 - accuracy: 0.4960\n",
            "Epoch 102/200\n",
            "32/32 [==============================] - 0s 1ms/step - loss: 0.6970 - accuracy: 0.4730\n",
            "Epoch 103/200\n",
            "32/32 [==============================] - 0s 1ms/step - loss: 0.6962 - accuracy: 0.4520\n",
            "Epoch 104/200\n",
            "32/32 [==============================] - 0s 1ms/step - loss: 0.6954 - accuracy: 0.4870\n",
            "Epoch 105/200\n",
            "32/32 [==============================] - 0s 1ms/step - loss: 0.6943 - accuracy: 0.5060\n",
            "Epoch 106/200\n",
            "32/32 [==============================] - 0s 1ms/step - loss: 0.6949 - accuracy: 0.4880\n",
            "Epoch 107/200\n",
            "32/32 [==============================] - 0s 1ms/step - loss: 0.6943 - accuracy: 0.4670\n",
            "Epoch 108/200\n",
            "32/32 [==============================] - 0s 1ms/step - loss: 0.6962 - accuracy: 0.4910\n",
            "Epoch 109/200\n",
            "32/32 [==============================] - 0s 1ms/step - loss: 0.6958 - accuracy: 0.4610\n",
            "Epoch 110/200\n",
            "32/32 [==============================] - 0s 1ms/step - loss: 0.6961 - accuracy: 0.4690\n",
            "Epoch 111/200\n",
            "32/32 [==============================] - 0s 1ms/step - loss: 0.6958 - accuracy: 0.4820\n",
            "Epoch 112/200\n",
            "32/32 [==============================] - 0s 1ms/step - loss: 0.6962 - accuracy: 0.4630\n",
            "Epoch 113/200\n",
            "32/32 [==============================] - 0s 1ms/step - loss: 0.6961 - accuracy: 0.4700\n",
            "Epoch 114/200\n",
            "32/32 [==============================] - 0s 1ms/step - loss: 0.6963 - accuracy: 0.4520\n",
            "Epoch 115/200\n",
            "32/32 [==============================] - 0s 1ms/step - loss: 0.6953 - accuracy: 0.4850\n",
            "Epoch 116/200\n",
            "32/32 [==============================] - 0s 1ms/step - loss: 0.6956 - accuracy: 0.4680\n",
            "Epoch 117/200\n",
            "32/32 [==============================] - 0s 2ms/step - loss: 0.6955 - accuracy: 0.5020\n",
            "Epoch 118/200\n",
            "32/32 [==============================] - 0s 2ms/step - loss: 0.6946 - accuracy: 0.5050\n",
            "Epoch 119/200\n",
            "32/32 [==============================] - 0s 1ms/step - loss: 0.6962 - accuracy: 0.4760\n",
            "Epoch 120/200\n",
            "32/32 [==============================] - 0s 1ms/step - loss: 0.6952 - accuracy: 0.5030\n",
            "Epoch 121/200\n",
            "32/32 [==============================] - 0s 1ms/step - loss: 0.6956 - accuracy: 0.4750\n",
            "Epoch 122/200\n",
            "32/32 [==============================] - 0s 1ms/step - loss: 0.6953 - accuracy: 0.4800\n",
            "Epoch 123/200\n",
            "32/32 [==============================] - 0s 1ms/step - loss: 0.6961 - accuracy: 0.4920\n",
            "Epoch 124/200\n",
            "32/32 [==============================] - 0s 1ms/step - loss: 0.6957 - accuracy: 0.4540\n",
            "Epoch 125/200\n",
            "32/32 [==============================] - 0s 1ms/step - loss: 0.6949 - accuracy: 0.4880\n",
            "Epoch 126/200\n",
            "32/32 [==============================] - 0s 1ms/step - loss: 0.6954 - accuracy: 0.4840\n",
            "Epoch 127/200\n",
            "32/32 [==============================] - 0s 1ms/step - loss: 0.6957 - accuracy: 0.4760\n",
            "Epoch 128/200\n",
            "32/32 [==============================] - 0s 1ms/step - loss: 0.6953 - accuracy: 0.5100\n",
            "Epoch 129/200\n",
            "32/32 [==============================] - 0s 1ms/step - loss: 0.6949 - accuracy: 0.4910\n",
            "Epoch 130/200\n",
            "32/32 [==============================] - 0s 1ms/step - loss: 0.6939 - accuracy: 0.4830\n",
            "Epoch 131/200\n",
            "32/32 [==============================] - 0s 1ms/step - loss: 0.6962 - accuracy: 0.4780\n",
            "Epoch 132/200\n",
            "32/32 [==============================] - 0s 1ms/step - loss: 0.6947 - accuracy: 0.4760\n",
            "Epoch 133/200\n",
            "32/32 [==============================] - 0s 1ms/step - loss: 0.6955 - accuracy: 0.4990\n",
            "Epoch 134/200\n",
            "32/32 [==============================] - 0s 1ms/step - loss: 0.6961 - accuracy: 0.4780\n",
            "Epoch 135/200\n",
            "32/32 [==============================] - 0s 1ms/step - loss: 0.6960 - accuracy: 0.4760\n",
            "Epoch 136/200\n",
            "32/32 [==============================] - 0s 1ms/step - loss: 0.6961 - accuracy: 0.4850\n",
            "Epoch 137/200\n",
            "32/32 [==============================] - 0s 1ms/step - loss: 0.6955 - accuracy: 0.4810\n",
            "Epoch 138/200\n",
            "32/32 [==============================] - 0s 1ms/step - loss: 0.6954 - accuracy: 0.4790\n",
            "Epoch 139/200\n",
            "32/32 [==============================] - 0s 1ms/step - loss: 0.6957 - accuracy: 0.4870\n",
            "Epoch 140/200\n",
            "32/32 [==============================] - 0s 1ms/step - loss: 0.6951 - accuracy: 0.4970\n",
            "Epoch 141/200\n",
            "32/32 [==============================] - 0s 1ms/step - loss: 0.6953 - accuracy: 0.4650\n",
            "Epoch 142/200\n",
            "32/32 [==============================] - 0s 1ms/step - loss: 0.6956 - accuracy: 0.4880\n",
            "Epoch 143/200\n",
            "32/32 [==============================] - 0s 1ms/step - loss: 0.6956 - accuracy: 0.4770\n",
            "Epoch 144/200\n",
            "32/32 [==============================] - 0s 1ms/step - loss: 0.6961 - accuracy: 0.4690\n",
            "Epoch 145/200\n",
            "32/32 [==============================] - 0s 1ms/step - loss: 0.6957 - accuracy: 0.4860\n",
            "Epoch 146/200\n",
            "32/32 [==============================] - 0s 1ms/step - loss: 0.6967 - accuracy: 0.4690\n",
            "Epoch 147/200\n",
            "32/32 [==============================] - 0s 1ms/step - loss: 0.6954 - accuracy: 0.5120\n",
            "Epoch 148/200\n",
            "32/32 [==============================] - 0s 1ms/step - loss: 0.6962 - accuracy: 0.4860\n",
            "Epoch 149/200\n",
            "32/32 [==============================] - 0s 1ms/step - loss: 0.6955 - accuracy: 0.4540\n",
            "Epoch 150/200\n",
            "32/32 [==============================] - 0s 1ms/step - loss: 0.6954 - accuracy: 0.4890\n",
            "Epoch 151/200\n",
            "32/32 [==============================] - 0s 1ms/step - loss: 0.6945 - accuracy: 0.4680\n",
            "Epoch 152/200\n",
            "32/32 [==============================] - 0s 1ms/step - loss: 0.6950 - accuracy: 0.4930\n",
            "Epoch 153/200\n",
            "32/32 [==============================] - 0s 1ms/step - loss: 0.6953 - accuracy: 0.4990\n",
            "Epoch 154/200\n",
            "32/32 [==============================] - 0s 1ms/step - loss: 0.6939 - accuracy: 0.4980\n",
            "Epoch 155/200\n",
            "32/32 [==============================] - 0s 1ms/step - loss: 0.6963 - accuracy: 0.4960\n",
            "Epoch 156/200\n",
            "32/32 [==============================] - 0s 1ms/step - loss: 0.6962 - accuracy: 0.4720\n",
            "Epoch 157/200\n",
            "32/32 [==============================] - 0s 1ms/step - loss: 0.6963 - accuracy: 0.4840\n",
            "Epoch 158/200\n",
            "32/32 [==============================] - 0s 1ms/step - loss: 0.6950 - accuracy: 0.4830\n",
            "Epoch 159/200\n",
            "32/32 [==============================] - 0s 1ms/step - loss: 0.6957 - accuracy: 0.4700\n",
            "Epoch 160/200\n",
            "32/32 [==============================] - 0s 1ms/step - loss: 0.6954 - accuracy: 0.5090\n",
            "Epoch 161/200\n",
            "32/32 [==============================] - 0s 1ms/step - loss: 0.6956 - accuracy: 0.4550\n",
            "Epoch 162/200\n",
            "32/32 [==============================] - 0s 1ms/step - loss: 0.6959 - accuracy: 0.4630\n",
            "Epoch 163/200\n",
            "32/32 [==============================] - 0s 1ms/step - loss: 0.6963 - accuracy: 0.4720\n",
            "Epoch 164/200\n",
            "32/32 [==============================] - 0s 1ms/step - loss: 0.6955 - accuracy: 0.4650\n",
            "Epoch 165/200\n",
            "32/32 [==============================] - 0s 1ms/step - loss: 0.6944 - accuracy: 0.4990\n",
            "Epoch 166/200\n",
            "32/32 [==============================] - 0s 1ms/step - loss: 0.6956 - accuracy: 0.4750\n",
            "Epoch 167/200\n",
            "32/32 [==============================] - 0s 1ms/step - loss: 0.6969 - accuracy: 0.4970\n",
            "Epoch 168/200\n",
            "32/32 [==============================] - 0s 1ms/step - loss: 0.6954 - accuracy: 0.4730\n",
            "Epoch 169/200\n",
            "32/32 [==============================] - 0s 1ms/step - loss: 0.6952 - accuracy: 0.4750\n",
            "Epoch 170/200\n",
            "32/32 [==============================] - 0s 1ms/step - loss: 0.6946 - accuracy: 0.4960\n",
            "Epoch 171/200\n",
            "32/32 [==============================] - 0s 1ms/step - loss: 0.6948 - accuracy: 0.4910\n",
            "Epoch 172/200\n",
            "32/32 [==============================] - 0s 1ms/step - loss: 0.6952 - accuracy: 0.4780\n",
            "Epoch 173/200\n",
            "32/32 [==============================] - 0s 1ms/step - loss: 0.6954 - accuracy: 0.4860\n",
            "Epoch 174/200\n",
            "32/32 [==============================] - 0s 1ms/step - loss: 0.6958 - accuracy: 0.4800\n",
            "Epoch 175/200\n",
            "32/32 [==============================] - 0s 1ms/step - loss: 0.6966 - accuracy: 0.4820\n",
            "Epoch 176/200\n",
            "32/32 [==============================] - 0s 1ms/step - loss: 0.6954 - accuracy: 0.4840\n",
            "Epoch 177/200\n",
            "32/32 [==============================] - 0s 1ms/step - loss: 0.6953 - accuracy: 0.4700\n",
            "Epoch 178/200\n",
            "32/32 [==============================] - 0s 1ms/step - loss: 0.6952 - accuracy: 0.4900\n",
            "Epoch 179/200\n",
            "32/32 [==============================] - 0s 1ms/step - loss: 0.6958 - accuracy: 0.5000\n",
            "Epoch 180/200\n",
            "32/32 [==============================] - 0s 1ms/step - loss: 0.6956 - accuracy: 0.4850\n",
            "Epoch 181/200\n",
            "32/32 [==============================] - 0s 1ms/step - loss: 0.6957 - accuracy: 0.4700\n",
            "Epoch 182/200\n",
            "32/32 [==============================] - 0s 1ms/step - loss: 0.6950 - accuracy: 0.5020\n",
            "Epoch 183/200\n",
            "32/32 [==============================] - 0s 1ms/step - loss: 0.6953 - accuracy: 0.4930\n",
            "Epoch 184/200\n",
            "32/32 [==============================] - 0s 1ms/step - loss: 0.6956 - accuracy: 0.5060\n",
            "Epoch 185/200\n",
            "32/32 [==============================] - 0s 1ms/step - loss: 0.6956 - accuracy: 0.4920\n",
            "Epoch 186/200\n",
            "32/32 [==============================] - 0s 1ms/step - loss: 0.6962 - accuracy: 0.4880\n",
            "Epoch 187/200\n",
            "32/32 [==============================] - 0s 1ms/step - loss: 0.6958 - accuracy: 0.4700\n",
            "Epoch 188/200\n",
            "32/32 [==============================] - 0s 1ms/step - loss: 0.6959 - accuracy: 0.4770\n",
            "Epoch 189/200\n",
            "32/32 [==============================] - 0s 1ms/step - loss: 0.6950 - accuracy: 0.4700\n",
            "Epoch 190/200\n",
            "32/32 [==============================] - 0s 1ms/step - loss: 0.6957 - accuracy: 0.4780\n",
            "Epoch 191/200\n",
            "32/32 [==============================] - 0s 1ms/step - loss: 0.6952 - accuracy: 0.4740\n",
            "Epoch 192/200\n",
            "32/32 [==============================] - 0s 1ms/step - loss: 0.6949 - accuracy: 0.4900\n",
            "Epoch 193/200\n",
            "32/32 [==============================] - 0s 1ms/step - loss: 0.6946 - accuracy: 0.4890\n",
            "Epoch 194/200\n",
            "32/32 [==============================] - 0s 1ms/step - loss: 0.6952 - accuracy: 0.4980\n",
            "Epoch 195/200\n",
            "32/32 [==============================] - 0s 1ms/step - loss: 0.6955 - accuracy: 0.4580\n",
            "Epoch 196/200\n",
            "32/32 [==============================] - 0s 1ms/step - loss: 0.6956 - accuracy: 0.4840\n",
            "Epoch 197/200\n",
            "32/32 [==============================] - 0s 1ms/step - loss: 0.6953 - accuracy: 0.4830\n",
            "Epoch 198/200\n",
            "32/32 [==============================] - 0s 1ms/step - loss: 0.6957 - accuracy: 0.4620\n",
            "Epoch 199/200\n",
            "32/32 [==============================] - 0s 1ms/step - loss: 0.6938 - accuracy: 0.5170\n",
            "Epoch 200/200\n",
            "32/32 [==============================] - 0s 1ms/step - loss: 0.6956 - accuracy: 0.4830\n"
          ],
          "name": "stdout"
        },
        {
          "output_type": "execute_result",
          "data": {
            "text/plain": [
              "<tensorflow.python.keras.callbacks.History at 0x7fe19858b850>"
            ]
          },
          "metadata": {
            "tags": []
          },
          "execution_count": 14
        }
      ]
    },
    {
      "cell_type": "code",
      "metadata": {
        "colab": {
          "base_uri": "https://localhost:8080/"
        },
        "id": "G2z9PmJMsFCl",
        "outputId": "bf8aefdd-fd1e-4801-8019-58b20e6f8b6c"
      },
      "source": [
        "#evaluate the model\n",
        "model_2.evaluate(X,y)"
      ],
      "execution_count": 15,
      "outputs": [
        {
          "output_type": "stream",
          "text": [
            "32/32 [==============================] - 0s 911us/step - loss: 0.6945 - accuracy: 0.5000\n"
          ],
          "name": "stdout"
        },
        {
          "output_type": "execute_result",
          "data": {
            "text/plain": [
              "[0.6945483684539795, 0.5]"
            ]
          },
          "metadata": {
            "tags": []
          },
          "execution_count": 15
        }
      ]
    },
    {
      "cell_type": "markdown",
      "metadata": {
        "id": "ahi7JyDlsK8l"
      },
      "source": [
        "##Improve the model\n",
        "\n",
        "things we can do to improve the model\n",
        "\n",
        "1.add more layers\n",
        "\n",
        "2.incease the no of hidden units\n",
        "\n",
        "3.choose different optimizaion fucntion(Adam/SGD)\n",
        "\n",
        "4.fit the model for more epochs\n"
      ]
    },
    {
      "cell_type": "code",
      "metadata": {
        "colab": {
          "base_uri": "https://localhost:8080/"
        },
        "id": "ToFGVszTsXpB",
        "outputId": "06403020-b0ae-42f0-c80a-448835500283"
      },
      "source": [
        "#set the random seed\n",
        "tf.random.set_seed(42)\n",
        "\n",
        "#create the model\n",
        "model_3=tf.keras.Sequential([\n",
        "                             tf.keras.layers.Dense(100),\n",
        "                             tf.keras.layers.Dense(10),\n",
        "                             tf.keras.layers.Dense(1)\n",
        "\n",
        "])\n",
        "\n",
        "\n",
        "#compile the model\n",
        "model_3.compile(loss=tf.keras.losses.BinaryCrossentropy(),\n",
        "                optimizer=tf.keras.optimizers.Adam(),\n",
        "                metrics=[\"accuracy\"])\n",
        "\n",
        "#fit the model\n",
        "model_3.fit(X,y,epochs=200,verbose=0)\n",
        "\n"
      ],
      "execution_count": 16,
      "outputs": [
        {
          "output_type": "execute_result",
          "data": {
            "text/plain": [
              "<tensorflow.python.keras.callbacks.History at 0x7fe1983e6e50>"
            ]
          },
          "metadata": {
            "tags": []
          },
          "execution_count": 16
        }
      ]
    },
    {
      "cell_type": "code",
      "metadata": {
        "colab": {
          "base_uri": "https://localhost:8080/"
        },
        "id": "l4aHJImLuPCN",
        "outputId": "5d9f0833-77f3-48d4-e9ae-bf46196174f9"
      },
      "source": [
        "model_3.evaluate(X,y)"
      ],
      "execution_count": 17,
      "outputs": [
        {
          "output_type": "stream",
          "text": [
            "32/32 [==============================] - 0s 939us/step - loss: 0.6933 - accuracy: 0.5000\n"
          ],
          "name": "stdout"
        },
        {
          "output_type": "execute_result",
          "data": {
            "text/plain": [
              "[0.6932551860809326, 0.5]"
            ]
          },
          "metadata": {
            "tags": []
          },
          "execution_count": 17
        }
      ]
    },
    {
      "cell_type": "markdown",
      "metadata": {
        "id": "F7nFuYe5upsB"
      },
      "source": [
        "##Visualize the Predictions\n",
        "\n",
        "*create a function to plot \n",
        "\n",
        "*create a mesh grid with different values \n",
        "\n",
        "*make predictions accross mesh grid\n",
        "\n",
        "*plot the predicts in mesh grid"
      ]
    },
    {
      "cell_type": "code",
      "metadata": {
        "id": "hnB8NNXhwh_9"
      },
      "source": [
        "import numpy as np\n"
      ],
      "execution_count": 18,
      "outputs": []
    },
    {
      "cell_type": "code",
      "metadata": {
        "id": "LXpwlpP4vRyW"
      },
      "source": [
        "import numpy as np\n",
        "\n",
        "def plot_decision_boundary(model, X, y):\n",
        "  \"\"\"\n",
        "  Plots the decision boundary created by a model predicting on X.\n",
        "  This function has been adapted from two phenomenal resources:\n",
        "   1. CS231n - https://cs231n.github.io/neural-networks-case-study/\n",
        "   2. Made with ML basics - https://github.com/GokuMohandas/MadeWithML/blob/main/notebooks/08_Neural_Networks.ipynb\n",
        "  \"\"\"\n",
        "  # Define the axis boundaries of the plot and create a meshgrid\n",
        "  x_min, x_max = X[:, 0].min() - 0.1, X[:, 0].max() + 0.1\n",
        "  y_min, y_max = X[:, 1].min() - 0.1, X[:, 1].max() + 0.1\n",
        "  xx, yy = np.meshgrid(np.linspace(x_min, x_max, 100),\n",
        "                       np.linspace(y_min, y_max, 100))\n",
        "  \n",
        "  # Create X values (we're going to predict on all of these)\n",
        "  x_in = np.c_[xx.ravel(), yy.ravel()] # stack 2D arrays together: https://numpy.org/devdocs/reference/generated/numpy.c_.html\n",
        "  \n",
        "  # Make predictions using the trained model\n",
        "  y_pred = model.predict(x_in)\n",
        "\n",
        "  # Check for multi-class\n",
        "  if len(y_pred[0]) > 1:\n",
        "    print(\"doing multiclass classification...\")\n",
        "    # We have to reshape our predictions to get them ready for plotting\n",
        "    y_pred = np.argmax(y_pred, axis=1).reshape(xx.shape)\n",
        "  else:\n",
        "    print(\"doing binary classifcation...\")\n",
        "    y_pred = np.round(y_pred).reshape(xx.shape)\n",
        "  \n",
        "  # Plot decision boundary\n",
        "  plt.contourf(xx, yy, y_pred, cmap=plt.cm.RdYlBu, alpha=0.7)\n",
        "  plt.scatter(X[:, 0], X[:, 1], c=y, s=40, cmap=plt.cm.RdYlBu)\n",
        "  plt.xlim(xx.min(), xx.max())\n",
        "  plt.ylim(yy.min(), yy.max())\n"
      ],
      "execution_count": 19,
      "outputs": []
    },
    {
      "cell_type": "code",
      "metadata": {
        "colab": {
          "base_uri": "https://localhost:8080/",
          "height": 0
        },
        "id": "GhKuU4-HywkT",
        "outputId": "41f33d89-d00e-41e4-814e-ed084a969abb"
      },
      "source": [
        "#check out the model predciton\n",
        "plot_decision_boundary(model=model_3,X=X,y=y)"
      ],
      "execution_count": 20,
      "outputs": [
        {
          "output_type": "stream",
          "text": [
            "doing binary classifcation...\n"
          ],
          "name": "stdout"
        },
        {
          "output_type": "display_data",
          "data": {
            "image/png": "[encoded data removed]",
            "text/plain": [
              "<Figure size 432x288 with 1 Axes>"
            ]
          },
          "metadata": {
            "tags": [],
            "needs_background": "light"
          }
        }
      ]
    },
    {
      "cell_type": "code",
      "metadata": {
        "colab": {
          "base_uri": "https://localhost:8080/"
        },
        "id": "6o7wyvqMMtVy",
        "outputId": "fa83ac80-7915-4079-fee7-4ad5762630fa"
      },
      "source": [
        "#chnage the model into regresstion model\n",
        "tf.random.set_seed(42)\n",
        "\n",
        "#craete regrestion data\n",
        "X_regression =tf.range(1,1000,5)\n",
        "y_regression =tf.range(100,1100,5)\n",
        "\n",
        "X_regression,y_regression"
      ],
      "execution_count": 21,
      "outputs": [
        {
          "output_type": "execute_result",
          "data": {
            "text/plain": [
              "(<tf.Tensor: shape=(200,), dtype=int32, numpy=\n",
              " array([  1,   6,  11,  16,  21,  26,  31,  36,  41,  46,  51,  56,  61,\n",
              "         66,  71,  76,  81,  86,  91,  96, 101, 106, 111, 116, 121, 126,\n",
              "        131, 136, 141, 146, 151, 156, 161, 166, 171, 176, 181, 186, 191,\n",
              "        196, 201, 206, 211, 216, 221, 226, 231, 236, 241, 246, 251, 256,\n",
              "        261, 266, 271, 276, 281, 286, 291, 296, 301, 306, 311, 316, 321,\n",
              "        326, 331, 336, 341, 346, 351, 356, 361, 366, 371, 376, 381, 386,\n",
              "        391, 396, 401, 406, 411, 416, 421, 426, 431, 436, 441, 446, 451,\n",
              "        456, 461, 466, 471, 476, 481, 486, 491, 496, 501, 506, 511, 516,\n",
              "        521, 526, 531, 536, 541, 546, 551, 556, 561, 566, 571, 576, 581,\n",
              "        586, 591, 596, 601, 606, 611, 616, 621, 626, 631, 636, 641, 646,\n",
              "        651, 656, 661, 666, 671, 676, 681, 686, 691, 696, 701, 706, 711,\n",
              "        716, 721, 726, 731, 736, 741, 746, 751, 756, 761, 766, 771, 776,\n",
              "        781, 786, 791, 796, 801, 806, 811, 816, 821, 826, 831, 836, 841,\n",
              "        846, 851, 856, 861, 866, 871, 876, 881, 886, 891, 896, 901, 906,\n",
              "        911, 916, 921, 926, 931, 936, 941, 946, 951, 956, 961, 966, 971,\n",
              "        976, 981, 986, 991, 996], dtype=int32)>,\n",
              " <tf.Tensor: shape=(200,), dtype=int32, numpy=\n",
              " array([ 100,  105,  110,  115,  120,  125,  130,  135,  140,  145,  150,\n",
              "         155,  160,  165,  170,  175,  180,  185,  190,  195,  200,  205,\n",
              "         210,  215,  220,  225,  230,  235,  240,  245,  250,  255,  260,\n",
              "         265,  270,  275,  280,  285,  290,  295,  300,  305,  310,  315,\n",
              "         320,  325,  330,  335,  340,  345,  350,  355,  360,  365,  370,\n",
              "         375,  380,  385,  390,  395,  400,  405,  410,  415,  420,  425,\n",
              "         430,  435,  440,  445,  450,  455,  460,  465,  470,  475,  480,\n",
              "         485,  490,  495,  500,  505,  510,  515,  520,  525,  530,  535,\n",
              "         540,  545,  550,  555,  560,  565,  570,  575,  580,  585,  590,\n",
              "         595,  600,  605,  610,  615,  620,  625,  630,  635,  640,  645,\n",
              "         650,  655,  660,  665,  670,  675,  680,  685,  690,  695,  700,\n",
              "         705,  710,  715,  720,  725,  730,  735,  740,  745,  750,  755,\n",
              "         760,  765,  770,  775,  780,  785,  790,  795,  800,  805,  810,\n",
              "         815,  820,  825,  830,  835,  840,  845,  850,  855,  860,  865,\n",
              "         870,  875,  880,  885,  890,  895,  900,  905,  910,  915,  920,\n",
              "         925,  930,  935,  940,  945,  950,  955,  960,  965,  970,  975,\n",
              "         980,  985,  990,  995, 1000, 1005, 1010, 1015, 1020, 1025, 1030,\n",
              "        1035, 1040, 1045, 1050, 1055, 1060, 1065, 1070, 1075, 1080, 1085,\n",
              "        1090, 1095], dtype=int32)>)"
            ]
          },
          "metadata": {
            "tags": []
          },
          "execution_count": 21
        }
      ]
    },
    {
      "cell_type": "markdown",
      "metadata": {
        "id": "GNoNJVNwOUYn"
      },
      "source": [
        "compile the model for binary classicifaction.we try to do regrestion problem.Change the code according to the problem."
      ]
    },
    {
      "cell_type": "markdown",
      "metadata": {
        "id": "1-Hy3opiO7Bq"
      },
      "source": [
        "##Model creation for Regrestion "
      ]
    },
    {
      "cell_type": "code",
      "metadata": {
        "id": "6igaHjgmOeRO"
      },
      "source": [
        "#set the random seed\n",
        "tf.random.set_seed(42)\n",
        "\n",
        "#create the model\n",
        "model_3=tf.keras.Sequential([\n",
        "                             tf.keras.layers.Dense(100),\n",
        "                             tf.keras.layers.Dense(10),\n",
        "                             tf.keras.layers.Dense(1)\n",
        "\n",
        "])\n",
        "\n",
        "\n",
        "#compile the model\n",
        "model_3.compile(loss=tf.keras.losses.mae,\n",
        "                optimizer=tf.keras.optimizers.Adam(),\n",
        "                metrics=[\"mae\"])\n"
      ],
      "execution_count": 22,
      "outputs": []
    },
    {
      "cell_type": "code",
      "metadata": {
        "colab": {
          "base_uri": "https://localhost:8080/"
        },
        "id": "RAFlGLaBNVTO",
        "outputId": "fb1acf46-86c6-4819-c6d4-269788737fc8"
      },
      "source": [
        "#split the data into training and test set\n",
        "X_reg_train =X_regression[:150]\n",
        "X_reg_test=X_regression[150:]\n",
        "y_reg_train=y_regression[:150]\n",
        "y_reg_test=y_regression[150:]\n",
        "\n",
        "#fit the model into train data\n",
        "model_3.fit(X_reg_train,y_reg_train,epochs=100)"
      ],
      "execution_count": 23,
      "outputs": [
        {
          "output_type": "stream",
          "text": [
            "Epoch 1/100\n",
            "5/5 [==============================] - 0s 3ms/step - loss: 247.6102 - mae: 247.6102\n",
            "Epoch 2/100\n",
            "5/5 [==============================] - 0s 2ms/step - loss: 138.0068 - mae: 138.0068\n",
            "Epoch 3/100\n",
            "5/5 [==============================] - 0s 3ms/step - loss: 52.4217 - mae: 52.4217\n",
            "Epoch 4/100\n",
            "5/5 [==============================] - 0s 3ms/step - loss: 73.1379 - mae: 73.1379\n",
            "Epoch 5/100\n",
            "5/5 [==============================] - 0s 2ms/step - loss: 70.4825 - mae: 70.4825\n",
            "Epoch 6/100\n",
            "5/5 [==============================] - 0s 2ms/step - loss: 46.2688 - mae: 46.2688\n",
            "Epoch 7/100\n",
            "5/5 [==============================] - 0s 3ms/step - loss: 45.5446 - mae: 45.5446\n",
            "Epoch 8/100\n",
            "5/5 [==============================] - 0s 3ms/step - loss: 41.7629 - mae: 41.7629\n",
            "Epoch 9/100\n",
            "5/5 [==============================] - 0s 2ms/step - loss: 42.9473 - mae: 42.9473\n",
            "Epoch 10/100\n",
            "5/5 [==============================] - 0s 4ms/step - loss: 41.9810 - mae: 41.9810\n",
            "Epoch 11/100\n",
            "5/5 [==============================] - 0s 3ms/step - loss: 41.8715 - mae: 41.8715\n",
            "Epoch 12/100\n",
            "5/5 [==============================] - 0s 3ms/step - loss: 40.9108 - mae: 40.9108\n",
            "Epoch 13/100\n",
            "5/5 [==============================] - 0s 3ms/step - loss: 41.5126 - mae: 41.5126\n",
            "Epoch 14/100\n",
            "5/5 [==============================] - 0s 4ms/step - loss: 41.2376 - mae: 41.2376\n",
            "Epoch 15/100\n",
            "5/5 [==============================] - 0s 3ms/step - loss: 41.0064 - mae: 41.0064\n",
            "Epoch 16/100\n",
            "5/5 [==============================] - 0s 3ms/step - loss: 40.8232 - mae: 40.8232\n",
            "Epoch 17/100\n",
            "5/5 [==============================] - 0s 3ms/step - loss: 40.9793 - mae: 40.9793\n",
            "Epoch 18/100\n",
            "5/5 [==============================] - 0s 3ms/step - loss: 40.9822 - mae: 40.9822\n",
            "Epoch 19/100\n",
            "5/5 [==============================] - 0s 3ms/step - loss: 40.7346 - mae: 40.7346\n",
            "Epoch 20/100\n",
            "5/5 [==============================] - 0s 2ms/step - loss: 40.7070 - mae: 40.7070\n",
            "Epoch 21/100\n",
            "5/5 [==============================] - 0s 3ms/step - loss: 40.7314 - mae: 40.7314\n",
            "Epoch 22/100\n",
            "5/5 [==============================] - 0s 3ms/step - loss: 40.5921 - mae: 40.5921\n",
            "Epoch 23/100\n",
            "5/5 [==============================] - 0s 3ms/step - loss: 40.7050 - mae: 40.7050\n",
            "Epoch 24/100\n",
            "5/5 [==============================] - 0s 3ms/step - loss: 40.5180 - mae: 40.5180\n",
            "Epoch 25/100\n",
            "5/5 [==============================] - 0s 3ms/step - loss: 40.5294 - mae: 40.5294\n",
            "Epoch 26/100\n",
            "5/5 [==============================] - 0s 2ms/step - loss: 40.5600 - mae: 40.5600\n",
            "Epoch 27/100\n",
            "5/5 [==============================] - 0s 2ms/step - loss: 40.4019 - mae: 40.4019\n",
            "Epoch 28/100\n",
            "5/5 [==============================] - 0s 3ms/step - loss: 40.6025 - mae: 40.6025\n",
            "Epoch 29/100\n",
            "5/5 [==============================] - 0s 3ms/step - loss: 40.5538 - mae: 40.5538\n",
            "Epoch 30/100\n",
            "5/5 [==============================] - 0s 3ms/step - loss: 40.3637 - mae: 40.3637\n",
            "Epoch 31/100\n",
            "5/5 [==============================] - 0s 3ms/step - loss: 40.8629 - mae: 40.8629\n",
            "Epoch 32/100\n",
            "5/5 [==============================] - 0s 3ms/step - loss: 40.5925 - mae: 40.5925\n",
            "Epoch 33/100\n",
            "5/5 [==============================] - 0s 4ms/step - loss: 40.7085 - mae: 40.7085\n",
            "Epoch 34/100\n",
            "5/5 [==============================] - 0s 3ms/step - loss: 40.7984 - mae: 40.7984\n",
            "Epoch 35/100\n",
            "5/5 [==============================] - 0s 3ms/step - loss: 40.1169 - mae: 40.1169\n",
            "Epoch 36/100\n",
            "5/5 [==============================] - 0s 3ms/step - loss: 40.6921 - mae: 40.6921\n",
            "Epoch 37/100\n",
            "5/5 [==============================] - 0s 3ms/step - loss: 40.4159 - mae: 40.4159\n",
            "Epoch 38/100\n",
            "5/5 [==============================] - 0s 3ms/step - loss: 39.8684 - mae: 39.8684\n",
            "Epoch 39/100\n",
            "5/5 [==============================] - 0s 3ms/step - loss: 40.4750 - mae: 40.4750\n",
            "Epoch 40/100\n",
            "5/5 [==============================] - 0s 3ms/step - loss: 40.0333 - mae: 40.0333\n",
            "Epoch 41/100\n",
            "5/5 [==============================] - 0s 2ms/step - loss: 40.1601 - mae: 40.1601\n",
            "Epoch 42/100\n",
            "5/5 [==============================] - 0s 3ms/step - loss: 39.9988 - mae: 39.9988\n",
            "Epoch 43/100\n",
            "5/5 [==============================] - 0s 3ms/step - loss: 40.0424 - mae: 40.0424\n",
            "Epoch 44/100\n",
            "5/5 [==============================] - 0s 3ms/step - loss: 39.7849 - mae: 39.7849\n",
            "Epoch 45/100\n",
            "5/5 [==============================] - 0s 4ms/step - loss: 39.9308 - mae: 39.9308\n",
            "Epoch 46/100\n",
            "5/5 [==============================] - 0s 4ms/step - loss: 39.9213 - mae: 39.9213\n",
            "Epoch 47/100\n",
            "5/5 [==============================] - 0s 3ms/step - loss: 39.8464 - mae: 39.8464\n",
            "Epoch 48/100\n",
            "5/5 [==============================] - 0s 3ms/step - loss: 39.7166 - mae: 39.7166\n",
            "Epoch 49/100\n",
            "5/5 [==============================] - 0s 3ms/step - loss: 40.2683 - mae: 40.2683\n",
            "Epoch 50/100\n",
            "5/5 [==============================] - 0s 3ms/step - loss: 39.7264 - mae: 39.7264\n",
            "Epoch 51/100\n",
            "5/5 [==============================] - 0s 3ms/step - loss: 40.0110 - mae: 40.0110\n",
            "Epoch 52/100\n",
            "5/5 [==============================] - 0s 3ms/step - loss: 40.6270 - mae: 40.6270\n",
            "Epoch 53/100\n",
            "5/5 [==============================] - 0s 4ms/step - loss: 40.4070 - mae: 40.4070\n",
            "Epoch 54/100\n",
            "5/5 [==============================] - 0s 3ms/step - loss: 40.4782 - mae: 40.4782\n",
            "Epoch 55/100\n",
            "5/5 [==============================] - 0s 3ms/step - loss: 40.8702 - mae: 40.8702\n",
            "Epoch 56/100\n",
            "5/5 [==============================] - 0s 3ms/step - loss: 41.6915 - mae: 41.6915\n",
            "Epoch 57/100\n",
            "5/5 [==============================] - 0s 3ms/step - loss: 40.4764 - mae: 40.4764\n",
            "Epoch 58/100\n",
            "5/5 [==============================] - 0s 3ms/step - loss: 40.0759 - mae: 40.0759\n",
            "Epoch 59/100\n",
            "5/5 [==============================] - 0s 4ms/step - loss: 40.7633 - mae: 40.7633\n",
            "Epoch 60/100\n",
            "5/5 [==============================] - 0s 3ms/step - loss: 39.7248 - mae: 39.7248\n",
            "Epoch 61/100\n",
            "5/5 [==============================] - 0s 3ms/step - loss: 39.2797 - mae: 39.2797\n",
            "Epoch 62/100\n",
            "5/5 [==============================] - 0s 3ms/step - loss: 40.3405 - mae: 40.3405\n",
            "Epoch 63/100\n",
            "5/5 [==============================] - 0s 4ms/step - loss: 39.1696 - mae: 39.1696\n",
            "Epoch 64/100\n",
            "5/5 [==============================] - 0s 4ms/step - loss: 39.3787 - mae: 39.3787\n",
            "Epoch 65/100\n",
            "5/5 [==============================] - 0s 3ms/step - loss: 39.3925 - mae: 39.3925\n",
            "Epoch 66/100\n",
            "5/5 [==============================] - 0s 3ms/step - loss: 39.5253 - mae: 39.5253\n",
            "Epoch 67/100\n",
            "5/5 [==============================] - 0s 2ms/step - loss: 39.1988 - mae: 39.1988\n",
            "Epoch 68/100\n",
            "5/5 [==============================] - 0s 4ms/step - loss: 39.1267 - mae: 39.1267\n",
            "Epoch 69/100\n",
            "5/5 [==============================] - 0s 3ms/step - loss: 39.2832 - mae: 39.2832\n",
            "Epoch 70/100\n",
            "5/5 [==============================] - 0s 3ms/step - loss: 39.5815 - mae: 39.5815\n",
            "Epoch 71/100\n",
            "5/5 [==============================] - 0s 2ms/step - loss: 39.9860 - mae: 39.9860\n",
            "Epoch 72/100\n",
            "5/5 [==============================] - 0s 5ms/step - loss: 38.7661 - mae: 38.7661\n",
            "Epoch 73/100\n",
            "5/5 [==============================] - 0s 2ms/step - loss: 39.4114 - mae: 39.4114\n",
            "Epoch 74/100\n",
            "5/5 [==============================] - 0s 3ms/step - loss: 39.0900 - mae: 39.0900\n",
            "Epoch 75/100\n",
            "5/5 [==============================] - 0s 4ms/step - loss: 39.2228 - mae: 39.2228\n",
            "Epoch 76/100\n",
            "5/5 [==============================] - 0s 3ms/step - loss: 38.8683 - mae: 38.8683\n",
            "Epoch 77/100\n",
            "5/5 [==============================] - 0s 3ms/step - loss: 38.8348 - mae: 38.8348\n",
            "Epoch 78/100\n",
            "5/5 [==============================] - 0s 3ms/step - loss: 39.2769 - mae: 39.2769\n",
            "Epoch 79/100\n",
            "5/5 [==============================] - 0s 3ms/step - loss: 38.5724 - mae: 38.5724\n",
            "Epoch 80/100\n",
            "5/5 [==============================] - 0s 3ms/step - loss: 38.5596 - mae: 38.5596\n",
            "Epoch 81/100\n",
            "5/5 [==============================] - 0s 2ms/step - loss: 38.5575 - mae: 38.5575\n",
            "Epoch 82/100\n",
            "5/5 [==============================] - 0s 3ms/step - loss: 38.4081 - mae: 38.4081\n",
            "Epoch 83/100\n",
            "5/5 [==============================] - 0s 3ms/step - loss: 38.5682 - mae: 38.5682\n",
            "Epoch 84/100\n",
            "5/5 [==============================] - 0s 3ms/step - loss: 38.4030 - mae: 38.4030\n",
            "Epoch 85/100\n",
            "5/5 [==============================] - 0s 3ms/step - loss: 38.4759 - mae: 38.4759\n",
            "Epoch 86/100\n",
            "5/5 [==============================] - 0s 3ms/step - loss: 38.0982 - mae: 38.0982\n",
            "Epoch 87/100\n",
            "5/5 [==============================] - 0s 2ms/step - loss: 38.4504 - mae: 38.4504\n",
            "Epoch 88/100\n",
            "5/5 [==============================] - 0s 3ms/step - loss: 38.1484 - mae: 38.1484\n",
            "Epoch 89/100\n",
            "5/5 [==============================] - 0s 2ms/step - loss: 38.3386 - mae: 38.3386\n",
            "Epoch 90/100\n",
            "5/5 [==============================] - 0s 4ms/step - loss: 38.0687 - mae: 38.0687\n",
            "Epoch 91/100\n",
            "5/5 [==============================] - 0s 3ms/step - loss: 37.8081 - mae: 37.8081\n",
            "Epoch 92/100\n",
            "5/5 [==============================] - 0s 3ms/step - loss: 38.3350 - mae: 38.3350\n",
            "Epoch 93/100\n",
            "5/5 [==============================] - 0s 2ms/step - loss: 38.5072 - mae: 38.5072\n",
            "Epoch 94/100\n",
            "5/5 [==============================] - 0s 2ms/step - loss: 37.6838 - mae: 37.6838\n",
            "Epoch 95/100\n",
            "5/5 [==============================] - 0s 2ms/step - loss: 38.1731 - mae: 38.1731\n",
            "Epoch 96/100\n",
            "5/5 [==============================] - 0s 3ms/step - loss: 37.9295 - mae: 37.9295\n",
            "Epoch 97/100\n",
            "5/5 [==============================] - 0s 2ms/step - loss: 37.6663 - mae: 37.6663\n",
            "Epoch 98/100\n",
            "5/5 [==============================] - 0s 3ms/step - loss: 38.4549 - mae: 38.4549\n",
            "Epoch 99/100\n",
            "5/5 [==============================] - 0s 3ms/step - loss: 37.7835 - mae: 37.7835\n",
            "Epoch 100/100\n",
            "5/5 [==============================] - 0s 3ms/step - loss: 37.6612 - mae: 37.6612\n"
          ],
          "name": "stdout"
        },
        {
          "output_type": "execute_result",
          "data": {
            "text/plain": [
              "<tensorflow.python.keras.callbacks.History at 0x7fe1980aa410>"
            ]
          },
          "metadata": {
            "tags": []
          },
          "execution_count": 23
        }
      ]
    },
    {
      "cell_type": "code",
      "metadata": {
        "colab": {
          "base_uri": "https://localhost:8080/"
        },
        "id": "39kSc_MtN-Md",
        "outputId": "f88a96d3-fd7c-4271-f1fe-3a32a1239523"
      },
      "source": [
        "model_3.evaluate(X_reg_test)\n"
      ],
      "execution_count": 24,
      "outputs": [
        {
          "output_type": "stream",
          "text": [
            "2/2 [==============================] - 0s 5ms/step - loss: 0.0000e+00 - mae: 0.0000e+00\n"
          ],
          "name": "stdout"
        },
        {
          "output_type": "execute_result",
          "data": {
            "text/plain": [
              "[0.0, 0.0]"
            ]
          },
          "metadata": {
            "tags": []
          },
          "execution_count": 24
        }
      ]
    },
    {
      "cell_type": "code",
      "metadata": {
        "colab": {
          "base_uri": "https://localhost:8080/",
          "height": 445
        },
        "id": "2wC__Qe5O3K6",
        "outputId": "a7b83b03-b5d5-480d-ce72-d29ae66700cb"
      },
      "source": [
        "#make predcitons \n",
        "y_reg_preds=model_3.predict(X_reg_test)\n",
        "\n",
        "#plot the model predcitons against the regrestion data\n",
        "plt.figure(figsize=(10,7))\n",
        "\n",
        "plt.scatter(X_reg_train,y_reg_train,c=\"b\",label=\"Training Data\")\n",
        "plt.scatter(X_reg_test,y_reg_test,c=\"g\",label=\"Test Data\")\n",
        "\n",
        "plt.scatter(X_reg_test,y_reg_preds,c=\"r\",label=\"Predctions\")\n",
        "plt.legend()"
      ],
      "execution_count": 25,
      "outputs": [
        {
          "output_type": "execute_result",
          "data": {
            "text/plain": [
              "<matplotlib.legend.Legend at 0x7fe19907ff50>"
            ]
          },
          "metadata": {
            "tags": []
          },
          "execution_count": 25
        },
        {
          "output_type": "display_data",
          "data": {
            "image/png": "[encoded data removed]",
            "text/plain": [
              "<Figure size 720x504 with 1 Axes>"
            ]
          },
          "metadata": {
            "tags": [],
            "needs_background": "light"
          }
        }
      ]
    },
    {
      "cell_type": "markdown",
      "metadata": {
        "id": "a-riT17WP9lU"
      },
      "source": [
        "##Non-Linerarity"
      ]
    },
    {
      "cell_type": "code",
      "metadata": {
        "colab": {
          "base_uri": "https://localhost:8080/"
        },
        "id": "yGjh3fAvQkiv",
        "outputId": "26ed71a9-61d2-4bad-d03a-df03cc2ca0c3"
      },
      "source": [
        "#set the random seed \n",
        "tf.random.set_seed(42)\n",
        "\n",
        "#create the model\n",
        "model_4=tf.keras.Sequential([\n",
        "                             tf.keras.layers.Dense(1,activation=tf.keras.activations.linear)\n",
        "])\n",
        "\n",
        "#compile the model\n",
        "model_4.compile(loss=tf.keras.losses.BinaryCrossentropy(),\n",
        "                optimizer=tf.keras.optimizers.Adam(learning_rate=0.001),\n",
        "                metrics=[\"accuracy\"])\n",
        "\n",
        "#fit the model\n",
        "history =model_4.fit(X,y,epochs=100)"
      ],
      "execution_count": 26,
      "outputs": [
        {
          "output_type": "stream",
          "text": [
            "Epoch 1/100\n",
            "32/32 [==============================] - 0s 1ms/step - loss: 4.2979 - accuracy: 0.4670\n",
            "Epoch 2/100\n",
            "32/32 [==============================] - 0s 1ms/step - loss: 4.2317 - accuracy: 0.4400\n",
            "Epoch 3/100\n",
            "32/32 [==============================] - 0s 995us/step - loss: 4.1610 - accuracy: 0.4310\n",
            "Epoch 4/100\n",
            "32/32 [==============================] - 0s 1ms/step - loss: 4.1183 - accuracy: 0.4270\n",
            "Epoch 5/100\n",
            "32/32 [==============================] - 0s 1ms/step - loss: 4.0784 - accuracy: 0.4240\n",
            "Epoch 6/100\n",
            "32/32 [==============================] - 0s 1ms/step - loss: 3.9604 - accuracy: 0.4170\n",
            "Epoch 7/100\n",
            "32/32 [==============================] - 0s 1ms/step - loss: 3.8936 - accuracy: 0.4110\n",
            "Epoch 8/100\n",
            "32/32 [==============================] - 0s 1ms/step - loss: 3.7818 - accuracy: 0.4140\n",
            "Epoch 9/100\n",
            "32/32 [==============================] - 0s 1ms/step - loss: 3.7564 - accuracy: 0.4140\n",
            "Epoch 10/100\n",
            "32/32 [==============================] - 0s 996us/step - loss: 3.7547 - accuracy: 0.4150\n",
            "Epoch 11/100\n",
            "32/32 [==============================] - 0s 1ms/step - loss: 3.7537 - accuracy: 0.4140\n",
            "Epoch 12/100\n",
            "32/32 [==============================] - 0s 1ms/step - loss: 3.7526 - accuracy: 0.4140\n",
            "Epoch 13/100\n",
            "32/32 [==============================] - 0s 1ms/step - loss: 3.7518 - accuracy: 0.4140\n",
            "Epoch 14/100\n",
            "32/32 [==============================] - 0s 1ms/step - loss: 3.7510 - accuracy: 0.4140\n",
            "Epoch 15/100\n",
            "32/32 [==============================] - 0s 960us/step - loss: 3.7503 - accuracy: 0.4130\n",
            "Epoch 16/100\n",
            "32/32 [==============================] - 0s 1ms/step - loss: 3.7497 - accuracy: 0.4130\n",
            "Epoch 17/100\n",
            "32/32 [==============================] - 0s 1ms/step - loss: 3.7490 - accuracy: 0.4130\n",
            "Epoch 18/100\n",
            "32/32 [==============================] - 0s 1ms/step - loss: 3.7484 - accuracy: 0.4130\n",
            "Epoch 19/100\n",
            "32/32 [==============================] - 0s 1ms/step - loss: 3.7478 - accuracy: 0.4120\n",
            "Epoch 20/100\n",
            "32/32 [==============================] - 0s 1ms/step - loss: 3.7472 - accuracy: 0.4120\n",
            "Epoch 21/100\n",
            "32/32 [==============================] - 0s 1ms/step - loss: 3.7466 - accuracy: 0.4110\n",
            "Epoch 22/100\n",
            "32/32 [==============================] - 0s 1ms/step - loss: 3.7461 - accuracy: 0.4110\n",
            "Epoch 23/100\n",
            "32/32 [==============================] - 0s 1ms/step - loss: 3.7455 - accuracy: 0.4110\n",
            "Epoch 24/100\n",
            "32/32 [==============================] - 0s 1ms/step - loss: 3.7450 - accuracy: 0.4110\n",
            "Epoch 25/100\n",
            "32/32 [==============================] - 0s 1ms/step - loss: 3.7366 - accuracy: 0.4120\n",
            "Epoch 26/100\n",
            "32/32 [==============================] - 0s 1ms/step - loss: 3.7256 - accuracy: 0.4120\n",
            "Epoch 27/100\n",
            "32/32 [==============================] - 0s 1ms/step - loss: 3.7230 - accuracy: 0.4140\n",
            "Epoch 28/100\n",
            "32/32 [==============================] - 0s 1ms/step - loss: 3.7215 - accuracy: 0.4140\n",
            "Epoch 29/100\n",
            "32/32 [==============================] - 0s 1ms/step - loss: 3.7204 - accuracy: 0.4150\n",
            "Epoch 30/100\n",
            "32/32 [==============================] - 0s 1ms/step - loss: 3.7196 - accuracy: 0.4160\n",
            "Epoch 31/100\n",
            "32/32 [==============================] - 0s 1ms/step - loss: 3.7188 - accuracy: 0.4170\n",
            "Epoch 32/100\n",
            "32/32 [==============================] - 0s 1ms/step - loss: 3.7181 - accuracy: 0.4170\n",
            "Epoch 33/100\n",
            "32/32 [==============================] - 0s 1ms/step - loss: 3.7174 - accuracy: 0.4170\n",
            "Epoch 34/100\n",
            "32/32 [==============================] - 0s 1ms/step - loss: 3.7167 - accuracy: 0.4170\n",
            "Epoch 35/100\n",
            "32/32 [==============================] - 0s 1ms/step - loss: 3.7161 - accuracy: 0.4160\n",
            "Epoch 36/100\n",
            "32/32 [==============================] - 0s 1ms/step - loss: 3.7153 - accuracy: 0.4150\n",
            "Epoch 37/100\n",
            "32/32 [==============================] - 0s 1ms/step - loss: 3.7147 - accuracy: 0.4150\n",
            "Epoch 38/100\n",
            "32/32 [==============================] - 0s 1ms/step - loss: 3.7141 - accuracy: 0.4150\n",
            "Epoch 39/100\n",
            "32/32 [==============================] - 0s 1ms/step - loss: 3.7135 - accuracy: 0.4150\n",
            "Epoch 40/100\n",
            "32/32 [==============================] - 0s 1ms/step - loss: 3.7129 - accuracy: 0.4150\n",
            "Epoch 41/100\n",
            "32/32 [==============================] - 0s 1ms/step - loss: 3.7123 - accuracy: 0.4150\n",
            "Epoch 42/100\n",
            "32/32 [==============================] - 0s 2ms/step - loss: 3.7118 - accuracy: 0.4160\n",
            "Epoch 43/100\n",
            "32/32 [==============================] - 0s 1ms/step - loss: 3.7112 - accuracy: 0.4160\n",
            "Epoch 44/100\n",
            "32/32 [==============================] - 0s 1ms/step - loss: 3.7107 - accuracy: 0.4160\n",
            "Epoch 45/100\n",
            "32/32 [==============================] - 0s 1ms/step - loss: 3.7101 - accuracy: 0.4150\n",
            "Epoch 46/100\n",
            "32/32 [==============================] - 0s 1ms/step - loss: 3.7096 - accuracy: 0.4170\n",
            "Epoch 47/100\n",
            "32/32 [==============================] - 0s 1ms/step - loss: 3.7091 - accuracy: 0.4170\n",
            "Epoch 48/100\n",
            "32/32 [==============================] - 0s 1ms/step - loss: 3.7014 - accuracy: 0.4170\n",
            "Epoch 49/100\n",
            "32/32 [==============================] - 0s 1ms/step - loss: 3.6892 - accuracy: 0.4190\n",
            "Epoch 50/100\n",
            "32/32 [==============================] - 0s 1ms/step - loss: 3.6856 - accuracy: 0.4190\n",
            "Epoch 51/100\n",
            "32/32 [==============================] - 0s 1ms/step - loss: 3.6846 - accuracy: 0.4190\n",
            "Epoch 52/100\n",
            "32/32 [==============================] - 0s 1ms/step - loss: 3.6837 - accuracy: 0.4190\n",
            "Epoch 53/100\n",
            "32/32 [==============================] - 0s 1ms/step - loss: 3.6829 - accuracy: 0.4190\n",
            "Epoch 54/100\n",
            "32/32 [==============================] - 0s 1ms/step - loss: 3.6821 - accuracy: 0.4190\n",
            "Epoch 55/100\n",
            "32/32 [==============================] - 0s 1ms/step - loss: 3.6814 - accuracy: 0.4190\n",
            "Epoch 56/100\n",
            "32/32 [==============================] - 0s 1ms/step - loss: 3.6807 - accuracy: 0.4200\n",
            "Epoch 57/100\n",
            "32/32 [==============================] - 0s 1ms/step - loss: 3.6727 - accuracy: 0.4210\n",
            "Epoch 58/100\n",
            "32/32 [==============================] - 0s 1ms/step - loss: 3.6690 - accuracy: 0.4190\n",
            "Epoch 59/100\n",
            "32/32 [==============================] - 0s 1ms/step - loss: 3.6677 - accuracy: 0.4190\n",
            "Epoch 60/100\n",
            "32/32 [==============================] - 0s 1ms/step - loss: 3.6585 - accuracy: 0.4190\n",
            "Epoch 61/100\n",
            "32/32 [==============================] - 0s 1ms/step - loss: 3.6489 - accuracy: 0.4200\n",
            "Epoch 62/100\n",
            "32/32 [==============================] - 0s 1ms/step - loss: 3.6330 - accuracy: 0.4190\n",
            "Epoch 63/100\n",
            "32/32 [==============================] - 0s 1ms/step - loss: 3.6282 - accuracy: 0.4200\n",
            "Epoch 64/100\n",
            "32/32 [==============================] - 0s 1ms/step - loss: 3.6162 - accuracy: 0.4220\n",
            "Epoch 65/100\n",
            "32/32 [==============================] - 0s 1ms/step - loss: 3.6062 - accuracy: 0.4240\n",
            "Epoch 66/100\n",
            "32/32 [==============================] - 0s 1ms/step - loss: 3.6031 - accuracy: 0.4260\n",
            "Epoch 67/100\n",
            "32/32 [==============================] - 0s 1ms/step - loss: 3.6012 - accuracy: 0.4280\n",
            "Epoch 68/100\n",
            "32/32 [==============================] - 0s 1ms/step - loss: 3.5999 - accuracy: 0.4280\n",
            "Epoch 69/100\n",
            "32/32 [==============================] - 0s 1ms/step - loss: 3.5904 - accuracy: 0.4290\n",
            "Epoch 70/100\n",
            "32/32 [==============================] - 0s 1ms/step - loss: 3.5858 - accuracy: 0.4300\n",
            "Epoch 71/100\n",
            "32/32 [==============================] - 0s 1ms/step - loss: 3.5846 - accuracy: 0.4300\n",
            "Epoch 72/100\n",
            "32/32 [==============================] - 0s 1ms/step - loss: 3.5836 - accuracy: 0.4300\n",
            "Epoch 73/100\n",
            "32/32 [==============================] - 0s 1ms/step - loss: 3.5826 - accuracy: 0.4310\n",
            "Epoch 74/100\n",
            "32/32 [==============================] - 0s 1ms/step - loss: 3.5817 - accuracy: 0.4330\n",
            "Epoch 75/100\n",
            "32/32 [==============================] - 0s 1ms/step - loss: 3.5656 - accuracy: 0.4360\n",
            "Epoch 76/100\n",
            "32/32 [==============================] - 0s 992us/step - loss: 3.5355 - accuracy: 0.4410\n",
            "Epoch 77/100\n",
            "32/32 [==============================] - 0s 1ms/step - loss: 3.5335 - accuracy: 0.4410\n",
            "Epoch 78/100\n",
            "32/32 [==============================] - 0s 1ms/step - loss: 3.5319 - accuracy: 0.4420\n",
            "Epoch 79/100\n",
            "32/32 [==============================] - 0s 1ms/step - loss: 3.5306 - accuracy: 0.4420\n",
            "Epoch 80/100\n",
            "32/32 [==============================] - 0s 1ms/step - loss: 3.5208 - accuracy: 0.4420\n",
            "Epoch 81/100\n",
            "32/32 [==============================] - 0s 1ms/step - loss: 3.5172 - accuracy: 0.4420\n",
            "Epoch 82/100\n",
            "32/32 [==============================] - 0s 1ms/step - loss: 3.5157 - accuracy: 0.4430\n",
            "Epoch 83/100\n",
            "32/32 [==============================] - 0s 1ms/step - loss: 3.5144 - accuracy: 0.4450\n",
            "Epoch 84/100\n",
            "32/32 [==============================] - 0s 1ms/step - loss: 3.5132 - accuracy: 0.4450\n",
            "Epoch 85/100\n",
            "32/32 [==============================] - 0s 1ms/step - loss: 3.5043 - accuracy: 0.4460\n",
            "Epoch 86/100\n",
            "32/32 [==============================] - 0s 1ms/step - loss: 3.5002 - accuracy: 0.4470\n",
            "Epoch 87/100\n",
            "32/32 [==============================] - 0s 1ms/step - loss: 3.4905 - accuracy: 0.4470\n",
            "Epoch 88/100\n",
            "32/32 [==============================] - 0s 1ms/step - loss: 3.4788 - accuracy: 0.4470\n",
            "Epoch 89/100\n",
            "32/32 [==============================] - 0s 1ms/step - loss: 3.4661 - accuracy: 0.4470\n",
            "Epoch 90/100\n",
            "32/32 [==============================] - 0s 1ms/step - loss: 3.4452 - accuracy: 0.4490\n",
            "Epoch 91/100\n",
            "32/32 [==============================] - 0s 1ms/step - loss: 3.4198 - accuracy: 0.4560\n",
            "Epoch 92/100\n",
            "32/32 [==============================] - 0s 1ms/step - loss: 3.4176 - accuracy: 0.4550\n",
            "Epoch 93/100\n",
            "32/32 [==============================] - 0s 1ms/step - loss: 3.4072 - accuracy: 0.4580\n",
            "Epoch 94/100\n",
            "32/32 [==============================] - 0s 1ms/step - loss: 3.4036 - accuracy: 0.4580\n",
            "Epoch 95/100\n",
            "32/32 [==============================] - 0s 1ms/step - loss: 3.3944 - accuracy: 0.4590\n",
            "Epoch 96/100\n",
            "32/32 [==============================] - 0s 1ms/step - loss: 3.3290 - accuracy: 0.4590\n",
            "Epoch 97/100\n",
            "32/32 [==============================] - 0s 1ms/step - loss: 3.2727 - accuracy: 0.4600\n",
            "Epoch 98/100\n",
            "32/32 [==============================] - 0s 1ms/step - loss: 3.2636 - accuracy: 0.4580\n",
            "Epoch 99/100\n",
            "32/32 [==============================] - 0s 1ms/step - loss: 3.2509 - accuracy: 0.4570\n",
            "Epoch 100/100\n",
            "32/32 [==============================] - 0s 1ms/step - loss: 3.2459 - accuracy: 0.4570\n"
          ],
          "name": "stdout"
        }
      ]
    },
    {
      "cell_type": "code",
      "metadata": {
        "colab": {
          "base_uri": "https://localhost:8080/",
          "height": 282
        },
        "id": "pwKEP3_xSXyd",
        "outputId": "f100b932-eeb8-46f7-e99d-7020fb13c847"
      },
      "source": [
        "#check out the data\n",
        "plt.scatter(X[:,0],X[:,1],c=y,cmap=plt.cm.RdYlBu)"
      ],
      "execution_count": 27,
      "outputs": [
        {
          "output_type": "execute_result",
          "data": {
            "text/plain": [
              "<matplotlib.collections.PathCollection at 0x7fe198d9c410>"
            ]
          },
          "metadata": {
            "tags": []
          },
          "execution_count": 27
        },
        {
          "output_type": "display_data",
          "data": {
            "image/png": "[encoded data removed]",
            "text/plain": [
              "<Figure size 432x288 with 1 Axes>"
            ]
          },
          "metadata": {
            "tags": [],
            "needs_background": "light"
          }
        }
      ]
    },
    {
      "cell_type": "code",
      "metadata": {
        "colab": {
          "base_uri": "https://localhost:8080/",
          "height": 282
        },
        "id": "WQwSZ3tsS818",
        "outputId": "bae46b37-93d0-406b-8f88-939202292599"
      },
      "source": [
        "#check the deciosn boundry for model\n",
        "plot_decision_boundary(model=model_4,\n",
        "                       X=X,\n",
        "                       y=y) "
      ],
      "execution_count": 28,
      "outputs": [
        {
          "output_type": "stream",
          "text": [
            "doing binary classifcation...\n"
          ],
          "name": "stdout"
        },
        {
          "output_type": "display_data",
          "data": {
            "image/png": "[encoded data removed]",
            "text/plain": [
              "<Figure size 432x288 with 1 Axes>"
            ]
          },
          "metadata": {
            "tags": [],
            "needs_background": "light"
          }
        }
      ]
    },
    {
      "cell_type": "markdown",
      "metadata": {
        "id": "dTcxsrHlUUtT"
      },
      "source": [
        "##Non-Linear Activation"
      ]
    },
    {
      "cell_type": "code",
      "metadata": {
        "colab": {
          "base_uri": "https://localhost:8080/"
        },
        "id": "nV1339c2TMUZ",
        "outputId": "e46b2a29-ce3a-4855-cab2-ca25fdc6f79f"
      },
      "source": [
        "#set the random seed \n",
        "tf.random.set_seed(42)\n",
        "\n",
        "#create the model\n",
        "model_5=tf.keras.Sequential([\n",
        "                             tf.keras.layers.Dense(1,activation=tf.keras.activations.relu)\n",
        "])\n",
        "\n",
        "#compile the model\n",
        "model_5.compile(loss=tf.keras.losses.BinaryCrossentropy(),\n",
        "                optimizer=tf.keras.optimizers.Adam(learning_rate=0.001),\n",
        "                metrics=[\"accuracy\"])\n",
        "\n",
        "#fit the model\n",
        "history =model_5.fit(X,y,epochs=100)"
      ],
      "execution_count": 29,
      "outputs": [
        {
          "output_type": "stream",
          "text": [
            "Epoch 1/100\n",
            "32/32 [==============================] - 0s 1ms/step - loss: 4.2979 - accuracy: 0.4670\n",
            "Epoch 2/100\n",
            "32/32 [==============================] - 0s 954us/step - loss: 4.2317 - accuracy: 0.4400\n",
            "Epoch 3/100\n",
            "32/32 [==============================] - 0s 947us/step - loss: 4.1610 - accuracy: 0.4310\n",
            "Epoch 4/100\n",
            "32/32 [==============================] - 0s 1ms/step - loss: 4.1183 - accuracy: 0.4270\n",
            "Epoch 5/100\n",
            "32/32 [==============================] - 0s 1ms/step - loss: 4.0784 - accuracy: 0.4240\n",
            "Epoch 6/100\n",
            "32/32 [==============================] - 0s 1ms/step - loss: 3.9604 - accuracy: 0.4170\n",
            "Epoch 7/100\n",
            "32/32 [==============================] - 0s 1ms/step - loss: 3.8936 - accuracy: 0.4110\n",
            "Epoch 8/100\n",
            "32/32 [==============================] - 0s 993us/step - loss: 3.7818 - accuracy: 0.4140\n",
            "Epoch 9/100\n",
            "32/32 [==============================] - 0s 1ms/step - loss: 3.7564 - accuracy: 0.4140\n",
            "Epoch 10/100\n",
            "32/32 [==============================] - 0s 1ms/step - loss: 3.7547 - accuracy: 0.4150\n",
            "Epoch 11/100\n",
            "32/32 [==============================] - 0s 1ms/step - loss: 3.7537 - accuracy: 0.4140\n",
            "Epoch 12/100\n",
            "32/32 [==============================] - 0s 1ms/step - loss: 3.7526 - accuracy: 0.4140\n",
            "Epoch 13/100\n",
            "32/32 [==============================] - 0s 993us/step - loss: 3.7518 - accuracy: 0.4140\n",
            "Epoch 14/100\n",
            "32/32 [==============================] - 0s 1ms/step - loss: 3.7510 - accuracy: 0.4140\n",
            "Epoch 15/100\n",
            "32/32 [==============================] - 0s 1ms/step - loss: 3.7503 - accuracy: 0.4130\n",
            "Epoch 16/100\n",
            "32/32 [==============================] - 0s 1ms/step - loss: 3.7497 - accuracy: 0.4130\n",
            "Epoch 17/100\n",
            "32/32 [==============================] - 0s 1ms/step - loss: 3.7490 - accuracy: 0.4130\n",
            "Epoch 18/100\n",
            "32/32 [==============================] - 0s 992us/step - loss: 3.7484 - accuracy: 0.4130\n",
            "Epoch 19/100\n",
            "32/32 [==============================] - 0s 1ms/step - loss: 3.7478 - accuracy: 0.4120\n",
            "Epoch 20/100\n",
            "32/32 [==============================] - 0s 1ms/step - loss: 3.7472 - accuracy: 0.4120\n",
            "Epoch 21/100\n",
            "32/32 [==============================] - 0s 1ms/step - loss: 3.7466 - accuracy: 0.4110\n",
            "Epoch 22/100\n",
            "32/32 [==============================] - 0s 1ms/step - loss: 3.7461 - accuracy: 0.4110\n",
            "Epoch 23/100\n",
            "32/32 [==============================] - 0s 1ms/step - loss: 3.7455 - accuracy: 0.4110\n",
            "Epoch 24/100\n",
            "32/32 [==============================] - 0s 1ms/step - loss: 3.7450 - accuracy: 0.4110\n",
            "Epoch 25/100\n",
            "32/32 [==============================] - 0s 1ms/step - loss: 3.7366 - accuracy: 0.4120\n",
            "Epoch 26/100\n",
            "32/32 [==============================] - 0s 1ms/step - loss: 3.7256 - accuracy: 0.4120\n",
            "Epoch 27/100\n",
            "32/32 [==============================] - 0s 1ms/step - loss: 3.7230 - accuracy: 0.4140\n",
            "Epoch 28/100\n",
            "32/32 [==============================] - 0s 1ms/step - loss: 3.7215 - accuracy: 0.4140\n",
            "Epoch 29/100\n",
            "32/32 [==============================] - 0s 1ms/step - loss: 3.7204 - accuracy: 0.4150\n",
            "Epoch 30/100\n",
            "32/32 [==============================] - 0s 1ms/step - loss: 3.7196 - accuracy: 0.4160\n",
            "Epoch 31/100\n",
            "32/32 [==============================] - 0s 1ms/step - loss: 3.7188 - accuracy: 0.4170\n",
            "Epoch 32/100\n",
            "32/32 [==============================] - 0s 1ms/step - loss: 3.7181 - accuracy: 0.4170\n",
            "Epoch 33/100\n",
            "32/32 [==============================] - 0s 1ms/step - loss: 3.7174 - accuracy: 0.4170\n",
            "Epoch 34/100\n",
            "32/32 [==============================] - 0s 1ms/step - loss: 3.7167 - accuracy: 0.4170\n",
            "Epoch 35/100\n",
            "32/32 [==============================] - 0s 1ms/step - loss: 3.7161 - accuracy: 0.4160\n",
            "Epoch 36/100\n",
            "32/32 [==============================] - 0s 1ms/step - loss: 3.7153 - accuracy: 0.4150\n",
            "Epoch 37/100\n",
            "32/32 [==============================] - 0s 1ms/step - loss: 3.7147 - accuracy: 0.4150\n",
            "Epoch 38/100\n",
            "32/32 [==============================] - 0s 1ms/step - loss: 3.7141 - accuracy: 0.4150\n",
            "Epoch 39/100\n",
            "32/32 [==============================] - 0s 1ms/step - loss: 3.7135 - accuracy: 0.4150\n",
            "Epoch 40/100\n",
            "32/32 [==============================] - 0s 1ms/step - loss: 3.7129 - accuracy: 0.4150\n",
            "Epoch 41/100\n",
            "32/32 [==============================] - 0s 1ms/step - loss: 3.7123 - accuracy: 0.4150\n",
            "Epoch 42/100\n",
            "32/32 [==============================] - 0s 1ms/step - loss: 3.7118 - accuracy: 0.4160\n",
            "Epoch 43/100\n",
            "32/32 [==============================] - 0s 1ms/step - loss: 3.7112 - accuracy: 0.4160\n",
            "Epoch 44/100\n",
            "32/32 [==============================] - 0s 1ms/step - loss: 3.7107 - accuracy: 0.4160\n",
            "Epoch 45/100\n",
            "32/32 [==============================] - 0s 1ms/step - loss: 3.7101 - accuracy: 0.4150\n",
            "Epoch 46/100\n",
            "32/32 [==============================] - 0s 1ms/step - loss: 3.7096 - accuracy: 0.4170\n",
            "Epoch 47/100\n",
            "32/32 [==============================] - 0s 1ms/step - loss: 3.7091 - accuracy: 0.4170\n",
            "Epoch 48/100\n",
            "32/32 [==============================] - 0s 1ms/step - loss: 3.7014 - accuracy: 0.4170\n",
            "Epoch 49/100\n",
            "32/32 [==============================] - 0s 1ms/step - loss: 3.6892 - accuracy: 0.4190\n",
            "Epoch 50/100\n",
            "32/32 [==============================] - 0s 1ms/step - loss: 3.6856 - accuracy: 0.4190\n",
            "Epoch 51/100\n",
            "32/32 [==============================] - 0s 998us/step - loss: 3.6846 - accuracy: 0.4190\n",
            "Epoch 52/100\n",
            "32/32 [==============================] - 0s 1ms/step - loss: 3.6837 - accuracy: 0.4190\n",
            "Epoch 53/100\n",
            "32/32 [==============================] - 0s 1ms/step - loss: 3.6829 - accuracy: 0.4190\n",
            "Epoch 54/100\n",
            "32/32 [==============================] - 0s 1ms/step - loss: 3.6821 - accuracy: 0.4190\n",
            "Epoch 55/100\n",
            "32/32 [==============================] - 0s 1ms/step - loss: 3.6814 - accuracy: 0.4190\n",
            "Epoch 56/100\n",
            "32/32 [==============================] - 0s 1ms/step - loss: 3.6807 - accuracy: 0.4200\n",
            "Epoch 57/100\n",
            "32/32 [==============================] - 0s 1ms/step - loss: 3.6727 - accuracy: 0.4210\n",
            "Epoch 58/100\n",
            "32/32 [==============================] - 0s 1ms/step - loss: 3.6690 - accuracy: 0.4190\n",
            "Epoch 59/100\n",
            "32/32 [==============================] - 0s 1ms/step - loss: 3.6677 - accuracy: 0.4190\n",
            "Epoch 60/100\n",
            "32/32 [==============================] - 0s 1ms/step - loss: 3.6585 - accuracy: 0.4190\n",
            "Epoch 61/100\n",
            "32/32 [==============================] - 0s 1ms/step - loss: 3.6489 - accuracy: 0.4200\n",
            "Epoch 62/100\n",
            "32/32 [==============================] - 0s 1ms/step - loss: 3.6330 - accuracy: 0.4190\n",
            "Epoch 63/100\n",
            "32/32 [==============================] - 0s 1ms/step - loss: 3.6282 - accuracy: 0.4200\n",
            "Epoch 64/100\n",
            "32/32 [==============================] - 0s 1ms/step - loss: 3.6162 - accuracy: 0.4220\n",
            "Epoch 65/100\n",
            "32/32 [==============================] - 0s 1ms/step - loss: 3.6062 - accuracy: 0.4240\n",
            "Epoch 66/100\n",
            "32/32 [==============================] - 0s 1ms/step - loss: 3.6031 - accuracy: 0.4260\n",
            "Epoch 67/100\n",
            "32/32 [==============================] - 0s 1ms/step - loss: 3.6012 - accuracy: 0.4280\n",
            "Epoch 68/100\n",
            "32/32 [==============================] - 0s 1ms/step - loss: 3.5999 - accuracy: 0.4280\n",
            "Epoch 69/100\n",
            "32/32 [==============================] - 0s 1ms/step - loss: 3.5904 - accuracy: 0.4290\n",
            "Epoch 70/100\n",
            "32/32 [==============================] - 0s 1ms/step - loss: 3.5858 - accuracy: 0.4300\n",
            "Epoch 71/100\n",
            "32/32 [==============================] - 0s 1ms/step - loss: 3.5846 - accuracy: 0.4300\n",
            "Epoch 72/100\n",
            "32/32 [==============================] - 0s 1ms/step - loss: 3.5836 - accuracy: 0.4300\n",
            "Epoch 73/100\n",
            "32/32 [==============================] - 0s 996us/step - loss: 3.5826 - accuracy: 0.4310\n",
            "Epoch 74/100\n",
            "32/32 [==============================] - 0s 1ms/step - loss: 3.5817 - accuracy: 0.4330\n",
            "Epoch 75/100\n",
            "32/32 [==============================] - 0s 1ms/step - loss: 3.5656 - accuracy: 0.4360\n",
            "Epoch 76/100\n",
            "32/32 [==============================] - 0s 1ms/step - loss: 3.5355 - accuracy: 0.4410\n",
            "Epoch 77/100\n",
            "32/32 [==============================] - 0s 1ms/step - loss: 3.5335 - accuracy: 0.4410\n",
            "Epoch 78/100\n",
            "32/32 [==============================] - 0s 1ms/step - loss: 3.5319 - accuracy: 0.4420\n",
            "Epoch 79/100\n",
            "32/32 [==============================] - 0s 1ms/step - loss: 3.5306 - accuracy: 0.4420\n",
            "Epoch 80/100\n",
            "32/32 [==============================] - 0s 1ms/step - loss: 3.5208 - accuracy: 0.4420\n",
            "Epoch 81/100\n",
            "32/32 [==============================] - 0s 1ms/step - loss: 3.5172 - accuracy: 0.4420\n",
            "Epoch 82/100\n",
            "32/32 [==============================] - 0s 1ms/step - loss: 3.5157 - accuracy: 0.4430\n",
            "Epoch 83/100\n",
            "32/32 [==============================] - 0s 1ms/step - loss: 3.5144 - accuracy: 0.4450\n",
            "Epoch 84/100\n",
            "32/32 [==============================] - 0s 1ms/step - loss: 3.5132 - accuracy: 0.4450\n",
            "Epoch 85/100\n",
            "32/32 [==============================] - 0s 1ms/step - loss: 3.5043 - accuracy: 0.4460\n",
            "Epoch 86/100\n",
            "32/32 [==============================] - 0s 1ms/step - loss: 3.5002 - accuracy: 0.4470\n",
            "Epoch 87/100\n",
            "32/32 [==============================] - 0s 1ms/step - loss: 3.4905 - accuracy: 0.4470\n",
            "Epoch 88/100\n",
            "32/32 [==============================] - 0s 1ms/step - loss: 3.4788 - accuracy: 0.4470\n",
            "Epoch 89/100\n",
            "32/32 [==============================] - 0s 1ms/step - loss: 3.4661 - accuracy: 0.4470\n",
            "Epoch 90/100\n",
            "32/32 [==============================] - 0s 1ms/step - loss: 3.4452 - accuracy: 0.4490\n",
            "Epoch 91/100\n",
            "32/32 [==============================] - 0s 1ms/step - loss: 3.4198 - accuracy: 0.4560\n",
            "Epoch 92/100\n",
            "32/32 [==============================] - 0s 1ms/step - loss: 3.4176 - accuracy: 0.4550\n",
            "Epoch 93/100\n",
            "32/32 [==============================] - 0s 1ms/step - loss: 3.4072 - accuracy: 0.4580\n",
            "Epoch 94/100\n",
            "32/32 [==============================] - 0s 1ms/step - loss: 3.4036 - accuracy: 0.4580\n",
            "Epoch 95/100\n",
            "32/32 [==============================] - 0s 1ms/step - loss: 3.3944 - accuracy: 0.4590\n",
            "Epoch 96/100\n",
            "32/32 [==============================] - 0s 1ms/step - loss: 3.3290 - accuracy: 0.4590\n",
            "Epoch 97/100\n",
            "32/32 [==============================] - 0s 1ms/step - loss: 3.2727 - accuracy: 0.4600\n",
            "Epoch 98/100\n",
            "32/32 [==============================] - 0s 1ms/step - loss: 3.2636 - accuracy: 0.4580\n",
            "Epoch 99/100\n",
            "32/32 [==============================] - 0s 1ms/step - loss: 3.2509 - accuracy: 0.4570\n",
            "Epoch 100/100\n",
            "32/32 [==============================] - 0s 1ms/step - loss: 3.2459 - accuracy: 0.4570\n"
          ],
          "name": "stdout"
        }
      ]
    },
    {
      "cell_type": "code",
      "metadata": {
        "colab": {
          "base_uri": "https://localhost:8080/"
        },
        "id": "HIzLTQAZVHvh",
        "outputId": "bdc892d4-8642-4496-e647-25cd21445e48"
      },
      "source": [
        "#set the random seed \n",
        "tf.random.set_seed(42)\n",
        "\n",
        "#create the model\n",
        "model_6=tf.keras.Sequential([\n",
        "                             tf.keras.layers.Dense(3,activation=tf.keras.activations.relu),\n",
        "                             tf.keras.layers.Dense(2,activation=tf.keras.activations.relu),\n",
        "                             tf.keras.layers.Dense(1,activation=tf.keras.activations.relu),\n",
        "])\n",
        "\n",
        "#compile the model\n",
        "model_6.compile(loss=tf.keras.losses.BinaryCrossentropy(),\n",
        "                optimizer=tf.keras.optimizers.Adam(learning_rate=0.001),\n",
        "                metrics=[\"accuracy\"])\n",
        "\n",
        "#fit the model\n",
        "history =model_6.fit(X,y,epochs=500)"
      ],
      "execution_count": 30,
      "outputs": [
        {
          "output_type": "stream",
          "text": [
            "Epoch 1/500\n",
            "32/32 [==============================] - 1s 1ms/step - loss: 0.9145 - accuracy: 0.4560\n",
            "Epoch 2/500\n",
            "32/32 [==============================] - 0s 1ms/step - loss: 0.8444 - accuracy: 0.4430\n",
            "Epoch 3/500\n",
            "32/32 [==============================] - 0s 1ms/step - loss: 0.8121 - accuracy: 0.3920\n",
            "Epoch 4/500\n",
            "32/32 [==============================] - 0s 1ms/step - loss: 0.7955 - accuracy: 0.3460\n",
            "Epoch 5/500\n",
            "32/32 [==============================] - 0s 1ms/step - loss: 0.7845 - accuracy: 0.3500\n",
            "Epoch 6/500\n",
            "32/32 [==============================] - 0s 1ms/step - loss: 0.7759 - accuracy: 0.3310\n",
            "Epoch 7/500\n",
            "32/32 [==============================] - 0s 1ms/step - loss: 0.7692 - accuracy: 0.3560\n",
            "Epoch 8/500\n",
            "32/32 [==============================] - 0s 1ms/step - loss: 0.7642 - accuracy: 0.3380\n",
            "Epoch 9/500\n",
            "32/32 [==============================] - 0s 1ms/step - loss: 0.7593 - accuracy: 0.3450\n",
            "Epoch 10/500\n",
            "32/32 [==============================] - 0s 1ms/step - loss: 0.7555 - accuracy: 0.3000\n",
            "Epoch 11/500\n",
            "32/32 [==============================] - 0s 1ms/step - loss: 0.7520 - accuracy: 0.3080\n",
            "Epoch 12/500\n",
            "32/32 [==============================] - 0s 1ms/step - loss: 0.7488 - accuracy: 0.3120\n",
            "Epoch 13/500\n",
            "32/32 [==============================] - 0s 1ms/step - loss: 0.7458 - accuracy: 0.2900\n",
            "Epoch 14/500\n",
            "32/32 [==============================] - 0s 1ms/step - loss: 0.7433 - accuracy: 0.3190\n",
            "Epoch 15/500\n",
            "32/32 [==============================] - 0s 1ms/step - loss: 0.7409 - accuracy: 0.2870\n",
            "Epoch 16/500\n",
            "32/32 [==============================] - 0s 1ms/step - loss: 0.7383 - accuracy: 0.2800\n",
            "Epoch 17/500\n",
            "32/32 [==============================] - 0s 1ms/step - loss: 0.7363 - accuracy: 0.2940\n",
            "Epoch 18/500\n",
            "32/32 [==============================] - 0s 1ms/step - loss: 0.7341 - accuracy: 0.2700\n",
            "Epoch 19/500\n",
            "32/32 [==============================] - 0s 1ms/step - loss: 0.7318 - accuracy: 0.2880\n",
            "Epoch 20/500\n",
            "32/32 [==============================] - 0s 1ms/step - loss: 0.7283 - accuracy: 0.2850\n",
            "Epoch 21/500\n",
            "32/32 [==============================] - 0s 1ms/step - loss: 0.7265 - accuracy: 0.2830\n",
            "Epoch 22/500\n",
            "32/32 [==============================] - 0s 1ms/step - loss: 0.7244 - accuracy: 0.2750\n",
            "Epoch 23/500\n",
            "32/32 [==============================] - 0s 1ms/step - loss: 0.7228 - accuracy: 0.2870\n",
            "Epoch 24/500\n",
            "32/32 [==============================] - 0s 1ms/step - loss: 0.7214 - accuracy: 0.3110\n",
            "Epoch 25/500\n",
            "32/32 [==============================] - 0s 1ms/step - loss: 0.7199 - accuracy: 0.2930\n",
            "Epoch 26/500\n",
            "32/32 [==============================] - 0s 1ms/step - loss: 0.7178 - accuracy: 0.3030\n",
            "Epoch 27/500\n",
            "32/32 [==============================] - 0s 1ms/step - loss: 0.7169 - accuracy: 0.2960\n",
            "Epoch 28/500\n",
            "32/32 [==============================] - 0s 1ms/step - loss: 0.7141 - accuracy: 0.3370\n",
            "Epoch 29/500\n",
            "32/32 [==============================] - 0s 1ms/step - loss: 0.7131 - accuracy: 0.3540\n",
            "Epoch 30/500\n",
            "32/32 [==============================] - 0s 1ms/step - loss: 0.7113 - accuracy: 0.3470\n",
            "Epoch 31/500\n",
            "32/32 [==============================] - 0s 1ms/step - loss: 0.7091 - accuracy: 0.3240\n",
            "Epoch 32/500\n",
            "32/32 [==============================] - 0s 1ms/step - loss: 0.7063 - accuracy: 0.3920\n",
            "Epoch 33/500\n",
            "32/32 [==============================] - 0s 1ms/step - loss: 0.7024 - accuracy: 0.4050\n",
            "Epoch 34/500\n",
            "32/32 [==============================] - 0s 1ms/step - loss: 0.7004 - accuracy: 0.4640\n",
            "Epoch 35/500\n",
            "32/32 [==============================] - 0s 1ms/step - loss: 0.6989 - accuracy: 0.4390\n",
            "Epoch 36/500\n",
            "32/32 [==============================] - 0s 1ms/step - loss: 0.6979 - accuracy: 0.4790\n",
            "Epoch 37/500\n",
            "32/32 [==============================] - 0s 1ms/step - loss: 0.6974 - accuracy: 0.4890\n",
            "Epoch 38/500\n",
            "32/32 [==============================] - 0s 1ms/step - loss: 0.6970 - accuracy: 0.4820\n",
            "Epoch 39/500\n",
            "32/32 [==============================] - 0s 2ms/step - loss: 0.6963 - accuracy: 0.4810\n",
            "Epoch 40/500\n",
            "32/32 [==============================] - 0s 1ms/step - loss: 0.6960 - accuracy: 0.4870\n",
            "Epoch 41/500\n",
            "32/32 [==============================] - 0s 1ms/step - loss: 0.6958 - accuracy: 0.4850\n",
            "Epoch 42/500\n",
            "32/32 [==============================] - 0s 1ms/step - loss: 0.6952 - accuracy: 0.4840\n",
            "Epoch 43/500\n",
            "32/32 [==============================] - 0s 1ms/step - loss: 0.6946 - accuracy: 0.4950\n",
            "Epoch 44/500\n",
            "32/32 [==============================] - 0s 1ms/step - loss: 0.6950 - accuracy: 0.4590\n",
            "Epoch 45/500\n",
            "32/32 [==============================] - 0s 1ms/step - loss: 0.6934 - accuracy: 0.4980\n",
            "Epoch 46/500\n",
            "32/32 [==============================] - 0s 1ms/step - loss: 0.6932 - accuracy: 0.5120\n",
            "Epoch 47/500\n",
            "32/32 [==============================] - 0s 1ms/step - loss: 0.6934 - accuracy: 0.5230\n",
            "Epoch 48/500\n",
            "32/32 [==============================] - 0s 1ms/step - loss: 0.6925 - accuracy: 0.5050\n",
            "Epoch 49/500\n",
            "32/32 [==============================] - 0s 1ms/step - loss: 0.6921 - accuracy: 0.5030\n",
            "Epoch 50/500\n",
            "32/32 [==============================] - 0s 1ms/step - loss: 0.6915 - accuracy: 0.5110\n",
            "Epoch 51/500\n",
            "32/32 [==============================] - 0s 1ms/step - loss: 0.6913 - accuracy: 0.5160\n",
            "Epoch 52/500\n",
            "32/32 [==============================] - 0s 1ms/step - loss: 0.6911 - accuracy: 0.5160\n",
            "Epoch 53/500\n",
            "32/32 [==============================] - 0s 1ms/step - loss: 0.6905 - accuracy: 0.5200\n",
            "Epoch 54/500\n",
            "32/32 [==============================] - 0s 1ms/step - loss: 0.6899 - accuracy: 0.5190\n",
            "Epoch 55/500\n",
            "32/32 [==============================] - 0s 1ms/step - loss: 0.6900 - accuracy: 0.5200\n",
            "Epoch 56/500\n",
            "32/32 [==============================] - 0s 1ms/step - loss: 0.6893 - accuracy: 0.5120\n",
            "Epoch 57/500\n",
            "32/32 [==============================] - 0s 1ms/step - loss: 0.6887 - accuracy: 0.5560\n",
            "Epoch 58/500\n",
            "32/32 [==============================] - 0s 1ms/step - loss: 0.6888 - accuracy: 0.5270\n",
            "Epoch 59/500\n",
            "32/32 [==============================] - 0s 2ms/step - loss: 0.6891 - accuracy: 0.5440\n",
            "Epoch 60/500\n",
            "32/32 [==============================] - 0s 1ms/step - loss: 0.6876 - accuracy: 0.5470\n",
            "Epoch 61/500\n",
            "32/32 [==============================] - 0s 1ms/step - loss: 0.6878 - accuracy: 0.5380\n",
            "Epoch 62/500\n",
            "32/32 [==============================] - 0s 1ms/step - loss: 0.6870 - accuracy: 0.5710\n",
            "Epoch 63/500\n",
            "32/32 [==============================] - 0s 1ms/step - loss: 0.6861 - accuracy: 0.5890\n",
            "Epoch 64/500\n",
            "32/32 [==============================] - 0s 1ms/step - loss: 0.6858 - accuracy: 0.5960\n",
            "Epoch 65/500\n",
            "32/32 [==============================] - 0s 1ms/step - loss: 0.6855 - accuracy: 0.5850\n",
            "Epoch 66/500\n",
            "32/32 [==============================] - 0s 1ms/step - loss: 0.6851 - accuracy: 0.6080\n",
            "Epoch 67/500\n",
            "32/32 [==============================] - 0s 1ms/step - loss: 0.6846 - accuracy: 0.5600\n",
            "Epoch 68/500\n",
            "32/32 [==============================] - 0s 1ms/step - loss: 0.6840 - accuracy: 0.5680\n",
            "Epoch 69/500\n",
            "32/32 [==============================] - 0s 1ms/step - loss: 0.6836 - accuracy: 0.6190\n",
            "Epoch 70/500\n",
            "32/32 [==============================] - 0s 1ms/step - loss: 0.6832 - accuracy: 0.5920\n",
            "Epoch 71/500\n",
            "32/32 [==============================] - 0s 1ms/step - loss: 0.6826 - accuracy: 0.5620\n",
            "Epoch 72/500\n",
            "32/32 [==============================] - 0s 1ms/step - loss: 0.6824 - accuracy: 0.5930\n",
            "Epoch 73/500\n",
            "32/32 [==============================] - 0s 1ms/step - loss: 0.6820 - accuracy: 0.5880\n",
            "Epoch 74/500\n",
            "32/32 [==============================] - 0s 1ms/step - loss: 0.6814 - accuracy: 0.5760\n",
            "Epoch 75/500\n",
            "32/32 [==============================] - 0s 1ms/step - loss: 0.6812 - accuracy: 0.5860\n",
            "Epoch 76/500\n",
            "32/32 [==============================] - 0s 1ms/step - loss: 0.6810 - accuracy: 0.5530\n",
            "Epoch 77/500\n",
            "32/32 [==============================] - 0s 1ms/step - loss: 0.6808 - accuracy: 0.5960\n",
            "Epoch 78/500\n",
            "32/32 [==============================] - 0s 1ms/step - loss: 0.6801 - accuracy: 0.5440\n",
            "Epoch 79/500\n",
            "32/32 [==============================] - 0s 1ms/step - loss: 0.6799 - accuracy: 0.5670\n",
            "Epoch 80/500\n",
            "32/32 [==============================] - 0s 1ms/step - loss: 0.6789 - accuracy: 0.5980\n",
            "Epoch 81/500\n",
            "32/32 [==============================] - 0s 2ms/step - loss: 0.6787 - accuracy: 0.5940\n",
            "Epoch 82/500\n",
            "32/32 [==============================] - 0s 2ms/step - loss: 0.6783 - accuracy: 0.5520\n",
            "Epoch 83/500\n",
            "32/32 [==============================] - 0s 1ms/step - loss: 0.6779 - accuracy: 0.5550\n",
            "Epoch 84/500\n",
            "32/32 [==============================] - 0s 1ms/step - loss: 0.6769 - accuracy: 0.5810\n",
            "Epoch 85/500\n",
            "32/32 [==============================] - 0s 1ms/step - loss: 0.6768 - accuracy: 0.5630\n",
            "Epoch 86/500\n",
            "32/32 [==============================] - 0s 1ms/step - loss: 0.6767 - accuracy: 0.5720\n",
            "Epoch 87/500\n",
            "32/32 [==============================] - 0s 1ms/step - loss: 0.6757 - accuracy: 0.5640\n",
            "Epoch 88/500\n",
            "32/32 [==============================] - 0s 1ms/step - loss: 0.6755 - accuracy: 0.5560\n",
            "Epoch 89/500\n",
            "32/32 [==============================] - 0s 1ms/step - loss: 0.6754 - accuracy: 0.5600\n",
            "Epoch 90/500\n",
            "32/32 [==============================] - 0s 1ms/step - loss: 0.6757 - accuracy: 0.5530\n",
            "Epoch 91/500\n",
            "32/32 [==============================] - 0s 1ms/step - loss: 0.6743 - accuracy: 0.5630\n",
            "Epoch 92/500\n",
            "32/32 [==============================] - 0s 1ms/step - loss: 0.6744 - accuracy: 0.5680\n",
            "Epoch 93/500\n",
            "32/32 [==============================] - 0s 1ms/step - loss: 0.6749 - accuracy: 0.5490\n",
            "Epoch 94/500\n",
            "32/32 [==============================] - 0s 1ms/step - loss: 0.6737 - accuracy: 0.5650\n",
            "Epoch 95/500\n",
            "32/32 [==============================] - 0s 1ms/step - loss: 0.6734 - accuracy: 0.5530\n",
            "Epoch 96/500\n",
            "32/32 [==============================] - 0s 2ms/step - loss: 0.6731 - accuracy: 0.5590\n",
            "Epoch 97/500\n",
            "32/32 [==============================] - 0s 1ms/step - loss: 0.6728 - accuracy: 0.5470\n",
            "Epoch 98/500\n",
            "32/32 [==============================] - 0s 1ms/step - loss: 0.6725 - accuracy: 0.5580\n",
            "Epoch 99/500\n",
            "32/32 [==============================] - 0s 1ms/step - loss: 0.6731 - accuracy: 0.5800\n",
            "Epoch 100/500\n",
            "32/32 [==============================] - 0s 1ms/step - loss: 0.6721 - accuracy: 0.5560\n",
            "Epoch 101/500\n",
            "32/32 [==============================] - 0s 2ms/step - loss: 0.6720 - accuracy: 0.5510\n",
            "Epoch 102/500\n",
            "32/32 [==============================] - 0s 1ms/step - loss: 0.6714 - accuracy: 0.5640\n",
            "Epoch 103/500\n",
            "32/32 [==============================] - 0s 1ms/step - loss: 0.6710 - accuracy: 0.5550\n",
            "Epoch 104/500\n",
            "32/32 [==============================] - 0s 1ms/step - loss: 0.6711 - accuracy: 0.5570\n",
            "Epoch 105/500\n",
            "32/32 [==============================] - 0s 1ms/step - loss: 0.6720 - accuracy: 0.5640\n",
            "Epoch 106/500\n",
            "32/32 [==============================] - 0s 2ms/step - loss: 0.6708 - accuracy: 0.5620\n",
            "Epoch 107/500\n",
            "32/32 [==============================] - 0s 1ms/step - loss: 0.6708 - accuracy: 0.5560\n",
            "Epoch 108/500\n",
            "32/32 [==============================] - 0s 1ms/step - loss: 0.6705 - accuracy: 0.5700\n",
            "Epoch 109/500\n",
            "32/32 [==============================] - 0s 1ms/step - loss: 0.6699 - accuracy: 0.5620\n",
            "Epoch 110/500\n",
            "32/32 [==============================] - 0s 1ms/step - loss: 0.6702 - accuracy: 0.5620\n",
            "Epoch 111/500\n",
            "32/32 [==============================] - 0s 1ms/step - loss: 0.6699 - accuracy: 0.5560\n",
            "Epoch 112/500\n",
            "32/32 [==============================] - 0s 1ms/step - loss: 0.6707 - accuracy: 0.5520\n",
            "Epoch 113/500\n",
            "32/32 [==============================] - 0s 1ms/step - loss: 0.6694 - accuracy: 0.5650\n",
            "Epoch 114/500\n",
            "32/32 [==============================] - 0s 1ms/step - loss: 0.6696 - accuracy: 0.5670\n",
            "Epoch 115/500\n",
            "32/32 [==============================] - 0s 1ms/step - loss: 0.6693 - accuracy: 0.5580\n",
            "Epoch 116/500\n",
            "32/32 [==============================] - 0s 1ms/step - loss: 0.6690 - accuracy: 0.5610\n",
            "Epoch 117/500\n",
            "32/32 [==============================] - 0s 1ms/step - loss: 0.6697 - accuracy: 0.5660\n",
            "Epoch 118/500\n",
            "32/32 [==============================] - 0s 1ms/step - loss: 0.6694 - accuracy: 0.5670\n",
            "Epoch 119/500\n",
            "32/32 [==============================] - 0s 1ms/step - loss: 0.6686 - accuracy: 0.5660\n",
            "Epoch 120/500\n",
            "32/32 [==============================] - 0s 1ms/step - loss: 0.6689 - accuracy: 0.5590\n",
            "Epoch 121/500\n",
            "32/32 [==============================] - 0s 1ms/step - loss: 0.6687 - accuracy: 0.5520\n",
            "Epoch 122/500\n",
            "32/32 [==============================] - 0s 2ms/step - loss: 0.6684 - accuracy: 0.5610\n",
            "Epoch 123/500\n",
            "32/32 [==============================] - 0s 1ms/step - loss: 0.6685 - accuracy: 0.5540\n",
            "Epoch 124/500\n",
            "32/32 [==============================] - 0s 1ms/step - loss: 0.6682 - accuracy: 0.5580\n",
            "Epoch 125/500\n",
            "32/32 [==============================] - 0s 1ms/step - loss: 0.6686 - accuracy: 0.5560\n",
            "Epoch 126/500\n",
            "32/32 [==============================] - 0s 1ms/step - loss: 0.6679 - accuracy: 0.5590\n",
            "Epoch 127/500\n",
            "32/32 [==============================] - 0s 1ms/step - loss: 0.6679 - accuracy: 0.5610\n",
            "Epoch 128/500\n",
            "32/32 [==============================] - 0s 1ms/step - loss: 0.6687 - accuracy: 0.5580\n",
            "Epoch 129/500\n",
            "32/32 [==============================] - 0s 1ms/step - loss: 0.6674 - accuracy: 0.5600\n",
            "Epoch 130/500\n",
            "32/32 [==============================] - 0s 1ms/step - loss: 0.6678 - accuracy: 0.5570\n",
            "Epoch 131/500\n",
            "32/32 [==============================] - 0s 1ms/step - loss: 0.6677 - accuracy: 0.5640\n",
            "Epoch 132/500\n",
            "32/32 [==============================] - 0s 1ms/step - loss: 0.6675 - accuracy: 0.5600\n",
            "Epoch 133/500\n",
            "32/32 [==============================] - 0s 1ms/step - loss: 0.6672 - accuracy: 0.5600\n",
            "Epoch 134/500\n",
            "32/32 [==============================] - 0s 1ms/step - loss: 0.6672 - accuracy: 0.5610\n",
            "Epoch 135/500\n",
            "32/32 [==============================] - 0s 1ms/step - loss: 0.6674 - accuracy: 0.5590\n",
            "Epoch 136/500\n",
            "32/32 [==============================] - 0s 1ms/step - loss: 0.6677 - accuracy: 0.5630\n",
            "Epoch 137/500\n",
            "32/32 [==============================] - 0s 1ms/step - loss: 0.6675 - accuracy: 0.5590\n",
            "Epoch 138/500\n",
            "32/32 [==============================] - 0s 1ms/step - loss: 0.6676 - accuracy: 0.5600\n",
            "Epoch 139/500\n",
            "32/32 [==============================] - 0s 1ms/step - loss: 0.6667 - accuracy: 0.5590\n",
            "Epoch 140/500\n",
            "32/32 [==============================] - 0s 1ms/step - loss: 0.6675 - accuracy: 0.5520\n",
            "Epoch 141/500\n",
            "32/32 [==============================] - 0s 1ms/step - loss: 0.6665 - accuracy: 0.5540\n",
            "Epoch 142/500\n",
            "32/32 [==============================] - 0s 1ms/step - loss: 0.6664 - accuracy: 0.5560\n",
            "Epoch 143/500\n",
            "32/32 [==============================] - 0s 1ms/step - loss: 0.6665 - accuracy: 0.5570\n",
            "Epoch 144/500\n",
            "32/32 [==============================] - 0s 1ms/step - loss: 0.6662 - accuracy: 0.5610\n",
            "Epoch 145/500\n",
            "32/32 [==============================] - 0s 1ms/step - loss: 0.6666 - accuracy: 0.5570\n",
            "Epoch 146/500\n",
            "32/32 [==============================] - 0s 1ms/step - loss: 0.6659 - accuracy: 0.5570\n",
            "Epoch 147/500\n",
            "32/32 [==============================] - 0s 1ms/step - loss: 0.6671 - accuracy: 0.5590\n",
            "Epoch 148/500\n",
            "32/32 [==============================] - 0s 1ms/step - loss: 0.6662 - accuracy: 0.5580\n",
            "Epoch 149/500\n",
            "32/32 [==============================] - 0s 1ms/step - loss: 0.6658 - accuracy: 0.5570\n",
            "Epoch 150/500\n",
            "32/32 [==============================] - 0s 1ms/step - loss: 0.6665 - accuracy: 0.5580\n",
            "Epoch 151/500\n",
            "32/32 [==============================] - 0s 1ms/step - loss: 0.6657 - accuracy: 0.5530\n",
            "Epoch 152/500\n",
            "32/32 [==============================] - 0s 1ms/step - loss: 0.6660 - accuracy: 0.5610\n",
            "Epoch 153/500\n",
            "32/32 [==============================] - 0s 1ms/step - loss: 0.6664 - accuracy: 0.5570\n",
            "Epoch 154/500\n",
            "32/32 [==============================] - 0s 2ms/step - loss: 0.6662 - accuracy: 0.5510\n",
            "Epoch 155/500\n",
            "32/32 [==============================] - 0s 1ms/step - loss: 0.6654 - accuracy: 0.5620\n",
            "Epoch 156/500\n",
            "32/32 [==============================] - 0s 1ms/step - loss: 0.6651 - accuracy: 0.5550\n",
            "Epoch 157/500\n",
            "32/32 [==============================] - 0s 1ms/step - loss: 0.6653 - accuracy: 0.5670\n",
            "Epoch 158/500\n",
            "32/32 [==============================] - 0s 1ms/step - loss: 0.6655 - accuracy: 0.5520\n",
            "Epoch 159/500\n",
            "32/32 [==============================] - 0s 1ms/step - loss: 0.6646 - accuracy: 0.5600\n",
            "Epoch 160/500\n",
            "32/32 [==============================] - 0s 1ms/step - loss: 0.6657 - accuracy: 0.5580\n",
            "Epoch 161/500\n",
            "32/32 [==============================] - 0s 1ms/step - loss: 0.6642 - accuracy: 0.5580\n",
            "Epoch 162/500\n",
            "32/32 [==============================] - 0s 1ms/step - loss: 0.6644 - accuracy: 0.5560\n",
            "Epoch 163/500\n",
            "32/32 [==============================] - 0s 1ms/step - loss: 0.6641 - accuracy: 0.5630\n",
            "Epoch 164/500\n",
            "32/32 [==============================] - 0s 1ms/step - loss: 0.6638 - accuracy: 0.5580\n",
            "Epoch 165/500\n",
            "32/32 [==============================] - 0s 1ms/step - loss: 0.6643 - accuracy: 0.5600\n",
            "Epoch 166/500\n",
            "32/32 [==============================] - 0s 1ms/step - loss: 0.6638 - accuracy: 0.5630\n",
            "Epoch 167/500\n",
            "32/32 [==============================] - 0s 1ms/step - loss: 0.6643 - accuracy: 0.5660\n",
            "Epoch 168/500\n",
            "32/32 [==============================] - 0s 1ms/step - loss: 0.6638 - accuracy: 0.5580\n",
            "Epoch 169/500\n",
            "32/32 [==============================] - 0s 1ms/step - loss: 0.6635 - accuracy: 0.5570\n",
            "Epoch 170/500\n",
            "32/32 [==============================] - 0s 1ms/step - loss: 0.6638 - accuracy: 0.5630\n",
            "Epoch 171/500\n",
            "32/32 [==============================] - 0s 2ms/step - loss: 0.6634 - accuracy: 0.5640\n",
            "Epoch 172/500\n",
            "32/32 [==============================] - 0s 1ms/step - loss: 0.6638 - accuracy: 0.5540\n",
            "Epoch 173/500\n",
            "32/32 [==============================] - 0s 1ms/step - loss: 0.6638 - accuracy: 0.5610\n",
            "Epoch 174/500\n",
            "32/32 [==============================] - 0s 1ms/step - loss: 0.6634 - accuracy: 0.5590\n",
            "Epoch 175/500\n",
            "32/32 [==============================] - 0s 1ms/step - loss: 0.6630 - accuracy: 0.5640\n",
            "Epoch 176/500\n",
            "32/32 [==============================] - 0s 1ms/step - loss: 0.6635 - accuracy: 0.5640\n",
            "Epoch 177/500\n",
            "32/32 [==============================] - 0s 2ms/step - loss: 0.6630 - accuracy: 0.5570\n",
            "Epoch 178/500\n",
            "32/32 [==============================] - 0s 1ms/step - loss: 0.6635 - accuracy: 0.5620\n",
            "Epoch 179/500\n",
            "32/32 [==============================] - 0s 1ms/step - loss: 0.6627 - accuracy: 0.5670\n",
            "Epoch 180/500\n",
            "32/32 [==============================] - 0s 1ms/step - loss: 0.6628 - accuracy: 0.5610\n",
            "Epoch 181/500\n",
            "32/32 [==============================] - 0s 1ms/step - loss: 0.6624 - accuracy: 0.5620\n",
            "Epoch 182/500\n",
            "32/32 [==============================] - 0s 1ms/step - loss: 0.6629 - accuracy: 0.5630\n",
            "Epoch 183/500\n",
            "32/32 [==============================] - 0s 1ms/step - loss: 0.6635 - accuracy: 0.5640\n",
            "Epoch 184/500\n",
            "32/32 [==============================] - 0s 1ms/step - loss: 0.6624 - accuracy: 0.5680\n",
            "Epoch 185/500\n",
            "32/32 [==============================] - 0s 1ms/step - loss: 0.6629 - accuracy: 0.5620\n",
            "Epoch 186/500\n",
            "32/32 [==============================] - 0s 1ms/step - loss: 0.6620 - accuracy: 0.5650\n",
            "Epoch 187/500\n",
            "32/32 [==============================] - 0s 1ms/step - loss: 0.6618 - accuracy: 0.5670\n",
            "Epoch 188/500\n",
            "32/32 [==============================] - 0s 1ms/step - loss: 0.6615 - accuracy: 0.5700\n",
            "Epoch 189/500\n",
            "32/32 [==============================] - 0s 1ms/step - loss: 0.6614 - accuracy: 0.5650\n",
            "Epoch 190/500\n",
            "32/32 [==============================] - 0s 2ms/step - loss: 0.6614 - accuracy: 0.5580\n",
            "Epoch 191/500\n",
            "32/32 [==============================] - 0s 1ms/step - loss: 0.6612 - accuracy: 0.5590\n",
            "Epoch 192/500\n",
            "32/32 [==============================] - 0s 1ms/step - loss: 0.6610 - accuracy: 0.5680\n",
            "Epoch 193/500\n",
            "32/32 [==============================] - 0s 1ms/step - loss: 0.6610 - accuracy: 0.5580\n",
            "Epoch 194/500\n",
            "32/32 [==============================] - 0s 1ms/step - loss: 0.6609 - accuracy: 0.5670\n",
            "Epoch 195/500\n",
            "32/32 [==============================] - 0s 1ms/step - loss: 0.6603 - accuracy: 0.5670\n",
            "Epoch 196/500\n",
            "32/32 [==============================] - 0s 1ms/step - loss: 0.6604 - accuracy: 0.5610\n",
            "Epoch 197/500\n",
            "32/32 [==============================] - 0s 1ms/step - loss: 0.6603 - accuracy: 0.5670\n",
            "Epoch 198/500\n",
            "32/32 [==============================] - 0s 2ms/step - loss: 0.6603 - accuracy: 0.5580\n",
            "Epoch 199/500\n",
            "32/32 [==============================] - 0s 2ms/step - loss: 0.6613 - accuracy: 0.5650\n",
            "Epoch 200/500\n",
            "32/32 [==============================] - 0s 2ms/step - loss: 0.6591 - accuracy: 0.5650\n",
            "Epoch 201/500\n",
            "32/32 [==============================] - 0s 1ms/step - loss: 0.6593 - accuracy: 0.5580\n",
            "Epoch 202/500\n",
            "32/32 [==============================] - 0s 1ms/step - loss: 0.6589 - accuracy: 0.5650\n",
            "Epoch 203/500\n",
            "32/32 [==============================] - 0s 2ms/step - loss: 0.6588 - accuracy: 0.5620\n",
            "Epoch 204/500\n",
            "32/32 [==============================] - 0s 1ms/step - loss: 0.6586 - accuracy: 0.5670\n",
            "Epoch 205/500\n",
            "32/32 [==============================] - 0s 1ms/step - loss: 0.6584 - accuracy: 0.5660\n",
            "Epoch 206/500\n",
            "32/32 [==============================] - 0s 1ms/step - loss: 0.6584 - accuracy: 0.5690\n",
            "Epoch 207/500\n",
            "32/32 [==============================] - 0s 1ms/step - loss: 0.6583 - accuracy: 0.5670\n",
            "Epoch 208/500\n",
            "32/32 [==============================] - 0s 1ms/step - loss: 0.6576 - accuracy: 0.5640\n",
            "Epoch 209/500\n",
            "32/32 [==============================] - 0s 1ms/step - loss: 0.6576 - accuracy: 0.5650\n",
            "Epoch 210/500\n",
            "32/32 [==============================] - 0s 1ms/step - loss: 0.6574 - accuracy: 0.5690\n",
            "Epoch 211/500\n",
            "32/32 [==============================] - 0s 1ms/step - loss: 0.6584 - accuracy: 0.5560\n",
            "Epoch 212/500\n",
            "32/32 [==============================] - 0s 1ms/step - loss: 0.6573 - accuracy: 0.5680\n",
            "Epoch 213/500\n",
            "32/32 [==============================] - 0s 1ms/step - loss: 0.6566 - accuracy: 0.5650\n",
            "Epoch 214/500\n",
            "32/32 [==============================] - 0s 1ms/step - loss: 0.6564 - accuracy: 0.5720\n",
            "Epoch 215/500\n",
            "32/32 [==============================] - 0s 1ms/step - loss: 0.6559 - accuracy: 0.5690\n",
            "Epoch 216/500\n",
            "32/32 [==============================] - 0s 1ms/step - loss: 0.6560 - accuracy: 0.5680\n",
            "Epoch 217/500\n",
            "32/32 [==============================] - 0s 1ms/step - loss: 0.6554 - accuracy: 0.5680\n",
            "Epoch 218/500\n",
            "32/32 [==============================] - 0s 1ms/step - loss: 0.6557 - accuracy: 0.5680\n",
            "Epoch 219/500\n",
            "32/32 [==============================] - 0s 1ms/step - loss: 0.6551 - accuracy: 0.5620\n",
            "Epoch 220/500\n",
            "32/32 [==============================] - 0s 1ms/step - loss: 0.6552 - accuracy: 0.5660\n",
            "Epoch 221/500\n",
            "32/32 [==============================] - 0s 1ms/step - loss: 0.6545 - accuracy: 0.5600\n",
            "Epoch 222/500\n",
            "32/32 [==============================] - 0s 1ms/step - loss: 0.6541 - accuracy: 0.5710\n",
            "Epoch 223/500\n",
            "32/32 [==============================] - 0s 1ms/step - loss: 0.6540 - accuracy: 0.5620\n",
            "Epoch 224/500\n",
            "32/32 [==============================] - 0s 1ms/step - loss: 0.6535 - accuracy: 0.5580\n",
            "Epoch 225/500\n",
            "32/32 [==============================] - 0s 1ms/step - loss: 0.6541 - accuracy: 0.5720\n",
            "Epoch 226/500\n",
            "32/32 [==============================] - 0s 1ms/step - loss: 0.6529 - accuracy: 0.5710\n",
            "Epoch 227/500\n",
            "32/32 [==============================] - 0s 1ms/step - loss: 0.6530 - accuracy: 0.5670\n",
            "Epoch 228/500\n",
            "32/32 [==============================] - 0s 1ms/step - loss: 0.6528 - accuracy: 0.5690\n",
            "Epoch 229/500\n",
            "32/32 [==============================] - 0s 1ms/step - loss: 0.6528 - accuracy: 0.5650\n",
            "Epoch 230/500\n",
            "32/32 [==============================] - 0s 1ms/step - loss: 0.6521 - accuracy: 0.5660\n",
            "Epoch 231/500\n",
            "32/32 [==============================] - 0s 1ms/step - loss: 0.6521 - accuracy: 0.5740\n",
            "Epoch 232/500\n",
            "32/32 [==============================] - 0s 1ms/step - loss: 0.6520 - accuracy: 0.5660\n",
            "Epoch 233/500\n",
            "32/32 [==============================] - 0s 1ms/step - loss: 0.6513 - accuracy: 0.5680\n",
            "Epoch 234/500\n",
            "32/32 [==============================] - 0s 1ms/step - loss: 0.6508 - accuracy: 0.5660\n",
            "Epoch 235/500\n",
            "32/32 [==============================] - 0s 1ms/step - loss: 0.6511 - accuracy: 0.5710\n",
            "Epoch 236/500\n",
            "32/32 [==============================] - 0s 1ms/step - loss: 0.6504 - accuracy: 0.5660\n",
            "Epoch 237/500\n",
            "32/32 [==============================] - 0s 1ms/step - loss: 0.6503 - accuracy: 0.5630\n",
            "Epoch 238/500\n",
            "32/32 [==============================] - 0s 2ms/step - loss: 0.6505 - accuracy: 0.5680\n",
            "Epoch 239/500\n",
            "32/32 [==============================] - 0s 2ms/step - loss: 0.6504 - accuracy: 0.5780\n",
            "Epoch 240/500\n",
            "32/32 [==============================] - 0s 1ms/step - loss: 0.6495 - accuracy: 0.5640\n",
            "Epoch 241/500\n",
            "32/32 [==============================] - 0s 1ms/step - loss: 0.6496 - accuracy: 0.5640\n",
            "Epoch 242/500\n",
            "32/32 [==============================] - 0s 1ms/step - loss: 0.6489 - accuracy: 0.5720\n",
            "Epoch 243/500\n",
            "32/32 [==============================] - 0s 1ms/step - loss: 0.6487 - accuracy: 0.5740\n",
            "Epoch 244/500\n",
            "32/32 [==============================] - 0s 1ms/step - loss: 0.6482 - accuracy: 0.5700\n",
            "Epoch 245/500\n",
            "32/32 [==============================] - 0s 1ms/step - loss: 0.6484 - accuracy: 0.5600\n",
            "Epoch 246/500\n",
            "32/32 [==============================] - 0s 1ms/step - loss: 0.6477 - accuracy: 0.5720\n",
            "Epoch 247/500\n",
            "32/32 [==============================] - 0s 1ms/step - loss: 0.6476 - accuracy: 0.5710\n",
            "Epoch 248/500\n",
            "32/32 [==============================] - 0s 1ms/step - loss: 0.6466 - accuracy: 0.5770\n",
            "Epoch 249/500\n",
            "32/32 [==============================] - 0s 1ms/step - loss: 0.6462 - accuracy: 0.5720\n",
            "Epoch 250/500\n",
            "32/32 [==============================] - 0s 1ms/step - loss: 0.6459 - accuracy: 0.5680\n",
            "Epoch 251/500\n",
            "32/32 [==============================] - 0s 1ms/step - loss: 0.6460 - accuracy: 0.5750\n",
            "Epoch 252/500\n",
            "32/32 [==============================] - 0s 1ms/step - loss: 0.6456 - accuracy: 0.5680\n",
            "Epoch 253/500\n",
            "32/32 [==============================] - 0s 1ms/step - loss: 0.6448 - accuracy: 0.5650\n",
            "Epoch 254/500\n",
            "32/32 [==============================] - 0s 2ms/step - loss: 0.6453 - accuracy: 0.5930\n",
            "Epoch 255/500\n",
            "32/32 [==============================] - 0s 1ms/step - loss: 0.6453 - accuracy: 0.5670\n",
            "Epoch 256/500\n",
            "32/32 [==============================] - 0s 1ms/step - loss: 0.6444 - accuracy: 0.5790\n",
            "Epoch 257/500\n",
            "32/32 [==============================] - 0s 1ms/step - loss: 0.6438 - accuracy: 0.5900\n",
            "Epoch 258/500\n",
            "32/32 [==============================] - 0s 2ms/step - loss: 0.6435 - accuracy: 0.5670\n",
            "Epoch 259/500\n",
            "32/32 [==============================] - 0s 1ms/step - loss: 0.6433 - accuracy: 0.5710\n",
            "Epoch 260/500\n",
            "32/32 [==============================] - 0s 1ms/step - loss: 0.6431 - accuracy: 0.5820\n",
            "Epoch 261/500\n",
            "32/32 [==============================] - 0s 1ms/step - loss: 0.6422 - accuracy: 0.5840\n",
            "Epoch 262/500\n",
            "32/32 [==============================] - 0s 1ms/step - loss: 0.6422 - accuracy: 0.5750\n",
            "Epoch 263/500\n",
            "32/32 [==============================] - 0s 1ms/step - loss: 0.6414 - accuracy: 0.5810\n",
            "Epoch 264/500\n",
            "32/32 [==============================] - 0s 1ms/step - loss: 0.6409 - accuracy: 0.5810\n",
            "Epoch 265/500\n",
            "32/32 [==============================] - 0s 1ms/step - loss: 0.6406 - accuracy: 0.5790\n",
            "Epoch 266/500\n",
            "32/32 [==============================] - 0s 2ms/step - loss: 0.6412 - accuracy: 0.5690\n",
            "Epoch 267/500\n",
            "32/32 [==============================] - 0s 1ms/step - loss: 0.6400 - accuracy: 0.5850\n",
            "Epoch 268/500\n",
            "32/32 [==============================] - 0s 2ms/step - loss: 0.6397 - accuracy: 0.5790\n",
            "Epoch 269/500\n",
            "32/32 [==============================] - 0s 1ms/step - loss: 0.6397 - accuracy: 0.5870\n",
            "Epoch 270/500\n",
            "32/32 [==============================] - 0s 1ms/step - loss: 0.6397 - accuracy: 0.5830\n",
            "Epoch 271/500\n",
            "32/32 [==============================] - 0s 1ms/step - loss: 0.6384 - accuracy: 0.5890\n",
            "Epoch 272/500\n",
            "32/32 [==============================] - 0s 1ms/step - loss: 0.6383 - accuracy: 0.5800\n",
            "Epoch 273/500\n",
            "32/32 [==============================] - 0s 1ms/step - loss: 0.6384 - accuracy: 0.5720\n",
            "Epoch 274/500\n",
            "32/32 [==============================] - 0s 1ms/step - loss: 0.6376 - accuracy: 0.5780\n",
            "Epoch 275/500\n",
            "32/32 [==============================] - 0s 1ms/step - loss: 0.6367 - accuracy: 0.5800\n",
            "Epoch 276/500\n",
            "32/32 [==============================] - 0s 1ms/step - loss: 0.6364 - accuracy: 0.5790\n",
            "Epoch 277/500\n",
            "32/32 [==============================] - 0s 2ms/step - loss: 0.6360 - accuracy: 0.5740\n",
            "Epoch 278/500\n",
            "32/32 [==============================] - 0s 1ms/step - loss: 0.6359 - accuracy: 0.5770\n",
            "Epoch 279/500\n",
            "32/32 [==============================] - 0s 2ms/step - loss: 0.6356 - accuracy: 0.5870\n",
            "Epoch 280/500\n",
            "32/32 [==============================] - 0s 2ms/step - loss: 0.6352 - accuracy: 0.5810\n",
            "Epoch 281/500\n",
            "32/32 [==============================] - 0s 1ms/step - loss: 0.6341 - accuracy: 0.5800\n",
            "Epoch 282/500\n",
            "32/32 [==============================] - 0s 2ms/step - loss: 0.6341 - accuracy: 0.5810\n",
            "Epoch 283/500\n",
            "32/32 [==============================] - 0s 2ms/step - loss: 0.6335 - accuracy: 0.5770\n",
            "Epoch 284/500\n",
            "32/32 [==============================] - 0s 2ms/step - loss: 0.6330 - accuracy: 0.5800\n",
            "Epoch 285/500\n",
            "32/32 [==============================] - 0s 1ms/step - loss: 0.6326 - accuracy: 0.5800\n",
            "Epoch 286/500\n",
            "32/32 [==============================] - 0s 1ms/step - loss: 0.6321 - accuracy: 0.5850\n",
            "Epoch 287/500\n",
            "32/32 [==============================] - 0s 1ms/step - loss: 0.6322 - accuracy: 0.5800\n",
            "Epoch 288/500\n",
            "32/32 [==============================] - 0s 1ms/step - loss: 0.6321 - accuracy: 0.5830\n",
            "Epoch 289/500\n",
            "32/32 [==============================] - 0s 1ms/step - loss: 0.6333 - accuracy: 0.5700\n",
            "Epoch 290/500\n",
            "32/32 [==============================] - 0s 1ms/step - loss: 0.6315 - accuracy: 0.5870\n",
            "Epoch 291/500\n",
            "32/32 [==============================] - 0s 1ms/step - loss: 0.6310 - accuracy: 0.5920\n",
            "Epoch 292/500\n",
            "32/32 [==============================] - 0s 2ms/step - loss: 0.6306 - accuracy: 0.5920\n",
            "Epoch 293/500\n",
            "32/32 [==============================] - 0s 2ms/step - loss: 0.6303 - accuracy: 0.5810\n",
            "Epoch 294/500\n",
            "32/32 [==============================] - 0s 1ms/step - loss: 0.6300 - accuracy: 0.5830\n",
            "Epoch 295/500\n",
            "32/32 [==============================] - 0s 1ms/step - loss: 0.6306 - accuracy: 0.6010\n",
            "Epoch 296/500\n",
            "32/32 [==============================] - 0s 1ms/step - loss: 0.6297 - accuracy: 0.5750\n",
            "Epoch 297/500\n",
            "32/32 [==============================] - 0s 1ms/step - loss: 0.6294 - accuracy: 0.5980\n",
            "Epoch 298/500\n",
            "32/32 [==============================] - 0s 1ms/step - loss: 0.6290 - accuracy: 0.5810\n",
            "Epoch 299/500\n",
            "32/32 [==============================] - 0s 1ms/step - loss: 0.6286 - accuracy: 0.5900\n",
            "Epoch 300/500\n",
            "32/32 [==============================] - 0s 1ms/step - loss: 0.6288 - accuracy: 0.5920\n",
            "Epoch 301/500\n",
            "32/32 [==============================] - 0s 1ms/step - loss: 0.6284 - accuracy: 0.5900\n",
            "Epoch 302/500\n",
            "32/32 [==============================] - 0s 1ms/step - loss: 0.6289 - accuracy: 0.5960\n",
            "Epoch 303/500\n",
            "32/32 [==============================] - 0s 2ms/step - loss: 0.6280 - accuracy: 0.5880\n",
            "Epoch 304/500\n",
            "32/32 [==============================] - 0s 1ms/step - loss: 0.6280 - accuracy: 0.5990\n",
            "Epoch 305/500\n",
            "32/32 [==============================] - 0s 1ms/step - loss: 0.6276 - accuracy: 0.5990\n",
            "Epoch 306/500\n",
            "32/32 [==============================] - 0s 2ms/step - loss: 0.6273 - accuracy: 0.5900\n",
            "Epoch 307/500\n",
            "32/32 [==============================] - 0s 1ms/step - loss: 0.6274 - accuracy: 0.5860\n",
            "Epoch 308/500\n",
            "32/32 [==============================] - 0s 2ms/step - loss: 0.6265 - accuracy: 0.5980\n",
            "Epoch 309/500\n",
            "32/32 [==============================] - 0s 1ms/step - loss: 0.6269 - accuracy: 0.5950\n",
            "Epoch 310/500\n",
            "32/32 [==============================] - 0s 1ms/step - loss: 0.6263 - accuracy: 0.6090\n",
            "Epoch 311/500\n",
            "32/32 [==============================] - 0s 1ms/step - loss: 0.6258 - accuracy: 0.6010\n",
            "Epoch 312/500\n",
            "32/32 [==============================] - 0s 1ms/step - loss: 0.6248 - accuracy: 0.6050\n",
            "Epoch 313/500\n",
            "32/32 [==============================] - 0s 1ms/step - loss: 0.6244 - accuracy: 0.6010\n",
            "Epoch 314/500\n",
            "32/32 [==============================] - 0s 1ms/step - loss: 0.6243 - accuracy: 0.6020\n",
            "Epoch 315/500\n",
            "32/32 [==============================] - 0s 2ms/step - loss: 0.6242 - accuracy: 0.6020\n",
            "Epoch 316/500\n",
            "32/32 [==============================] - 0s 1ms/step - loss: 0.6239 - accuracy: 0.6090\n",
            "Epoch 317/500\n",
            "32/32 [==============================] - 0s 1ms/step - loss: 0.6229 - accuracy: 0.6100\n",
            "Epoch 318/500\n",
            "32/32 [==============================] - 0s 1ms/step - loss: 0.6227 - accuracy: 0.6100\n",
            "Epoch 319/500\n",
            "32/32 [==============================] - 0s 1ms/step - loss: 0.6228 - accuracy: 0.6000\n",
            "Epoch 320/500\n",
            "32/32 [==============================] - 0s 1ms/step - loss: 0.6221 - accuracy: 0.6140\n",
            "Epoch 321/500\n",
            "32/32 [==============================] - 0s 1ms/step - loss: 0.6220 - accuracy: 0.6100\n",
            "Epoch 322/500\n",
            "32/32 [==============================] - 0s 1ms/step - loss: 0.6219 - accuracy: 0.6050\n",
            "Epoch 323/500\n",
            "32/32 [==============================] - 0s 1ms/step - loss: 0.6213 - accuracy: 0.6110\n",
            "Epoch 324/500\n",
            "32/32 [==============================] - 0s 1ms/step - loss: 0.6219 - accuracy: 0.6090\n",
            "Epoch 325/500\n",
            "32/32 [==============================] - 0s 2ms/step - loss: 0.6211 - accuracy: 0.6050\n",
            "Epoch 326/500\n",
            "32/32 [==============================] - 0s 1ms/step - loss: 0.6213 - accuracy: 0.6090\n",
            "Epoch 327/500\n",
            "32/32 [==============================] - 0s 1ms/step - loss: 0.6202 - accuracy: 0.6140\n",
            "Epoch 328/500\n",
            "32/32 [==============================] - 0s 1ms/step - loss: 0.6201 - accuracy: 0.6110\n",
            "Epoch 329/500\n",
            "32/32 [==============================] - 0s 1ms/step - loss: 0.6201 - accuracy: 0.6050\n",
            "Epoch 330/500\n",
            "32/32 [==============================] - 0s 1ms/step - loss: 0.6198 - accuracy: 0.6090\n",
            "Epoch 331/500\n",
            "32/32 [==============================] - 0s 1ms/step - loss: 0.6195 - accuracy: 0.6130\n",
            "Epoch 332/500\n",
            "32/32 [==============================] - 0s 1ms/step - loss: 0.6194 - accuracy: 0.6160\n",
            "Epoch 333/500\n",
            "32/32 [==============================] - 0s 1ms/step - loss: 0.6192 - accuracy: 0.6130\n",
            "Epoch 334/500\n",
            "32/32 [==============================] - 0s 2ms/step - loss: 0.6192 - accuracy: 0.6130\n",
            "Epoch 335/500\n",
            "32/32 [==============================] - 0s 1ms/step - loss: 0.6189 - accuracy: 0.6070\n",
            "Epoch 336/500\n",
            "32/32 [==============================] - 0s 2ms/step - loss: 0.6203 - accuracy: 0.6210\n",
            "Epoch 337/500\n",
            "32/32 [==============================] - 0s 2ms/step - loss: 0.6187 - accuracy: 0.6030\n",
            "Epoch 338/500\n",
            "32/32 [==============================] - 0s 1ms/step - loss: 0.6190 - accuracy: 0.6050\n",
            "Epoch 339/500\n",
            "32/32 [==============================] - 0s 1ms/step - loss: 0.6185 - accuracy: 0.6150\n",
            "Epoch 340/500\n",
            "32/32 [==============================] - 0s 1ms/step - loss: 0.6183 - accuracy: 0.6100\n",
            "Epoch 341/500\n",
            "32/32 [==============================] - 0s 1ms/step - loss: 0.6184 - accuracy: 0.6150\n",
            "Epoch 342/500\n",
            "32/32 [==============================] - 0s 1ms/step - loss: 0.6189 - accuracy: 0.6070\n",
            "Epoch 343/500\n",
            "32/32 [==============================] - 0s 1ms/step - loss: 0.6180 - accuracy: 0.6170\n",
            "Epoch 344/500\n",
            "32/32 [==============================] - 0s 1ms/step - loss: 0.6177 - accuracy: 0.6150\n",
            "Epoch 345/500\n",
            "32/32 [==============================] - 0s 1ms/step - loss: 0.6178 - accuracy: 0.6160\n",
            "Epoch 346/500\n",
            "32/32 [==============================] - 0s 1ms/step - loss: 0.6180 - accuracy: 0.6170\n",
            "Epoch 347/500\n",
            "32/32 [==============================] - 0s 1ms/step - loss: 0.6180 - accuracy: 0.6040\n",
            "Epoch 348/500\n",
            "32/32 [==============================] - 0s 2ms/step - loss: 0.6176 - accuracy: 0.6080\n",
            "Epoch 349/500\n",
            "32/32 [==============================] - 0s 1ms/step - loss: 0.6171 - accuracy: 0.6180\n",
            "Epoch 350/500\n",
            "32/32 [==============================] - 0s 1ms/step - loss: 0.6171 - accuracy: 0.6100\n",
            "Epoch 351/500\n",
            "32/32 [==============================] - 0s 1ms/step - loss: 0.6168 - accuracy: 0.6090\n",
            "Epoch 352/500\n",
            "32/32 [==============================] - 0s 1ms/step - loss: 0.6179 - accuracy: 0.6190\n",
            "Epoch 353/500\n",
            "32/32 [==============================] - 0s 1ms/step - loss: 0.6171 - accuracy: 0.6130\n",
            "Epoch 354/500\n",
            "32/32 [==============================] - 0s 1ms/step - loss: 0.6171 - accuracy: 0.6140\n",
            "Epoch 355/500\n",
            "32/32 [==============================] - 0s 1ms/step - loss: 0.6169 - accuracy: 0.6200\n",
            "Epoch 356/500\n",
            "32/32 [==============================] - 0s 1ms/step - loss: 0.6173 - accuracy: 0.6090\n",
            "Epoch 357/500\n",
            "32/32 [==============================] - 0s 1ms/step - loss: 0.6166 - accuracy: 0.6180\n",
            "Epoch 358/500\n",
            "32/32 [==============================] - 0s 1ms/step - loss: 0.6163 - accuracy: 0.6070\n",
            "Epoch 359/500\n",
            "32/32 [==============================] - 0s 1ms/step - loss: 0.6163 - accuracy: 0.6160\n",
            "Epoch 360/500\n",
            "32/32 [==============================] - 0s 2ms/step - loss: 0.6160 - accuracy: 0.6140\n",
            "Epoch 361/500\n",
            "32/32 [==============================] - 0s 1ms/step - loss: 0.6171 - accuracy: 0.6100\n",
            "Epoch 362/500\n",
            "32/32 [==============================] - 0s 1ms/step - loss: 0.6163 - accuracy: 0.6230\n",
            "Epoch 363/500\n",
            "32/32 [==============================] - 0s 1ms/step - loss: 0.6163 - accuracy: 0.6170\n",
            "Epoch 364/500\n",
            "32/32 [==============================] - 0s 1ms/step - loss: 0.6160 - accuracy: 0.6220\n",
            "Epoch 365/500\n",
            "32/32 [==============================] - 0s 1ms/step - loss: 0.6157 - accuracy: 0.6070\n",
            "Epoch 366/500\n",
            "32/32 [==============================] - 0s 1ms/step - loss: 0.6155 - accuracy: 0.6150\n",
            "Epoch 367/500\n",
            "32/32 [==============================] - 0s 1ms/step - loss: 0.6164 - accuracy: 0.6050\n",
            "Epoch 368/500\n",
            "32/32 [==============================] - 0s 2ms/step - loss: 0.6163 - accuracy: 0.6070\n",
            "Epoch 369/500\n",
            "32/32 [==============================] - 0s 1ms/step - loss: 0.6155 - accuracy: 0.6160\n",
            "Epoch 370/500\n",
            "32/32 [==============================] - 0s 1ms/step - loss: 0.6154 - accuracy: 0.6140\n",
            "Epoch 371/500\n",
            "32/32 [==============================] - 0s 1ms/step - loss: 0.6155 - accuracy: 0.6160\n",
            "Epoch 372/500\n",
            "32/32 [==============================] - 0s 1ms/step - loss: 0.6155 - accuracy: 0.6060\n",
            "Epoch 373/500\n",
            "32/32 [==============================] - 0s 2ms/step - loss: 0.6158 - accuracy: 0.6270\n",
            "Epoch 374/500\n",
            "32/32 [==============================] - 0s 1ms/step - loss: 0.6154 - accuracy: 0.6010\n",
            "Epoch 375/500\n",
            "32/32 [==============================] - 0s 1ms/step - loss: 0.6153 - accuracy: 0.6140\n",
            "Epoch 376/500\n",
            "32/32 [==============================] - 0s 1ms/step - loss: 0.6149 - accuracy: 0.6120\n",
            "Epoch 377/500\n",
            "32/32 [==============================] - 0s 1ms/step - loss: 0.6147 - accuracy: 0.6120\n",
            "Epoch 378/500\n",
            "32/32 [==============================] - 0s 1ms/step - loss: 0.6147 - accuracy: 0.6080\n",
            "Epoch 379/500\n",
            "32/32 [==============================] - 0s 1ms/step - loss: 0.6147 - accuracy: 0.6100\n",
            "Epoch 380/500\n",
            "32/32 [==============================] - 0s 1ms/step - loss: 0.6147 - accuracy: 0.6180\n",
            "Epoch 381/500\n",
            "32/32 [==============================] - 0s 1ms/step - loss: 0.6149 - accuracy: 0.6100\n",
            "Epoch 382/500\n",
            "32/32 [==============================] - 0s 1ms/step - loss: 0.6145 - accuracy: 0.6200\n",
            "Epoch 383/500\n",
            "32/32 [==============================] - 0s 1ms/step - loss: 0.6150 - accuracy: 0.6140\n",
            "Epoch 384/500\n",
            "32/32 [==============================] - 0s 1ms/step - loss: 0.6143 - accuracy: 0.6110\n",
            "Epoch 385/500\n",
            "32/32 [==============================] - 0s 2ms/step - loss: 0.6151 - accuracy: 0.6120\n",
            "Epoch 386/500\n",
            "32/32 [==============================] - 0s 2ms/step - loss: 0.6147 - accuracy: 0.6100\n",
            "Epoch 387/500\n",
            "32/32 [==============================] - 0s 1ms/step - loss: 0.6151 - accuracy: 0.6230\n",
            "Epoch 388/500\n",
            "32/32 [==============================] - 0s 1ms/step - loss: 0.6142 - accuracy: 0.6120\n",
            "Epoch 389/500\n",
            "32/32 [==============================] - 0s 2ms/step - loss: 0.6153 - accuracy: 0.6160\n",
            "Epoch 390/500\n",
            "32/32 [==============================] - 0s 1ms/step - loss: 0.6146 - accuracy: 0.6120\n",
            "Epoch 391/500\n",
            "32/32 [==============================] - 0s 1ms/step - loss: 0.6142 - accuracy: 0.6200\n",
            "Epoch 392/500\n",
            "32/32 [==============================] - 0s 2ms/step - loss: 0.6144 - accuracy: 0.6100\n",
            "Epoch 393/500\n",
            "32/32 [==============================] - 0s 2ms/step - loss: 0.6149 - accuracy: 0.6150\n",
            "Epoch 394/500\n",
            "32/32 [==============================] - 0s 2ms/step - loss: 0.6144 - accuracy: 0.6180\n",
            "Epoch 395/500\n",
            "32/32 [==============================] - 0s 1ms/step - loss: 0.6147 - accuracy: 0.6110\n",
            "Epoch 396/500\n",
            "32/32 [==============================] - 0s 1ms/step - loss: 0.6143 - accuracy: 0.6200\n",
            "Epoch 397/500\n",
            "32/32 [==============================] - 0s 1ms/step - loss: 0.6141 - accuracy: 0.6160\n",
            "Epoch 398/500\n",
            "32/32 [==============================] - 0s 1ms/step - loss: 0.6143 - accuracy: 0.6090\n",
            "Epoch 399/500\n",
            "32/32 [==============================] - 0s 1ms/step - loss: 0.6152 - accuracy: 0.6140\n",
            "Epoch 400/500\n",
            "32/32 [==============================] - 0s 2ms/step - loss: 0.6145 - accuracy: 0.6070\n",
            "Epoch 401/500\n",
            "32/32 [==============================] - 0s 1ms/step - loss: 0.6141 - accuracy: 0.6120\n",
            "Epoch 402/500\n",
            "32/32 [==============================] - 0s 1ms/step - loss: 0.6138 - accuracy: 0.6120\n",
            "Epoch 403/500\n",
            "32/32 [==============================] - 0s 2ms/step - loss: 0.6149 - accuracy: 0.6150\n",
            "Epoch 404/500\n",
            "32/32 [==============================] - 0s 1ms/step - loss: 0.6143 - accuracy: 0.6120\n",
            "Epoch 405/500\n",
            "32/32 [==============================] - 0s 1ms/step - loss: 0.6137 - accuracy: 0.6130\n",
            "Epoch 406/500\n",
            "32/32 [==============================] - 0s 2ms/step - loss: 0.6150 - accuracy: 0.6190\n",
            "Epoch 407/500\n",
            "32/32 [==============================] - 0s 1ms/step - loss: 0.6144 - accuracy: 0.6100\n",
            "Epoch 408/500\n",
            "32/32 [==============================] - 0s 1ms/step - loss: 0.6142 - accuracy: 0.6110\n",
            "Epoch 409/500\n",
            "32/32 [==============================] - 0s 1ms/step - loss: 0.6142 - accuracy: 0.6170\n",
            "Epoch 410/500\n",
            "32/32 [==============================] - 0s 1ms/step - loss: 0.6144 - accuracy: 0.6090\n",
            "Epoch 411/500\n",
            "32/32 [==============================] - 0s 2ms/step - loss: 0.6140 - accuracy: 0.6140\n",
            "Epoch 412/500\n",
            "32/32 [==============================] - 0s 1ms/step - loss: 0.6137 - accuracy: 0.6090\n",
            "Epoch 413/500\n",
            "32/32 [==============================] - 0s 1ms/step - loss: 0.6134 - accuracy: 0.6110\n",
            "Epoch 414/500\n",
            "32/32 [==============================] - 0s 1ms/step - loss: 0.6136 - accuracy: 0.6140\n",
            "Epoch 415/500\n",
            "32/32 [==============================] - 0s 1ms/step - loss: 0.6137 - accuracy: 0.6190\n",
            "Epoch 416/500\n",
            "32/32 [==============================] - 0s 2ms/step - loss: 0.6139 - accuracy: 0.6080\n",
            "Epoch 417/500\n",
            "32/32 [==============================] - 0s 1ms/step - loss: 0.6141 - accuracy: 0.6160\n",
            "Epoch 418/500\n",
            "32/32 [==============================] - 0s 1ms/step - loss: 0.6138 - accuracy: 0.6070\n",
            "Epoch 419/500\n",
            "32/32 [==============================] - 0s 1ms/step - loss: 0.6132 - accuracy: 0.6080\n",
            "Epoch 420/500\n",
            "32/32 [==============================] - 0s 2ms/step - loss: 0.6133 - accuracy: 0.6130\n",
            "Epoch 421/500\n",
            "32/32 [==============================] - 0s 1ms/step - loss: 0.6131 - accuracy: 0.6100\n",
            "Epoch 422/500\n",
            "32/32 [==============================] - 0s 1ms/step - loss: 0.6138 - accuracy: 0.6110\n",
            "Epoch 423/500\n",
            "32/32 [==============================] - 0s 2ms/step - loss: 0.6133 - accuracy: 0.6090\n",
            "Epoch 424/500\n",
            "32/32 [==============================] - 0s 1ms/step - loss: 0.6136 - accuracy: 0.6100\n",
            "Epoch 425/500\n",
            "32/32 [==============================] - 0s 1ms/step - loss: 0.6142 - accuracy: 0.6160\n",
            "Epoch 426/500\n",
            "32/32 [==============================] - 0s 1ms/step - loss: 0.6135 - accuracy: 0.6100\n",
            "Epoch 427/500\n",
            "32/32 [==============================] - 0s 1ms/step - loss: 0.6133 - accuracy: 0.6050\n",
            "Epoch 428/500\n",
            "32/32 [==============================] - 0s 2ms/step - loss: 0.6139 - accuracy: 0.6120\n",
            "Epoch 429/500\n",
            "32/32 [==============================] - 0s 1ms/step - loss: 0.6131 - accuracy: 0.6070\n",
            "Epoch 430/500\n",
            "32/32 [==============================] - 0s 1ms/step - loss: 0.6129 - accuracy: 0.6110\n",
            "Epoch 431/500\n",
            "32/32 [==============================] - 0s 1ms/step - loss: 0.6133 - accuracy: 0.6100\n",
            "Epoch 432/500\n",
            "32/32 [==============================] - 0s 1ms/step - loss: 0.6133 - accuracy: 0.6190\n",
            "Epoch 433/500\n",
            "32/32 [==============================] - 0s 1ms/step - loss: 0.6128 - accuracy: 0.6180\n",
            "Epoch 434/500\n",
            "32/32 [==============================] - 0s 1ms/step - loss: 0.6127 - accuracy: 0.6100\n",
            "Epoch 435/500\n",
            "32/32 [==============================] - 0s 1ms/step - loss: 0.6127 - accuracy: 0.6140\n",
            "Epoch 436/500\n",
            "32/32 [==============================] - 0s 2ms/step - loss: 0.6132 - accuracy: 0.6080\n",
            "Epoch 437/500\n",
            "32/32 [==============================] - 0s 1ms/step - loss: 0.6130 - accuracy: 0.6100\n",
            "Epoch 438/500\n",
            "32/32 [==============================] - 0s 1ms/step - loss: 0.6127 - accuracy: 0.6170\n",
            "Epoch 439/500\n",
            "32/32 [==============================] - 0s 1ms/step - loss: 0.6125 - accuracy: 0.6190\n",
            "Epoch 440/500\n",
            "32/32 [==============================] - 0s 1ms/step - loss: 0.6127 - accuracy: 0.6140\n",
            "Epoch 441/500\n",
            "32/32 [==============================] - 0s 1ms/step - loss: 0.6122 - accuracy: 0.6110\n",
            "Epoch 442/500\n",
            "32/32 [==============================] - 0s 1ms/step - loss: 0.6139 - accuracy: 0.6130\n",
            "Epoch 443/500\n",
            "32/32 [==============================] - 0s 1ms/step - loss: 0.6130 - accuracy: 0.6150\n",
            "Epoch 444/500\n",
            "32/32 [==============================] - 0s 1ms/step - loss: 0.6127 - accuracy: 0.6120\n",
            "Epoch 445/500\n",
            "32/32 [==============================] - 0s 1ms/step - loss: 0.6130 - accuracy: 0.6170\n",
            "Epoch 446/500\n",
            "32/32 [==============================] - 0s 1ms/step - loss: 0.6128 - accuracy: 0.6090\n",
            "Epoch 447/500\n",
            "32/32 [==============================] - 0s 1ms/step - loss: 0.6121 - accuracy: 0.6130\n",
            "Epoch 448/500\n",
            "32/32 [==============================] - 0s 2ms/step - loss: 0.6128 - accuracy: 0.6120\n",
            "Epoch 449/500\n",
            "32/32 [==============================] - 0s 2ms/step - loss: 0.6125 - accuracy: 0.6150\n",
            "Epoch 450/500\n",
            "32/32 [==============================] - 0s 1ms/step - loss: 0.6121 - accuracy: 0.6040\n",
            "Epoch 451/500\n",
            "32/32 [==============================] - 0s 1ms/step - loss: 0.6126 - accuracy: 0.6180\n",
            "Epoch 452/500\n",
            "32/32 [==============================] - 0s 1ms/step - loss: 0.6126 - accuracy: 0.6190\n",
            "Epoch 453/500\n",
            "32/32 [==============================] - 0s 1ms/step - loss: 0.6123 - accuracy: 0.6050\n",
            "Epoch 454/500\n",
            "32/32 [==============================] - 0s 2ms/step - loss: 0.6128 - accuracy: 0.6080\n",
            "Epoch 455/500\n",
            "32/32 [==============================] - 0s 1ms/step - loss: 0.6135 - accuracy: 0.6100\n",
            "Epoch 456/500\n",
            "32/32 [==============================] - 0s 1ms/step - loss: 0.6136 - accuracy: 0.6250\n",
            "Epoch 457/500\n",
            "32/32 [==============================] - 0s 1ms/step - loss: 0.6126 - accuracy: 0.6130\n",
            "Epoch 458/500\n",
            "32/32 [==============================] - 0s 2ms/step - loss: 0.6120 - accuracy: 0.6180\n",
            "Epoch 459/500\n",
            "32/32 [==============================] - 0s 2ms/step - loss: 0.6132 - accuracy: 0.6130\n",
            "Epoch 460/500\n",
            "32/32 [==============================] - 0s 1ms/step - loss: 0.6125 - accuracy: 0.6140\n",
            "Epoch 461/500\n",
            "32/32 [==============================] - 0s 2ms/step - loss: 0.6131 - accuracy: 0.6120\n",
            "Epoch 462/500\n",
            "32/32 [==============================] - 0s 1ms/step - loss: 0.6122 - accuracy: 0.6190\n",
            "Epoch 463/500\n",
            "32/32 [==============================] - 0s 2ms/step - loss: 0.6126 - accuracy: 0.6140\n",
            "Epoch 464/500\n",
            "32/32 [==============================] - 0s 1ms/step - loss: 0.6122 - accuracy: 0.6160\n",
            "Epoch 465/500\n",
            "32/32 [==============================] - 0s 1ms/step - loss: 0.6119 - accuracy: 0.6110\n",
            "Epoch 466/500\n",
            "32/32 [==============================] - 0s 1ms/step - loss: 0.6134 - accuracy: 0.6050\n",
            "Epoch 467/500\n",
            "32/32 [==============================] - 0s 1ms/step - loss: 0.6131 - accuracy: 0.6130\n",
            "Epoch 468/500\n",
            "32/32 [==============================] - 0s 1ms/step - loss: 0.6122 - accuracy: 0.6120\n",
            "Epoch 469/500\n",
            "32/32 [==============================] - 0s 1ms/step - loss: 0.6123 - accuracy: 0.6160\n",
            "Epoch 470/500\n",
            "32/32 [==============================] - 0s 1ms/step - loss: 0.6125 - accuracy: 0.6210\n",
            "Epoch 471/500\n",
            "32/32 [==============================] - 0s 1ms/step - loss: 0.6123 - accuracy: 0.6150\n",
            "Epoch 472/500\n",
            "32/32 [==============================] - 0s 1ms/step - loss: 0.6123 - accuracy: 0.6090\n",
            "Epoch 473/500\n",
            "32/32 [==============================] - 0s 1ms/step - loss: 0.6118 - accuracy: 0.6090\n",
            "Epoch 474/500\n",
            "32/32 [==============================] - 0s 2ms/step - loss: 0.6122 - accuracy: 0.6040\n",
            "Epoch 475/500\n",
            "32/32 [==============================] - 0s 1ms/step - loss: 0.6116 - accuracy: 0.6130\n",
            "Epoch 476/500\n",
            "32/32 [==============================] - 0s 1ms/step - loss: 0.6118 - accuracy: 0.6120\n",
            "Epoch 477/500\n",
            "32/32 [==============================] - 0s 1ms/step - loss: 0.6122 - accuracy: 0.6090\n",
            "Epoch 478/500\n",
            "32/32 [==============================] - 0s 1ms/step - loss: 0.6126 - accuracy: 0.6120\n",
            "Epoch 479/500\n",
            "32/32 [==============================] - 0s 1ms/step - loss: 0.6122 - accuracy: 0.6160\n",
            "Epoch 480/500\n",
            "32/32 [==============================] - 0s 1ms/step - loss: 0.6119 - accuracy: 0.6210\n",
            "Epoch 481/500\n",
            "32/32 [==============================] - 0s 1ms/step - loss: 0.6121 - accuracy: 0.6120\n",
            "Epoch 482/500\n",
            "32/32 [==============================] - 0s 1ms/step - loss: 0.6118 - accuracy: 0.6140\n",
            "Epoch 483/500\n",
            "32/32 [==============================] - 0s 1ms/step - loss: 0.6124 - accuracy: 0.6190\n",
            "Epoch 484/500\n",
            "32/32 [==============================] - 0s 1ms/step - loss: 0.6123 - accuracy: 0.6090\n",
            "Epoch 485/500\n",
            "32/32 [==============================] - 0s 1ms/step - loss: 0.6117 - accuracy: 0.6150\n",
            "Epoch 486/500\n",
            "32/32 [==============================] - 0s 1ms/step - loss: 0.6131 - accuracy: 0.6110\n",
            "Epoch 487/500\n",
            "32/32 [==============================] - 0s 1ms/step - loss: 0.6119 - accuracy: 0.6160\n",
            "Epoch 488/500\n",
            "32/32 [==============================] - 0s 1ms/step - loss: 0.6116 - accuracy: 0.6070\n",
            "Epoch 489/500\n",
            "32/32 [==============================] - 0s 2ms/step - loss: 0.6116 - accuracy: 0.6120\n",
            "Epoch 490/500\n",
            "32/32 [==============================] - 0s 1ms/step - loss: 0.6117 - accuracy: 0.6150\n",
            "Epoch 491/500\n",
            "32/32 [==============================] - 0s 2ms/step - loss: 0.6115 - accuracy: 0.6130\n",
            "Epoch 492/500\n",
            "32/32 [==============================] - 0s 2ms/step - loss: 0.6115 - accuracy: 0.6180\n",
            "Epoch 493/500\n",
            "32/32 [==============================] - 0s 1ms/step - loss: 0.6117 - accuracy: 0.6110\n",
            "Epoch 494/500\n",
            "32/32 [==============================] - 0s 1ms/step - loss: 0.6124 - accuracy: 0.6050\n",
            "Epoch 495/500\n",
            "32/32 [==============================] - 0s 1ms/step - loss: 0.6127 - accuracy: 0.6170\n",
            "Epoch 496/500\n",
            "32/32 [==============================] - 0s 1ms/step - loss: 0.6117 - accuracy: 0.6170\n",
            "Epoch 497/500\n",
            "32/32 [==============================] - 0s 2ms/step - loss: 0.6118 - accuracy: 0.6090\n",
            "Epoch 498/500\n",
            "32/32 [==============================] - 0s 2ms/step - loss: 0.6115 - accuracy: 0.6110\n",
            "Epoch 499/500\n",
            "32/32 [==============================] - 0s 1ms/step - loss: 0.6116 - accuracy: 0.6100\n",
            "Epoch 500/500\n",
            "32/32 [==============================] - 0s 2ms/step - loss: 0.6119 - accuracy: 0.6120\n"
          ],
          "name": "stdout"
        }
      ]
    },
    {
      "cell_type": "code",
      "metadata": {
        "colab": {
          "base_uri": "https://localhost:8080/"
        },
        "id": "g1zl5G0zX7Xc",
        "outputId": "1e364530-b51c-42fb-bafb-1558dc3c8f89"
      },
      "source": [
        "model_6.evaluate(X,y)"
      ],
      "execution_count": 31,
      "outputs": [
        {
          "output_type": "stream",
          "text": [
            "32/32 [==============================] - 0s 970us/step - loss: 0.6107 - accuracy: 0.6150\n"
          ],
          "name": "stdout"
        },
        {
          "output_type": "execute_result",
          "data": {
            "text/plain": [
              "[0.6106513142585754, 0.6150000095367432]"
            ]
          },
          "metadata": {
            "tags": []
          },
          "execution_count": 31
        }
      ]
    },
    {
      "cell_type": "code",
      "metadata": {
        "colab": {
          "base_uri": "https://localhost:8080/",
          "height": 282
        },
        "id": "YjNrFaZRX_VP",
        "outputId": "9259791c-d35c-409f-bd85-f61d9922daf5"
      },
      "source": [
        "#visuizae the results\n",
        "plot_decision_boundary(model_6,X,y)"
      ],
      "execution_count": 32,
      "outputs": [
        {
          "output_type": "stream",
          "text": [
            "doing binary classifcation...\n"
          ],
          "name": "stdout"
        },
        {
          "output_type": "display_data",
          "data": {
            "image/png": "[encoded data removed]",
            "text/plain": [
              "<Figure size 432x288 with 1 Axes>"
            ]
          },
          "metadata": {
            "tags": [],
            "needs_background": "light"
          }
        }
      ]
    },
    {
      "cell_type": "code",
      "metadata": {
        "colab": {
          "base_uri": "https://localhost:8080/"
        },
        "id": "ZpDI6heHYxMK",
        "outputId": "8661750a-0032-4ec7-d450-bacbad89ed27"
      },
      "source": [
        "#set the random seed \n",
        "tf.random.set_seed(42)\n",
        "\n",
        "#create the model\n",
        "model_7=tf.keras.Sequential([\n",
        "                             tf.keras.layers.Dense(4,activation=tf.keras.activations.relu),\n",
        "                             tf.keras.layers.Dense(4,activation=tf.keras.activations.relu),\n",
        "                             tf.keras.layers.Dense(1,activation=tf.keras.activations.sigmoid),\n",
        "])\n",
        "\n",
        "#compile the model\n",
        "model_7.compile(loss=tf.keras.losses.BinaryCrossentropy(),\n",
        "                optimizer=tf.keras.optimizers.Adam(lr=0.001),\n",
        "                metrics=[\"accuracy\"])\n",
        "\n",
        "#fit the model\n",
        "history =model_7.fit(X,y,epochs=100)"
      ],
      "execution_count": 33,
      "outputs": [
        {
          "output_type": "stream",
          "text": [
            "/usr/local/lib/python3.7/dist-packages/tensorflow/python/keras/optimizer_v2/optimizer_v2.py:375: UserWarning: The `lr` argument is deprecated, use `learning_rate` instead.\n",
            "  \"The `lr` argument is deprecated, use `learning_rate` instead.\")\n"
          ],
          "name": "stderr"
        },
        {
          "output_type": "stream",
          "text": [
            "Epoch 1/100\n",
            "32/32 [==============================] - 0s 1ms/step - loss: 0.6891 - accuracy: 0.5020\n",
            "Epoch 2/100\n",
            "32/32 [==============================] - 0s 1ms/step - loss: 0.6848 - accuracy: 0.5170\n",
            "Epoch 3/100\n",
            "32/32 [==============================] - 0s 1ms/step - loss: 0.6824 - accuracy: 0.5160\n",
            "Epoch 4/100\n",
            "32/32 [==============================] - 0s 1ms/step - loss: 0.6813 - accuracy: 0.5300\n",
            "Epoch 5/100\n",
            "32/32 [==============================] - 0s 1ms/step - loss: 0.6802 - accuracy: 0.5390\n",
            "Epoch 6/100\n",
            "32/32 [==============================] - 0s 1ms/step - loss: 0.6794 - accuracy: 0.5380\n",
            "Epoch 7/100\n",
            "32/32 [==============================] - 0s 1ms/step - loss: 0.6785 - accuracy: 0.5500\n",
            "Epoch 8/100\n",
            "32/32 [==============================] - 0s 1ms/step - loss: 0.6778 - accuracy: 0.5480\n",
            "Epoch 9/100\n",
            "32/32 [==============================] - 0s 1ms/step - loss: 0.6772 - accuracy: 0.5530\n",
            "Epoch 10/100\n",
            "32/32 [==============================] - 0s 1ms/step - loss: 0.6766 - accuracy: 0.5510\n",
            "Epoch 11/100\n",
            "32/32 [==============================] - 0s 1ms/step - loss: 0.6760 - accuracy: 0.5500\n",
            "Epoch 12/100\n",
            "32/32 [==============================] - 0s 1ms/step - loss: 0.6754 - accuracy: 0.5550\n",
            "Epoch 13/100\n",
            "32/32 [==============================] - 0s 1ms/step - loss: 0.6747 - accuracy: 0.5560\n",
            "Epoch 14/100\n",
            "32/32 [==============================] - 0s 1ms/step - loss: 0.6741 - accuracy: 0.5540\n",
            "Epoch 15/100\n",
            "32/32 [==============================] - 0s 1ms/step - loss: 0.6734 - accuracy: 0.5580\n",
            "Epoch 16/100\n",
            "32/32 [==============================] - 0s 1ms/step - loss: 0.6727 - accuracy: 0.5550\n",
            "Epoch 17/100\n",
            "32/32 [==============================] - 0s 1ms/step - loss: 0.6722 - accuracy: 0.5550\n",
            "Epoch 18/100\n",
            "32/32 [==============================] - 0s 1ms/step - loss: 0.6716 - accuracy: 0.5550\n",
            "Epoch 19/100\n",
            "32/32 [==============================] - 0s 1ms/step - loss: 0.6710 - accuracy: 0.5590\n",
            "Epoch 20/100\n",
            "32/32 [==============================] - 0s 1ms/step - loss: 0.6702 - accuracy: 0.5600\n",
            "Epoch 21/100\n",
            "32/32 [==============================] - 0s 1ms/step - loss: 0.6696 - accuracy: 0.5640\n",
            "Epoch 22/100\n",
            "32/32 [==============================] - 0s 1ms/step - loss: 0.6688 - accuracy: 0.5600\n",
            "Epoch 23/100\n",
            "32/32 [==============================] - 0s 1ms/step - loss: 0.6682 - accuracy: 0.5700\n",
            "Epoch 24/100\n",
            "32/32 [==============================] - 0s 1ms/step - loss: 0.6679 - accuracy: 0.5570\n",
            "Epoch 25/100\n",
            "32/32 [==============================] - 0s 1ms/step - loss: 0.6671 - accuracy: 0.5670\n",
            "Epoch 26/100\n",
            "32/32 [==============================] - 0s 1ms/step - loss: 0.6662 - accuracy: 0.5750\n",
            "Epoch 27/100\n",
            "32/32 [==============================] - 0s 1ms/step - loss: 0.6657 - accuracy: 0.5810\n",
            "Epoch 28/100\n",
            "32/32 [==============================] - 0s 1ms/step - loss: 0.6645 - accuracy: 0.5700\n",
            "Epoch 29/100\n",
            "32/32 [==============================] - 0s 1ms/step - loss: 0.6642 - accuracy: 0.5700\n",
            "Epoch 30/100\n",
            "32/32 [==============================] - 0s 1ms/step - loss: 0.6634 - accuracy: 0.5790\n",
            "Epoch 31/100\n",
            "32/32 [==============================] - 0s 1ms/step - loss: 0.6627 - accuracy: 0.5760\n",
            "Epoch 32/100\n",
            "32/32 [==============================] - 0s 1ms/step - loss: 0.6619 - accuracy: 0.5760\n",
            "Epoch 33/100\n",
            "32/32 [==============================] - 0s 2ms/step - loss: 0.6610 - accuracy: 0.5760\n",
            "Epoch 34/100\n",
            "32/32 [==============================] - 0s 1ms/step - loss: 0.6606 - accuracy: 0.5760\n",
            "Epoch 35/100\n",
            "32/32 [==============================] - 0s 1ms/step - loss: 0.6597 - accuracy: 0.5790\n",
            "Epoch 36/100\n",
            "32/32 [==============================] - 0s 1ms/step - loss: 0.6586 - accuracy: 0.5780\n",
            "Epoch 37/100\n",
            "32/32 [==============================] - 0s 1ms/step - loss: 0.6580 - accuracy: 0.5780\n",
            "Epoch 38/100\n",
            "32/32 [==============================] - 0s 1ms/step - loss: 0.6573 - accuracy: 0.5790\n",
            "Epoch 39/100\n",
            "32/32 [==============================] - 0s 1ms/step - loss: 0.6564 - accuracy: 0.5790\n",
            "Epoch 40/100\n",
            "32/32 [==============================] - 0s 1ms/step - loss: 0.6556 - accuracy: 0.5760\n",
            "Epoch 41/100\n",
            "32/32 [==============================] - 0s 1ms/step - loss: 0.6548 - accuracy: 0.5780\n",
            "Epoch 42/100\n",
            "32/32 [==============================] - 0s 1ms/step - loss: 0.6540 - accuracy: 0.5750\n",
            "Epoch 43/100\n",
            "32/32 [==============================] - 0s 1ms/step - loss: 0.6530 - accuracy: 0.5780\n",
            "Epoch 44/100\n",
            "32/32 [==============================] - 0s 2ms/step - loss: 0.6521 - accuracy: 0.5810\n",
            "Epoch 45/100\n",
            "32/32 [==============================] - 0s 1ms/step - loss: 0.6496 - accuracy: 0.5810\n",
            "Epoch 46/100\n",
            "32/32 [==============================] - 0s 1ms/step - loss: 0.6481 - accuracy: 0.5830\n",
            "Epoch 47/100\n",
            "32/32 [==============================] - 0s 1ms/step - loss: 0.6472 - accuracy: 0.5850\n",
            "Epoch 48/100\n",
            "32/32 [==============================] - 0s 1ms/step - loss: 0.6451 - accuracy: 0.5880\n",
            "Epoch 49/100\n",
            "32/32 [==============================] - 0s 1ms/step - loss: 0.6426 - accuracy: 0.5880\n",
            "Epoch 50/100\n",
            "32/32 [==============================] - 0s 1ms/step - loss: 0.6404 - accuracy: 0.5940\n",
            "Epoch 51/100\n",
            "32/32 [==============================] - 0s 1ms/step - loss: 0.6384 - accuracy: 0.6010\n",
            "Epoch 52/100\n",
            "32/32 [==============================] - 0s 1ms/step - loss: 0.6364 - accuracy: 0.6130\n",
            "Epoch 53/100\n",
            "32/32 [==============================] - 0s 1ms/step - loss: 0.6344 - accuracy: 0.6110\n",
            "Epoch 54/100\n",
            "32/32 [==============================] - 0s 1ms/step - loss: 0.6312 - accuracy: 0.6280\n",
            "Epoch 55/100\n",
            "32/32 [==============================] - 0s 1ms/step - loss: 0.6287 - accuracy: 0.6380\n",
            "Epoch 56/100\n",
            "32/32 [==============================] - 0s 1ms/step - loss: 0.6259 - accuracy: 0.6840\n",
            "Epoch 57/100\n",
            "32/32 [==============================] - 0s 1ms/step - loss: 0.6227 - accuracy: 0.6950\n",
            "Epoch 58/100\n",
            "32/32 [==============================] - 0s 1ms/step - loss: 0.6200 - accuracy: 0.6990\n",
            "Epoch 59/100\n",
            "32/32 [==============================] - 0s 1ms/step - loss: 0.6168 - accuracy: 0.6950\n",
            "Epoch 60/100\n",
            "32/32 [==============================] - 0s 1ms/step - loss: 0.6133 - accuracy: 0.7240\n",
            "Epoch 61/100\n",
            "32/32 [==============================] - 0s 1ms/step - loss: 0.6101 - accuracy: 0.7200\n",
            "Epoch 62/100\n",
            "32/32 [==============================] - 0s 1ms/step - loss: 0.6059 - accuracy: 0.7330\n",
            "Epoch 63/100\n",
            "32/32 [==============================] - 0s 1ms/step - loss: 0.6014 - accuracy: 0.7400\n",
            "Epoch 64/100\n",
            "32/32 [==============================] - 0s 2ms/step - loss: 0.5966 - accuracy: 0.7460\n",
            "Epoch 65/100\n",
            "32/32 [==============================] - 0s 1ms/step - loss: 0.5905 - accuracy: 0.7440\n",
            "Epoch 66/100\n",
            "32/32 [==============================] - 0s 1ms/step - loss: 0.5830 - accuracy: 0.7450\n",
            "Epoch 67/100\n",
            "32/32 [==============================] - 0s 1ms/step - loss: 0.5757 - accuracy: 0.7460\n",
            "Epoch 68/100\n",
            "32/32 [==============================] - 0s 1ms/step - loss: 0.5683 - accuracy: 0.7800\n",
            "Epoch 69/100\n",
            "32/32 [==============================] - 0s 1ms/step - loss: 0.5614 - accuracy: 0.8010\n",
            "Epoch 70/100\n",
            "32/32 [==============================] - 0s 1ms/step - loss: 0.5548 - accuracy: 0.8010\n",
            "Epoch 71/100\n",
            "32/32 [==============================] - 0s 1ms/step - loss: 0.5474 - accuracy: 0.8240\n",
            "Epoch 72/100\n",
            "32/32 [==============================] - 0s 1ms/step - loss: 0.5406 - accuracy: 0.8460\n",
            "Epoch 73/100\n",
            "32/32 [==============================] - 0s 1ms/step - loss: 0.5327 - accuracy: 0.8470\n",
            "Epoch 74/100\n",
            "32/32 [==============================] - 0s 2ms/step - loss: 0.5243 - accuracy: 0.8620\n",
            "Epoch 75/100\n",
            "32/32 [==============================] - 0s 2ms/step - loss: 0.5148 - accuracy: 0.8870\n",
            "Epoch 76/100\n",
            "32/32 [==============================] - 0s 1ms/step - loss: 0.5042 - accuracy: 0.8820\n",
            "Epoch 77/100\n",
            "32/32 [==============================] - 0s 1ms/step - loss: 0.4927 - accuracy: 0.9300\n",
            "Epoch 78/100\n",
            "32/32 [==============================] - 0s 1ms/step - loss: 0.4824 - accuracy: 0.9090\n",
            "Epoch 79/100\n",
            "32/32 [==============================] - 0s 1ms/step - loss: 0.4733 - accuracy: 0.9460\n",
            "Epoch 80/100\n",
            "32/32 [==============================] - 0s 1ms/step - loss: 0.4632 - accuracy: 0.9600\n",
            "Epoch 81/100\n",
            "32/32 [==============================] - 0s 1ms/step - loss: 0.4546 - accuracy: 0.9600\n",
            "Epoch 82/100\n",
            "32/32 [==============================] - 0s 1ms/step - loss: 0.4456 - accuracy: 0.9580\n",
            "Epoch 83/100\n",
            "32/32 [==============================] - 0s 1ms/step - loss: 0.4360 - accuracy: 0.9630\n",
            "Epoch 84/100\n",
            "32/32 [==============================] - 0s 2ms/step - loss: 0.4260 - accuracy: 0.9690\n",
            "Epoch 85/100\n",
            "32/32 [==============================] - 0s 1ms/step - loss: 0.4145 - accuracy: 0.9700\n",
            "Epoch 86/100\n",
            "32/32 [==============================] - 0s 1ms/step - loss: 0.4059 - accuracy: 0.9740\n",
            "Epoch 87/100\n",
            "32/32 [==============================] - 0s 1ms/step - loss: 0.3962 - accuracy: 0.9750\n",
            "Epoch 88/100\n",
            "32/32 [==============================] - 0s 1ms/step - loss: 0.3873 - accuracy: 0.9720\n",
            "Epoch 89/100\n",
            "32/32 [==============================] - 0s 1ms/step - loss: 0.3795 - accuracy: 0.9750\n",
            "Epoch 90/100\n",
            "32/32 [==============================] - 0s 1ms/step - loss: 0.3716 - accuracy: 0.9750\n",
            "Epoch 91/100\n",
            "32/32 [==============================] - 0s 1ms/step - loss: 0.3635 - accuracy: 0.9840\n",
            "Epoch 92/100\n",
            "32/32 [==============================] - 0s 2ms/step - loss: 0.3554 - accuracy: 0.9830\n",
            "Epoch 93/100\n",
            "32/32 [==============================] - 0s 1ms/step - loss: 0.3482 - accuracy: 0.9800\n",
            "Epoch 94/100\n",
            "32/32 [==============================] - 0s 1ms/step - loss: 0.3404 - accuracy: 0.9820\n",
            "Epoch 95/100\n",
            "32/32 [==============================] - 0s 1ms/step - loss: 0.3329 - accuracy: 0.9880\n",
            "Epoch 96/100\n",
            "32/32 [==============================] - 0s 2ms/step - loss: 0.3268 - accuracy: 0.9870\n",
            "Epoch 97/100\n",
            "32/32 [==============================] - 0s 2ms/step - loss: 0.3190 - accuracy: 0.9870\n",
            "Epoch 98/100\n",
            "32/32 [==============================] - 0s 1ms/step - loss: 0.3122 - accuracy: 0.9890\n",
            "Epoch 99/100\n",
            "32/32 [==============================] - 0s 1ms/step - loss: 0.3059 - accuracy: 0.9880\n",
            "Epoch 100/100\n",
            "32/32 [==============================] - 0s 1ms/step - loss: 0.2993 - accuracy: 0.9890\n"
          ],
          "name": "stdout"
        }
      ]
    },
    {
      "cell_type": "code",
      "metadata": {
        "colab": {
          "base_uri": "https://localhost:8080/",
          "height": 282
        },
        "id": "Wt9dc9k9ZpN-",
        "outputId": "8df710cd-64e4-4f75-8574-52f610f1b886"
      },
      "source": [
        "#visuizae the results\n",
        "plot_decision_boundary(model_7,X=X,y=y)"
      ],
      "execution_count": 34,
      "outputs": [
        {
          "output_type": "stream",
          "text": [
            "doing binary classifcation...\n"
          ],
          "name": "stdout"
        },
        {
          "output_type": "display_data",
          "data": {
            "image/png": "[encoded data removed]",
            "text/plain": [
              "<Figure size 432x288 with 1 Axes>"
            ]
          },
          "metadata": {
            "tags": [],
            "needs_background": "light"
          }
        }
      ]
    },
    {
      "cell_type": "code",
      "metadata": {
        "colab": {
          "base_uri": "https://localhost:8080/"
        },
        "id": "6IkWu2rLcDmL",
        "outputId": "81f9beb2-5433-49e9-ea66-a57ed00f81e9"
      },
      "source": [
        "#Craete a toy tensor(similer to the data pass into models)\n",
        "A=tf.cast(tf.range(-10,10),tf.float32)\n",
        "A"
      ],
      "execution_count": 35,
      "outputs": [
        {
          "output_type": "execute_result",
          "data": {
            "text/plain": [
              "<tf.Tensor: shape=(20,), dtype=float32, numpy=\n",
              "array([-10.,  -9.,  -8.,  -7.,  -6.,  -5.,  -4.,  -3.,  -2.,  -1.,   0.,\n",
              "         1.,   2.,   3.,   4.,   5.,   6.,   7.,   8.,   9.],\n",
              "      dtype=float32)>"
            ]
          },
          "metadata": {
            "tags": []
          },
          "execution_count": 35
        }
      ]
    },
    {
      "cell_type": "code",
      "metadata": {
        "colab": {
          "base_uri": "https://localhost:8080/",
          "height": 282
        },
        "id": "xoP4pfHHcDf0",
        "outputId": "6461104e-07d2-4f6f-8230-e4f6b876323d"
      },
      "source": [
        "plt.plot(A)"
      ],
      "execution_count": 36,
      "outputs": [
        {
          "output_type": "execute_result",
          "data": {
            "text/plain": [
              "[<matplotlib.lines.Line2D at 0x7fe199090190>]"
            ]
          },
          "metadata": {
            "tags": []
          },
          "execution_count": 36
        },
        {
          "output_type": "display_data",
          "data": {
            "image/png": "[encoded data removed]",
            "text/plain": [
              "<Figure size 432x288 with 1 Axes>"
            ]
          },
          "metadata": {
            "tags": [],
            "needs_background": "light"
          }
        }
      ]
    },
    {
      "cell_type": "code",
      "metadata": {
        "colab": {
          "base_uri": "https://localhost:8080/"
        },
        "id": "eHNltqu0fPT3",
        "outputId": "fcc501f7-6071-4751-e5cc-8b54baa6bd64"
      },
      "source": [
        "#Replicating the sigmoid\n",
        "def sigmoid(x):\n",
        "  return 1/(1+tf.exp(-x))\n",
        "\n",
        "#use the sigmoid on toy tensor\n",
        "sigmoid(A)"
      ],
      "execution_count": 37,
      "outputs": [
        {
          "output_type": "execute_result",
          "data": {
            "text/plain": [
              "<tf.Tensor: shape=(20,), dtype=float32, numpy=\n",
              "array([4.5397872e-05, 1.2339458e-04, 3.3535014e-04, 9.1105117e-04,\n",
              "       2.4726233e-03, 6.6928510e-03, 1.7986210e-02, 4.7425874e-02,\n",
              "       1.1920292e-01, 2.6894143e-01, 5.0000000e-01, 7.3105860e-01,\n",
              "       8.8079703e-01, 9.5257413e-01, 9.8201376e-01, 9.9330717e-01,\n",
              "       9.9752742e-01, 9.9908900e-01, 9.9966466e-01, 9.9987662e-01],\n",
              "      dtype=float32)>"
            ]
          },
          "metadata": {
            "tags": []
          },
          "execution_count": 37
        }
      ]
    },
    {
      "cell_type": "code",
      "metadata": {
        "colab": {
          "base_uri": "https://localhost:8080/",
          "height": 282
        },
        "id": "Q8LLG204gHSi",
        "outputId": "1c31fd3d-9381-4a70-9819-e664b2253908"
      },
      "source": [
        "#Plot the toy tenser by sigmoid\n",
        "plt.plot(sigmoid(A))"
      ],
      "execution_count": 38,
      "outputs": [
        {
          "output_type": "execute_result",
          "data": {
            "text/plain": [
              "[<matplotlib.lines.Line2D at 0x7fe19772d450>]"
            ]
          },
          "metadata": {
            "tags": []
          },
          "execution_count": 38
        },
        {
          "output_type": "display_data",
          "data": {
            "image/png": "[encoded data removed]",
            "text/plain": [
              "<Figure size 432x288 with 1 Axes>"
            ]
          },
          "metadata": {
            "tags": [],
            "needs_background": "light"
          }
        }
      ]
    },
    {
      "cell_type": "code",
      "metadata": {
        "colab": {
          "base_uri": "https://localhost:8080/"
        },
        "id": "QH25BeT2gO_P",
        "outputId": "544645d7-3b4f-413d-ec1f-17a926aa014c"
      },
      "source": [
        "#recreate the relu function\n",
        "def relu(x):\n",
        "  return tf.maximum(0,x)\n",
        "\n",
        "#use the toy to relu fuuntion\n",
        "relu(A)"
      ],
      "execution_count": 39,
      "outputs": [
        {
          "output_type": "execute_result",
          "data": {
            "text/plain": [
              "<tf.Tensor: shape=(20,), dtype=float32, numpy=\n",
              "array([0., 0., 0., 0., 0., 0., 0., 0., 0., 0., 0., 1., 2., 3., 4., 5., 6.,\n",
              "       7., 8., 9.], dtype=float32)>"
            ]
          },
          "metadata": {
            "tags": []
          },
          "execution_count": 39
        }
      ]
    },
    {
      "cell_type": "code",
      "metadata": {
        "colab": {
          "base_uri": "https://localhost:8080/",
          "height": 282
        },
        "id": "wg0Q6NYrhAI1",
        "outputId": "4d74d5e3-d512-4493-e67a-917beb6c11c8"
      },
      "source": [
        "#plot the relu\n",
        "plt.plot(relu(A))"
      ],
      "execution_count": 40,
      "outputs": [
        {
          "output_type": "execute_result",
          "data": {
            "text/plain": [
              "[<matplotlib.lines.Line2D at 0x7fe1970a9bd0>]"
            ]
          },
          "metadata": {
            "tags": []
          },
          "execution_count": 40
        },
        {
          "output_type": "display_data",
          "data": {
            "image/png": "[encoded data removed]",
            "text/plain": [
              "<Figure size 432x288 with 1 Axes>"
            ]
          },
          "metadata": {
            "tags": [],
            "needs_background": "light"
          }
        }
      ]
    },
    {
      "cell_type": "code",
      "metadata": {
        "colab": {
          "base_uri": "https://localhost:8080/"
        },
        "id": "FiEJDnfRhEim",
        "outputId": "c49c4811-1e2d-4cf7-c003-f1b8efe03e3b"
      },
      "source": [
        "#Liner activation fuunction\n",
        "def linear(x):\n",
        "  return x\n",
        "\n",
        "#toy tensor\n",
        "linear(A)"
      ],
      "execution_count": 41,
      "outputs": [
        {
          "output_type": "execute_result",
          "data": {
            "text/plain": [
              "<tf.Tensor: shape=(20,), dtype=float32, numpy=\n",
              "array([-10.,  -9.,  -8.,  -7.,  -6.,  -5.,  -4.,  -3.,  -2.,  -1.,   0.,\n",
              "         1.,   2.,   3.,   4.,   5.,   6.,   7.,   8.,   9.],\n",
              "      dtype=float32)>"
            ]
          },
          "metadata": {
            "tags": []
          },
          "execution_count": 41
        }
      ]
    },
    {
      "cell_type": "code",
      "metadata": {
        "colab": {
          "base_uri": "https://localhost:8080/",
          "height": 282
        },
        "id": "NmCco1W3hsaU",
        "outputId": "8e1ca8ce-80b7-41a0-a31e-5b9fd79190ed"
      },
      "source": [
        "#plot the curve\n",
        "\n",
        "plt.plot(linear(A))"
      ],
      "execution_count": 42,
      "outputs": [
        {
          "output_type": "execute_result",
          "data": {
            "text/plain": [
              "[<matplotlib.lines.Line2D at 0x7fe197086150>]"
            ]
          },
          "metadata": {
            "tags": []
          },
          "execution_count": 42
        },
        {
          "output_type": "display_data",
          "data": {
            "image/png": "[encoded data removed]",
            "text/plain": [
              "<Figure size 432x288 with 1 Axes>"
            ]
          },
          "metadata": {
            "tags": [],
            "needs_background": "light"
          }
        }
      ]
    },
    {
      "cell_type": "markdown",
      "metadata": {
        "id": "z42Fbz5Ehxp0"
      },
      "source": [
        "##Evaluating and Improving the Model"
      ]
    },
    {
      "cell_type": "code",
      "metadata": {
        "colab": {
          "base_uri": "https://localhost:8080/"
        },
        "id": "JLV4YzhoN2gD",
        "outputId": "2b4b2df8-2c72-4be4-a176-9f6a66ccbdcb"
      },
      "source": [
        "len(X)"
      ],
      "execution_count": 45,
      "outputs": [
        {
          "output_type": "execute_result",
          "data": {
            "text/plain": [
              "1000"
            ]
          },
          "metadata": {
            "tags": []
          },
          "execution_count": 45
        }
      ]
    },
    {
      "cell_type": "code",
      "metadata": {
        "colab": {
          "base_uri": "https://localhost:8080/"
        },
        "id": "lsqKIGLlN6gS",
        "outputId": "46e6d051-f93d-4b99-af3e-de0187ab0904"
      },
      "source": [
        "X"
      ],
      "execution_count": 46,
      "outputs": [
        {
          "output_type": "execute_result",
          "data": {
            "text/plain": [
              "array([[ 0.75424625,  0.23148074],\n",
              "       [-0.75615888,  0.15325888],\n",
              "       [-0.81539193,  0.17328203],\n",
              "       ...,\n",
              "       [-0.13690036, -0.81001183],\n",
              "       [ 0.67036156, -0.76750154],\n",
              "       [ 0.28105665,  0.96382443]])"
            ]
          },
          "metadata": {
            "tags": []
          },
          "execution_count": 46
        }
      ]
    },
    {
      "cell_type": "code",
      "metadata": {
        "id": "EEUtzDq0N7qy"
      },
      "source": [
        "#spilt into train test set\n",
        "X_train,y_train =X[:800],y[:800]\n",
        "X_test,y_test =X[800:],y[800:]"
      ],
      "execution_count": 47,
      "outputs": []
    },
    {
      "cell_type": "code",
      "metadata": {
        "colab": {
          "base_uri": "https://localhost:8080/"
        },
        "id": "QJCrVmlrOQaJ",
        "outputId": "34a22fd8-d915-4483-9a50-3f7cba6342e6"
      },
      "source": [
        "X_train.shape,y_train.shape,X_test.shape,y_test.shape"
      ],
      "execution_count": 48,
      "outputs": [
        {
          "output_type": "execute_result",
          "data": {
            "text/plain": [
              "((800, 2), (800,), (200, 2), (200,))"
            ]
          },
          "metadata": {
            "tags": []
          },
          "execution_count": 48
        }
      ]
    },
    {
      "cell_type": "code",
      "metadata": {
        "colab": {
          "base_uri": "https://localhost:8080/"
        },
        "id": "OLoraI63OZZS",
        "outputId": "68eae10f-8157-4de2-a92d-0dac7c426810"
      },
      "source": [
        "#recreate the model using train and test data\n",
        "tf.random.set_seed(42)\n",
        "\n",
        "#create the model\n",
        "model_8 =tf.keras.Sequential([\n",
        "                              tf.keras.layers.Dense(4,activation=\"relu\"),\n",
        "                              tf.keras.layers.Dense(4,activation=\"relu\"),\n",
        "                              tf.keras.layers.Dense(1,activation=\"sigmoid\")\n",
        "])\n",
        "\n",
        "#compile the model\n",
        "model_8.compile(loss=tf.keras.losses.BinaryCrossentropy(),\n",
        "                optimizer=tf.keras.optimizers.Adam(lr=0.01),\n",
        "                metrics=\"accuracy\")\n",
        "\n",
        "#fit the model\n",
        "history=model_8.fit(X_train,y_train,epochs=25)"
      ],
      "execution_count": 54,
      "outputs": [
        {
          "output_type": "stream",
          "text": [
            "/usr/local/lib/python3.7/dist-packages/tensorflow/python/keras/optimizer_v2/optimizer_v2.py:375: UserWarning: The `lr` argument is deprecated, use `learning_rate` instead.\n",
            "  \"The `lr` argument is deprecated, use `learning_rate` instead.\")\n"
          ],
          "name": "stderr"
        },
        {
          "output_type": "stream",
          "text": [
            "Epoch 1/25\n",
            "25/25 [==============================] - 0s 1ms/step - loss: 0.6847 - accuracy: 0.5425\n",
            "Epoch 2/25\n",
            "25/25 [==============================] - 0s 1ms/step - loss: 0.6777 - accuracy: 0.5525\n",
            "Epoch 3/25\n",
            "25/25 [==============================] - 0s 1ms/step - loss: 0.6736 - accuracy: 0.5512\n",
            "Epoch 4/25\n",
            "25/25 [==============================] - 0s 1ms/step - loss: 0.6681 - accuracy: 0.5775\n",
            "Epoch 5/25\n",
            "25/25 [==============================] - 0s 1ms/step - loss: 0.6633 - accuracy: 0.5850\n",
            "Epoch 6/25\n",
            "25/25 [==============================] - 0s 1ms/step - loss: 0.6546 - accuracy: 0.5838\n",
            "Epoch 7/25\n",
            "25/25 [==============================] - 0s 1ms/step - loss: 0.6413 - accuracy: 0.6750\n",
            "Epoch 8/25\n",
            "25/25 [==============================] - 0s 1ms/step - loss: 0.6264 - accuracy: 0.7013\n",
            "Epoch 9/25\n",
            "25/25 [==============================] - 0s 1ms/step - loss: 0.6038 - accuracy: 0.7487\n",
            "Epoch 10/25\n",
            "25/25 [==============================] - 0s 2ms/step - loss: 0.5714 - accuracy: 0.7738\n",
            "Epoch 11/25\n",
            "25/25 [==============================] - 0s 1ms/step - loss: 0.5404 - accuracy: 0.7650\n",
            "Epoch 12/25\n",
            "25/25 [==============================] - 0s 1ms/step - loss: 0.5015 - accuracy: 0.7837\n",
            "Epoch 13/25\n",
            "25/25 [==============================] - 0s 1ms/step - loss: 0.4683 - accuracy: 0.7975\n",
            "Epoch 14/25\n",
            "25/25 [==============================] - 0s 2ms/step - loss: 0.4113 - accuracy: 0.8450\n",
            "Epoch 15/25\n",
            "25/25 [==============================] - 0s 1ms/step - loss: 0.3625 - accuracy: 0.9125\n",
            "Epoch 16/25\n",
            "25/25 [==============================] - 0s 1ms/step - loss: 0.3209 - accuracy: 0.9312\n",
            "Epoch 17/25\n",
            "25/25 [==============================] - 0s 1ms/step - loss: 0.2847 - accuracy: 0.9488\n",
            "Epoch 18/25\n",
            "25/25 [==============================] - 0s 1ms/step - loss: 0.2597 - accuracy: 0.9525\n",
            "Epoch 19/25\n",
            "25/25 [==============================] - 0s 2ms/step - loss: 0.2375 - accuracy: 0.9563\n",
            "Epoch 20/25\n",
            "25/25 [==============================] - 0s 1ms/step - loss: 0.2135 - accuracy: 0.9663\n",
            "Epoch 21/25\n",
            "25/25 [==============================] - 0s 1ms/step - loss: 0.1938 - accuracy: 0.9775\n",
            "Epoch 22/25\n",
            "25/25 [==============================] - 0s 1ms/step - loss: 0.1752 - accuracy: 0.9737\n",
            "Epoch 23/25\n",
            "25/25 [==============================] - 0s 1ms/step - loss: 0.1619 - accuracy: 0.9787\n",
            "Epoch 24/25\n",
            "25/25 [==============================] - 0s 2ms/step - loss: 0.1550 - accuracy: 0.9775\n",
            "Epoch 25/25\n",
            "25/25 [==============================] - 0s 1ms/step - loss: 0.1490 - accuracy: 0.9762\n"
          ],
          "name": "stdout"
        }
      ]
    },
    {
      "cell_type": "code",
      "metadata": {
        "colab": {
          "base_uri": "https://localhost:8080/"
        },
        "id": "e9wlixwHOXpz",
        "outputId": "b3ba9a9f-8c7f-46a7-8d2e-a183233a47cb"
      },
      "source": [
        "#evaluate the model\n",
        "model_8.evaluate(X_test,y_test)"
      ],
      "execution_count": 55,
      "outputs": [
        {
          "output_type": "stream",
          "text": [
            "7/7 [==============================] - 0s 2ms/step - loss: 0.1247 - accuracy: 1.0000\n"
          ],
          "name": "stdout"
        },
        {
          "output_type": "execute_result",
          "data": {
            "text/plain": [
              "[0.1246885135769844, 1.0]"
            ]
          },
          "metadata": {
            "tags": []
          },
          "execution_count": 55
        }
      ]
    },
    {
      "cell_type": "code",
      "metadata": {
        "colab": {
          "base_uri": "https://localhost:8080/",
          "height": 424
        },
        "id": "t0sWoW5WPlKN",
        "outputId": "3befba7e-743b-456a-ec90-9c4aa347a700"
      },
      "source": [
        "#plot the desicion boundry\n",
        "plt.figure(figsize=(12,6))\n",
        "plt.subplot(1,2,1)\n",
        "plt.title(\"Train\")\n",
        "plot_decision_boundary(model_8,X=X_train,y=y_train)\n",
        "plt.subplot(1,2,2)\n",
        "plt.title(\"Test\")\n",
        "plot_decision_boundary(model_8,X=X_test,y=y_test)\n",
        "plt.show()"
      ],
      "execution_count": 60,
      "outputs": [
        {
          "output_type": "stream",
          "text": [
            "doing binary classifcation...\n",
            "doing binary classifcation...\n"
          ],
          "name": "stdout"
        },
        {
          "output_type": "display_data",
          "data": {
            "image/png": "[encoded data removed]",
            "text/plain": [
              "<Figure size 864x432 with 2 Axes>"
            ]
          },
          "metadata": {
            "tags": [],
            "needs_background": "light"
          }
        }
      ]
    },
    {
      "cell_type": "markdown",
      "metadata": {
        "id": "pl4NhgJmRX-X"
      },
      "source": [
        "\n",
        "\n",
        "\n",
        "##Plot the loss/Training Curve"
      ]
    },
    {
      "cell_type": "code",
      "metadata": {
        "colab": {
          "base_uri": "https://localhost:8080/"
        },
        "id": "uLbHXc3LRoCs",
        "outputId": "e588c602-641f-43a2-bf7a-9c17d410c138"
      },
      "source": [
        "history.history\n"
      ],
      "execution_count": 61,
      "outputs": [
        {
          "output_type": "execute_result",
          "data": {
            "text/plain": [
              "{'accuracy': [0.5425000190734863,\n",
              "  0.5525000095367432,\n",
              "  0.5512499809265137,\n",
              "  0.5774999856948853,\n",
              "  0.5849999785423279,\n",
              "  0.5837500095367432,\n",
              "  0.675000011920929,\n",
              "  0.7012500166893005,\n",
              "  0.7487499713897705,\n",
              "  0.7737500071525574,\n",
              "  0.7649999856948853,\n",
              "  0.7837499976158142,\n",
              "  0.7975000143051147,\n",
              "  0.8450000286102295,\n",
              "  0.9125000238418579,\n",
              "  0.9312499761581421,\n",
              "  0.9487500190734863,\n",
              "  0.9524999856948853,\n",
              "  0.956250011920929,\n",
              "  0.9662500023841858,\n",
              "  0.9775000214576721,\n",
              "  0.9737499952316284,\n",
              "  0.9787499904632568,\n",
              "  0.9775000214576721,\n",
              "  0.9762499928474426],\n",
              " 'loss': [0.6846511960029602,\n",
              "  0.6777209639549255,\n",
              "  0.6735944151878357,\n",
              "  0.6681485772132874,\n",
              "  0.6632686853408813,\n",
              "  0.6545671820640564,\n",
              "  0.6412575244903564,\n",
              "  0.6264280676841736,\n",
              "  0.6038310527801514,\n",
              "  0.5714035630226135,\n",
              "  0.540442943572998,\n",
              "  0.5015039443969727,\n",
              "  0.468331903219223,\n",
              "  0.4113016128540039,\n",
              "  0.3625059425830841,\n",
              "  0.32090437412261963,\n",
              "  0.2847079932689667,\n",
              "  0.2597200274467468,\n",
              "  0.23746906220912933,\n",
              "  0.2135196477174759,\n",
              "  0.1938202977180481,\n",
              "  0.17524370551109314,\n",
              "  0.1618930697441101,\n",
              "  0.15498913824558258,\n",
              "  0.14897288382053375]}"
            ]
          },
          "metadata": {
            "tags": []
          },
          "execution_count": 61
        }
      ]
    },
    {
      "cell_type": "code",
      "metadata": {
        "colab": {
          "base_uri": "https://localhost:8080/",
          "height": 819
        },
        "id": "PXyXdLJLSC0N",
        "outputId": "610a265b-4d0d-4424-eadf-a39bad968bdd"
      },
      "source": [
        "#convert the history object into datafrme\n",
        "pd.DataFrame(history.history)"
      ],
      "execution_count": 62,
      "outputs": [
        {
          "output_type": "execute_result",
          "data": {
            "text/html": [
              "<div>\n",
              "<style scoped>\n",
              "    .dataframe tbody tr th:only-of-type {\n",
              "        vertical-align: middle;\n",
              "    }\n",
              "\n",
              "    .dataframe tbody tr th {\n",
              "        vertical-align: top;\n",
              "    }\n",
              "\n",
              "    .dataframe thead th {\n",
              "        text-align: right;\n",
              "    }\n",
              "</style>\n",
              "<table border=\"1\" class=\"dataframe\">\n",
              "  <thead>\n",
              "    <tr style=\"text-align: right;\">\n",
              "      <th></th>\n",
              "      <th>loss</th>\n",
              "      <th>accuracy</th>\n",
              "    </tr>\n",
              "  </thead>\n",
              "  <tbody>\n",
              "    <tr>\n",
              "      <th>0</th>\n",
              "      <td>0.684651</td>\n",
              "      <td>0.54250</td>\n",
              "    </tr>\n",
              "    <tr>\n",
              "      <th>1</th>\n",
              "      <td>0.677721</td>\n",
              "      <td>0.55250</td>\n",
              "    </tr>\n",
              "    <tr>\n",
              "      <th>2</th>\n",
              "      <td>0.673594</td>\n",
              "      <td>0.55125</td>\n",
              "    </tr>\n",
              "    <tr>\n",
              "      <th>3</th>\n",
              "      <td>0.668149</td>\n",
              "      <td>0.57750</td>\n",
              "    </tr>\n",
              "    <tr>\n",
              "      <th>4</th>\n",
              "      <td>0.663269</td>\n",
              "      <td>0.58500</td>\n",
              "    </tr>\n",
              "    <tr>\n",
              "      <th>5</th>\n",
              "      <td>0.654567</td>\n",
              "      <td>0.58375</td>\n",
              "    </tr>\n",
              "    <tr>\n",
              "      <th>6</th>\n",
              "      <td>0.641258</td>\n",
              "      <td>0.67500</td>\n",
              "    </tr>\n",
              "    <tr>\n",
              "      <th>7</th>\n",
              "      <td>0.626428</td>\n",
              "      <td>0.70125</td>\n",
              "    </tr>\n",
              "    <tr>\n",
              "      <th>8</th>\n",
              "      <td>0.603831</td>\n",
              "      <td>0.74875</td>\n",
              "    </tr>\n",
              "    <tr>\n",
              "      <th>9</th>\n",
              "      <td>0.571404</td>\n",
              "      <td>0.77375</td>\n",
              "    </tr>\n",
              "    <tr>\n",
              "      <th>10</th>\n",
              "      <td>0.540443</td>\n",
              "      <td>0.76500</td>\n",
              "    </tr>\n",
              "    <tr>\n",
              "      <th>11</th>\n",
              "      <td>0.501504</td>\n",
              "      <td>0.78375</td>\n",
              "    </tr>\n",
              "    <tr>\n",
              "      <th>12</th>\n",
              "      <td>0.468332</td>\n",
              "      <td>0.79750</td>\n",
              "    </tr>\n",
              "    <tr>\n",
              "      <th>13</th>\n",
              "      <td>0.411302</td>\n",
              "      <td>0.84500</td>\n",
              "    </tr>\n",
              "    <tr>\n",
              "      <th>14</th>\n",
              "      <td>0.362506</td>\n",
              "      <td>0.91250</td>\n",
              "    </tr>\n",
              "    <tr>\n",
              "      <th>15</th>\n",
              "      <td>0.320904</td>\n",
              "      <td>0.93125</td>\n",
              "    </tr>\n",
              "    <tr>\n",
              "      <th>16</th>\n",
              "      <td>0.284708</td>\n",
              "      <td>0.94875</td>\n",
              "    </tr>\n",
              "    <tr>\n",
              "      <th>17</th>\n",
              "      <td>0.259720</td>\n",
              "      <td>0.95250</td>\n",
              "    </tr>\n",
              "    <tr>\n",
              "      <th>18</th>\n",
              "      <td>0.237469</td>\n",
              "      <td>0.95625</td>\n",
              "    </tr>\n",
              "    <tr>\n",
              "      <th>19</th>\n",
              "      <td>0.213520</td>\n",
              "      <td>0.96625</td>\n",
              "    </tr>\n",
              "    <tr>\n",
              "      <th>20</th>\n",
              "      <td>0.193820</td>\n",
              "      <td>0.97750</td>\n",
              "    </tr>\n",
              "    <tr>\n",
              "      <th>21</th>\n",
              "      <td>0.175244</td>\n",
              "      <td>0.97375</td>\n",
              "    </tr>\n",
              "    <tr>\n",
              "      <th>22</th>\n",
              "      <td>0.161893</td>\n",
              "      <td>0.97875</td>\n",
              "    </tr>\n",
              "    <tr>\n",
              "      <th>23</th>\n",
              "      <td>0.154989</td>\n",
              "      <td>0.97750</td>\n",
              "    </tr>\n",
              "    <tr>\n",
              "      <th>24</th>\n",
              "      <td>0.148973</td>\n",
              "      <td>0.97625</td>\n",
              "    </tr>\n",
              "  </tbody>\n",
              "</table>\n",
              "</div>"
            ],
            "text/plain": [
              "        loss  accuracy\n",
              "0   0.684651   0.54250\n",
              "1   0.677721   0.55250\n",
              "2   0.673594   0.55125\n",
              "3   0.668149   0.57750\n",
              "4   0.663269   0.58500\n",
              "5   0.654567   0.58375\n",
              "6   0.641258   0.67500\n",
              "7   0.626428   0.70125\n",
              "8   0.603831   0.74875\n",
              "9   0.571404   0.77375\n",
              "10  0.540443   0.76500\n",
              "11  0.501504   0.78375\n",
              "12  0.468332   0.79750\n",
              "13  0.411302   0.84500\n",
              "14  0.362506   0.91250\n",
              "15  0.320904   0.93125\n",
              "16  0.284708   0.94875\n",
              "17  0.259720   0.95250\n",
              "18  0.237469   0.95625\n",
              "19  0.213520   0.96625\n",
              "20  0.193820   0.97750\n",
              "21  0.175244   0.97375\n",
              "22  0.161893   0.97875\n",
              "23  0.154989   0.97750\n",
              "24  0.148973   0.97625"
            ]
          },
          "metadata": {
            "tags": []
          },
          "execution_count": 62
        }
      ]
    },
    {
      "cell_type": "markdown",
      "metadata": {
        "id": "qwMkhRpMSl4C"
      },
      "source": [
        "##Loss Curve"
      ]
    },
    {
      "cell_type": "code",
      "metadata": {
        "colab": {
          "base_uri": "https://localhost:8080/",
          "height": 298
        },
        "id": "4LhtCdkpSOVW",
        "outputId": "a5266841-2d90-40a8-80d8-7ba692e5a815"
      },
      "source": [
        "#plot the loss curve\n",
        "pd.DataFrame(history.history).plot()\n",
        "plt.title(\"Model 8 Loss curve\")"
      ],
      "execution_count": 64,
      "outputs": [
        {
          "output_type": "execute_result",
          "data": {
            "text/plain": [
              "Text(0.5, 1.0, 'Model 8 Loss curve')"
            ]
          },
          "metadata": {
            "tags": []
          },
          "execution_count": 64
        },
        {
          "output_type": "display_data",
          "data": {
            "image/png": "[encoded data removed]",
            "text/plain": [
              "<Figure size 432x288 with 1 Axes>"
            ]
          },
          "metadata": {
            "tags": [],
            "needs_background": "light"
          }
        }
      ]
    },
    {
      "cell_type": "markdown",
      "metadata": {
        "id": "pD6xVhH3Sb8R"
      },
      "source": [
        "##Finding the Best learning Rate\n",
        "\n",
        "To find the ideal learning rate :\n",
        "\n",
        "1.learning rate call back\n",
        "\n",
        "2.another model \n",
        "\n",
        "3.modified loss curve plot\n",
        "\n"
      ]
    },
    {
      "cell_type": "code",
      "metadata": {
        "colab": {
          "base_uri": "https://localhost:8080/"
        },
        "id": "k44_cbrdTltV",
        "outputId": "63ecdb18-7dba-48b7-d94a-46961ce7633b"
      },
      "source": [
        "#set random seed\n",
        "tf.random.set_seed(42)\n",
        "\n",
        "#create t he model\n",
        "model_9 =tf.keras.Sequential([\n",
        "                             tf.keras.layers.Dense(4,activation=\"relu\"),\n",
        "                              tf.keras.layers.Dense(4,activation=\"relu\"),\n",
        "                              tf.keras.layers.Dense(1,activation=\"sigmoid\"),\n",
        "])\n",
        "\n",
        "#compile the model\n",
        "model_9.compirning callback\n",
        "lr_scheduler =tle(loss=tf.keras.losses.BinaryCrossentropy(),\n",
        "                optimizer=tf.keras.optimizers.Adam(lr=0.01),\n",
        "                metrics =\"accuracy\" )\n",
        "\n",
        "#create a leaf.keras.callbacks.LearningRateScheduler(lambda epoch:1e-4*10**(epoch/20))\n",
        "\n",
        "#fit the model\n",
        "history_9=model_9.fit(X_train,\n",
        "                      y_train,\n",
        "                      epochs=100,\n",
        "                      callbacks=[lr_scheduler])"
      ],
      "execution_count": 66,
      "outputs": [
        {
          "output_type": "stream",
          "text": [
            "/usr/local/lib/python3.7/dist-packages/tensorflow/python/keras/optimizer_v2/optimizer_v2.py:375: UserWarning: The `lr` argument is deprecated, use `learning_rate` instead.\n",
            "  \"The `lr` argument is deprecated, use `learning_rate` instead.\")\n"
          ],
          "name": "stderr"
        },
        {
          "output_type": "stream",
          "text": [
            "Epoch 1/100\n",
            "25/25 [==============================] - 0s 1ms/step - loss: 0.6945 - accuracy: 0.4988\n",
            "Epoch 2/100\n",
            "25/25 [==============================] - 0s 1ms/step - loss: 0.6938 - accuracy: 0.4975\n",
            "Epoch 3/100\n",
            "25/25 [==============================] - 0s 1ms/step - loss: 0.6930 - accuracy: 0.4963\n",
            "Epoch 4/100\n",
            "25/25 [==============================] - 0s 2ms/step - loss: 0.6922 - accuracy: 0.4975\n",
            "Epoch 5/100\n",
            "25/25 [==============================] - 0s 1ms/step - loss: 0.6914 - accuracy: 0.5063\n",
            "Epoch 6/100\n",
            "25/25 [==============================] - 0s 1ms/step - loss: 0.6906 - accuracy: 0.5013\n",
            "Epoch 7/100\n",
            "25/25 [==============================] - 0s 1ms/step - loss: 0.6898 - accuracy: 0.4950\n",
            "Epoch 8/100\n",
            "25/25 [==============================] - 0s 1ms/step - loss: 0.6889 - accuracy: 0.5038\n",
            "Epoch 9/100\n",
            "25/25 [==============================] - 0s 1ms/step - loss: 0.6880 - accuracy: 0.5013\n",
            "Epoch 10/100\n",
            "25/25 [==============================] - 0s 1ms/step - loss: 0.6871 - accuracy: 0.5050\n",
            "Epoch 11/100\n",
            "25/25 [==============================] - 0s 1ms/step - loss: 0.6863 - accuracy: 0.5200\n",
            "Epoch 12/100\n",
            "25/25 [==============================] - 0s 1ms/step - loss: 0.6856 - accuracy: 0.5163\n",
            "Epoch 13/100\n",
            "25/25 [==============================] - 0s 1ms/step - loss: 0.6847 - accuracy: 0.5175\n",
            "Epoch 14/100\n",
            "25/25 [==============================] - 0s 1ms/step - loss: 0.6842 - accuracy: 0.5200\n",
            "Epoch 15/100\n",
            "25/25 [==============================] - 0s 1ms/step - loss: 0.6835 - accuracy: 0.5213\n",
            "Epoch 16/100\n",
            "25/25 [==============================] - 0s 1ms/step - loss: 0.6829 - accuracy: 0.5213\n",
            "Epoch 17/100\n",
            "25/25 [==============================] - 0s 1ms/step - loss: 0.6826 - accuracy: 0.5225\n",
            "Epoch 18/100\n",
            "25/25 [==============================] - 0s 1ms/step - loss: 0.6819 - accuracy: 0.5300\n",
            "Epoch 19/100\n",
            "25/25 [==============================] - 0s 1ms/step - loss: 0.6816 - accuracy: 0.5312\n",
            "Epoch 20/100\n",
            "25/25 [==============================] - 0s 1ms/step - loss: 0.6811 - accuracy: 0.5387\n",
            "Epoch 21/100\n",
            "25/25 [==============================] - 0s 1ms/step - loss: 0.6806 - accuracy: 0.5400\n",
            "Epoch 22/100\n",
            "25/25 [==============================] - 0s 1ms/step - loss: 0.6801 - accuracy: 0.5412\n",
            "Epoch 23/100\n",
            "25/25 [==============================] - 0s 1ms/step - loss: 0.6796 - accuracy: 0.5400\n",
            "Epoch 24/100\n",
            "25/25 [==============================] - 0s 1ms/step - loss: 0.6790 - accuracy: 0.5425\n",
            "Epoch 25/100\n",
            "25/25 [==============================] - 0s 1ms/step - loss: 0.6784 - accuracy: 0.5450\n",
            "Epoch 26/100\n",
            "25/25 [==============================] - 0s 1ms/step - loss: 0.6778 - accuracy: 0.5387\n",
            "Epoch 27/100\n",
            "25/25 [==============================] - 0s 1ms/step - loss: 0.6770 - accuracy: 0.5425\n",
            "Epoch 28/100\n",
            "25/25 [==============================] - 0s 1ms/step - loss: 0.6760 - accuracy: 0.5537\n",
            "Epoch 29/100\n",
            "25/25 [==============================] - 0s 1ms/step - loss: 0.6754 - accuracy: 0.5512\n",
            "Epoch 30/100\n",
            "25/25 [==============================] - 0s 1ms/step - loss: 0.6739 - accuracy: 0.5575\n",
            "Epoch 31/100\n",
            "25/25 [==============================] - 0s 2ms/step - loss: 0.6726 - accuracy: 0.5500\n",
            "Epoch 32/100\n",
            "25/25 [==============================] - 0s 1ms/step - loss: 0.6711 - accuracy: 0.5512\n",
            "Epoch 33/100\n",
            "25/25 [==============================] - 0s 1ms/step - loss: 0.6688 - accuracy: 0.5562\n",
            "Epoch 34/100\n",
            "25/25 [==============================] - 0s 1ms/step - loss: 0.6672 - accuracy: 0.5612\n",
            "Epoch 35/100\n",
            "25/25 [==============================] - 0s 1ms/step - loss: 0.6660 - accuracy: 0.5888\n",
            "Epoch 36/100\n",
            "25/25 [==============================] - 0s 1ms/step - loss: 0.6625 - accuracy: 0.5625\n",
            "Epoch 37/100\n",
            "25/25 [==============================] - 0s 1ms/step - loss: 0.6560 - accuracy: 0.5813\n",
            "Epoch 38/100\n",
            "25/25 [==============================] - 0s 1ms/step - loss: 0.6521 - accuracy: 0.6025\n",
            "Epoch 39/100\n",
            "25/25 [==============================] - 0s 1ms/step - loss: 0.6415 - accuracy: 0.7088\n",
            "Epoch 40/100\n",
            "25/25 [==============================] - 0s 1ms/step - loss: 0.6210 - accuracy: 0.7113\n",
            "Epoch 41/100\n",
            "25/25 [==============================] - 0s 1ms/step - loss: 0.5904 - accuracy: 0.7487\n",
            "Epoch 42/100\n",
            "25/25 [==============================] - 0s 1ms/step - loss: 0.5688 - accuracy: 0.7312\n",
            "Epoch 43/100\n",
            "25/25 [==============================] - 0s 2ms/step - loss: 0.5346 - accuracy: 0.7563\n",
            "Epoch 44/100\n",
            "25/25 [==============================] - 0s 1ms/step - loss: 0.4533 - accuracy: 0.8150\n",
            "Epoch 45/100\n",
            "25/25 [==============================] - 0s 1ms/step - loss: 0.3455 - accuracy: 0.9112\n",
            "Epoch 46/100\n",
            "25/25 [==============================] - 0s 1ms/step - loss: 0.2570 - accuracy: 0.9463\n",
            "Epoch 47/100\n",
            "25/25 [==============================] - 0s 1ms/step - loss: 0.1968 - accuracy: 0.9575\n",
            "Epoch 48/100\n",
            "25/25 [==============================] - 0s 1ms/step - loss: 0.1336 - accuracy: 0.9700\n",
            "Epoch 49/100\n",
            "25/25 [==============================] - 0s 1ms/step - loss: 0.1310 - accuracy: 0.9613\n",
            "Epoch 50/100\n",
            "25/25 [==============================] - 0s 2ms/step - loss: 0.1002 - accuracy: 0.9700\n",
            "Epoch 51/100\n",
            "25/25 [==============================] - 0s 1ms/step - loss: 0.1166 - accuracy: 0.9638\n",
            "Epoch 52/100\n",
            "25/25 [==============================] - 0s 1ms/step - loss: 0.1368 - accuracy: 0.9513\n",
            "Epoch 53/100\n",
            "25/25 [==============================] - 0s 1ms/step - loss: 0.0879 - accuracy: 0.9787\n",
            "Epoch 54/100\n",
            "25/25 [==============================] - 0s 2ms/step - loss: 0.1187 - accuracy: 0.9588\n",
            "Epoch 55/100\n",
            "25/25 [==============================] - 0s 2ms/step - loss: 0.0733 - accuracy: 0.9712\n",
            "Epoch 56/100\n",
            "25/25 [==============================] - 0s 2ms/step - loss: 0.1132 - accuracy: 0.9550\n",
            "Epoch 57/100\n",
            "25/25 [==============================] - 0s 1ms/step - loss: 0.1057 - accuracy: 0.9613\n",
            "Epoch 58/100\n",
            "25/25 [==============================] - 0s 1ms/step - loss: 0.0665 - accuracy: 0.9750\n",
            "Epoch 59/100\n",
            "25/25 [==============================] - 0s 1ms/step - loss: 0.1915 - accuracy: 0.9275\n",
            "Epoch 60/100\n",
            "25/25 [==============================] - 0s 1ms/step - loss: 0.1878 - accuracy: 0.9312\n",
            "Epoch 61/100\n",
            "25/25 [==============================] - 0s 1ms/step - loss: 0.4012 - accuracy: 0.8625\n",
            "Epoch 62/100\n",
            "25/25 [==============================] - 0s 1ms/step - loss: 0.1656 - accuracy: 0.9737\n",
            "Epoch 63/100\n",
            "25/25 [==============================] - 0s 1ms/step - loss: 0.0595 - accuracy: 0.9925\n",
            "Epoch 64/100\n",
            "25/25 [==============================] - 0s 1ms/step - loss: 0.0981 - accuracy: 0.9675\n",
            "Epoch 65/100\n",
            "25/25 [==============================] - 0s 1ms/step - loss: 0.0989 - accuracy: 0.9600\n",
            "Epoch 66/100\n",
            "25/25 [==============================] - 0s 1ms/step - loss: 0.2228 - accuracy: 0.9325\n",
            "Epoch 67/100\n",
            "25/25 [==============================] - 0s 1ms/step - loss: 0.3800 - accuracy: 0.8825\n",
            "Epoch 68/100\n",
            "25/25 [==============================] - 0s 2ms/step - loss: 0.0915 - accuracy: 0.9787\n",
            "Epoch 69/100\n",
            "25/25 [==============================] - 0s 2ms/step - loss: 0.1159 - accuracy: 0.9625\n",
            "Epoch 70/100\n",
            "25/25 [==============================] - 0s 1ms/step - loss: 0.3172 - accuracy: 0.8888\n",
            "Epoch 71/100\n",
            "25/25 [==============================] - 0s 1ms/step - loss: 0.1763 - accuracy: 0.9187\n",
            "Epoch 72/100\n",
            "25/25 [==============================] - 0s 1ms/step - loss: 0.1175 - accuracy: 0.9538\n",
            "Epoch 73/100\n",
            "25/25 [==============================] - 0s 1ms/step - loss: 0.2375 - accuracy: 0.9162\n",
            "Epoch 74/100\n",
            "25/25 [==============================] - 0s 1ms/step - loss: 0.1877 - accuracy: 0.9275\n",
            "Epoch 75/100\n",
            "25/25 [==============================] - 0s 1ms/step - loss: 0.1496 - accuracy: 0.9475\n",
            "Epoch 76/100\n",
            "25/25 [==============================] - 0s 2ms/step - loss: 0.1384 - accuracy: 0.9500\n",
            "Epoch 77/100\n",
            "25/25 [==============================] - 0s 1ms/step - loss: 0.2378 - accuracy: 0.8975\n",
            "Epoch 78/100\n",
            "25/25 [==============================] - 0s 1ms/step - loss: 0.5337 - accuracy: 0.7912\n",
            "Epoch 79/100\n",
            "25/25 [==============================] - 0s 1ms/step - loss: 0.6954 - accuracy: 0.6000\n",
            "Epoch 80/100\n",
            "25/25 [==============================] - 0s 2ms/step - loss: 0.6629 - accuracy: 0.6050\n",
            "Epoch 81/100\n",
            "25/25 [==============================] - 0s 1ms/step - loss: 0.7215 - accuracy: 0.4938\n",
            "Epoch 82/100\n",
            "25/25 [==============================] - 0s 1ms/step - loss: 0.7145 - accuracy: 0.5412\n",
            "Epoch 83/100\n",
            "25/25 [==============================] - 0s 1ms/step - loss: 0.7279 - accuracy: 0.4762\n",
            "Epoch 84/100\n",
            "25/25 [==============================] - 0s 2ms/step - loss: 0.7075 - accuracy: 0.5088\n",
            "Epoch 85/100\n",
            "25/25 [==============================] - 0s 1ms/step - loss: 0.7273 - accuracy: 0.5038\n",
            "Epoch 86/100\n",
            "25/25 [==============================] - 0s 1ms/step - loss: 0.7703 - accuracy: 0.5038\n",
            "Epoch 87/100\n",
            "25/25 [==============================] - 0s 1ms/step - loss: 0.7679 - accuracy: 0.5063\n",
            "Epoch 88/100\n",
            "25/25 [==============================] - 0s 1ms/step - loss: 0.7582 - accuracy: 0.5163\n",
            "Epoch 89/100\n",
            "25/25 [==============================] - 0s 1ms/step - loss: 0.7614 - accuracy: 0.5038\n",
            "Epoch 90/100\n",
            "25/25 [==============================] - 0s 1ms/step - loss: 0.7850 - accuracy: 0.5038\n",
            "Epoch 91/100\n",
            "25/25 [==============================] - 0s 1ms/step - loss: 0.8050 - accuracy: 0.5138\n",
            "Epoch 92/100\n",
            "25/25 [==============================] - 0s 1ms/step - loss: 0.7375 - accuracy: 0.4963\n",
            "Epoch 93/100\n",
            "25/25 [==============================] - 0s 1ms/step - loss: 0.7407 - accuracy: 0.4863\n",
            "Epoch 94/100\n",
            "25/25 [==============================] - 0s 1ms/step - loss: 0.7586 - accuracy: 0.4938\n",
            "Epoch 95/100\n",
            "25/25 [==============================] - 0s 1ms/step - loss: 0.8204 - accuracy: 0.4863\n",
            "Epoch 96/100\n",
            "25/25 [==============================] - 0s 1ms/step - loss: 0.7830 - accuracy: 0.4613\n",
            "Epoch 97/100\n",
            "25/25 [==============================] - 0s 1ms/step - loss: 0.8064 - accuracy: 0.5013\n",
            "Epoch 98/100\n",
            "25/25 [==============================] - 0s 1ms/step - loss: 0.9637 - accuracy: 0.4963\n",
            "Epoch 99/100\n",
            "25/25 [==============================] - 0s 1ms/step - loss: 0.9620 - accuracy: 0.4913\n",
            "Epoch 100/100\n",
            "25/25 [==============================] - 0s 1ms/step - loss: 0.8583 - accuracy: 0.4613\n"
          ],
          "name": "stdout"
        }
      ]
    },
    {
      "cell_type": "code",
      "metadata": {
        "colab": {
          "base_uri": "https://localhost:8080/",
          "height": 459
        },
        "id": "WA7mF1QaVSLq",
        "outputId": "6014f5c5-f188-44cb-f599-a4fc4f8de624"
      },
      "source": [
        "#checkout the history\n",
        "pd.DataFrame(history_9.history).plot(figsize=(10,7),xlabel=\"epochs\")"
      ],
      "execution_count": 69,
      "outputs": [
        {
          "output_type": "execute_result",
          "data": {
            "text/plain": [
              "<matplotlib.axes._subplots.AxesSubplot at 0x7fe18e1e2b50>"
            ]
          },
          "metadata": {
            "tags": []
          },
          "execution_count": 69
        },
        {
          "output_type": "display_data",
          "data": {
            "image/png": "[encoded data removed]",
            "text/plain": [
              "<Figure size 720x504 with 1 Axes>"
            ]
          },
          "metadata": {
            "tags": [],
            "needs_background": "light"
          }
        }
      ]
    },
    {
      "cell_type": "code",
      "metadata": {
        "colab": {
          "base_uri": "https://localhost:8080/"
        },
        "id": "8_gzRu7MVivA",
        "outputId": "92f6498e-1197-47b3-d8a0-ce7e7c7897eb"
      },
      "source": [
        "#plot the learning rate vs loss\n",
        "\n",
        "lrs=1e-4*(10**(tf.range(100)/20))\n",
        "\n",
        "lrs"
      ],
      "execution_count": 70,
      "outputs": [
        {
          "output_type": "execute_result",
          "data": {
            "text/plain": [
              "<tf.Tensor: shape=(100,), dtype=float64, numpy=\n",
              "array([1.00000000e-04, 1.12201845e-04, 1.25892541e-04, 1.41253754e-04,\n",
              "       1.58489319e-04, 1.77827941e-04, 1.99526231e-04, 2.23872114e-04,\n",
              "       2.51188643e-04, 2.81838293e-04, 3.16227766e-04, 3.54813389e-04,\n",
              "       3.98107171e-04, 4.46683592e-04, 5.01187234e-04, 5.62341325e-04,\n",
              "       6.30957344e-04, 7.07945784e-04, 7.94328235e-04, 8.91250938e-04,\n",
              "       1.00000000e-03, 1.12201845e-03, 1.25892541e-03, 1.41253754e-03,\n",
              "       1.58489319e-03, 1.77827941e-03, 1.99526231e-03, 2.23872114e-03,\n",
              "       2.51188643e-03, 2.81838293e-03, 3.16227766e-03, 3.54813389e-03,\n",
              "       3.98107171e-03, 4.46683592e-03, 5.01187234e-03, 5.62341325e-03,\n",
              "       6.30957344e-03, 7.07945784e-03, 7.94328235e-03, 8.91250938e-03,\n",
              "       1.00000000e-02, 1.12201845e-02, 1.25892541e-02, 1.41253754e-02,\n",
              "       1.58489319e-02, 1.77827941e-02, 1.99526231e-02, 2.23872114e-02,\n",
              "       2.51188643e-02, 2.81838293e-02, 3.16227766e-02, 3.54813389e-02,\n",
              "       3.98107171e-02, 4.46683592e-02, 5.01187234e-02, 5.62341325e-02,\n",
              "       6.30957344e-02, 7.07945784e-02, 7.94328235e-02, 8.91250938e-02,\n",
              "       1.00000000e-01, 1.12201845e-01, 1.25892541e-01, 1.41253754e-01,\n",
              "       1.58489319e-01, 1.77827941e-01, 1.99526231e-01, 2.23872114e-01,\n",
              "       2.51188643e-01, 2.81838293e-01, 3.16227766e-01, 3.54813389e-01,\n",
              "       3.98107171e-01, 4.46683592e-01, 5.01187234e-01, 5.62341325e-01,\n",
              "       6.30957344e-01, 7.07945784e-01, 7.94328235e-01, 8.91250938e-01,\n",
              "       1.00000000e+00, 1.12201845e+00, 1.25892541e+00, 1.41253754e+00,\n",
              "       1.58489319e+00, 1.77827941e+00, 1.99526231e+00, 2.23872114e+00,\n",
              "       2.51188643e+00, 2.81838293e+00, 3.16227766e+00, 3.54813389e+00,\n",
              "       3.98107171e+00, 4.46683592e+00, 5.01187234e+00, 5.62341325e+00,\n",
              "       6.30957344e+00, 7.07945784e+00, 7.94328235e+00, 8.91250938e+00])>"
            ]
          },
          "metadata": {
            "tags": []
          },
          "execution_count": 70
        }
      ]
    },
    {
      "cell_type": "code",
      "metadata": {
        "colab": {
          "base_uri": "https://localhost:8080/",
          "height": 479
        },
        "id": "5z3mCqxcWVT_",
        "outputId": "33215071-df56-4ff2-eb50-5eef8b9cfc9c"
      },
      "source": [
        "plt.figure(figsize=(10,7))\n",
        "plt.semilogx(lrs,history_9.history[\"loss\"])\n",
        "plt.xlabel('Learning Rate')\n",
        "plt.ylabel(\"Loss\")\n",
        "plt.title(\"Learning Rate vs Loss Curve\")"
      ],
      "execution_count": 72,
      "outputs": [
        {
          "output_type": "execute_result",
          "data": {
            "text/plain": [
              "Text(0.5, 1.0, 'Learning Rate vs Loss Curve')"
            ]
          },
          "metadata": {
            "tags": []
          },
          "execution_count": 72
        },
        {
          "output_type": "display_data",
          "data": {
            "image/png": "[encoded data removed]",
            "text/plain": [
              "<Figure size 720x504 with 1 Axes>"
            ]
          },
          "metadata": {
            "tags": [],
            "needs_background": "light"
          }
        }
      ]
    },
    {
      "cell_type": "code",
      "metadata": {
        "colab": {
          "base_uri": "https://localhost:8080/"
        },
        "id": "BvNVpHGrW59r",
        "outputId": "2f76368d-416a-4739-a380-f58fe138bf1c"
      },
      "source": [
        "#set random seed\n",
        "tf.random.set_seed(42)\n",
        "\n",
        "#create t he model\n",
        "model_10 =tf.keras.Sequential([\n",
        "                             tf.keras.layers.Dense(4,activation=\"relu\"),\n",
        "                              tf.keras.layers.Dense(4,activation=\"relu\"),\n",
        "                              tf.keras.layers.Dense(1,activation=\"sigmoid\"),\n",
        "])\n",
        "\n",
        "#compile the model\n",
        "model_10.compile(loss=tf.keras.losses.BinaryCrossentropy(),\n",
        "                optimizer=tf.keras.optimizers.Adam(lr=0.02),\n",
        "                metrics =\"accuracy\" )\n",
        "\n",
        "\n",
        "#fit the model\n",
        "history_10=model_10.fit(X_train,\n",
        "                      y_train,\n",
        "                      epochs=20)"
      ],
      "execution_count": 76,
      "outputs": [
        {
          "output_type": "stream",
          "text": [
            "/usr/local/lib/python3.7/dist-packages/tensorflow/python/keras/optimizer_v2/optimizer_v2.py:375: UserWarning: The `lr` argument is deprecated, use `learning_rate` instead.\n",
            "  \"The `lr` argument is deprecated, use `learning_rate` instead.\")\n"
          ],
          "name": "stderr"
        },
        {
          "output_type": "stream",
          "text": [
            "Epoch 1/20\n",
            "25/25 [==============================] - 0s 1ms/step - loss: 0.6837 - accuracy: 0.5600\n",
            "Epoch 2/20\n",
            "25/25 [==============================] - 0s 1ms/step - loss: 0.6744 - accuracy: 0.5750\n",
            "Epoch 3/20\n",
            "25/25 [==============================] - 0s 1ms/step - loss: 0.6626 - accuracy: 0.5875\n",
            "Epoch 4/20\n",
            "25/25 [==============================] - 0s 1ms/step - loss: 0.6332 - accuracy: 0.6388\n",
            "Epoch 5/20\n",
            "25/25 [==============================] - 0s 1ms/step - loss: 0.5830 - accuracy: 0.7563\n",
            "Epoch 6/20\n",
            "25/25 [==============================] - 0s 1ms/step - loss: 0.4907 - accuracy: 0.8313\n",
            "Epoch 7/20\n",
            "25/25 [==============================] - 0s 1ms/step - loss: 0.4251 - accuracy: 0.8450\n",
            "Epoch 8/20\n",
            "25/25 [==============================] - 0s 1ms/step - loss: 0.3596 - accuracy: 0.8875\n",
            "Epoch 9/20\n",
            "25/25 [==============================] - 0s 1ms/step - loss: 0.3152 - accuracy: 0.9100\n",
            "Epoch 10/20\n",
            "25/25 [==============================] - 0s 1ms/step - loss: 0.2512 - accuracy: 0.9500\n",
            "Epoch 11/20\n",
            "25/25 [==============================] - 0s 1ms/step - loss: 0.2152 - accuracy: 0.9500\n",
            "Epoch 12/20\n",
            "25/25 [==============================] - 0s 1ms/step - loss: 0.1721 - accuracy: 0.9750\n",
            "Epoch 13/20\n",
            "25/25 [==============================] - 0s 1ms/step - loss: 0.1443 - accuracy: 0.9837\n",
            "Epoch 14/20\n",
            "25/25 [==============================] - 0s 1ms/step - loss: 0.1232 - accuracy: 0.9862\n",
            "Epoch 15/20\n",
            "25/25 [==============================] - 0s 1ms/step - loss: 0.1085 - accuracy: 0.9850\n",
            "Epoch 16/20\n",
            "25/25 [==============================] - 0s 1ms/step - loss: 0.0940 - accuracy: 0.9937\n",
            "Epoch 17/20\n",
            "25/25 [==============================] - 0s 1ms/step - loss: 0.0827 - accuracy: 0.9962\n",
            "Epoch 18/20\n",
            "25/25 [==============================] - 0s 1ms/step - loss: 0.0798 - accuracy: 0.9937\n",
            "Epoch 19/20\n",
            "25/25 [==============================] - 0s 1ms/step - loss: 0.0845 - accuracy: 0.9875\n",
            "Epoch 20/20\n",
            "25/25 [==============================] - 0s 1ms/step - loss: 0.0790 - accuracy: 0.9887\n"
          ],
          "name": "stdout"
        }
      ]
    },
    {
      "cell_type": "code",
      "metadata": {
        "colab": {
          "base_uri": "https://localhost:8080/"
        },
        "id": "CvbhygcvcWyp",
        "outputId": "2659e40d-e67a-4dc7-a204-27f759501fd6"
      },
      "source": [
        "#evaluate\n",
        "model_10.evaluate(X_test,y_test)"
      ],
      "execution_count": 77,
      "outputs": [
        {
          "output_type": "stream",
          "text": [
            "7/7 [==============================] - 0s 2ms/step - loss: 0.0574 - accuracy: 0.9900\n"
          ],
          "name": "stdout"
        },
        {
          "output_type": "execute_result",
          "data": {
            "text/plain": [
              "[0.05740184709429741, 0.9900000095367432]"
            ]
          },
          "metadata": {
            "tags": []
          },
          "execution_count": 77
        }
      ]
    },
    {
      "cell_type": "code",
      "metadata": {
        "colab": {
          "base_uri": "https://localhost:8080/"
        },
        "id": "hSgfCWCLcWwj",
        "outputId": "28b5f9cc-f4dd-4f47-b4f3-c9b20f1709cd"
      },
      "source": [
        "#Evalue modle_8 test data\n",
        "model_8.evaluate(X_test,y_test)"
      ],
      "execution_count": 78,
      "outputs": [
        {
          "output_type": "stream",
          "text": [
            "7/7 [==============================] - 0s 2ms/step - loss: 0.1247 - accuracy: 1.0000\n"
          ],
          "name": "stdout"
        },
        {
          "output_type": "execute_result",
          "data": {
            "text/plain": [
              "[0.1246885135769844, 1.0]"
            ]
          },
          "metadata": {
            "tags": []
          },
          "execution_count": 78
        }
      ]
    },
    {
      "cell_type": "code",
      "metadata": {
        "colab": {
          "base_uri": "https://localhost:8080/",
          "height": 424
        },
        "id": "oVjkgk5BcyHo",
        "outputId": "f9ca9d19-2dde-496d-afc9-a0e121290a2d"
      },
      "source": [
        "#plot the decison boundries\n",
        "plt.figure(figsize=(12,6))\n",
        "plt.subplot(1,2,1)\n",
        "plt.title(\"Train\")\n",
        "plot_decision_boundary(model_10,X=X_train,y=y_train)\n",
        "plt.subplot(1,2,2)\n",
        "plt.title(\"Test\")\n",
        "plot_decision_boundary(model_10,X=X_test,y=y_test)"
      ],
      "execution_count": 80,
      "outputs": [
        {
          "output_type": "stream",
          "text": [
            "doing binary classifcation...\n",
            "doing binary classifcation...\n"
          ],
          "name": "stdout"
        },
        {
          "output_type": "display_data",
          "data": {
            "image/png": "[encoded data removed]",
            "text/plain": [
              "<Figure size 864x432 with 2 Axes>"
            ]
          },
          "metadata": {
            "tags": [],
            "needs_background": "light"
          }
        }
      ]
    },
    {
      "cell_type": "markdown",
      "metadata": {
        "id": "4hOzu6L1dakb"
      },
      "source": [
        "##More Classification Evaluation Methods\n",
        "\n",
        "1.Accuracy\n",
        "\n",
        "2.precition\n",
        "\n",
        "3.recall\n",
        "\n",
        "4.f1-score\n",
        "\n",
        "5.confution matrix\n",
        "\n",
        "6.classification report"
      ]
    },
    {
      "cell_type": "code",
      "metadata": {
        "colab": {
          "base_uri": "https://localhost:8080/"
        },
        "id": "CVMja4fUfSt3",
        "outputId": "fd001c18-91c1-4fb6-c8f7-5cffdf0685fb"
      },
      "source": [
        "#check the accuraacy of the model\n",
        "loss,accuracy =model_10.evaluate(X_test,y_test)\n",
        "\n",
        "print(f\"Model loss on the test set : {loss}\")\n",
        "print(f\"Model accuracy on the test set : {(accuracy*100):.2f}\")"
      ],
      "execution_count": 81,
      "outputs": [
        {
          "output_type": "stream",
          "text": [
            "7/7 [==============================] - 0s 2ms/step - loss: 0.0574 - accuracy: 0.9900\n",
            "Model loss on the test set : 0.05740184709429741\n",
            "Model accuracy on the test set : 99.00\n"
          ],
          "name": "stdout"
        }
      ]
    },
    {
      "cell_type": "markdown",
      "metadata": {
        "id": "hsZyyB_kgEXh"
      },
      "source": [
        "##Confusion Matrix"
      ]
    },
    {
      "cell_type": "code",
      "metadata": {
        "id": "3bVWCXQsgmLD"
      },
      "source": [
        "#create the confsion matrix\n",
        "from sklearn.metrics import confusion_matrix\n",
        "\n",
        "#make predictions\n",
        "y_preds =model_10.predict(X_test)\n"
      ],
      "execution_count": 85,
      "outputs": []
    },
    {
      "cell_type": "code",
      "metadata": {
        "colab": {
          "base_uri": "https://localhost:8080/"
        },
        "id": "siCOGXoFhYPS",
        "outputId": "f5a93da0-a110-4234-8264-9482b977a1f0"
      },
      "source": [
        "#convert prediction probablities to binary format\n",
        "tf.round(y_preds)[:10]"
      ],
      "execution_count": 86,
      "outputs": [
        {
          "output_type": "execute_result",
          "data": {
            "text/plain": [
              "<tf.Tensor: shape=(10, 1), dtype=float32, numpy=\n",
              "array([[1.],\n",
              "       [1.],\n",
              "       [1.],\n",
              "       [1.],\n",
              "       [0.],\n",
              "       [0.],\n",
              "       [1.],\n",
              "       [0.],\n",
              "       [1.],\n",
              "       [0.]], dtype=float32)>"
            ]
          },
          "metadata": {
            "tags": []
          },
          "execution_count": 86
        }
      ]
    },
    {
      "cell_type": "code",
      "metadata": {
        "id": "VqMRfmm3ifKX"
      },
      "source": [
        "y_preds=tf.round(y_preds)"
      ],
      "execution_count": 87,
      "outputs": []
    },
    {
      "cell_type": "code",
      "metadata": {
        "colab": {
          "base_uri": "https://localhost:8080/"
        },
        "id": "GL_-m79zikz6",
        "outputId": "540ce86b-1f98-4307-fc9d-0e0bb7756354"
      },
      "source": [
        "#confusion matrix\n",
        "confusion_matrix(y_test,y_preds)"
      ],
      "execution_count": 89,
      "outputs": [
        {
          "output_type": "execute_result",
          "data": {
            "text/plain": [
              "array([[99,  2],\n",
              "       [ 0, 99]])"
            ]
          },
          "metadata": {
            "tags": []
          },
          "execution_count": 89
        }
      ]
    },
    {
      "cell_type": "markdown",
      "metadata": {
        "id": "cBAyYhIBircK"
      },
      "source": [
        "##Prettify the confusion Matrix\n",
        "\n"
      ]
    },
    {
      "cell_type": "code",
      "metadata": {
        "colab": {
          "base_uri": "https://localhost:8080/",
          "height": 580
        },
        "id": "9Anfjb6VjOki",
        "outputId": "32462e7b-0fb3-40b6-8208-aa51efc9797b"
      },
      "source": [
        "import itertools\n",
        "\n",
        "figsize=(10,10)\n",
        "\n",
        "#create the confusion matrix\n",
        "cm=confusion_matrix(y_test,y_preds)\n",
        "cm_norm =cm.astype(\"float\")/cm.sum(axis=1)[:,np.newaxis]\n",
        "n_classes=cm.shape[0]\n",
        "\n",
        "#prettify the matrix\n",
        "fig,ax=plt.subplots(figsize=figsize)\n",
        "\n",
        "#craete the matrix plot\n",
        "cax=ax.matshow(cm,cmap=plt.cm.Blues)\n",
        "fig.colorbar(cax)\n",
        "\n",
        "#create classes\n",
        "classes=False\n",
        "\n",
        "if classes:\n",
        "  labels =classes\n",
        "\n",
        "else:\n",
        "  labels =np.arange(cm.shape[0])\n",
        "\n",
        "#label the axes\n",
        "ax.set(title=\"Confusion Matrix\",\n",
        "       xlabel=\"Predicted Label\",\n",
        "       ylabel=\"True Label\",\n",
        "       xticks=np.arange(n_classes),\n",
        "       yticks=np.arange(n_classes),\n",
        "       xticklabels=labels,\n",
        "       yticklabels=labels)\n",
        "\n",
        "ax.xaxis.set_label_position(\"bottom\")\n",
        "ax.xaxis.tick_bottom()\n",
        "\n",
        "ax.yaxis.label.set_size(20)\n",
        "ax.xaxis.label.set_size(20)\n",
        "ax.title.set_size(20)\n",
        "\n",
        "\n",
        "#set the threshold values\n",
        "threshold =(cm.max() +cm.min())/2.\n",
        "\n",
        "#plot the text on each side\n",
        "\n",
        "for i,j in itertools.product(range(cm.shape[0]),range(cm.shape[1])):\n",
        "  plt.text(j,i,f\"{cm[i,j]}({cm_norm[i,j]*100:.1f}%)\",\n",
        "           horizontalalignment =\"center\",\n",
        "           color =\"white\" if cm[i,j] > threshold else \"black\",\n",
        "           size=15)\n",
        "  "
      ],
      "execution_count": 99,
      "outputs": [
        {
          "output_type": "display_data",
          "data": {
            "image/png": "[encoded data removed]",
            "text/plain": [
              "<Figure size 720x720 with 2 Axes>"
            ]
          },
          "metadata": {
            "tags": [],
            "needs_background": "light"
          }
        }
      ]
    },
    {
      "cell_type": "code",
      "metadata": {
        "id": "8cLACUvpk4Im"
      },
      "source": [
        "import itertools\n",
        "\n",
        "def plot_confution_matrix(y_test,y_preds):\n",
        "  figsize=(10,10)\n",
        "\n",
        "  #create the confusion matrix\n",
        "  cm=confusion_matrix(y_test,y_preds)\n",
        "  cm_norm =cm.astype(\"float\")/cm.sum(axis=1)[:,np.newaxis]\n",
        "  n_classes=cm.shape[0]\n",
        "\n",
        "  #prettify the matrix\n",
        "  fig,ax=plt.subplots(figsize=figsize)\n",
        "\n",
        "  #craete the matrix plot\n",
        "  cax=ax.matshow(cm,cmap=plt.cm.Blues)\n",
        "  fig.colorbar(cax)\n",
        "\n",
        "  #create classes\n",
        "  classes=False\n",
        "\n",
        "  if classes:\n",
        "    labels =classes\n",
        "\n",
        "  else:\n",
        "    labels =np.arange(cm.shape[0])\n",
        "\n",
        "  #label the axes\n",
        "  ax.set(title=\"Confusion Matrix\",\n",
        "        xlabel=\"Predicted Label\",\n",
        "        ylabel=\"True Label\",\n",
        "        xticks=np.arange(n_classes),\n",
        "        yticks=np.arange(n_classes),\n",
        "        xticklabels=labels,\n",
        "        yticklabels=labels)\n",
        "\n",
        "  ax.xaxis.set_label_position(\"bottom\")\n",
        "  ax.xaxis.tick_bottom()\n",
        "\n",
        "  ax.yaxis.label.set_size(20)\n",
        "  ax.xaxis.label.set_size(20)\n",
        "  ax.title.set_size(20)\n",
        "\n",
        "\n",
        "  #set the threshold values\n",
        "  threshold =(cm.max() +cm.min())/2.\n",
        "\n",
        "  #plot the text on each side\n",
        "\n",
        "  for i,j in itertools.product(range(cm.shape[0]),range(cm.shape[1])):\n",
        "    plt.text(j,i,f\"{cm[i,j]}({cm_norm[i,j]*100:.1f}%)\",\n",
        "            horizontalalignment =\"center\",\n",
        "            color =\"white\" if cm[i,j] > threshold else \"black\",\n",
        "            size=15)\n"
      ],
      "execution_count": 100,
      "outputs": []
    },
    {
      "cell_type": "code",
      "metadata": {
        "colab": {
          "base_uri": "https://localhost:8080/",
          "height": 580
        },
        "id": "xU5aFUdTpM1Y",
        "outputId": "7b660401-3ec4-4b29-e111-861abc880dfe"
      },
      "source": [
        "plot_confution_matrix(y_test,y_preds)"
      ],
      "execution_count": 101,
      "outputs": [
        {
          "output_type": "display_data",
          "data": {
            "image/png": "[encoded data removed]",
            "text/plain": [
              "<Figure size 720x720 with 2 Axes>"
            ]
          },
          "metadata": {
            "tags": [],
            "needs_background": "light"
          }
        }
      ]
    },
    {
      "cell_type": "code",
      "metadata": {
        "id": "Np1SILvVpQKH"
      },
      "source": [
        ""
      ],
      "execution_count": null,
      "outputs": []
    }
  ]
}