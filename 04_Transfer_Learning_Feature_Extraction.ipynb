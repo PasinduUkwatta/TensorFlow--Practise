{
  "nbformat": 4,
  "nbformat_minor": 0,
  "metadata": {
    "colab": {
      "name": "04-Transfer_Learning_Feature_Extraction.ipynb",
      "provenance": [],
      "toc_visible": true
    },
    "kernelspec": {
      "name": "python3",
      "display_name": "Python 3"
    },
    "language_info": {
      "name": "python"
    },
    "accelerator": "GPU"
  },
  "cells": [
    {
      "cell_type": "markdown",
      "metadata": {
        "id": "6j7xzc3dEoU8"
      },
      "source": [
        "##Transfer Leraning-Feature Extraction\n",
        "\n",
        "Trafnsfer leraning is using existing working model to our problrm\n",
        "\n",
        "1.can leverage exusting neural network architecture to work\n",
        "\n",
        "2.can use already leraned patterns to our network"
      ]
    },
    {
      "cell_type": "code",
      "metadata": {
        "colab": {
          "base_uri": "https://localhost:8080/"
        },
        "id": "-7b87YBKG4-i",
        "outputId": "db64faaa-222e-4231-b684-cc04c3776b91"
      },
      "source": [
        "#check the gpu\n",
        "!nvidia-smi"
      ],
      "execution_count": 1,
      "outputs": [
        {
          "output_type": "stream",
          "text": [
            "Fri Jul 16 04:32:32 2021       \n",
            "+-----------------------------------------------------------------------------+\n",
            "| NVIDIA-SMI 470.42.01    Driver Version: 460.32.03    CUDA Version: 11.2     |\n",
            "|-------------------------------+----------------------+----------------------+\n",
            "| GPU  Name        Persistence-M| Bus-Id        Disp.A | Volatile Uncorr. ECC |\n",
            "| Fan  Temp  Perf  Pwr:Usage/Cap|         Memory-Usage | GPU-Util  Compute M. |\n",
            "|                               |                      |               MIG M. |\n",
            "|===============================+======================+======================|\n",
            "|   0  Tesla T4            Off  | 00000000:00:04.0 Off |                    0 |\n",
            "| N/A   66C    P8    11W /  70W |      0MiB / 15109MiB |      0%      Default |\n",
            "|                               |                      |                  N/A |\n",
            "+-------------------------------+----------------------+----------------------+\n",
            "                                                                               \n",
            "+-----------------------------------------------------------------------------+\n",
            "| Processes:                                                                  |\n",
            "|  GPU   GI   CI        PID   Type   Process name                  GPU Memory |\n",
            "|        ID   ID                                                   Usage      |\n",
            "|=============================================================================|\n",
            "|  No running processes found                                                 |\n",
            "+-----------------------------------------------------------------------------+\n"
          ],
          "name": "stdout"
        }
      ]
    },
    {
      "cell_type": "markdown",
      "metadata": {
        "id": "afKgglGjHZsF"
      },
      "source": [
        "##Download and Import data"
      ]
    },
    {
      "cell_type": "code",
      "metadata": {
        "colab": {
          "base_uri": "https://localhost:8080/"
        },
        "id": "JBX7RjTGHH4i",
        "outputId": "229edfe3-cd9c-49f2-f62d-5a9fa2c62f88"
      },
      "source": [
        "#download the dataset\n",
        "import zipfile\n",
        "\n",
        "!wget https://storage.googleapis.com/ztm_tf_course/food_vision/10_food_classes_10_percent.zip\n",
        "\n",
        "#unzip data file\n",
        "zip_ref=zipfile.ZipFile(\"10_food_classes_10_percent.zip\",\"r\")\n",
        "\n",
        "zip_ref.extractall()\n",
        "zip_ref.close()"
      ],
      "execution_count": 2,
      "outputs": [
        {
          "output_type": "stream",
          "text": [
            "--2021-07-16 04:32:32--  https://storage.googleapis.com/ztm_tf_course/food_vision/10_food_classes_10_percent.zip\n",
            "Resolving storage.googleapis.com (storage.googleapis.com)... 74.125.199.128, 74.125.142.128, 74.125.195.128, ...\n",
            "Connecting to storage.googleapis.com (storage.googleapis.com)|74.125.199.128|:443... connected.\n",
            "HTTP request sent, awaiting response... 200 OK\n",
            "Length: 168546183 (161M) [application/zip]\n",
            "Saving to: ‘10_food_classes_10_percent.zip.1’\n",
            "\n",
            "10_food_classes_10_ 100%[===================>] 160.74M   244MB/s    in 0.7s    \n",
            "\n",
            "2021-07-16 04:32:33 (244 MB/s) - ‘10_food_classes_10_percent.zip.1’ saved [168546183/168546183]\n",
            "\n"
          ],
          "name": "stdout"
        }
      ]
    },
    {
      "cell_type": "code",
      "metadata": {
        "colab": {
          "base_uri": "https://localhost:8080/"
        },
        "id": "Mc76t36rH98h",
        "outputId": "5adbc918-8bc3-4740-9748-2a63b4ffa487"
      },
      "source": [
        "#spect data\n",
        "import os\n",
        "\n",
        "#wak though data\n",
        "for dirpath,dirnames,filenames in os.walk(\"10_food_classes_10_percent\"):\n",
        "  print(f\"There are {len(dirnames)} directoories and {len(filenames)} images in '{dirpath}'\")\n"
      ],
      "execution_count": 3,
      "outputs": [
        {
          "output_type": "stream",
          "text": [
            "There are 2 directoories and 0 images in '10_food_classes_10_percent'\n",
            "There are 10 directoories and 0 images in '10_food_classes_10_percent/test'\n",
            "There are 0 directoories and 250 images in '10_food_classes_10_percent/test/steak'\n",
            "There are 0 directoories and 250 images in '10_food_classes_10_percent/test/chicken_wings'\n",
            "There are 0 directoories and 250 images in '10_food_classes_10_percent/test/grilled_salmon'\n",
            "There are 0 directoories and 250 images in '10_food_classes_10_percent/test/ramen'\n",
            "There are 0 directoories and 250 images in '10_food_classes_10_percent/test/sushi'\n",
            "There are 0 directoories and 250 images in '10_food_classes_10_percent/test/fried_rice'\n",
            "There are 0 directoories and 250 images in '10_food_classes_10_percent/test/ice_cream'\n",
            "There are 0 directoories and 250 images in '10_food_classes_10_percent/test/hamburger'\n",
            "There are 0 directoories and 250 images in '10_food_classes_10_percent/test/chicken_curry'\n",
            "There are 0 directoories and 250 images in '10_food_classes_10_percent/test/pizza'\n",
            "There are 10 directoories and 0 images in '10_food_classes_10_percent/train'\n",
            "There are 0 directoories and 75 images in '10_food_classes_10_percent/train/steak'\n",
            "There are 0 directoories and 75 images in '10_food_classes_10_percent/train/chicken_wings'\n",
            "There are 0 directoories and 75 images in '10_food_classes_10_percent/train/grilled_salmon'\n",
            "There are 0 directoories and 75 images in '10_food_classes_10_percent/train/ramen'\n",
            "There are 0 directoories and 75 images in '10_food_classes_10_percent/train/sushi'\n",
            "There are 0 directoories and 75 images in '10_food_classes_10_percent/train/fried_rice'\n",
            "There are 0 directoories and 75 images in '10_food_classes_10_percent/train/ice_cream'\n",
            "There are 0 directoories and 75 images in '10_food_classes_10_percent/train/hamburger'\n",
            "There are 0 directoories and 75 images in '10_food_classes_10_percent/train/chicken_curry'\n",
            "There are 0 directoories and 75 images in '10_food_classes_10_percent/train/pizza'\n"
          ],
          "name": "stdout"
        }
      ]
    },
    {
      "cell_type": "markdown",
      "metadata": {
        "id": "jg9JWoaSI18k"
      },
      "source": [
        "##Prepare data\n",
        "\n",
        "imagedatageneator to load data into batches"
      ]
    },
    {
      "cell_type": "code",
      "metadata": {
        "colab": {
          "base_uri": "https://localhost:8080/"
        },
        "id": "9zTfdo-aJZAV",
        "outputId": "abdace25-e5b1-4020-abce-cdfd71741986"
      },
      "source": [
        "#setup data inputs\n",
        "from tensorflow.keras.preprocessing.image import ImageDataGenerator\n",
        "\n",
        "IMAGE_SHAPE=(224,224)\n",
        "BATCH_SIZE=32\n",
        "\n",
        "train_dir =\"10_food_classes_10_percent/train\"\n",
        "test_dir =\"10_food_classes_10_percent/test\"\n",
        "\n",
        "# class FixedImageDataGenerator(ImageDataGenerator):\n",
        "#     def standardize(self, x):\n",
        "#         if self.featurewise_center:\n",
        "#             x = ((x/255.) - 0.5) * 2.\n",
        "#         return x\n",
        "\n",
        "train_datagen =ImageDataGenerator(rescale=1/255.,featurewise_center=True)\n",
        "test_datagen =ImageDataGenerator(rescale=1/255.,featurewise_center=True)\n",
        "\n",
        "print(\"Training Images\")\n",
        "train_data_10_percent =train_datagen.flow_from_directory(train_dir,\n",
        "                                                         target_size=IMAGE_SHAPE,\n",
        "                                                         batch_size=BATCH_SIZE,\n",
        "                                                         class_mode=\"categorical\")\n",
        "\n",
        "\n",
        "print(\"Test Images\")\n",
        "test_data =test_datagen.flow_from_directory(test_dir,\n",
        "                                            target_size=IMAGE_SHAPE,\n",
        "                                            batch_size=BATCH_SIZE,\n",
        "                                            class_mode=\"categorical\")\n",
        "\n"
      ],
      "execution_count": 4,
      "outputs": [
        {
          "output_type": "stream",
          "text": [
            "Training Images\n",
            "Found 750 images belonging to 10 classes.\n",
            "Test Images\n",
            "Found 2500 images belonging to 10 classes.\n"
          ],
          "name": "stdout"
        }
      ]
    },
    {
      "cell_type": "markdown",
      "metadata": {
        "id": "Qw6lFhSFKlFb"
      },
      "source": [
        "##Set Callbacks\n",
        "\n",
        "1.tracking experiments with callbacks\n",
        "\n",
        "2.model check pointing\n",
        "\n",
        "3.stoping the model stop overfitting by early stopping callbacks"
      ]
    },
    {
      "cell_type": "code",
      "metadata": {
        "id": "xwZ6-Q5iLOfE"
      },
      "source": [
        "# Create tensorboard callback (functionized because need to create a new one for each model)\n",
        "import datetime\n",
        "def create_tensorboard_callback(dir_name, experiment_name):\n",
        "  log_dir = dir_name + \"/\" + experiment_name + \"/\" + datetime.datetime.now().strftime(\"%Y%m%d-%H%M%S\")\n",
        "  tensorboard_callback = tf.keras.callbacks.TensorBoard(\n",
        "      log_dir=log_dir\n",
        "  )\n",
        "  print(f\"Saving TensorBoard log files to: {log_dir}\")\n",
        "  return tensorboard_callback"
      ],
      "execution_count": 5,
      "outputs": []
    },
    {
      "cell_type": "markdown",
      "metadata": {
        "id": "m3K6PgKmNiPG"
      },
      "source": [
        "##Craeting models using Tensorflow HUB\n",
        "\n",
        "link :https://tfhub.dev/tensorflow/efficientnet/b0/feature-vector/1\n",
        "\n",
        "\n",
        "resent model :https://tfhub.dev/google/imagenet/resnet_v2_50/feature_vector/5\n",
        "\n"
      ]
    },
    {
      "cell_type": "code",
      "metadata": {
        "id": "vsutXaq8RVBH"
      },
      "source": [
        "#compare two model\n",
        "resnet_url =\"https://tfhub.dev/google/imagenet/resnet_v2_50/feature_vector/4\"\n",
        "efficinet_url =\"https://tfhub.dev/tensorflow/efficientnet/b0/feature-vector/1\"\n",
        "\n"
      ],
      "execution_count": 6,
      "outputs": []
    },
    {
      "cell_type": "code",
      "metadata": {
        "id": "3klGxkPqR9vM"
      },
      "source": [
        "#import dependencies\n",
        "import tensorflow as tf\n",
        "import tensorflow_hub as hub\n",
        "from tensorflow.keras import layers\n"
      ],
      "execution_count": 7,
      "outputs": []
    },
    {
      "cell_type": "code",
      "metadata": {
        "id": "a8mRPv1JSenq"
      },
      "source": [
        "#create_model fucntion \n",
        "def create_model(model_url,num_classes=10):\n",
        "  \"\"\"\n",
        "  Takes tensorflow hub url and create sequnetial model with it\n",
        "\n",
        "  Args:\n",
        "   model_url =Tensorflow hub model url\n",
        "   num_clasese=Number of outputs\n",
        "\n",
        "  returns:\n",
        "    an uncomplied model with model_url as feature extraction\n",
        "  \"\"\"\n",
        "\n",
        "  #download the pre trainded model\n",
        "  feature_extractor_layer =hub.KerasLayer(model_url,\n",
        "                                          trainable =False,\n",
        "                                          name=\"feature_extraction_layer\",\n",
        "                                          input_shape=IMAGE_SHAPE+(3,))\n",
        "  \n",
        "  #create the model\n",
        "  model=tf.keras.Sequential([\n",
        "                             feature_extractor_layer,\n",
        "                             layers.Dense(num_classes,activation=\"softmax\",name=\"output_layer\")\n",
        "  ])\n",
        "\n",
        "  return model\n",
        "\n",
        "\n"
      ],
      "execution_count": 8,
      "outputs": []
    },
    {
      "cell_type": "markdown",
      "metadata": {
        "id": "WnfADGbWUFvi"
      },
      "source": [
        "##Create Resnet Feature Extaction Model\n",
        "\n",
        "link :https://colab.research.google.com/github/mrdbourke/tensorflow-deep-learning/blob/main/04_transfer_learning_in_tensorflow_part_1_feature_extraction.ipynb#scrollTo=2GTl0fwE0Hx6\n"
      ]
    },
    {
      "cell_type": "code",
      "metadata": {
        "id": "e6krAOoGT_iS"
      },
      "source": [
        "#create Resnet Model\n",
        "resnet_model =create_model(resnet_url,\n",
        "                           num_classes=train_data_10_percent.num_classes)"
      ],
      "execution_count": 9,
      "outputs": []
    },
    {
      "cell_type": "code",
      "metadata": {
        "colab": {
          "base_uri": "https://localhost:8080/"
        },
        "id": "Scq9cNVXU_zf",
        "outputId": "21053f30-5e64-406f-acd0-dc4ebbc51552"
      },
      "source": [
        "resnet_model.summary()"
      ],
      "execution_count": 10,
      "outputs": [
        {
          "output_type": "stream",
          "text": [
            "Model: \"sequential\"\n",
            "_________________________________________________________________\n",
            "Layer (type)                 Output Shape              Param #   \n",
            "=================================================================\n",
            "feature_extraction_layer (Ke (None, 2048)              23564800  \n",
            "_________________________________________________________________\n",
            "output_layer (Dense)         (None, 10)                20490     \n",
            "=================================================================\n",
            "Total params: 23,585,290\n",
            "Trainable params: 20,490\n",
            "Non-trainable params: 23,564,800\n",
            "_________________________________________________________________\n"
          ],
          "name": "stdout"
        }
      ]
    },
    {
      "cell_type": "code",
      "metadata": {
        "id": "WeomKDRFVCKw"
      },
      "source": [
        "#compile the model\n",
        "resnet_model.compile(loss=\"categorical_crossentropy\",\n",
        "                     optimizer=tf.keras.optimizers.Adam(),\n",
        "                     metrics=[\"accuracy\"])"
      ],
      "execution_count": 11,
      "outputs": []
    },
    {
      "cell_type": "code",
      "metadata": {
        "colab": {
          "base_uri": "https://localhost:8080/"
        },
        "id": "IPbqlInsVcCp",
        "outputId": "1f5ff70d-48b0-4f7b-9044-c1ac5b02c1a7"
      },
      "source": [
        "#fit the model\n",
        "history_resnet_model =resnet_model.fit(train_data_10_percent,\n",
        "                       epochs=5,\n",
        "                       steps_per_epoch=len(train_data_10_percent),\n",
        "                       validation_data=test_data,\n",
        "                       validation_steps=len(test_data),\n",
        "                       callbacks=[create_tensorboard_callback(dir_name=\"tensorflow_hub\",\n",
        "                                                              experiment_name =\"resnet_v2_50\"\n",
        "                                                              )])"
      ],
      "execution_count": 12,
      "outputs": [
        {
          "output_type": "stream",
          "text": [
            "Saving TensorBoard log files to: tensorflow_hub/resnet_v2_50/20210716-043239\n",
            "Epoch 1/5\n"
          ],
          "name": "stdout"
        },
        {
          "output_type": "stream",
          "text": [
            "/usr/local/lib/python3.7/dist-packages/keras_preprocessing/image/image_data_generator.py:720: UserWarning: This ImageDataGenerator specifies `featurewise_center`, but it hasn't been fit on any training data. Fit it first by calling `.fit(numpy_data)`.\n",
            "  warnings.warn('This ImageDataGenerator specifies '\n"
          ],
          "name": "stderr"
        },
        {
          "output_type": "stream",
          "text": [
            "24/24 [==============================] - 32s 1s/step - loss: 2.0403 - accuracy: 0.3200 - val_loss: 1.3130 - val_accuracy: 0.5880\n",
            "Epoch 2/5\n",
            "24/24 [==============================] - 16s 681ms/step - loss: 0.9479 - accuracy: 0.7200 - val_loss: 0.9273 - val_accuracy: 0.7204\n",
            "Epoch 3/5\n",
            "24/24 [==============================] - 15s 661ms/step - loss: 0.6401 - accuracy: 0.8253 - val_loss: 0.7989 - val_accuracy: 0.7408\n",
            "Epoch 4/5\n",
            "24/24 [==============================] - 15s 655ms/step - loss: 0.4980 - accuracy: 0.8613 - val_loss: 0.7790 - val_accuracy: 0.7360\n",
            "Epoch 5/5\n",
            "24/24 [==============================] - 16s 689ms/step - loss: 0.4058 - accuracy: 0.8867 - val_loss: 0.7193 - val_accuracy: 0.7668\n"
          ],
          "name": "stdout"
        }
      ]
    },
    {
      "cell_type": "code",
      "metadata": {
        "colab": {
          "base_uri": "https://localhost:8080/"
        },
        "id": "foGZrIs3WhKV",
        "outputId": "cdd3b58d-4c6e-44d7-fc64-9b6992fc0670"
      },
      "source": [
        "#evalaute the model\n",
        "resnet_model.evaluate(test_data)"
      ],
      "execution_count": 13,
      "outputs": [
        {
          "output_type": "stream",
          "text": [
            "/usr/local/lib/python3.7/dist-packages/keras_preprocessing/image/image_data_generator.py:720: UserWarning: This ImageDataGenerator specifies `featurewise_center`, but it hasn't been fit on any training data. Fit it first by calling `.fit(numpy_data)`.\n",
            "  warnings.warn('This ImageDataGenerator specifies '\n"
          ],
          "name": "stderr"
        },
        {
          "output_type": "stream",
          "text": [
            "79/79 [==============================] - 13s 159ms/step - loss: 0.7193 - accuracy: 0.7668\n"
          ],
          "name": "stdout"
        },
        {
          "output_type": "execute_result",
          "data": {
            "text/plain": [
              "[0.7193498015403748, 0.7667999863624573]"
            ]
          },
          "metadata": {
            "tags": []
          },
          "execution_count": 13
        }
      ]
    },
    {
      "cell_type": "markdown",
      "metadata": {
        "id": "xHrfCxyPhCJl"
      },
      "source": [
        "##Plot loss Curves"
      ]
    },
    {
      "cell_type": "code",
      "metadata": {
        "id": "Qzj7fZwNWm92"
      },
      "source": [
        "import matplotlib.pyplot as plt\n",
        "\n",
        "\n",
        "#plot the validation and training curve\n",
        "def plot_loss_curve(history):\n",
        "  \"\"\"\n",
        "  Returns separte loss curve for trainnnig and validation mtrics\n",
        "  \"\"\"\n",
        "\n",
        "  loss=history.history[\"loss\"]\n",
        "  val_loss=history.history[\"val_loss\"]\n",
        "\n",
        "  accuracy=history.history[\"accuracy\"]\n",
        "  val_accuracy=history.history[\"val_accuracy\"]\n",
        "\n",
        "  epochs=range(len(history.history[\"loss\"]))\n",
        "\n",
        "  #plot loss\n",
        "  plt.plot(epochs,loss,label=\"training_loss\")\n",
        "  plt.plot(epochs,val_loss,label=\"val_loss\")\n",
        "  plt.title(\"Loss\")\n",
        "  plt.xlabel(\"Epochs\")\n",
        "  plt.legend()\n",
        "\n",
        "  #plot Accuracy\n",
        "  plt.figure()\n",
        "  plt.plot(epochs,loss,label=\"training_accuracy\")\n",
        "  plt.plot(epochs,val_accuracy,label=\"val_accuracy\")\n",
        "  plt.title(\"Accuracy\")\n",
        "  plt.xlabel(\"Epochs\")\n",
        "  plt.legend()\n",
        "\n"
      ],
      "execution_count": 14,
      "outputs": []
    },
    {
      "cell_type": "code",
      "metadata": {
        "colab": {
          "base_uri": "https://localhost:8080/",
          "height": 573
        },
        "id": "1iDF7TQTgsqn",
        "outputId": "c9cb3d25-2c96-415b-a0d4-154ad6ac6d79"
      },
      "source": [
        "plot_loss_curve(history_resnet_model)"
      ],
      "execution_count": 15,
      "outputs": [
        {
          "output_type": "display_data",
          "data": {
            "image/png": "[encoded data removed]",
            "text/plain": [
              "<Figure size 432x288 with 1 Axes>"
            ]
          },
          "metadata": {
            "tags": [],
            "needs_background": "light"
          }
        },
        {
          "output_type": "display_data",
          "data": {
            "image/png": "[encoded data removed]",
            "text/plain": [
              "<Figure size 432x288 with 1 Axes>"
            ]
          },
          "metadata": {
            "tags": [],
            "needs_background": "light"
          }
        }
      ]
    },
    {
      "cell_type": "markdown",
      "metadata": {
        "id": "avVTknztgw9m"
      },
      "source": [
        "##Create Efficientnet Feature Extaction Model"
      ]
    },
    {
      "cell_type": "code",
      "metadata": {
        "colab": {
          "base_uri": "https://localhost:8080/"
        },
        "id": "QqlAt65EiAYq",
        "outputId": "1791f92a-98dd-410d-af68-36ae7788cd1b"
      },
      "source": [
        "#create Resnet Model\n",
        "efficientnet_model =create_model(efficinet_url,\n",
        "                           num_classes=train_data_10_percent.num_classes)\n",
        "\n",
        "#compile the model\n",
        "efficientnet_model.compile(loss=\"categorical_crossentropy\",\n",
        "                     optimizer=tf.keras.optimizers.Adam(),\n",
        "                     metrics=[\"accuracy\"])\n",
        "\n",
        "#fit the model\n",
        "history_efficient_model =efficientnet_model.fit(train_data_10_percent,\n",
        "                       epochs=5,\n",
        "                       steps_per_epoch=len(train_data_10_percent),\n",
        "                       validation_data=test_data,\n",
        "                       validation_steps=len(test_data),\n",
        "                       callbacks=[create_tensorboard_callback(dir_name=\"tensorflow_hub\",\n",
        "                                                              experiment_name =\"efficientnet_model\"\n",
        "                                                              )])\n"
      ],
      "execution_count": 16,
      "outputs": [
        {
          "output_type": "stream",
          "text": [
            "Saving TensorBoard log files to: tensorflow_hub/efficientnet_model/20210716-043436\n",
            "Epoch 1/5\n"
          ],
          "name": "stdout"
        },
        {
          "output_type": "stream",
          "text": [
            "/usr/local/lib/python3.7/dist-packages/keras_preprocessing/image/image_data_generator.py:720: UserWarning: This ImageDataGenerator specifies `featurewise_center`, but it hasn't been fit on any training data. Fit it first by calling `.fit(numpy_data)`.\n",
            "  warnings.warn('This ImageDataGenerator specifies '\n"
          ],
          "name": "stderr"
        },
        {
          "output_type": "stream",
          "text": [
            "24/24 [==============================] - 27s 841ms/step - loss: 1.8758 - accuracy: 0.4387 - val_loss: 1.3138 - val_accuracy: 0.7216\n",
            "Epoch 2/5\n",
            "24/24 [==============================] - 15s 632ms/step - loss: 1.0847 - accuracy: 0.7760 - val_loss: 0.8716 - val_accuracy: 0.8100\n",
            "Epoch 3/5\n",
            "24/24 [==============================] - 15s 630ms/step - loss: 0.7637 - accuracy: 0.8453 - val_loss: 0.7004 - val_accuracy: 0.8404\n",
            "Epoch 4/5\n",
            "24/24 [==============================] - 15s 646ms/step - loss: 0.6147 - accuracy: 0.8613 - val_loss: 0.6142 - val_accuracy: 0.8540\n",
            "Epoch 5/5\n",
            "24/24 [==============================] - 16s 666ms/step - loss: 0.5219 - accuracy: 0.8787 - val_loss: 0.5634 - val_accuracy: 0.8592\n"
          ],
          "name": "stdout"
        }
      ]
    },
    {
      "cell_type": "code",
      "metadata": {
        "colab": {
          "base_uri": "https://localhost:8080/"
        },
        "id": "qsuAWkbmiiLC",
        "outputId": "2b61d843-1374-4d3e-bac6-2d23f739a9f3"
      },
      "source": [
        "#evalaute the model\n",
        "efficientnet_model.evaluate(test_data)"
      ],
      "execution_count": 20,
      "outputs": [
        {
          "output_type": "stream",
          "text": [
            "/usr/local/lib/python3.7/dist-packages/keras_preprocessing/image/image_data_generator.py:720: UserWarning: This ImageDataGenerator specifies `featurewise_center`, but it hasn't been fit on any training data. Fit it first by calling `.fit(numpy_data)`.\n",
            "  warnings.warn('This ImageDataGenerator specifies '\n"
          ],
          "name": "stderr"
        },
        {
          "output_type": "stream",
          "text": [
            "79/79 [==============================] - 12s 152ms/step - loss: 0.5634 - accuracy: 0.8592\n"
          ],
          "name": "stdout"
        },
        {
          "output_type": "execute_result",
          "data": {
            "text/plain": [
              "[0.5633593201637268, 0.8592000007629395]"
            ]
          },
          "metadata": {
            "tags": []
          },
          "execution_count": 20
        }
      ]
    },
    {
      "cell_type": "code",
      "metadata": {
        "colab": {
          "base_uri": "https://localhost:8080/",
          "height": 573
        },
        "id": "wftYBKe7ijPw",
        "outputId": "fcf7c9c5-6e96-4905-82de-23663298bba9"
      },
      "source": [
        "plot_loss_curve(history_efficient_model)"
      ],
      "execution_count": 18,
      "outputs": [
        {
          "output_type": "display_data",
          "data": {
            "image/png": "[encoded data removed]",
            "text/plain": [
              "<Figure size 432x288 with 1 Axes>"
            ]
          },
          "metadata": {
            "tags": [],
            "needs_background": "light"
          }
        },
        {
          "output_type": "display_data",
          "data": {
            "image/png": "[encoded data removed]",
            "text/plain": [
              "<Figure size 432x288 with 1 Axes>"
            ]
          },
          "metadata": {
            "tags": [],
            "needs_background": "light"
          }
        }
      ]
    },
    {
      "cell_type": "markdown",
      "metadata": {
        "id": "1eDOw-8ujzrk"
      },
      "source": [
        "##Different Types of Transfer Learning\n",
        "\n",
        "1.using the model as above \n",
        "\n",
        "2.feature extraction tranfer learning and adjust the output layer for your problem\n",
        "\n",
        "3.Fine tuning the transfer learning."
      ]
    },
    {
      "cell_type": "markdown",
      "metadata": {
        "id": "pdQsCa7Kna06"
      },
      "source": [
        "##Compare Model Results with TensorBoard"
      ]
    },
    {
      "cell_type": "code",
      "metadata": {
        "id": "HcFPJwYdqSAR"
      },
      "source": [
        "# # upload tensorboard dev records\n",
        "# !tensorboard dev upload --logdir ./tensorflow_hub/ \\\n",
        "#  --name \"Effcientnet B0 vs ResNet 50 v2\" \\\n",
        "#  --description \"comapring two models with same dataset\" \\\n",
        "#  --one_shot"
      ],
      "execution_count": null,
      "outputs": []
    },
    {
      "cell_type": "markdown",
      "metadata": {
        "id": "qb61_FhJoxNF"
      },
      "source": [
        "##New experiment created. View your TensorBoard at: https://tensorboard.dev/experiment/fpMlzd10S82MBjqOGOjyqQ/"
      ]
    },
    {
      "cell_type": "code",
      "metadata": {
        "colab": {
          "base_uri": "https://localhost:8080/"
        },
        "id": "p922YVWApeHv",
        "outputId": "cd944de1-8619-4e01-e06f-9467377b0b6c"
      },
      "source": [
        "#check out the experiments\n",
        "!tensorboard dev list"
      ],
      "execution_count": 24,
      "outputs": [
        {
          "output_type": "stream",
          "text": [
            "2021-07-16 04:53:58.123898: I tensorflow/stream_executor/platform/default/dso_loader.cc:53] Successfully opened dynamic library libcudart.so.11.0\n",
            "Data for the \"text\" plugin is now uploaded to TensorBoard.dev! Note that uploaded data is public. If you do not want to upload data for this plugin, use the \"--plugins\" command line argument.\n",
            "https://tensorboard.dev/experiment/fpMlzd10S82MBjqOGOjyqQ/\n",
            "\tName                 Effcientnet B0 vs ResNet 50 v2\n",
            "\tDescription          comapring two models with same dataset\n",
            "\tId                   fpMlzd10S82MBjqOGOjyqQ\n",
            "\tCreated              2021-07-16 04:47:40 (6 minutes ago)\n",
            "\tUpdated              2021-07-16 04:47:49 (6 minutes ago)\n",
            "\tRuns                 16\n",
            "\tTags                 5\n",
            "\tScalars              240\n",
            "\tTensor bytes         0\n",
            "\tBinary object bytes  19426158\n",
            "Total: 1 experiment(s)\n"
          ],
          "name": "stdout"
        }
      ]
    },
    {
      "cell_type": "code",
      "metadata": {
        "id": "Wlp76-mkqfw9"
      },
      "source": [
        "# #delete experiment\n",
        "# !tensorboard dev delete --experiment_id xxxxxxxxxxxxxx"
      ],
      "execution_count": null,
      "outputs": []
    }
  ]
}