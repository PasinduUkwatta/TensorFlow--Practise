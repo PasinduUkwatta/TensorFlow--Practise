{
  "nbformat": 4,
  "nbformat_minor": 0,
  "metadata": {
    "colab": {
      "name": "10_time_series_forecasting_with_tensorflow.ipynb",
      "provenance": [],
      "collapsed_sections": [
        "hR1vv5M-3VTn",
        "ANRQks_L6bWw",
        "PHZ0UJuR7uhr",
        "KCqCEcfRv8Ts"
      ],
      "toc_visible": true
    },
    "kernelspec": {
      "name": "python3",
      "display_name": "Python 3"
    },
    "language_info": {
      "name": "python"
    },
    "accelerator": "GPU"
  },
  "cells": [
    {
      "cell_type": "markdown",
      "metadata": {
        "id": "hR1vv5M-3VTn"
      },
      "source": [
        "##Time Series Forecasting -Bit Predict"
      ]
    },
    {
      "cell_type": "code",
      "metadata": {
        "colab": {
          "base_uri": "https://localhost:8080/"
        },
        "id": "cMucdkRS6Y8v",
        "outputId": "6a560b95-25e5-4d7b-b066-b64b1e096e06"
      },
      "source": [
        "#get data\n",
        "!wget \"https://raw.githubusercontent.com/mrdbourke/tensorflow-deep-learning/main/extras/BTC_USD_2013-10-01_2021-05-18-CoinDesk.csv\""
      ],
      "execution_count": 1,
      "outputs": [
        {
          "output_type": "stream",
          "name": "stdout",
          "text": [
            "--2021-09-07 02:53:58--  https://raw.githubusercontent.com/mrdbourke/tensorflow-deep-learning/main/extras/BTC_USD_2013-10-01_2021-05-18-CoinDesk.csv\n",
            "Resolving raw.githubusercontent.com (raw.githubusercontent.com)... 185.199.108.133, 185.199.111.133, 185.199.110.133, ...\n",
            "Connecting to raw.githubusercontent.com (raw.githubusercontent.com)|185.199.108.133|:443... connected.\n",
            "HTTP request sent, awaiting response... 200 OK\n",
            "Length: 178509 (174K) [text/plain]\n",
            "Saving to: ‘BTC_USD_2013-10-01_2021-05-18-CoinDesk.csv’\n",
            "\n",
            "BTC_USD_2013-10-01_ 100%[===================>] 174.33K  --.-KB/s    in 0.02s   \n",
            "\n",
            "2021-09-07 02:53:58 (7.29 MB/s) - ‘BTC_USD_2013-10-01_2021-05-18-CoinDesk.csv’ saved [178509/178509]\n",
            "\n"
          ]
        }
      ]
    },
    {
      "cell_type": "markdown",
      "metadata": {
        "id": "ANRQks_L6bWw"
      },
      "source": [
        "##Importing data with pandas\n"
      ]
    },
    {
      "cell_type": "code",
      "metadata": {
        "colab": {
          "base_uri": "https://localhost:8080/",
          "height": 0
        },
        "id": "jLZ2g_Pn6x9e",
        "outputId": "f45237bf-03dd-40c9-a5b7-3a028d964644"
      },
      "source": [
        "#import with pandas\n",
        "import pandas as pd\n",
        "\n",
        "df=pd.read_csv(\"/content/BTC_USD_2013-10-01_2021-05-18-CoinDesk.csv\",\n",
        "               parse_dates=[\"Date\"],\n",
        "               index_col=[\"Date\"])\n",
        "\n",
        "df.head()"
      ],
      "execution_count": 2,
      "outputs": [
        {
          "output_type": "execute_result",
          "data": {
            "text/html": [
              "<div>\n",
              "<style scoped>\n",
              "    .dataframe tbody tr th:only-of-type {\n",
              "        vertical-align: middle;\n",
              "    }\n",
              "\n",
              "    .dataframe tbody tr th {\n",
              "        vertical-align: top;\n",
              "    }\n",
              "\n",
              "    .dataframe thead th {\n",
              "        text-align: right;\n",
              "    }\n",
              "</style>\n",
              "<table border=\"1\" class=\"dataframe\">\n",
              "  <thead>\n",
              "    <tr style=\"text-align: right;\">\n",
              "      <th></th>\n",
              "      <th>Currency</th>\n",
              "      <th>Closing Price (USD)</th>\n",
              "      <th>24h Open (USD)</th>\n",
              "      <th>24h High (USD)</th>\n",
              "      <th>24h Low (USD)</th>\n",
              "    </tr>\n",
              "    <tr>\n",
              "      <th>Date</th>\n",
              "      <th></th>\n",
              "      <th></th>\n",
              "      <th></th>\n",
              "      <th></th>\n",
              "      <th></th>\n",
              "    </tr>\n",
              "  </thead>\n",
              "  <tbody>\n",
              "    <tr>\n",
              "      <th>2013-10-01</th>\n",
              "      <td>BTC</td>\n",
              "      <td>123.65499</td>\n",
              "      <td>124.30466</td>\n",
              "      <td>124.75166</td>\n",
              "      <td>122.56349</td>\n",
              "    </tr>\n",
              "    <tr>\n",
              "      <th>2013-10-02</th>\n",
              "      <td>BTC</td>\n",
              "      <td>125.45500</td>\n",
              "      <td>123.65499</td>\n",
              "      <td>125.75850</td>\n",
              "      <td>123.63383</td>\n",
              "    </tr>\n",
              "    <tr>\n",
              "      <th>2013-10-03</th>\n",
              "      <td>BTC</td>\n",
              "      <td>108.58483</td>\n",
              "      <td>125.45500</td>\n",
              "      <td>125.66566</td>\n",
              "      <td>83.32833</td>\n",
              "    </tr>\n",
              "    <tr>\n",
              "      <th>2013-10-04</th>\n",
              "      <td>BTC</td>\n",
              "      <td>118.67466</td>\n",
              "      <td>108.58483</td>\n",
              "      <td>118.67500</td>\n",
              "      <td>107.05816</td>\n",
              "    </tr>\n",
              "    <tr>\n",
              "      <th>2013-10-05</th>\n",
              "      <td>BTC</td>\n",
              "      <td>121.33866</td>\n",
              "      <td>118.67466</td>\n",
              "      <td>121.93633</td>\n",
              "      <td>118.00566</td>\n",
              "    </tr>\n",
              "  </tbody>\n",
              "</table>\n",
              "</div>"
            ],
            "text/plain": [
              "           Currency  Closing Price (USD)  ...  24h High (USD)  24h Low (USD)\n",
              "Date                                      ...                               \n",
              "2013-10-01      BTC            123.65499  ...       124.75166      122.56349\n",
              "2013-10-02      BTC            125.45500  ...       125.75850      123.63383\n",
              "2013-10-03      BTC            108.58483  ...       125.66566       83.32833\n",
              "2013-10-04      BTC            118.67466  ...       118.67500      107.05816\n",
              "2013-10-05      BTC            121.33866  ...       121.93633      118.00566\n",
              "\n",
              "[5 rows x 5 columns]"
            ]
          },
          "metadata": {},
          "execution_count": 2
        }
      ]
    },
    {
      "cell_type": "code",
      "metadata": {
        "colab": {
          "base_uri": "https://localhost:8080/"
        },
        "id": "KKXL_P3F7iev",
        "outputId": "3e5fdb32-cdd2-4f11-c928-f740ca098184"
      },
      "source": [
        "df.info()"
      ],
      "execution_count": 3,
      "outputs": [
        {
          "output_type": "stream",
          "name": "stdout",
          "text": [
            "<class 'pandas.core.frame.DataFrame'>\n",
            "DatetimeIndex: 2787 entries, 2013-10-01 to 2021-05-18\n",
            "Data columns (total 5 columns):\n",
            " #   Column               Non-Null Count  Dtype  \n",
            "---  ------               --------------  -----  \n",
            " 0   Currency             2787 non-null   object \n",
            " 1   Closing Price (USD)  2787 non-null   float64\n",
            " 2   24h Open (USD)       2787 non-null   float64\n",
            " 3   24h High (USD)       2787 non-null   float64\n",
            " 4   24h Low (USD)        2787 non-null   float64\n",
            "dtypes: float64(4), object(1)\n",
            "memory usage: 130.6+ KB\n"
          ]
        }
      ]
    },
    {
      "cell_type": "code",
      "metadata": {
        "colab": {
          "base_uri": "https://localhost:8080/"
        },
        "id": "RStkSiXu7mhJ",
        "outputId": "abd44ce5-983a-407d-ba62-70da961ffff5"
      },
      "source": [
        "#data count\n",
        "len(df)"
      ],
      "execution_count": 4,
      "outputs": [
        {
          "output_type": "execute_result",
          "data": {
            "text/plain": [
              "2787"
            ]
          },
          "metadata": {},
          "execution_count": 4
        }
      ]
    },
    {
      "cell_type": "markdown",
      "metadata": {
        "id": "PHZ0UJuR7uhr"
      },
      "source": [
        "#Visualize the data"
      ]
    },
    {
      "cell_type": "code",
      "metadata": {
        "colab": {
          "base_uri": "https://localhost:8080/",
          "height": 0
        },
        "id": "qteTI4RSJnaW",
        "outputId": "bf284a88-3c2a-4653-93ed-8a9c256411d2"
      },
      "source": [
        "#take clsoing price and data\n",
        "bitcoin_prices=pd.DataFrame(df[\"Closing Price (USD)\"]).rename(columns={\"Closing Price (USD)\" :\"Price\" })\n",
        "bitcoin_prices.head()\n"
      ],
      "execution_count": 5,
      "outputs": [
        {
          "output_type": "execute_result",
          "data": {
            "text/html": [
              "<div>\n",
              "<style scoped>\n",
              "    .dataframe tbody tr th:only-of-type {\n",
              "        vertical-align: middle;\n",
              "    }\n",
              "\n",
              "    .dataframe tbody tr th {\n",
              "        vertical-align: top;\n",
              "    }\n",
              "\n",
              "    .dataframe thead th {\n",
              "        text-align: right;\n",
              "    }\n",
              "</style>\n",
              "<table border=\"1\" class=\"dataframe\">\n",
              "  <thead>\n",
              "    <tr style=\"text-align: right;\">\n",
              "      <th></th>\n",
              "      <th>Price</th>\n",
              "    </tr>\n",
              "    <tr>\n",
              "      <th>Date</th>\n",
              "      <th></th>\n",
              "    </tr>\n",
              "  </thead>\n",
              "  <tbody>\n",
              "    <tr>\n",
              "      <th>2013-10-01</th>\n",
              "      <td>123.65499</td>\n",
              "    </tr>\n",
              "    <tr>\n",
              "      <th>2013-10-02</th>\n",
              "      <td>125.45500</td>\n",
              "    </tr>\n",
              "    <tr>\n",
              "      <th>2013-10-03</th>\n",
              "      <td>108.58483</td>\n",
              "    </tr>\n",
              "    <tr>\n",
              "      <th>2013-10-04</th>\n",
              "      <td>118.67466</td>\n",
              "    </tr>\n",
              "    <tr>\n",
              "      <th>2013-10-05</th>\n",
              "      <td>121.33866</td>\n",
              "    </tr>\n",
              "  </tbody>\n",
              "</table>\n",
              "</div>"
            ],
            "text/plain": [
              "                Price\n",
              "Date                 \n",
              "2013-10-01  123.65499\n",
              "2013-10-02  125.45500\n",
              "2013-10-03  108.58483\n",
              "2013-10-04  118.67466\n",
              "2013-10-05  121.33866"
            ]
          },
          "metadata": {},
          "execution_count": 5
        }
      ]
    },
    {
      "cell_type": "code",
      "metadata": {
        "colab": {
          "base_uri": "https://localhost:8080/",
          "height": 0
        },
        "id": "6O-BiawjKFp2",
        "outputId": "b59b28a1-3435-43ad-f8ed-c717de87784e"
      },
      "source": [
        "import matplotlib.pyplot as plt\n",
        "bitcoin_prices.plot(figsize=(10,7))\n",
        "plt.ylabel(\"BTC Price\")\n",
        "plt.title(\"Price of Bitcoin with the date\",fontsize=16)\n",
        "plt.legend(fontsize=14)"
      ],
      "execution_count": 6,
      "outputs": [
        {
          "output_type": "execute_result",
          "data": {
            "text/plain": [
              "<matplotlib.legend.Legend at 0x7ffb787865d0>"
            ]
          },
          "metadata": {},
          "execution_count": 6
        },
        {
          "output_type": "display_data",
          "data": {
            "image/png": "[encoded data removed]",
            "text/plain": [
              "<Figure size 720x504 with 1 Axes>"
            ]
          },
          "metadata": {
            "needs_background": "light"
          }
        }
      ]
    },
    {
      "cell_type": "markdown",
      "metadata": {
        "id": "KCqCEcfRv8Ts"
      },
      "source": [
        "#Importing time series data with python csv module"
      ]
    },
    {
      "cell_type": "code",
      "metadata": {
        "colab": {
          "base_uri": "https://localhost:8080/"
        },
        "id": "c117883Fv_4-",
        "outputId": "96674fc7-3213-44f9-946f-75ce36cdcd46"
      },
      "source": [
        "#formatting data \n",
        "import csv\n",
        "from datetime import datetime\n",
        "\n",
        "timesteps =[]\n",
        "btc_price =[]\n",
        "\n",
        "with open (\"/content/BTC_USD_2013-10-01_2021-05-18-CoinDesk.csv\") as f:\n",
        "  csv_reader=csv.reader(f,delimiter=\",\")\n",
        "  \n",
        "  #skip the first line (remove the header line\n",
        "  next(csv_reader)\n",
        "\n",
        "  for line in csv_reader:\n",
        "    timesteps.append(datetime.strptime(line[1],\"%Y-%m-%d\"))\n",
        "    btc_price.append(float(line[2]))\n",
        "\n",
        "#view first 10\n",
        "timesteps[:10],btc_price[:10]"
      ],
      "execution_count": 7,
      "outputs": [
        {
          "output_type": "execute_result",
          "data": {
            "text/plain": [
              "([datetime.datetime(2013, 10, 1, 0, 0),\n",
              "  datetime.datetime(2013, 10, 2, 0, 0),\n",
              "  datetime.datetime(2013, 10, 3, 0, 0),\n",
              "  datetime.datetime(2013, 10, 4, 0, 0),\n",
              "  datetime.datetime(2013, 10, 5, 0, 0),\n",
              "  datetime.datetime(2013, 10, 6, 0, 0),\n",
              "  datetime.datetime(2013, 10, 7, 0, 0),\n",
              "  datetime.datetime(2013, 10, 8, 0, 0),\n",
              "  datetime.datetime(2013, 10, 9, 0, 0),\n",
              "  datetime.datetime(2013, 10, 10, 0, 0)],\n",
              " [123.65499,\n",
              "  125.455,\n",
              "  108.58483,\n",
              "  118.67466,\n",
              "  121.33866,\n",
              "  120.65533,\n",
              "  121.795,\n",
              "  123.033,\n",
              "  124.049,\n",
              "  125.96116])"
            ]
          },
          "metadata": {},
          "execution_count": 7
        }
      ]
    },
    {
      "cell_type": "code",
      "metadata": {
        "colab": {
          "base_uri": "https://localhost:8080/",
          "height": 0
        },
        "id": "cqX_hLOjxpXG",
        "outputId": "77ba5a99-25e4-4b41-a76a-c96992f519ce"
      },
      "source": [
        "#plot from csv\n",
        "import matplotlib.pyplot as plt\n",
        "import numpy as np\n",
        "\n",
        "plt.figure(figsize=(10,7))\n",
        "plt.plot(timesteps,btc_price)\n",
        "plt.ylabel(\"BTC Price\")\n",
        "plt.title(\"Price of the BTC price with date\",fontsize=16)\n",
        "plt.xlabel(\"Date\")\n"
      ],
      "execution_count": 8,
      "outputs": [
        {
          "output_type": "execute_result",
          "data": {
            "text/plain": [
              "Text(0.5, 0, 'Date')"
            ]
          },
          "metadata": {},
          "execution_count": 8
        },
        {
          "output_type": "display_data",
          "data": {
            "image/png": "[encoded data removed]",
            "text/plain": [
              "<Figure size 720x504 with 1 Axes>"
            ]
          },
          "metadata": {
            "needs_background": "light"
          }
        }
      ]
    },
    {
      "cell_type": "markdown",
      "metadata": {
        "id": "4DivuIarysBi"
      },
      "source": [
        "\n",
        "---\n",
        "\n"
      ]
    },
    {
      "cell_type": "markdown",
      "metadata": {
        "id": "5FwnJ9-vzHro"
      },
      "source": [
        "#Create data part :Train and Test Data\n"
      ]
    },
    {
      "cell_type": "code",
      "metadata": {
        "colab": {
          "base_uri": "https://localhost:8080/"
        },
        "id": "EgUJ2WhuzTrz",
        "outputId": "7680c697-d787-4520-fe1a-aedd9560caf2"
      },
      "source": [
        "#get bitcoin data arrya\n",
        "timesteps=bitcoin_prices.index.to_numpy()\n",
        "prices=bitcoin_prices[\"Price\"].to_numpy()\n",
        "    \n",
        "timesteps[:10],prices[:10]"
      ],
      "execution_count": 9,
      "outputs": [
        {
          "output_type": "execute_result",
          "data": {
            "text/plain": [
              "(array(['2013-10-01T00:00:00.000000000', '2013-10-02T00:00:00.000000000',\n",
              "        '2013-10-03T00:00:00.000000000', '2013-10-04T00:00:00.000000000',\n",
              "        '2013-10-05T00:00:00.000000000', '2013-10-06T00:00:00.000000000',\n",
              "        '2013-10-07T00:00:00.000000000', '2013-10-08T00:00:00.000000000',\n",
              "        '2013-10-09T00:00:00.000000000', '2013-10-10T00:00:00.000000000'],\n",
              "       dtype='datetime64[ns]'),\n",
              " array([123.65499, 125.455  , 108.58483, 118.67466, 121.33866, 120.65533,\n",
              "        121.795  , 123.033  , 124.049  , 125.96116]))"
            ]
          },
          "metadata": {},
          "execution_count": 9
        }
      ]
    },
    {
      "cell_type": "code",
      "metadata": {
        "colab": {
          "base_uri": "https://localhost:8080/"
        },
        "id": "rWieK01d1S-t",
        "outputId": "e28d862c-4a5e-4191-c8a6-80148caf510f"
      },
      "source": [
        "#wrong way\n",
        "from sklearn.model_selection import train_test_split\n",
        "\n",
        "X_train,X_test,y_train,y_test =train_test_split(timesteps,\n",
        "                                                prices,\n",
        "                                                test_size=0.2,\n",
        "                                                random_state=42)\n",
        "\n",
        "X_train.shape,X_test.shape,y_train.shape,y_test.shape"
      ],
      "execution_count": 10,
      "outputs": [
        {
          "output_type": "execute_result",
          "data": {
            "text/plain": [
              "((2229,), (558,), (2229,), (558,))"
            ]
          },
          "metadata": {},
          "execution_count": 10
        }
      ]
    },
    {
      "cell_type": "code",
      "metadata": {
        "colab": {
          "base_uri": "https://localhost:8080/",
          "height": 442
        },
        "id": "ypEWjK8D1-Bu",
        "outputId": "6f523487-35a2-4192-c8e1-e857bfa95551"
      },
      "source": [
        "#plot the wrong test and train data\n",
        "plt.figure(figsize=(10,7))\n",
        "plt.scatter(X_train,y_train,s=5,label=\"Train Data\")\n",
        "plt.scatter(X_test,y_test,s=5,label=\"Test Data\")\n",
        "plt.xlabel(\"Date\")\n",
        "plt.ylabel(\"BTC Price\")\n",
        "plt.legend(fontsize=14)\n",
        "plt.show()"
      ],
      "execution_count": 11,
      "outputs": [
        {
          "output_type": "display_data",
          "data": {
            "image/png": "[encoded data removed]",
            "text/plain": [
              "<Figure size 720x504 with 1 Axes>"
            ]
          },
          "metadata": {
            "needs_background": "light"
          }
        }
      ]
    },
    {
      "cell_type": "markdown",
      "metadata": {
        "id": "oBVY9GSH3HBO"
      },
      "source": [
        "#Create Train and Test data -Correct way"
      ]
    },
    {
      "cell_type": "code",
      "metadata": {
        "colab": {
          "base_uri": "https://localhost:8080/"
        },
        "id": "zWVu1pJ7AxX-",
        "outputId": "a84289e0-33a8-4e63-b82a-20ecde45e12a"
      },
      "source": [
        "#craete train and test splits \n",
        "split_size =int(0.8 *len(prices))\n",
        "\n",
        "#create train data splits\n",
        "X_train,y_train =timesteps[:split_size],prices[:split_size]\n",
        "\n",
        "\n",
        "#create test data splits\n",
        "X_test,y_test =timesteps[split_size:],prices[split_size:]\n",
        "\n",
        "len(X_train),len(X_test),len(y_train),len(y_test)"
      ],
      "execution_count": 12,
      "outputs": [
        {
          "output_type": "execute_result",
          "data": {
            "text/plain": [
              "(2229, 558, 2229, 558)"
            ]
          },
          "metadata": {},
          "execution_count": 12
        }
      ]
    },
    {
      "cell_type": "code",
      "metadata": {
        "colab": {
          "base_uri": "https://localhost:8080/",
          "height": 442
        },
        "id": "v7ceOsYmEhnD",
        "outputId": "9a099f9d-42d1-4143-e084-9a2a08882c1c"
      },
      "source": [
        "#plot the data\n",
        "plt.figure(figsize=(10,7))\n",
        "plt.scatter(X_train,y_train,s=5,label=\"Train Data\")\n",
        "plt.scatter(X_test,y_test,s=5,label=\"Test Data\")\n",
        "plt.xlabel(\"Date\")\n",
        "plt.ylabel(\"BTC Price\")\n",
        "plt.legend(fontsize=14)\n",
        "plt.show()"
      ],
      "execution_count": 13,
      "outputs": [
        {
          "output_type": "display_data",
          "data": {
            "image/png": "[encoded data removed]",
            "text/plain": [
              "<Figure size 720x504 with 1 Axes>"
            ]
          },
          "metadata": {
            "needs_background": "light"
          }
        }
      ]
    },
    {
      "cell_type": "markdown",
      "metadata": {
        "id": "08gC6wmuE-Vi"
      },
      "source": [
        "#Plot and Visualize Data"
      ]
    },
    {
      "cell_type": "code",
      "metadata": {
        "id": "rNp55gWyFGW8"
      },
      "source": [
        "#create plot function to plot time series data\n",
        "def plot_time_series(timesteps,values,format=\".\",start=0,end=None,label=None):\n",
        "  \"\"\"\n",
        "  Plot the timesteps aginst the values\n",
        "\n",
        "  parameters:\n",
        "  timesteps : array of timesteps values\n",
        "  values :array of values across time\n",
        "  format :style of plot, default \".\"\n",
        "  start :where start the plot\n",
        "  end :where to end the plot\n",
        "  label =label to show on the plot\n",
        "  \"\"\"\n",
        " \n",
        "  #plot the series\n",
        "  plt.plot(timesteps[start:end],values[start:end],format,label=label)\n",
        "  plt.xlabel(\"Time\")\n",
        "  plt.ylabel(\"BTC Price\")\n",
        "  if label:\n",
        "    plt.legend(fontsize=14)\n",
        "  plt.grid(True)"
      ],
      "execution_count": 14,
      "outputs": []
    },
    {
      "cell_type": "code",
      "metadata": {
        "colab": {
          "base_uri": "https://localhost:8080/",
          "height": 442
        },
        "id": "618EeYQ_GYRf",
        "outputId": "55f51153-9950-43f9-fdac-4a704e90a8ce"
      },
      "source": [
        "#test the plotting fucntion\n",
        "plt.figure(figsize=(10,7))\n",
        "plot_time_series(timesteps=X_train,values=y_train,label=\"Train Data\")\n",
        "plot_time_series(timesteps=X_test,values=y_test,label=\"Test Data\")"
      ],
      "execution_count": 15,
      "outputs": [
        {
          "output_type": "display_data",
          "data": {
            "image/png": "[encoded data removed]",
            "text/plain": [
              "<Figure size 720x504 with 1 Axes>"
            ]
          },
          "metadata": {
            "needs_background": "light"
          }
        }
      ]
    },
    {
      "cell_type": "markdown",
      "metadata": {
        "id": "98ri8AfOHtmA"
      },
      "source": [
        "#Model 0 -Naive Forecast Model (Base line Model)"
      ]
    },
    {
      "cell_type": "code",
      "metadata": {
        "colab": {
          "base_uri": "https://localhost:8080/"
        },
        "id": "e2FrIYrdMUQK",
        "outputId": "3545cd10-dd7a-4af4-fc36-c1036cbb3c12"
      },
      "source": [
        "#create naive forecast\n",
        "naive_forecast =y_test[:-1]\n",
        "\n",
        "naive_forecast[:10],naive_forecast[-10:]"
      ],
      "execution_count": 16,
      "outputs": [
        {
          "output_type": "execute_result",
          "data": {
            "text/plain": [
              "(array([9226.48582088, 8794.35864452, 8798.04205463, 9081.18687849,\n",
              "        8711.53433917, 8760.89271814, 8749.52059102, 8656.97092235,\n",
              "        8500.64355816, 8469.2608989 ]),\n",
              " array([57107.12067189, 58788.20967893, 58102.19142623, 55715.54665129,\n",
              "        56573.5554719 , 52147.82118698, 49764.1320816 , 50032.69313676,\n",
              "        47885.62525472, 45604.61575361]))"
            ]
          },
          "metadata": {},
          "execution_count": 16
        }
      ]
    },
    {
      "cell_type": "code",
      "metadata": {
        "colab": {
          "base_uri": "https://localhost:8080/",
          "height": 442
        },
        "id": "dfOqVWehNMTX",
        "outputId": "bb16563d-4a6a-40a1-ae8f-364f9633fdeb"
      },
      "source": [
        "#plot the naive forecast\n",
        "plt.figure(figsize=(10,7))\n",
        "plot_time_series(timesteps=X_train,values=y_train,label=\"Train data\")\n",
        "plot_time_series(timesteps=X_test,values=y_test,label=\"Test data\")\n",
        "plot_time_series(timesteps=X_test[1:],values=naive_forecast,format=\"-\",label=\"Naive Forecast\")"
      ],
      "execution_count": 17,
      "outputs": [
        {
          "output_type": "display_data",
          "data": {
            "image/png": "[encoded data removed]",
            "text/plain": [
              "<Figure size 720x504 with 1 Axes>"
            ]
          },
          "metadata": {
            "needs_background": "light"
          }
        }
      ]
    },
    {
      "cell_type": "markdown",
      "metadata": {
        "id": "zfduxO90Nulo"
      },
      "source": [
        "#Evalauting the time series model"
      ]
    },
    {
      "cell_type": "code",
      "metadata": {
        "id": "f_e0iREEOyu9"
      },
      "source": [
        "import tensorflow as tf\n"
      ],
      "execution_count": 18,
      "outputs": []
    },
    {
      "cell_type": "code",
      "metadata": {
        "id": "fylIHnd_p89E"
      },
      "source": [
        "#mase implementation\n",
        "def mean_absolute_scaled_error(y_true,y_pred):\n",
        "  \"\"\"\n",
        "  Implement MASE(asssuming no saeonability of data)\n",
        "\n",
        "\n",
        "  \"\"\"\n",
        "  mae=tf.reduce_mean(tf.abs(y_true-y_pred))\n",
        "\n",
        "  #find the mae of naive forecast\n",
        "  mae_naive_no_season=tf.reduce_mean(tf.abs(y_true[1:]-y_true[:-1]))\n",
        "\n",
        "  return mae/mae_naive_no_season"
      ],
      "execution_count": 19,
      "outputs": []
    },
    {
      "cell_type": "code",
      "metadata": {
        "colab": {
          "base_uri": "https://localhost:8080/"
        },
        "id": "3T_ZSObjs56f",
        "outputId": "4c999d5a-fce5-494f-9134-35b37e65c038"
      },
      "source": [
        "mean_absolute_scaled_error(y_true=y_test[1:] ,y_pred=naive_forecast).numpy()"
      ],
      "execution_count": 20,
      "outputs": [
        {
          "output_type": "execute_result",
          "data": {
            "text/plain": [
              "0.9995699939182624"
            ]
          },
          "metadata": {},
          "execution_count": 20
        }
      ]
    },
    {
      "cell_type": "code",
      "metadata": {
        "id": "SRA67TIutIL9"
      },
      "source": [
        "#craete a function to take model predctions and truth values and return evaluation metrics\n",
        "def evaluate_preds(y_true,y_pred):\n",
        "  \n",
        "  #make sure float32 datatype\n",
        "  y_true =tf.cast(y_true,dtype=tf.float32)\n",
        "  y_pred =tf.cast(y_pred,dtype=tf.float32)\n",
        "\n",
        "  #calculate various evalution metrics\n",
        "  mae=tf.keras.metrics.mean_absolute_error(y_true,y_pred)\n",
        "  mse=tf.keras.metrics.mean_squared_error(y_true,y_pred)\n",
        "  rmse =tf.sqrt(mse)\n",
        "  mape =tf.keras.metrics.mean_absolute_percentage_error(y_true,y_pred)\n",
        "  mase=mean_absolute_scaled_error(y_true,y_pred)\n",
        "\n",
        "  return {\"mae\":mae.numpy(),\n",
        "          \"mse\":mse.numpy(),\n",
        "          \"rmse\":rmse.numpy(),\n",
        "          \"mape\":mape.numpy(),\n",
        "          \"mase\":mase.numpy()}\n"
      ],
      "execution_count": 21,
      "outputs": []
    },
    {
      "cell_type": "code",
      "metadata": {
        "colab": {
          "base_uri": "https://localhost:8080/"
        },
        "id": "gR5VFCjwvrjN",
        "outputId": "f69eda8f-751e-4f26-97dc-1aab9cbb28f4"
      },
      "source": [
        "naive_results =evaluate_preds(y_true=y_test[1:],\n",
        "                              y_pred=naive_forecast)\n",
        "naive_results"
      ],
      "execution_count": 22,
      "outputs": [
        {
          "output_type": "execute_result",
          "data": {
            "text/plain": [
              "{'mae': 567.9802,\n",
              " 'mape': 2.516525,\n",
              " 'mase': 0.99957,\n",
              " 'mse': 1147547.0,\n",
              " 'rmse': 1071.2362}"
            ]
          },
          "metadata": {},
          "execution_count": 22
        }
      ]
    },
    {
      "cell_type": "code",
      "metadata": {
        "colab": {
          "base_uri": "https://localhost:8080/"
        },
        "id": "Zi1aMJ71wAs4",
        "outputId": "2d77f293-e1ad-4296-abfa-ec75c6c68cf2"
      },
      "source": [
        "tf.reduce_mean(y_test),tf.reduce_min(y_test),tf.reduce_max(y_test)"
      ],
      "execution_count": 23,
      "outputs": [
        {
          "output_type": "execute_result",
          "data": {
            "text/plain": [
              "(<tf.Tensor: shape=(), dtype=float64, numpy=20056.632963737226>,\n",
              " <tf.Tensor: shape=(), dtype=float64, numpy=4944.7023359837>,\n",
              " <tf.Tensor: shape=(), dtype=float64, numpy=63346.7890351052>)"
            ]
          },
          "metadata": {},
          "execution_count": 23
        }
      ]
    },
    {
      "cell_type": "markdown",
      "metadata": {
        "id": "aNL34AKHwV5_"
      },
      "source": [
        "#Format the data :windowing the data"
      ]
    },
    {
      "cell_type": "code",
      "metadata": {
        "colab": {
          "base_uri": "https://localhost:8080/"
        },
        "id": "yy651yTe2zU7",
        "outputId": "c3494402-c4da-444b-a8a2-4b8e67c6826e"
      },
      "source": [
        "btc_price[:7],btc_price[7]"
      ],
      "execution_count": 24,
      "outputs": [
        {
          "output_type": "execute_result",
          "data": {
            "text/plain": [
              "([123.65499, 125.455, 108.58483, 118.67466, 121.33866, 120.65533, 121.795],\n",
              " 123.033)"
            ]
          },
          "metadata": {},
          "execution_count": 24
        }
      ]
    },
    {
      "cell_type": "code",
      "metadata": {
        "id": "d1M0zFi6CnZO"
      },
      "source": [
        "#set up global varibale\n",
        "HORIZON=1#predict next day\n",
        "WINDOW_SIZE=7 #use past 7 days to predict"
      ],
      "execution_count": 25,
      "outputs": []
    },
    {
      "cell_type": "code",
      "metadata": {
        "id": "DuAoySeZC16I"
      },
      "source": [
        "#create fucntion to label windowed data\n",
        "def get_labelled_windows(x,horizon=HORIZON):\n",
        "  \"\"\"\n",
        "  carets labels for windowed dataset\n",
        "\n",
        "  eg:\n",
        "  horizon =1\n",
        "  INPUT :[0,1,2,3,4,5,6,7] -->output ([0,1,2,3,4,5,6,7],[8])\n",
        "  \"\"\"\n",
        "\n",
        "  return x[:,:-horizon],x[:,-horizon]\n",
        "\n"
      ],
      "execution_count": 26,
      "outputs": []
    },
    {
      "cell_type": "code",
      "metadata": {
        "colab": {
          "base_uri": "https://localhost:8080/"
        },
        "id": "OGG0mTn0D-8Q",
        "outputId": "90f2ac52-8359-456f-d66f-649396397de2"
      },
      "source": [
        "#test out the window labelling function\n",
        "test_window,test_label =get_labelled_windows(tf.expand_dims(tf.range(8),axis=0))\n",
        "print(f\"Window :{tf.squeeze(test_window).numpy()} -->Label: {tf.squeeze(test_label).numpy()}\")"
      ],
      "execution_count": 27,
      "outputs": [
        {
          "output_type": "stream",
          "name": "stdout",
          "text": [
            "Window :[0 1 2 3 4 5 6] -->Label: 7\n"
          ]
        }
      ]
    },
    {
      "cell_type": "code",
      "metadata": {
        "id": "QcOOxJ0AEeXh",
        "colab": {
          "base_uri": "https://localhost:8080/"
        },
        "outputId": "9888ee19-510a-450d-af81-8d207641bd4b"
      },
      "source": [
        "btc_price[:10]"
      ],
      "execution_count": 28,
      "outputs": [
        {
          "output_type": "execute_result",
          "data": {
            "text/plain": [
              "[123.65499,\n",
              " 125.455,\n",
              " 108.58483,\n",
              " 118.67466,\n",
              " 121.33866,\n",
              " 120.65533,\n",
              " 121.795,\n",
              " 123.033,\n",
              " 124.049,\n",
              " 125.96116]"
            ]
          },
          "metadata": {},
          "execution_count": 28
        }
      ]
    },
    {
      "cell_type": "code",
      "metadata": {
        "id": "47AmI7H7QDXa"
      },
      "source": [
        "#create function to view numpy array as window\n",
        "def make_windows(x,window_size=WINDOW_SIZE,horizon=HORIZON):\n",
        "  \"\"\"\n",
        "  Turns 1d array into sequrntional labbeled window of window_size with horizon labels\n",
        "  \"\"\"\n",
        "  #create a window of specific window_size(add the horizon on the end for labelling later)\n",
        "  window_step =np.expand_dims(np.arange(window_size+horizon),axis=0)\n",
        "\n",
        "  #create a 2d array pf mutiple window steps(minus 1 to account for 0 indexing)\n",
        "  window_indexes =window_step+np.expand_dims(np.arange(len(x)-(window_size+horizon-1)),axis=0).T\n",
        "\n",
        "  print(f\"Window indexes :\\n {window_indexes,window_indexes.shape}\")\n",
        "\n",
        "  #index on target array with 2d array of multiple window steps\n",
        "  windowed_array =x[window_indexes]\n",
        "  print(windowed_array)\n",
        "\n",
        "  #get the labeeled window\n",
        "  windows,labels =get_labelled_windows(windowed_array,horizon=horizon)\n",
        "  return windows,labels"
      ],
      "execution_count": 29,
      "outputs": []
    },
    {
      "cell_type": "code",
      "metadata": {
        "colab": {
          "base_uri": "https://localhost:8080/"
        },
        "id": "Xw8MorOQTd6Y",
        "outputId": "f03113e0-9fba-47d6-beb9-5d5cbcc4d7b7"
      },
      "source": [
        "full_windows,full_labels=make_windows(prices,window_size=WINDOW_SIZE,horizon=HORIZON)\n",
        "len(full_windows),len(full_labels)"
      ],
      "execution_count": 30,
      "outputs": [
        {
          "output_type": "stream",
          "name": "stdout",
          "text": [
            "Window indexes :\n",
            " (array([[   0,    1,    2, ...,    5,    6,    7],\n",
            "       [   1,    2,    3, ...,    6,    7,    8],\n",
            "       [   2,    3,    4, ...,    7,    8,    9],\n",
            "       ...,\n",
            "       [2777, 2778, 2779, ..., 2782, 2783, 2784],\n",
            "       [2778, 2779, 2780, ..., 2783, 2784, 2785],\n",
            "       [2779, 2780, 2781, ..., 2784, 2785, 2786]]), (2780, 8))\n",
            "[[  123.65499      125.455        108.58483    ...   120.65533\n",
            "    121.795        123.033     ]\n",
            " [  125.455        108.58483      118.67466    ...   121.795\n",
            "    123.033        124.049     ]\n",
            " [  108.58483      118.67466      121.33866    ...   123.033\n",
            "    124.049        125.96116   ]\n",
            " ...\n",
            " [58788.20967893 58102.19142623 55715.54665129 ... 49764.1320816\n",
            "  50032.69313676 47885.62525472]\n",
            " [58102.19142623 55715.54665129 56573.5554719  ... 50032.69313676\n",
            "  47885.62525472 45604.61575361]\n",
            " [55715.54665129 56573.5554719  52147.82118698 ... 47885.62525472\n",
            "  45604.61575361 43144.47129086]]\n"
          ]
        },
        {
          "output_type": "execute_result",
          "data": {
            "text/plain": [
              "(2780, 2780)"
            ]
          },
          "metadata": {},
          "execution_count": 30
        }
      ]
    },
    {
      "cell_type": "code",
      "metadata": {
        "colab": {
          "base_uri": "https://localhost:8080/"
        },
        "id": "-hLrynJYTt-9",
        "outputId": "bd506a9b-c113-4ea4-b7f1-8cc6c8d3eb6d"
      },
      "source": [
        "#view data\n",
        "for i in range(3):\n",
        "  print(f\"Window :{full_windows[i]} --> Label {full_labels[i]}\")"
      ],
      "execution_count": 31,
      "outputs": [
        {
          "output_type": "stream",
          "name": "stdout",
          "text": [
            "Window :[123.65499 125.455   108.58483 118.67466 121.33866 120.65533 121.795  ] --> Label 123.03299999999999\n",
            "Window :[125.455   108.58483 118.67466 121.33866 120.65533 121.795   123.033  ] --> Label 124.04899999999999\n",
            "Window :[108.58483 118.67466 121.33866 120.65533 121.795   123.033   124.049  ] --> Label 125.96116\n"
          ]
        }
      ]
    },
    {
      "cell_type": "code",
      "metadata": {
        "colab": {
          "base_uri": "https://localhost:8080/"
        },
        "id": "bKc3RvyIVp6f",
        "outputId": "1befabef-b815-4eef-95ed-efda56975a15"
      },
      "source": [
        "#view windows\n",
        "for i in range(3):\n",
        "  print(f\"Window :{full_windows[i-3]} --> Label :{full_labels[i-3]}\")"
      ],
      "execution_count": 32,
      "outputs": [
        {
          "output_type": "stream",
          "name": "stdout",
          "text": [
            "Window :[58788.20967893 58102.19142623 55715.54665129 56573.5554719\n",
            " 52147.82118698 49764.1320816  50032.69313676] --> Label :47885.6252547166\n",
            "Window :[58102.19142623 55715.54665129 56573.5554719  52147.82118698\n",
            " 49764.1320816  50032.69313676 47885.62525472] --> Label :45604.61575361309\n",
            "Window :[55715.54665129 56573.5554719  52147.82118698 49764.1320816\n",
            " 50032.69313676 47885.62525472 45604.61575361] --> Label :43144.471290860296\n"
          ]
        }
      ]
    },
    {
      "cell_type": "code",
      "metadata": {
        "colab": {
          "base_uri": "https://localhost:8080/"
        },
        "id": "XfnfmNaQWMCi",
        "outputId": "ab3dcbc5-370a-4b32-eee7-c90538cd0b7a"
      },
      "source": [
        "tf.keras.utils.timeseries_dataset_from_array(\n",
        "    prices, test_label, sequence_length=7, sequence_stride=1, sampling_rate=1,\n",
        "    batch_size=128, shuffle=False, seed=None, start_index=None, end_index=None\n",
        ")"
      ],
      "execution_count": 33,
      "outputs": [
        {
          "output_type": "execute_result",
          "data": {
            "text/plain": [
              "<BatchDataset shapes: ((None, None), (None,)), types: (tf.float64, tf.int32)>"
            ]
          },
          "metadata": {},
          "execution_count": 33
        }
      ]
    },
    {
      "cell_type": "markdown",
      "metadata": {
        "id": "zemWPR9QXlJs"
      },
      "source": [
        "#Turning windows into train and test dataset"
      ]
    },
    {
      "cell_type": "code",
      "metadata": {
        "id": "GvTwWhkWX2aM"
      },
      "source": [
        "#make the train/test splits\n",
        "def make_train_test_splits(windows,labels,test_split=0.2):\n",
        "  \"\"\"\n",
        "  splits matching pairs into train and test_splits\n",
        "  \"\"\"\n",
        "\n",
        "  split_size=int(len(windows)*(1-test_split))\n",
        "  train_windows=windows[:split_size]\n",
        "  train_labels=labels[:split_size]\n",
        "  test_windows=windows[split_size:]\n",
        "  test_labels=labels[split_size:]\n",
        "\n",
        "  return train_windows,test_windows,train_labels,test_labels"
      ],
      "execution_count": 34,
      "outputs": []
    },
    {
      "cell_type": "code",
      "metadata": {
        "colab": {
          "base_uri": "https://localhost:8080/"
        },
        "id": "xSXoXKXIZA2z",
        "outputId": "e4d8b390-9c09-452d-f029-528abd6fddf3"
      },
      "source": [
        "#craete train and test windows\n",
        "train_windows,test_windows,train_labels,test_labels=make_train_test_splits(full_windows,full_labels)\n",
        "len(train_windows),len(test_windows),len(train_labels),len(test_labels)"
      ],
      "execution_count": 35,
      "outputs": [
        {
          "output_type": "execute_result",
          "data": {
            "text/plain": [
              "(2224, 556, 2224, 556)"
            ]
          },
          "metadata": {},
          "execution_count": 35
        }
      ]
    },
    {
      "cell_type": "code",
      "metadata": {
        "colab": {
          "base_uri": "https://localhost:8080/"
        },
        "id": "4g5c4loUZfBD",
        "outputId": "64ab8e07-cafb-4c6c-d0f1-cd288189cd05"
      },
      "source": [
        "train_windows[:5],train_labels[:5]"
      ],
      "execution_count": 36,
      "outputs": [
        {
          "output_type": "execute_result",
          "data": {
            "text/plain": [
              "(array([[123.65499, 125.455  , 108.58483, 118.67466, 121.33866, 120.65533,\n",
              "         121.795  ],\n",
              "        [125.455  , 108.58483, 118.67466, 121.33866, 120.65533, 121.795  ,\n",
              "         123.033  ],\n",
              "        [108.58483, 118.67466, 121.33866, 120.65533, 121.795  , 123.033  ,\n",
              "         124.049  ],\n",
              "        [118.67466, 121.33866, 120.65533, 121.795  , 123.033  , 124.049  ,\n",
              "         125.96116],\n",
              "        [121.33866, 120.65533, 121.795  , 123.033  , 124.049  , 125.96116,\n",
              "         125.27966]]),\n",
              " array([123.033  , 124.049  , 125.96116, 125.27966, 125.9275 ]))"
            ]
          },
          "metadata": {},
          "execution_count": 36
        }
      ]
    },
    {
      "cell_type": "code",
      "metadata": {
        "colab": {
          "base_uri": "https://localhost:8080/"
        },
        "id": "JX2cBV4eZmbL",
        "outputId": "502e5e11-21b8-40f0-e1c3-b1e2133eff13"
      },
      "source": [
        "#check to see labels are same\n",
        "np.array_equal(np.squeeze(train_labels[:-HORIZON-1]),y_train[WINDOW_SIZE:])"
      ],
      "execution_count": 37,
      "outputs": [
        {
          "output_type": "execute_result",
          "data": {
            "text/plain": [
              "True"
            ]
          },
          "metadata": {},
          "execution_count": 37
        }
      ]
    },
    {
      "cell_type": "markdown",
      "metadata": {
        "id": "fn26o0FBaEhw"
      },
      "source": [
        "#Make Modelling checkpoint Callback\n",
        "\n",
        "---\n",
        "\n"
      ]
    },
    {
      "cell_type": "code",
      "metadata": {
        "id": "fnxERwt3gGCU"
      },
      "source": [
        "import os\n",
        "\n",
        "#create a function to implement model checkpoint to every epoch\n",
        "def create_model_checkpoint(model_name,save_path=\"model_experiments\"):\n",
        "  return tf.keras.callbacks.ModelCheckpoint(filepath=os.path.join(save_path,model_name),\n",
        "                                            verbose=0,\n",
        "                                            save_best_only=True)"
      ],
      "execution_count": 38,
      "outputs": []
    },
    {
      "cell_type": "markdown",
      "metadata": {
        "id": "o-tWZDT0hxqj"
      },
      "source": [
        "#Model 1 :Dense Model (window=7,horizon=1)\n",
        "\n",
        "*single dense layer with 128 hidden units and Relu\n",
        "\n",
        "*output layer with linear activation \n",
        "\n",
        "*adam optimization and mae loss function\n",
        "\n",
        "*batch size of 128\n",
        "\n",
        "*100 epochs"
      ]
    },
    {
      "cell_type": "code",
      "metadata": {
        "colab": {
          "base_uri": "https://localhost:8080/"
        },
        "id": "95rIahbbiDSa",
        "outputId": "041fe85c-f41e-4b7d-e819-3a9a4874be08"
      },
      "source": [
        "import tensorflow as tf\n",
        "from tensorflow.keras import layers\n",
        "\n",
        "#set a random seed for as reprodicibale results as possible\n",
        "tf.random.set_seed(42)\n",
        "\n",
        "#construct the model\n",
        "model_1 =tf.keras.Sequential([\n",
        "                              layers.Dense(128,activation=\"relu\"),\n",
        "                              layers.Dense(HORIZON,activation=\"linear\")\n",
        "],name=\"model_1_dense\")\n",
        "\n",
        "#compile the model\n",
        "model_1.compile(loss=\"mae\",\n",
        "                optimizer=tf.keras.optimizers.Adam(),\n",
        "                metrics=[\"mae\",\"mse\"])\n",
        "\n",
        "#fit the model\n",
        "model_1.fit(x=train_windows,\n",
        "            y=train_labels,\n",
        "            epochs=100,\n",
        "            verbose=1,\n",
        "            batch_size=128,\n",
        "            validation_data=(test_windows,test_labels),\n",
        "            callbacks=[create_model_checkpoint(model_name=model_1.name)])\n"
      ],
      "execution_count": 39,
      "outputs": [
        {
          "output_type": "stream",
          "name": "stdout",
          "text": [
            "Epoch 1/100\n",
            "18/18 [==============================] - 3s 17ms/step - loss: 780.3455 - mae: 780.3455 - mse: 2312725.7500 - val_loss: 2279.6526 - val_mae: 2279.6526 - val_mse: 12772728.0000\n",
            "INFO:tensorflow:Assets written to: model_experiments/model_1_dense/assets\n",
            "Epoch 2/100\n",
            "18/18 [==============================] - 0s 5ms/step - loss: 247.6756 - mae: 247.6756 - mse: 285481.1875 - val_loss: 1005.9991 - val_mae: 1005.9991 - val_mse: 3441833.5000\n",
            "INFO:tensorflow:Assets written to: model_experiments/model_1_dense/assets\n",
            "Epoch 3/100\n",
            "18/18 [==============================] - 0s 6ms/step - loss: 188.4116 - mae: 188.4116 - mse: 171891.5625 - val_loss: 923.2862 - val_mae: 923.2862 - val_mse: 2868220.5000\n",
            "INFO:tensorflow:Assets written to: model_experiments/model_1_dense/assets\n",
            "Epoch 4/100\n",
            "18/18 [==============================] - 0s 5ms/step - loss: 169.4340 - mae: 169.4340 - mse: 151700.5625 - val_loss: 900.5872 - val_mae: 900.5872 - val_mse: 2683715.2500\n",
            "INFO:tensorflow:Assets written to: model_experiments/model_1_dense/assets\n",
            "Epoch 5/100\n",
            "18/18 [==============================] - 0s 6ms/step - loss: 165.0895 - mae: 165.0895 - mse: 145490.7969 - val_loss: 895.2238 - val_mae: 895.2238 - val_mse: 2564574.0000\n",
            "INFO:tensorflow:Assets written to: model_experiments/model_1_dense/assets\n",
            "Epoch 6/100\n",
            "18/18 [==============================] - 0s 6ms/step - loss: 158.5210 - mae: 158.5210 - mse: 133817.7344 - val_loss: 855.1982 - val_mae: 855.1982 - val_mse: 2481872.7500\n",
            "INFO:tensorflow:Assets written to: model_experiments/model_1_dense/assets\n",
            "Epoch 7/100\n",
            "18/18 [==============================] - 0s 5ms/step - loss: 151.3566 - mae: 151.3566 - mse: 123446.9609 - val_loss: 840.9168 - val_mae: 840.9168 - val_mse: 2276452.2500\n",
            "INFO:tensorflow:Assets written to: model_experiments/model_1_dense/assets\n",
            "Epoch 8/100\n",
            "18/18 [==============================] - 0s 6ms/step - loss: 145.2560 - mae: 145.2560 - mse: 117694.4922 - val_loss: 803.5956 - val_mae: 803.5956 - val_mse: 2140573.5000\n",
            "INFO:tensorflow:Assets written to: model_experiments/model_1_dense/assets\n",
            "Epoch 9/100\n",
            "18/18 [==============================] - 0s 6ms/step - loss: 144.3546 - mae: 144.3546 - mse: 115269.3047 - val_loss: 799.5455 - val_mae: 799.5455 - val_mse: 2049207.7500\n",
            "INFO:tensorflow:Assets written to: model_experiments/model_1_dense/assets\n",
            "Epoch 10/100\n",
            "18/18 [==============================] - 0s 5ms/step - loss: 141.2943 - mae: 141.2943 - mse: 112394.6016 - val_loss: 763.5010 - val_mae: 763.5010 - val_mse: 1933140.7500\n",
            "INFO:tensorflow:Assets written to: model_experiments/model_1_dense/assets\n",
            "Epoch 11/100\n",
            "18/18 [==============================] - 0s 5ms/step - loss: 135.6595 - mae: 135.6595 - mse: 104118.2656 - val_loss: 771.3357 - val_mae: 771.3357 - val_mse: 1885850.0000\n",
            "Epoch 12/100\n",
            "18/18 [==============================] - 0s 6ms/step - loss: 134.1700 - mae: 134.1700 - mse: 101780.8750 - val_loss: 782.8079 - val_mae: 782.8079 - val_mse: 1881727.7500\n",
            "Epoch 13/100\n",
            "18/18 [==============================] - 0s 5ms/step - loss: 134.6015 - mae: 134.6015 - mse: 102345.2266 - val_loss: 784.4449 - val_mae: 784.4449 - val_mse: 1860996.7500\n",
            "Epoch 14/100\n",
            "18/18 [==============================] - 0s 5ms/step - loss: 130.6127 - mae: 130.6127 - mse: 96225.1406 - val_loss: 751.3234 - val_mae: 751.3234 - val_mse: 1749609.3750\n",
            "INFO:tensorflow:Assets written to: model_experiments/model_1_dense/assets\n",
            "Epoch 15/100\n",
            "18/18 [==============================] - 0s 5ms/step - loss: 128.8347 - mae: 128.8347 - mse: 94307.0078 - val_loss: 696.5757 - val_mae: 696.5757 - val_mse: 1606352.6250\n",
            "INFO:tensorflow:Assets written to: model_experiments/model_1_dense/assets\n",
            "Epoch 16/100\n",
            "18/18 [==============================] - 0s 5ms/step - loss: 124.7739 - mae: 124.7739 - mse: 90394.9297 - val_loss: 702.4698 - val_mae: 702.4698 - val_mse: 1592416.0000\n",
            "Epoch 17/100\n",
            "18/18 [==============================] - 0s 5ms/step - loss: 123.4474 - mae: 123.4474 - mse: 89247.6797 - val_loss: 704.9241 - val_mae: 704.9241 - val_mse: 1580783.5000\n",
            "Epoch 18/100\n",
            "18/18 [==============================] - 0s 6ms/step - loss: 122.2105 - mae: 122.2105 - mse: 87607.6016 - val_loss: 667.9725 - val_mae: 667.9725 - val_mse: 1498882.0000\n",
            "INFO:tensorflow:Assets written to: model_experiments/model_1_dense/assets\n",
            "Epoch 19/100\n",
            "18/18 [==============================] - 0s 6ms/step - loss: 121.7263 - mae: 121.7263 - mse: 86632.2656 - val_loss: 718.8797 - val_mae: 718.8797 - val_mse: 1589299.6250\n",
            "Epoch 20/100\n",
            "18/18 [==============================] - 0s 5ms/step - loss: 119.2420 - mae: 119.2420 - mse: 84334.3438 - val_loss: 657.0667 - val_mae: 657.0667 - val_mse: 1447500.8750\n",
            "INFO:tensorflow:Assets written to: model_experiments/model_1_dense/assets\n",
            "Epoch 21/100\n",
            "18/18 [==============================] - 0s 5ms/step - loss: 121.2275 - mae: 121.2275 - mse: 85743.3672 - val_loss: 637.0330 - val_mae: 637.0330 - val_mse: 1401773.5000\n",
            "INFO:tensorflow:Assets written to: model_experiments/model_1_dense/assets\n",
            "Epoch 22/100\n",
            "18/18 [==============================] - 0s 5ms/step - loss: 119.9544 - mae: 119.9544 - mse: 84050.1250 - val_loss: 671.2490 - val_mae: 671.2490 - val_mse: 1447896.6250\n",
            "Epoch 23/100\n",
            "18/18 [==============================] - 0s 6ms/step - loss: 121.9248 - mae: 121.9248 - mse: 83746.1328 - val_loss: 633.3593 - val_mae: 633.3593 - val_mse: 1367377.8750\n",
            "INFO:tensorflow:Assets written to: model_experiments/model_1_dense/assets\n",
            "Epoch 24/100\n",
            "18/18 [==============================] - 0s 6ms/step - loss: 116.3666 - mae: 116.3666 - mse: 81446.6641 - val_loss: 624.4852 - val_mae: 624.4852 - val_mse: 1348960.3750\n",
            "INFO:tensorflow:Assets written to: model_experiments/model_1_dense/assets\n",
            "Epoch 25/100\n",
            "18/18 [==============================] - 0s 5ms/step - loss: 114.6816 - mae: 114.6816 - mse: 78912.8438 - val_loss: 619.7571 - val_mae: 619.7571 - val_mse: 1351089.8750\n",
            "INFO:tensorflow:Assets written to: model_experiments/model_1_dense/assets\n",
            "Epoch 26/100\n",
            "18/18 [==============================] - 0s 5ms/step - loss: 116.4455 - mae: 116.4455 - mse: 79365.5625 - val_loss: 615.6364 - val_mae: 615.6364 - val_mse: 1321514.3750\n",
            "INFO:tensorflow:Assets written to: model_experiments/model_1_dense/assets\n",
            "Epoch 27/100\n",
            "18/18 [==============================] - 0s 5ms/step - loss: 116.5868 - mae: 116.5868 - mse: 78672.9141 - val_loss: 615.9631 - val_mae: 615.9631 - val_mse: 1313077.8750\n",
            "Epoch 28/100\n",
            "18/18 [==============================] - 0s 6ms/step - loss: 113.4691 - mae: 113.4691 - mse: 77440.0703 - val_loss: 608.0920 - val_mae: 608.0920 - val_mse: 1309775.3750\n",
            "INFO:tensorflow:Assets written to: model_experiments/model_1_dense/assets\n",
            "Epoch 29/100\n",
            "18/18 [==============================] - 0s 5ms/step - loss: 113.7598 - mae: 113.7598 - mse: 78506.9531 - val_loss: 621.9306 - val_mae: 621.9306 - val_mse: 1313325.7500\n",
            "Epoch 30/100\n",
            "18/18 [==============================] - 0s 7ms/step - loss: 116.8613 - mae: 116.8613 - mse: 79236.4766 - val_loss: 604.4056 - val_mae: 604.4056 - val_mse: 1283407.7500\n",
            "INFO:tensorflow:Assets written to: model_experiments/model_1_dense/assets\n",
            "Epoch 31/100\n",
            "18/18 [==============================] - 0s 5ms/step - loss: 111.9375 - mae: 111.9375 - mse: 74849.0625 - val_loss: 609.3882 - val_mae: 609.3882 - val_mse: 1284506.2500\n",
            "Epoch 32/100\n",
            "18/18 [==============================] - 0s 7ms/step - loss: 112.4175 - mae: 112.4175 - mse: 77178.5938 - val_loss: 603.0588 - val_mae: 603.0588 - val_mse: 1273059.2500\n",
            "INFO:tensorflow:Assets written to: model_experiments/model_1_dense/assets\n",
            "Epoch 33/100\n",
            "18/18 [==============================] - 0s 5ms/step - loss: 112.6697 - mae: 112.6697 - mse: 75787.9766 - val_loss: 645.6975 - val_mae: 645.6975 - val_mse: 1353256.2500\n",
            "Epoch 34/100\n",
            "18/18 [==============================] - 0s 5ms/step - loss: 111.9867 - mae: 111.9867 - mse: 77245.7031 - val_loss: 604.7632 - val_mae: 604.7632 - val_mse: 1289359.7500\n",
            "Epoch 35/100\n",
            "18/18 [==============================] - 0s 5ms/step - loss: 110.9451 - mae: 110.9451 - mse: 75301.8047 - val_loss: 593.4648 - val_mae: 593.4648 - val_mse: 1250491.7500\n",
            "INFO:tensorflow:Assets written to: model_experiments/model_1_dense/assets\n",
            "Epoch 36/100\n",
            "18/18 [==============================] - 0s 5ms/step - loss: 114.4816 - mae: 114.4816 - mse: 76138.5391 - val_loss: 608.0073 - val_mae: 608.0073 - val_mse: 1269271.2500\n",
            "Epoch 37/100\n",
            "18/18 [==============================] - 0s 6ms/step - loss: 110.2017 - mae: 110.2017 - mse: 74635.3047 - val_loss: 597.2309 - val_mae: 597.2309 - val_mse: 1248474.3750\n",
            "Epoch 38/100\n",
            "18/18 [==============================] - 0s 5ms/step - loss: 112.2372 - mae: 112.2372 - mse: 75821.7344 - val_loss: 637.9797 - val_mae: 637.9797 - val_mse: 1366130.2500\n",
            "Epoch 39/100\n",
            "18/18 [==============================] - 0s 6ms/step - loss: 115.1289 - mae: 115.1289 - mse: 76339.6562 - val_loss: 587.4679 - val_mae: 587.4679 - val_mse: 1233512.2500\n",
            "INFO:tensorflow:Assets written to: model_experiments/model_1_dense/assets\n",
            "Epoch 40/100\n",
            "18/18 [==============================] - 0s 6ms/step - loss: 110.0854 - mae: 110.0854 - mse: 73528.4844 - val_loss: 592.7117 - val_mae: 592.7117 - val_mse: 1251474.1250\n",
            "Epoch 41/100\n",
            "18/18 [==============================] - 0s 6ms/step - loss: 110.6343 - mae: 110.6343 - mse: 73528.7969 - val_loss: 593.8997 - val_mae: 593.8997 - val_mse: 1253678.2500\n",
            "Epoch 42/100\n",
            "18/18 [==============================] - 0s 5ms/step - loss: 113.5762 - mae: 113.5762 - mse: 77076.7031 - val_loss: 636.3674 - val_mae: 636.3674 - val_mse: 1317283.3750\n",
            "Epoch 43/100\n",
            "18/18 [==============================] - 0s 5ms/step - loss: 116.2286 - mae: 116.2286 - mse: 74712.2188 - val_loss: 662.9264 - val_mae: 662.9264 - val_mse: 1419202.3750\n",
            "Epoch 44/100\n",
            "18/18 [==============================] - 0s 6ms/step - loss: 120.0192 - mae: 120.0192 - mse: 80971.8906 - val_loss: 635.6360 - val_mae: 635.6360 - val_mse: 1345999.3750\n",
            "Epoch 45/100\n",
            "18/18 [==============================] - 0s 6ms/step - loss: 110.9675 - mae: 110.9675 - mse: 74941.2891 - val_loss: 601.9926 - val_mae: 601.9926 - val_mse: 1244816.7500\n",
            "Epoch 46/100\n",
            "18/18 [==============================] - 0s 5ms/step - loss: 111.6012 - mae: 111.6012 - mse: 74565.5859 - val_loss: 593.3531 - val_mae: 593.3531 - val_mse: 1248764.3750\n",
            "Epoch 47/100\n",
            "18/18 [==============================] - 0s 6ms/step - loss: 109.6161 - mae: 109.6161 - mse: 74190.7109 - val_loss: 637.0014 - val_mae: 637.0014 - val_mse: 1314970.3750\n",
            "Epoch 48/100\n",
            "18/18 [==============================] - 0s 6ms/step - loss: 109.1368 - mae: 109.1368 - mse: 72792.5547 - val_loss: 598.4199 - val_mae: 598.4199 - val_mse: 1234610.1250\n",
            "Epoch 49/100\n",
            "18/18 [==============================] - 0s 5ms/step - loss: 112.4355 - mae: 112.4355 - mse: 73980.3281 - val_loss: 579.7040 - val_mae: 579.7040 - val_mse: 1208301.3750\n",
            "INFO:tensorflow:Assets written to: model_experiments/model_1_dense/assets\n",
            "Epoch 50/100\n",
            "18/18 [==============================] - 0s 5ms/step - loss: 110.2108 - mae: 110.2108 - mse: 72939.6953 - val_loss: 639.2326 - val_mae: 639.2326 - val_mse: 1347994.2500\n",
            "Epoch 51/100\n",
            "18/18 [==============================] - 0s 6ms/step - loss: 111.0958 - mae: 111.0958 - mse: 73281.8906 - val_loss: 597.3575 - val_mae: 597.3575 - val_mse: 1229791.8750\n",
            "Epoch 52/100\n",
            "18/18 [==============================] - 0s 5ms/step - loss: 110.7351 - mae: 110.7351 - mse: 74529.6328 - val_loss: 580.7227 - val_mae: 580.7227 - val_mse: 1215477.3750\n",
            "Epoch 53/100\n",
            "18/18 [==============================] - 0s 6ms/step - loss: 111.1785 - mae: 111.1785 - mse: 74149.4688 - val_loss: 648.3588 - val_mae: 648.3588 - val_mse: 1336951.8750\n",
            "Epoch 54/100\n",
            "18/18 [==============================] - 0s 5ms/step - loss: 114.0832 - mae: 114.0832 - mse: 74815.0781 - val_loss: 593.2007 - val_mae: 593.2007 - val_mse: 1220661.3750\n",
            "Epoch 55/100\n",
            "18/18 [==============================] - 0s 6ms/step - loss: 110.4910 - mae: 110.4910 - mse: 74711.2266 - val_loss: 579.5065 - val_mae: 579.5065 - val_mse: 1211579.7500\n",
            "INFO:tensorflow:Assets written to: model_experiments/model_1_dense/assets\n",
            "Epoch 56/100\n",
            "18/18 [==============================] - 0s 5ms/step - loss: 108.0489 - mae: 108.0489 - mse: 71844.1484 - val_loss: 807.3851 - val_mae: 807.3851 - val_mse: 1859291.8750\n",
            "Epoch 57/100\n",
            "18/18 [==============================] - 0s 6ms/step - loss: 125.0614 - mae: 125.0614 - mse: 84025.2578 - val_loss: 674.1654 - val_mae: 674.1654 - val_mse: 1437686.2500\n",
            "Epoch 58/100\n",
            "18/18 [==============================] - 0s 6ms/step - loss: 115.4340 - mae: 115.4340 - mse: 73710.7188 - val_loss: 582.2698 - val_mae: 582.2698 - val_mse: 1202679.8750\n",
            "Epoch 59/100\n",
            "18/18 [==============================] - 0s 5ms/step - loss: 110.0881 - mae: 110.0881 - mse: 72845.1016 - val_loss: 606.7637 - val_mae: 606.7637 - val_mse: 1267543.0000\n",
            "Epoch 60/100\n",
            "18/18 [==============================] - 0s 6ms/step - loss: 108.7156 - mae: 108.7156 - mse: 72675.7500 - val_loss: 602.3102 - val_mae: 602.3102 - val_mse: 1234690.2500\n",
            "Epoch 61/100\n",
            "18/18 [==============================] - 0s 5ms/step - loss: 108.1525 - mae: 108.1525 - mse: 72252.0781 - val_loss: 573.9990 - val_mae: 573.9990 - val_mse: 1189583.1250\n",
            "INFO:tensorflow:Assets written to: model_experiments/model_1_dense/assets\n",
            "Epoch 62/100\n",
            "18/18 [==============================] - 0s 5ms/step - loss: 107.3727 - mae: 107.3727 - mse: 70822.7891 - val_loss: 581.7012 - val_mae: 581.7012 - val_mse: 1214006.5000\n",
            "Epoch 63/100\n",
            "18/18 [==============================] - 0s 5ms/step - loss: 110.7667 - mae: 110.7667 - mse: 73178.4297 - val_loss: 637.5252 - val_mae: 637.5252 - val_mse: 1311204.0000\n",
            "Epoch 64/100\n",
            "18/18 [==============================] - 0s 5ms/step - loss: 110.1539 - mae: 110.1539 - mse: 72588.2031 - val_loss: 586.6601 - val_mae: 586.6601 - val_mse: 1207116.8750\n",
            "Epoch 65/100\n",
            "18/18 [==============================] - 0s 6ms/step - loss: 108.2325 - mae: 108.2325 - mse: 71962.0469 - val_loss: 573.5620 - val_mae: 573.5620 - val_mse: 1188986.7500\n",
            "INFO:tensorflow:Assets written to: model_experiments/model_1_dense/assets\n",
            "Epoch 66/100\n",
            "18/18 [==============================] - 0s 5ms/step - loss: 108.6825 - mae: 108.6825 - mse: 71026.3359 - val_loss: 572.2206 - val_mae: 572.2206 - val_mse: 1187818.0000\n",
            "INFO:tensorflow:Assets written to: model_experiments/model_1_dense/assets\n",
            "Epoch 67/100\n",
            "18/18 [==============================] - 0s 5ms/step - loss: 106.6371 - mae: 106.6371 - mse: 70166.2500 - val_loss: 646.6349 - val_mae: 646.6349 - val_mse: 1356390.5000\n",
            "Epoch 68/100\n",
            "18/18 [==============================] - 0s 5ms/step - loss: 114.1603 - mae: 114.1603 - mse: 71297.2969 - val_loss: 681.8561 - val_mae: 681.8561 - val_mse: 1455427.1250\n",
            "Epoch 69/100\n",
            "18/18 [==============================] - 0s 5ms/step - loss: 124.5514 - mae: 124.5514 - mse: 81238.9297 - val_loss: 655.9885 - val_mae: 655.9885 - val_mse: 1383322.8750\n",
            "Epoch 70/100\n",
            "18/18 [==============================] - 0s 6ms/step - loss: 125.0235 - mae: 125.0235 - mse: 83058.2109 - val_loss: 601.0032 - val_mae: 601.0032 - val_mse: 1256962.2500\n",
            "Epoch 71/100\n",
            "18/18 [==============================] - 0s 5ms/step - loss: 110.3652 - mae: 110.3652 - mse: 71691.4844 - val_loss: 595.3962 - val_mae: 595.3962 - val_mse: 1222772.2500\n",
            "Epoch 72/100\n",
            "18/18 [==============================] - 0s 5ms/step - loss: 107.9285 - mae: 107.9285 - mse: 71745.5156 - val_loss: 573.7085 - val_mae: 573.7085 - val_mse: 1192818.0000\n",
            "Epoch 73/100\n",
            "18/18 [==============================] - 0s 5ms/step - loss: 109.5085 - mae: 109.5085 - mse: 71691.1016 - val_loss: 580.4180 - val_mae: 580.4180 - val_mse: 1211316.7500\n",
            "Epoch 74/100\n",
            "18/18 [==============================] - 0s 6ms/step - loss: 108.7380 - mae: 108.7380 - mse: 72051.0469 - val_loss: 576.1211 - val_mae: 576.1211 - val_mse: 1199669.5000\n",
            "Epoch 75/100\n",
            "18/18 [==============================] - 0s 7ms/step - loss: 107.9404 - mae: 107.9404 - mse: 71043.1328 - val_loss: 591.1477 - val_mae: 591.1477 - val_mse: 1211108.6250\n",
            "Epoch 76/100\n",
            "18/18 [==============================] - 0s 5ms/step - loss: 109.4232 - mae: 109.4232 - mse: 72295.0234 - val_loss: 597.8605 - val_mae: 597.8605 - val_mse: 1243935.2500\n",
            "Epoch 77/100\n",
            "18/18 [==============================] - 0s 7ms/step - loss: 107.5879 - mae: 107.5879 - mse: 70333.8203 - val_loss: 571.9299 - val_mae: 571.9299 - val_mse: 1186829.7500\n",
            "INFO:tensorflow:Assets written to: model_experiments/model_1_dense/assets\n",
            "Epoch 78/100\n",
            "18/18 [==============================] - 0s 5ms/step - loss: 108.1598 - mae: 108.1598 - mse: 70200.0625 - val_loss: 575.2383 - val_mae: 575.2383 - val_mse: 1195317.1250\n",
            "Epoch 79/100\n",
            "18/18 [==============================] - 0s 6ms/step - loss: 107.9175 - mae: 107.9175 - mse: 72451.5781 - val_loss: 617.3071 - val_mae: 617.3071 - val_mse: 1285509.7500\n",
            "Epoch 80/100\n",
            "18/18 [==============================] - 0s 5ms/step - loss: 108.9510 - mae: 108.9510 - mse: 72158.7500 - val_loss: 583.4847 - val_mae: 583.4847 - val_mse: 1194358.2500\n",
            "Epoch 81/100\n",
            "18/18 [==============================] - 0s 6ms/step - loss: 106.0505 - mae: 106.0505 - mse: 69690.8828 - val_loss: 570.0802 - val_mae: 570.0802 - val_mse: 1177238.0000\n",
            "INFO:tensorflow:Assets written to: model_experiments/model_1_dense/assets\n",
            "Epoch 82/100\n",
            "18/18 [==============================] - 0s 5ms/step - loss: 115.6827 - mae: 115.6827 - mse: 76903.4531 - val_loss: 575.7382 - val_mae: 575.7382 - val_mse: 1194661.5000\n",
            "Epoch 83/100\n",
            "18/18 [==============================] - 0s 6ms/step - loss: 110.9379 - mae: 110.9379 - mse: 72968.2891 - val_loss: 659.6570 - val_mae: 659.6570 - val_mse: 1388827.8750\n",
            "Epoch 84/100\n",
            "18/18 [==============================] - 0s 5ms/step - loss: 111.4836 - mae: 111.4836 - mse: 73017.8984 - val_loss: 570.1959 - val_mae: 570.1959 - val_mse: 1177492.1250\n",
            "Epoch 85/100\n",
            "18/18 [==============================] - 0s 6ms/step - loss: 107.5948 - mae: 107.5948 - mse: 70728.1797 - val_loss: 601.5945 - val_mae: 601.5945 - val_mse: 1228452.5000\n",
            "Epoch 86/100\n",
            "18/18 [==============================] - 0s 5ms/step - loss: 108.9426 - mae: 108.9426 - mse: 70066.7500 - val_loss: 592.8107 - val_mae: 592.8107 - val_mse: 1209681.6250\n",
            "Epoch 87/100\n",
            "18/18 [==============================] - 0s 6ms/step - loss: 105.7717 - mae: 105.7717 - mse: 68382.3438 - val_loss: 603.6169 - val_mae: 603.6169 - val_mse: 1252408.8750\n",
            "Epoch 88/100\n",
            "18/18 [==============================] - 0s 5ms/step - loss: 107.9217 - mae: 107.9217 - mse: 71668.0156 - val_loss: 569.0500 - val_mae: 569.0500 - val_mse: 1174588.2500\n",
            "INFO:tensorflow:Assets written to: model_experiments/model_1_dense/assets\n",
            "Epoch 89/100\n",
            "18/18 [==============================] - 0s 5ms/step - loss: 106.0344 - mae: 106.0344 - mse: 68979.1328 - val_loss: 568.9512 - val_mae: 568.9512 - val_mse: 1171744.1250\n",
            "INFO:tensorflow:Assets written to: model_experiments/model_1_dense/assets\n",
            "Epoch 90/100\n",
            "18/18 [==============================] - 0s 5ms/step - loss: 105.4977 - mae: 105.4977 - mse: 67516.5000 - val_loss: 581.7681 - val_mae: 581.7681 - val_mse: 1190161.7500\n",
            "Epoch 91/100\n",
            "18/18 [==============================] - 0s 6ms/step - loss: 108.8468 - mae: 108.8468 - mse: 71112.3203 - val_loss: 573.6023 - val_mae: 573.6023 - val_mse: 1185215.3750\n",
            "Epoch 92/100\n",
            "18/18 [==============================] - 0s 5ms/step - loss: 110.8884 - mae: 110.8884 - mse: 73287.8203 - val_loss: 576.8247 - val_mae: 576.8247 - val_mse: 1181629.3750\n",
            "Epoch 93/100\n",
            "18/18 [==============================] - 0s 5ms/step - loss: 113.8781 - mae: 113.8781 - mse: 75236.4062 - val_loss: 608.3018 - val_mae: 608.3018 - val_mse: 1264205.6250\n",
            "Epoch 94/100\n",
            "18/18 [==============================] - 0s 5ms/step - loss: 110.5763 - mae: 110.5763 - mse: 72590.8672 - val_loss: 601.6047 - val_mae: 601.6047 - val_mse: 1229106.1250\n",
            "Epoch 95/100\n",
            "18/18 [==============================] - 0s 6ms/step - loss: 106.5906 - mae: 106.5906 - mse: 68612.3125 - val_loss: 570.3652 - val_mae: 570.3652 - val_mse: 1175759.6250\n",
            "Epoch 96/100\n",
            "18/18 [==============================] - 0s 5ms/step - loss: 116.9515 - mae: 116.9515 - mse: 75082.1172 - val_loss: 615.2581 - val_mae: 615.2581 - val_mse: 1277123.7500\n",
            "Epoch 97/100\n",
            "18/18 [==============================] - 0s 6ms/step - loss: 108.0739 - mae: 108.0739 - mse: 71321.4141 - val_loss: 580.3073 - val_mae: 580.3073 - val_mse: 1202621.8750\n",
            "Epoch 98/100\n",
            "18/18 [==============================] - 0s 5ms/step - loss: 108.7102 - mae: 108.7102 - mse: 70248.0781 - val_loss: 586.6512 - val_mae: 586.6512 - val_mse: 1200831.3750\n",
            "Epoch 99/100\n",
            "18/18 [==============================] - 0s 6ms/step - loss: 109.0488 - mae: 109.0488 - mse: 70913.1484 - val_loss: 570.0629 - val_mae: 570.0629 - val_mse: 1177064.5000\n",
            "Epoch 100/100\n",
            "18/18 [==============================] - 0s 5ms/step - loss: 106.1845 - mae: 106.1845 - mse: 68681.7031 - val_loss: 585.9763 - val_mae: 585.9763 - val_mse: 1197803.1250\n"
          ]
        },
        {
          "output_type": "execute_result",
          "data": {
            "text/plain": [
              "<keras.callbacks.History at 0x7ffadf35dcd0>"
            ]
          },
          "metadata": {},
          "execution_count": 39
        }
      ]
    },
    {
      "cell_type": "code",
      "metadata": {
        "colab": {
          "base_uri": "https://localhost:8080/"
        },
        "id": "VTOhPXN4k2D0",
        "outputId": "7b8bfd40-96a1-4ae2-a892-654e9171e7cc"
      },
      "source": [
        "#evaluate model on test data\n",
        "model_1_results=model_1.evaluate(test_windows,test_labels)\n",
        "model_1_results"
      ],
      "execution_count": 40,
      "outputs": [
        {
          "output_type": "stream",
          "name": "stdout",
          "text": [
            "18/18 [==============================] - 0s 3ms/step - loss: 585.9762 - mae: 585.9762 - mse: 1197803.1250\n"
          ]
        },
        {
          "output_type": "execute_result",
          "data": {
            "text/plain": [
              "[585.9761962890625, 585.9761962890625, 1197803.125]"
            ]
          },
          "metadata": {},
          "execution_count": 40
        }
      ]
    },
    {
      "cell_type": "code",
      "metadata": {
        "colab": {
          "base_uri": "https://localhost:8080/"
        },
        "id": "vvCAIHu-l8At",
        "outputId": "5ee86e14-a759-4745-80e0-d074a70766af"
      },
      "source": [
        "#load the save best performing model and evaluate\n",
        "model_1 =tf.keras.models.load_model(\"/content/model_experiments/model_1_dense\")\n",
        "model_1_results=model_1.evaluate(test_windows,test_labels)\n",
        "model_1_results"
      ],
      "execution_count": 41,
      "outputs": [
        {
          "output_type": "stream",
          "name": "stdout",
          "text": [
            "18/18 [==============================] - 0s 2ms/step - loss: 568.9512 - mae: 568.9512 - mse: 1171744.0000\n"
          ]
        },
        {
          "output_type": "execute_result",
          "data": {
            "text/plain": [
              "[568.951171875, 568.951171875, 1171744.0]"
            ]
          },
          "metadata": {},
          "execution_count": 41
        }
      ]
    },
    {
      "cell_type": "markdown",
      "metadata": {
        "id": "zucM6KgomSvG"
      },
      "source": [
        "#Making forecast with the model on test data\n",
        "\n",
        "1.take train model\n",
        "\n",
        "2.takes in input data\n",
        "\n",
        "3.passes the data into the model\n",
        "\n",
        "4.return the predictions\n"
      ]
    },
    {
      "cell_type": "code",
      "metadata": {
        "id": "NVNl5CF-m2Jl"
      },
      "source": [
        "def make_preds(model,input_data):\n",
        "  \"\"\"\n",
        "  Uses model to make predctions input_data\n",
        "  \"\"\" \n",
        "  forecast =model.predict(input_data)\n",
        "  return tf.squeeze(forecast)"
      ],
      "execution_count": 42,
      "outputs": []
    },
    {
      "cell_type": "code",
      "metadata": {
        "colab": {
          "base_uri": "https://localhost:8080/"
        },
        "id": "-Mm_09P8yaqt",
        "outputId": "dcd06a87-d3f5-48cf-dc24-cc2aa6cdfce3"
      },
      "source": [
        "#make predictions\n",
        "model_1_preds =make_preds(model_1,test_windows)\n",
        "len(model_1_preds),model_1_preds[:10]\n"
      ],
      "execution_count": 43,
      "outputs": [
        {
          "output_type": "execute_result",
          "data": {
            "text/plain": [
              "(556, <tf.Tensor: shape=(10,), dtype=float32, numpy=\n",
              " array([8861.711, 8769.886, 9015.71 , 8795.517, 8723.809, 8730.11 ,\n",
              "        8691.95 , 8502.054, 8460.961, 8516.547], dtype=float32)>)"
            ]
          },
          "metadata": {},
          "execution_count": 43
        }
      ]
    },
    {
      "cell_type": "code",
      "metadata": {
        "colab": {
          "base_uri": "https://localhost:8080/"
        },
        "id": "feWNZS5Cy_Bi",
        "outputId": "d6a24165-cc82-4b00-d0ab-86ce910fb0f2"
      },
      "source": [
        "test_labels.shape,model_1_preds.shape\n",
        "\n"
      ],
      "execution_count": 44,
      "outputs": [
        {
          "output_type": "execute_result",
          "data": {
            "text/plain": [
              "((556,), TensorShape([556]))"
            ]
          },
          "metadata": {},
          "execution_count": 44
        }
      ]
    },
    {
      "cell_type": "code",
      "metadata": {
        "colab": {
          "base_uri": "https://localhost:8080/"
        },
        "id": "Al4NODgFyopP",
        "outputId": "ff4f372e-6ea9-49fd-cf82-49b5fbd86fb3"
      },
      "source": [
        "#evaluate the preds_\n",
        "model_1_results=evaluate_preds(y_true=test_labels,\n",
        "                               y_pred=model_1_preds)\n",
        "\n",
        "model_1_results"
      ],
      "execution_count": 45,
      "outputs": [
        {
          "output_type": "execute_result",
          "data": {
            "text/plain": [
              "{'mae': 568.95123,\n",
              " 'mape': 2.5448983,\n",
              " 'mase': 0.9994897,\n",
              " 'mse': 1171744.0,\n",
              " 'rmse': 1082.4712}"
            ]
          },
          "metadata": {},
          "execution_count": 45
        }
      ]
    },
    {
      "cell_type": "code",
      "metadata": {
        "colab": {
          "base_uri": "https://localhost:8080/"
        },
        "id": "Ws3txqeay0m1",
        "outputId": "2e4a12dd-76b7-47ac-ac77-2bb010eef1dd"
      },
      "source": [
        "naive_results"
      ],
      "execution_count": 46,
      "outputs": [
        {
          "output_type": "execute_result",
          "data": {
            "text/plain": [
              "{'mae': 567.9802,\n",
              " 'mape': 2.516525,\n",
              " 'mase': 0.99957,\n",
              " 'mse': 1147547.0,\n",
              " 'rmse': 1071.2362}"
            ]
          },
          "metadata": {},
          "execution_count": 46
        }
      ]
    },
    {
      "cell_type": "code",
      "metadata": {
        "colab": {
          "base_uri": "https://localhost:8080/",
          "height": 446
        },
        "id": "rS4FG5XvzMFB",
        "outputId": "fc64b21a-0265-4ad6-f5e8-4a2b7c016efd"
      },
      "source": [
        "#plot the model\n",
        "offset =450\n",
        "plt.figure(figsize=(10,7))\n",
        "\n",
        "#create for plotting\n",
        "plot_time_series(timesteps=X_test[-len(test_windows):],\n",
        "                 values=test_labels,\n",
        "                 start=offset,\n",
        "                 label=\"Test data\")\n",
        "\n",
        "plot_time_series(timesteps=X_test[-len(test_windows):],\n",
        "                 values=model_1_preds,\n",
        "                 start=offset,\n",
        "                 format=\"-\",\n",
        "                 label=\"Model 1 Preds\")\n",
        "\n"
      ],
      "execution_count": 47,
      "outputs": [
        {
          "output_type": "display_data",
          "data": {
            "image/png": "[encoded data removed]",
            "text/plain": [
              "<Figure size 720x504 with 1 Axes>"
            ]
          },
          "metadata": {
            "needs_background": "light"
          }
        }
      ]
    },
    {
      "cell_type": "markdown",
      "metadata": {
        "id": "ky8GKivez9Yo"
      },
      "source": [
        "#Model 2 -Dense Model (window =30 horizon =1)"
      ]
    },
    {
      "cell_type": "code",
      "metadata": {
        "id": "_Ate3zEfLoGr"
      },
      "source": [
        "HORIZON=1\n",
        "WINDOW_SIZE=30"
      ],
      "execution_count": 48,
      "outputs": []
    },
    {
      "cell_type": "code",
      "metadata": {
        "colab": {
          "base_uri": "https://localhost:8080/"
        },
        "id": "LkDXU4RUMNXF",
        "outputId": "3cbfdb85-c79a-4dff-a4bb-e5cd4d8a298c"
      },
      "source": [
        "#make window data\n",
        "full_windows[:5]"
      ],
      "execution_count": 49,
      "outputs": [
        {
          "output_type": "execute_result",
          "data": {
            "text/plain": [
              "array([[123.65499, 125.455  , 108.58483, 118.67466, 121.33866, 120.65533,\n",
              "        121.795  ],\n",
              "       [125.455  , 108.58483, 118.67466, 121.33866, 120.65533, 121.795  ,\n",
              "        123.033  ],\n",
              "       [108.58483, 118.67466, 121.33866, 120.65533, 121.795  , 123.033  ,\n",
              "        124.049  ],\n",
              "       [118.67466, 121.33866, 120.65533, 121.795  , 123.033  , 124.049  ,\n",
              "        125.96116],\n",
              "       [121.33866, 120.65533, 121.795  , 123.033  , 124.049  , 125.96116,\n",
              "        125.27966]])"
            ]
          },
          "metadata": {},
          "execution_count": 49
        }
      ]
    },
    {
      "cell_type": "code",
      "metadata": {
        "colab": {
          "base_uri": "https://localhost:8080/"
        },
        "id": "gLCXisTwMY3U",
        "outputId": "1704dc13-cee4-4907-e34f-ce68909056d0"
      },
      "source": [
        "full_windows,full_labels=make_windows(prices,window_size=WINDOW_SIZE,horizon=HORIZON)\n",
        "len(full_windows),len(full_labels)"
      ],
      "execution_count": 50,
      "outputs": [
        {
          "output_type": "stream",
          "name": "stdout",
          "text": [
            "Window indexes :\n",
            " (array([[   0,    1,    2, ...,   28,   29,   30],\n",
            "       [   1,    2,    3, ...,   29,   30,   31],\n",
            "       [   2,    3,    4, ...,   30,   31,   32],\n",
            "       ...,\n",
            "       [2754, 2755, 2756, ..., 2782, 2783, 2784],\n",
            "       [2755, 2756, 2757, ..., 2783, 2784, 2785],\n",
            "       [2756, 2757, 2758, ..., 2784, 2785, 2786]]), (2757, 31))\n",
            "[[  123.65499      125.455        108.58483    ...   192.75666\n",
            "    197.4          196.02499   ]\n",
            " [  125.455        108.58483      118.67466    ...   197.4\n",
            "    196.02499      198.04883   ]\n",
            " [  108.58483      118.67466      121.33866    ...   196.02499\n",
            "    198.04883      198.93233   ]\n",
            " ...\n",
            " [63346.78903511 61965.7825981  60574.44472823 ... 49764.1320816\n",
            "  50032.69313676 47885.62525472]\n",
            " [61965.7825981  60574.44472823 56850.83016569 ... 50032.69313676\n",
            "  47885.62525472 45604.61575361]\n",
            " [60574.44472823 56850.83016569 56224.10158771 ... 47885.62525472\n",
            "  45604.61575361 43144.47129086]]\n"
          ]
        },
        {
          "output_type": "execute_result",
          "data": {
            "text/plain": [
              "(2757, 2757)"
            ]
          },
          "metadata": {},
          "execution_count": 50
        }
      ]
    },
    {
      "cell_type": "code",
      "metadata": {
        "id": "VXxSDPcwMrUK"
      },
      "source": [
        "#make train and test windows\n",
        "train_windows,test_windows,train_labels,test_labels =make_train_test_splits(windows=full_windows,\n",
        "                                                                            labels=full_labels,\n",
        "                                                                            test_split=0.2)"
      ],
      "execution_count": 51,
      "outputs": []
    },
    {
      "cell_type": "code",
      "metadata": {
        "colab": {
          "base_uri": "https://localhost:8080/"
        },
        "id": "474oAxVHNAhn",
        "outputId": "55450b3d-5cbd-4238-d4d8-43bf0fbad98b"
      },
      "source": [
        "train_windows[:3]\n"
      ],
      "execution_count": 52,
      "outputs": [
        {
          "output_type": "execute_result",
          "data": {
            "text/plain": [
              "array([[123.65499, 125.455  , 108.58483, 118.67466, 121.33866, 120.65533,\n",
              "        121.795  , 123.033  , 124.049  , 125.96116, 125.27966, 125.9275 ,\n",
              "        126.38333, 135.24199, 133.20333, 142.76333, 137.92333, 142.95166,\n",
              "        152.55183, 160.33883, 164.31499, 177.63333, 188.29716, 200.70166,\n",
              "        180.355  , 175.03166, 177.6965 , 187.15983, 192.75666, 197.4    ],\n",
              "       [125.455  , 108.58483, 118.67466, 121.33866, 120.65533, 121.795  ,\n",
              "        123.033  , 124.049  , 125.96116, 125.27966, 125.9275 , 126.38333,\n",
              "        135.24199, 133.20333, 142.76333, 137.92333, 142.95166, 152.55183,\n",
              "        160.33883, 164.31499, 177.63333, 188.29716, 200.70166, 180.355  ,\n",
              "        175.03166, 177.6965 , 187.15983, 192.75666, 197.4    , 196.02499],\n",
              "       [108.58483, 118.67466, 121.33866, 120.65533, 121.795  , 123.033  ,\n",
              "        124.049  , 125.96116, 125.27966, 125.9275 , 126.38333, 135.24199,\n",
              "        133.20333, 142.76333, 137.92333, 142.95166, 152.55183, 160.33883,\n",
              "        164.31499, 177.63333, 188.29716, 200.70166, 180.355  , 175.03166,\n",
              "        177.6965 , 187.15983, 192.75666, 197.4    , 196.02499, 198.04883]])"
            ]
          },
          "metadata": {},
          "execution_count": 52
        }
      ]
    },
    {
      "cell_type": "code",
      "metadata": {
        "colab": {
          "base_uri": "https://localhost:8080/"
        },
        "id": "OiWrsXKhNCu0",
        "outputId": "f04aa4a0-dc02-4f6d-a043-96e039d3997b"
      },
      "source": [
        "len(train_windows),len(train_labels),len(test_windows),len(test_labels)"
      ],
      "execution_count": 53,
      "outputs": [
        {
          "output_type": "execute_result",
          "data": {
            "text/plain": [
              "(2205, 2205, 552, 552)"
            ]
          },
          "metadata": {},
          "execution_count": 53
        }
      ]
    },
    {
      "cell_type": "code",
      "metadata": {
        "colab": {
          "base_uri": "https://localhost:8080/"
        },
        "id": "OI670RMlNLAN",
        "outputId": "14b7d7a0-3a17-4c9f-ed7e-7b6cfaff6401"
      },
      "source": [
        "tf.random.set_seed(42)\n",
        "\n",
        "#craete model\n",
        "model_2 =tf.keras.Sequential([\n",
        "                              layers.Dense(128,activation=\"relu\"),\n",
        "                              layers.Dense(HORIZON)\n",
        "],name=\"model_2_dense\")\n",
        "\n",
        "\n",
        "#compile\n",
        "model_2.compile(loss=\"mae\",\n",
        "                optimizer=tf.keras.optimizers.Adam(),\n",
        "                metrics=[\"mae\",\"mse\"])\n",
        "\n",
        "\n",
        "#fit the model\n",
        "model_2.fit(train_windows,\n",
        "            train_labels,\n",
        "            epochs=100,\n",
        "            batch_size=128,\n",
        "            verbose=0,\n",
        "            validation_data=(test_windows,test_labels),\n",
        "            callbacks=[create_model_checkpoint(model_name=model_2.name)])\n"
      ],
      "execution_count": 54,
      "outputs": [
        {
          "output_type": "stream",
          "name": "stdout",
          "text": [
            "INFO:tensorflow:Assets written to: model_experiments/model_2_dense/assets\n",
            "INFO:tensorflow:Assets written to: model_experiments/model_2_dense/assets\n",
            "INFO:tensorflow:Assets written to: model_experiments/model_2_dense/assets\n",
            "INFO:tensorflow:Assets written to: model_experiments/model_2_dense/assets\n",
            "INFO:tensorflow:Assets written to: model_experiments/model_2_dense/assets\n",
            "INFO:tensorflow:Assets written to: model_experiments/model_2_dense/assets\n",
            "INFO:tensorflow:Assets written to: model_experiments/model_2_dense/assets\n",
            "INFO:tensorflow:Assets written to: model_experiments/model_2_dense/assets\n",
            "INFO:tensorflow:Assets written to: model_experiments/model_2_dense/assets\n",
            "INFO:tensorflow:Assets written to: model_experiments/model_2_dense/assets\n",
            "INFO:tensorflow:Assets written to: model_experiments/model_2_dense/assets\n",
            "INFO:tensorflow:Assets written to: model_experiments/model_2_dense/assets\n",
            "INFO:tensorflow:Assets written to: model_experiments/model_2_dense/assets\n",
            "INFO:tensorflow:Assets written to: model_experiments/model_2_dense/assets\n",
            "INFO:tensorflow:Assets written to: model_experiments/model_2_dense/assets\n",
            "INFO:tensorflow:Assets written to: model_experiments/model_2_dense/assets\n",
            "INFO:tensorflow:Assets written to: model_experiments/model_2_dense/assets\n",
            "INFO:tensorflow:Assets written to: model_experiments/model_2_dense/assets\n",
            "INFO:tensorflow:Assets written to: model_experiments/model_2_dense/assets\n",
            "INFO:tensorflow:Assets written to: model_experiments/model_2_dense/assets\n",
            "INFO:tensorflow:Assets written to: model_experiments/model_2_dense/assets\n",
            "INFO:tensorflow:Assets written to: model_experiments/model_2_dense/assets\n",
            "INFO:tensorflow:Assets written to: model_experiments/model_2_dense/assets\n",
            "INFO:tensorflow:Assets written to: model_experiments/model_2_dense/assets\n",
            "INFO:tensorflow:Assets written to: model_experiments/model_2_dense/assets\n",
            "INFO:tensorflow:Assets written to: model_experiments/model_2_dense/assets\n",
            "INFO:tensorflow:Assets written to: model_experiments/model_2_dense/assets\n"
          ]
        },
        {
          "output_type": "execute_result",
          "data": {
            "text/plain": [
              "<keras.callbacks.History at 0x7ffadb536c50>"
            ]
          },
          "metadata": {},
          "execution_count": 54
        }
      ]
    },
    {
      "cell_type": "code",
      "metadata": {
        "colab": {
          "base_uri": "https://localhost:8080/"
        },
        "id": "kOg3eXphOz9V",
        "outputId": "91bcd6ca-185e-43bf-9ca4-a9de39c50dcf"
      },
      "source": [
        "#evaluate the model\n",
        "model_2.evaluate(test_windows,test_labels)"
      ],
      "execution_count": 55,
      "outputs": [
        {
          "output_type": "stream",
          "name": "stdout",
          "text": [
            "18/18 [==============================] - 0s 3ms/step - loss: 608.9615 - mae: 608.9615 - mse: 1281438.8750\n"
          ]
        },
        {
          "output_type": "execute_result",
          "data": {
            "text/plain": [
              "[608.9614868164062, 608.9614868164062, 1281438.875]"
            ]
          },
          "metadata": {},
          "execution_count": 55
        }
      ]
    },
    {
      "cell_type": "code",
      "metadata": {
        "colab": {
          "base_uri": "https://localhost:8080/"
        },
        "id": "4w7fSB6oO56-",
        "outputId": "7a0cad24-0daa-4196-d938-44694d8df856"
      },
      "source": [
        "#load the best parameters\n",
        "model_2=tf.keras.models.load_model(\"/content/model_experiments/model_2_dense/\")\n",
        "model_2.evaluate(test_windows,test_labels)"
      ],
      "execution_count": 56,
      "outputs": [
        {
          "output_type": "stream",
          "name": "stdout",
          "text": [
            "18/18 [==============================] - 0s 3ms/step - loss: 608.9615 - mae: 608.9615 - mse: 1281438.8750\n"
          ]
        },
        {
          "output_type": "execute_result",
          "data": {
            "text/plain": [
              "[608.9614868164062, 608.9614868164062, 1281438.875]"
            ]
          },
          "metadata": {},
          "execution_count": 56
        }
      ]
    },
    {
      "cell_type": "code",
      "metadata": {
        "id": "ToDhelGOPKHU"
      },
      "source": [
        "#get the predictions\n",
        "model_2_preds =make_preds(model_2,\n",
        "                          input_data=test_windows)"
      ],
      "execution_count": 57,
      "outputs": []
    },
    {
      "cell_type": "code",
      "metadata": {
        "colab": {
          "base_uri": "https://localhost:8080/"
        },
        "id": "3YUB-UuPPdhS",
        "outputId": "206772e0-e317-4921-c2f1-c3d9293e4f85"
      },
      "source": [
        "#evaluate results\n",
        "model_2_results=evaluate_preds(y_true=test_labels,\n",
        "                               y_pred=model_2_preds)\n",
        "model_2_results"
      ],
      "execution_count": 58,
      "outputs": [
        {
          "output_type": "execute_result",
          "data": {
            "text/plain": [
              "{'mae': 608.9615,\n",
              " 'mape': 2.7693386,\n",
              " 'mase': 1.0644706,\n",
              " 'mse': 1281438.8,\n",
              " 'rmse': 1132.0065}"
            ]
          },
          "metadata": {},
          "execution_count": 58
        }
      ]
    },
    {
      "cell_type": "code",
      "metadata": {
        "colab": {
          "base_uri": "https://localhost:8080/",
          "height": 442
        },
        "id": "XvCAF5NFPs8z",
        "outputId": "f44a9f69-b6bc-4a5e-decd-92b1cccbcd9a"
      },
      "source": [
        "offset=300\n",
        "plt.figure(figsize=(10,7))\n",
        "\n",
        "#account the test windows size\n",
        "plot_time_series(timesteps=X_test[-len(test_windows):],values=test_labels,start=offset,label=\"Test Data\")\n",
        "plot_time_series(timesteps=X_test[-len(test_windows):],values=model_2_preds,start=offset,format=\"-\",label=\"Model 2 Preds\")"
      ],
      "execution_count": 59,
      "outputs": [
        {
          "output_type": "display_data",
          "data": {
            "image/png": "[encoded data removed]",
            "text/plain": [
              "<Figure size 720x504 with 1 Axes>"
            ]
          },
          "metadata": {
            "needs_background": "light"
          }
        }
      ]
    },
    {
      "cell_type": "markdown",
      "metadata": {
        "id": "9kTS2TTWQdx2"
      },
      "source": [
        "#Model 3 -Dense Model (window =30 horizon =7)"
      ]
    },
    {
      "cell_type": "code",
      "metadata": {
        "id": "UUTBdEQ6RKvs"
      },
      "source": [
        "HORIZON=7\n",
        "WINDOW_SIZE=30"
      ],
      "execution_count": 60,
      "outputs": []
    },
    {
      "cell_type": "code",
      "metadata": {
        "colab": {
          "base_uri": "https://localhost:8080/"
        },
        "id": "M1hFHXI8RUjD",
        "outputId": "7a9de5b3-6f88-4cfe-b993-6e0d0a201ae6"
      },
      "source": [
        "#make window data\n",
        "full_windows[:5]"
      ],
      "execution_count": 61,
      "outputs": [
        {
          "output_type": "execute_result",
          "data": {
            "text/plain": [
              "array([[123.65499, 125.455  , 108.58483, 118.67466, 121.33866, 120.65533,\n",
              "        121.795  , 123.033  , 124.049  , 125.96116, 125.27966, 125.9275 ,\n",
              "        126.38333, 135.24199, 133.20333, 142.76333, 137.92333, 142.95166,\n",
              "        152.55183, 160.33883, 164.31499, 177.63333, 188.29716, 200.70166,\n",
              "        180.355  , 175.03166, 177.6965 , 187.15983, 192.75666, 197.4    ],\n",
              "       [125.455  , 108.58483, 118.67466, 121.33866, 120.65533, 121.795  ,\n",
              "        123.033  , 124.049  , 125.96116, 125.27966, 125.9275 , 126.38333,\n",
              "        135.24199, 133.20333, 142.76333, 137.92333, 142.95166, 152.55183,\n",
              "        160.33883, 164.31499, 177.63333, 188.29716, 200.70166, 180.355  ,\n",
              "        175.03166, 177.6965 , 187.15983, 192.75666, 197.4    , 196.02499],\n",
              "       [108.58483, 118.67466, 121.33866, 120.65533, 121.795  , 123.033  ,\n",
              "        124.049  , 125.96116, 125.27966, 125.9275 , 126.38333, 135.24199,\n",
              "        133.20333, 142.76333, 137.92333, 142.95166, 152.55183, 160.33883,\n",
              "        164.31499, 177.63333, 188.29716, 200.70166, 180.355  , 175.03166,\n",
              "        177.6965 , 187.15983, 192.75666, 197.4    , 196.02499, 198.04883],\n",
              "       [118.67466, 121.33866, 120.65533, 121.795  , 123.033  , 124.049  ,\n",
              "        125.96116, 125.27966, 125.9275 , 126.38333, 135.24199, 133.20333,\n",
              "        142.76333, 137.92333, 142.95166, 152.55183, 160.33883, 164.31499,\n",
              "        177.63333, 188.29716, 200.70166, 180.355  , 175.03166, 177.6965 ,\n",
              "        187.15983, 192.75666, 197.4    , 196.02499, 198.04883, 198.93233],\n",
              "       [121.33866, 120.65533, 121.795  , 123.033  , 124.049  , 125.96116,\n",
              "        125.27966, 125.9275 , 126.38333, 135.24199, 133.20333, 142.76333,\n",
              "        137.92333, 142.95166, 152.55183, 160.33883, 164.31499, 177.63333,\n",
              "        188.29716, 200.70166, 180.355  , 175.03166, 177.6965 , 187.15983,\n",
              "        192.75666, 197.4    , 196.02499, 198.04883, 198.93233, 200.543  ]])"
            ]
          },
          "metadata": {},
          "execution_count": 61
        }
      ]
    },
    {
      "cell_type": "code",
      "metadata": {
        "colab": {
          "base_uri": "https://localhost:8080/"
        },
        "id": "QOqgS35URW9Z",
        "outputId": "a1d8cd37-0fd6-44f3-a8ed-c6b44d320b05"
      },
      "source": [
        "full_windows,full_labels=make_windows(prices,window_size=WINDOW_SIZE,horizon=HORIZON)\n",
        "len(full_windows),len(full_labels)"
      ],
      "execution_count": 62,
      "outputs": [
        {
          "output_type": "stream",
          "name": "stdout",
          "text": [
            "Window indexes :\n",
            " (array([[   0,    1,    2, ...,   34,   35,   36],\n",
            "       [   1,    2,    3, ...,   35,   36,   37],\n",
            "       [   2,    3,    4, ...,   36,   37,   38],\n",
            "       ...,\n",
            "       [2748, 2749, 2750, ..., 2782, 2783, 2784],\n",
            "       [2749, 2750, 2751, ..., 2783, 2784, 2785],\n",
            "       [2750, 2751, 2752, ..., 2784, 2785, 2786]]), (2751, 37))\n",
            "[[  123.65499      125.455        108.58483    ...   210.3075\n",
            "    225.02         248.25333   ]\n",
            " [  125.455        108.58483      118.67466    ...   225.02\n",
            "    248.25333      262.32666   ]\n",
            " [  108.58483      118.67466      121.33866    ...   248.25333\n",
            "    262.32666      294.48699   ]\n",
            " ...\n",
            " [58171.9090187  59295.95004401 59822.90167743 ... 49764.1320816\n",
            "  50032.69313676 47885.62525472]\n",
            " [59295.95004401 59822.90167743 59853.19724227 ... 50032.69313676\n",
            "  47885.62525472 45604.61575361]\n",
            " [59822.90167743 59853.19724227 63223.88439079 ... 47885.62525472\n",
            "  45604.61575361 43144.47129086]]\n"
          ]
        },
        {
          "output_type": "execute_result",
          "data": {
            "text/plain": [
              "(2751, 2751)"
            ]
          },
          "metadata": {},
          "execution_count": 62
        }
      ]
    },
    {
      "cell_type": "code",
      "metadata": {
        "id": "jRNXIv-rRZez"
      },
      "source": [
        "#make train and test windows\n",
        "train_windows,test_windows,train_labels,test_labels =make_train_test_splits(windows=full_windows,\n",
        "                                                                            labels=full_labels,\n",
        "                                                                            test_split=0.2)"
      ],
      "execution_count": 63,
      "outputs": []
    },
    {
      "cell_type": "code",
      "metadata": {
        "colab": {
          "base_uri": "https://localhost:8080/"
        },
        "id": "JanNDllmRckQ",
        "outputId": "f223fc10-ca6d-40c6-c199-a0d854347a98"
      },
      "source": [
        "len(train_windows),len(train_labels),len(test_windows),len(test_labels)"
      ],
      "execution_count": 64,
      "outputs": [
        {
          "output_type": "execute_result",
          "data": {
            "text/plain": [
              "(2200, 2200, 551, 551)"
            ]
          },
          "metadata": {},
          "execution_count": 64
        }
      ]
    },
    {
      "cell_type": "code",
      "metadata": {
        "colab": {
          "base_uri": "https://localhost:8080/"
        },
        "id": "icITQq3IRfvP",
        "outputId": "3e2d4f61-eb7e-4570-87fd-cbff2496f3de"
      },
      "source": [
        "tf.random.set_seed(42)\n",
        "\n",
        "# Create model (same as model_1 except with different data input size)\n",
        "model_3 = tf.keras.Sequential([\n",
        "  layers.Dense(128, activation=\"relu\"),\n",
        "  layers.Dense(HORIZON)\n",
        "], name=\"model_3_dense\")\n",
        "\n",
        "model_3.compile(loss=\"mae\",\n",
        "                optimizer=tf.keras.optimizers.Adam())\n",
        "\n",
        "model_3.fit(train_windows,\n",
        "            train_labels,\n",
        "            batch_size=128,\n",
        "            epochs=100,\n",
        "            verbose=0,\n",
        "            validation_data=(test_windows, test_labels),\n",
        "            callbacks=[create_model_checkpoint(model_name=model_3.name)])\n"
      ],
      "execution_count": 65,
      "outputs": [
        {
          "output_type": "stream",
          "name": "stdout",
          "text": [
            "INFO:tensorflow:Assets written to: model_experiments/model_3_dense/assets\n",
            "INFO:tensorflow:Assets written to: model_experiments/model_3_dense/assets\n",
            "INFO:tensorflow:Assets written to: model_experiments/model_3_dense/assets\n",
            "INFO:tensorflow:Assets written to: model_experiments/model_3_dense/assets\n",
            "INFO:tensorflow:Assets written to: model_experiments/model_3_dense/assets\n",
            "INFO:tensorflow:Assets written to: model_experiments/model_3_dense/assets\n",
            "INFO:tensorflow:Assets written to: model_experiments/model_3_dense/assets\n",
            "INFO:tensorflow:Assets written to: model_experiments/model_3_dense/assets\n",
            "INFO:tensorflow:Assets written to: model_experiments/model_3_dense/assets\n",
            "INFO:tensorflow:Assets written to: model_experiments/model_3_dense/assets\n",
            "INFO:tensorflow:Assets written to: model_experiments/model_3_dense/assets\n",
            "INFO:tensorflow:Assets written to: model_experiments/model_3_dense/assets\n",
            "INFO:tensorflow:Assets written to: model_experiments/model_3_dense/assets\n",
            "INFO:tensorflow:Assets written to: model_experiments/model_3_dense/assets\n",
            "INFO:tensorflow:Assets written to: model_experiments/model_3_dense/assets\n",
            "INFO:tensorflow:Assets written to: model_experiments/model_3_dense/assets\n",
            "INFO:tensorflow:Assets written to: model_experiments/model_3_dense/assets\n",
            "INFO:tensorflow:Assets written to: model_experiments/model_3_dense/assets\n",
            "INFO:tensorflow:Assets written to: model_experiments/model_3_dense/assets\n",
            "INFO:tensorflow:Assets written to: model_experiments/model_3_dense/assets\n",
            "INFO:tensorflow:Assets written to: model_experiments/model_3_dense/assets\n",
            "INFO:tensorflow:Assets written to: model_experiments/model_3_dense/assets\n",
            "INFO:tensorflow:Assets written to: model_experiments/model_3_dense/assets\n",
            "INFO:tensorflow:Assets written to: model_experiments/model_3_dense/assets\n",
            "INFO:tensorflow:Assets written to: model_experiments/model_3_dense/assets\n",
            "INFO:tensorflow:Assets written to: model_experiments/model_3_dense/assets\n",
            "INFO:tensorflow:Assets written to: model_experiments/model_3_dense/assets\n",
            "INFO:tensorflow:Assets written to: model_experiments/model_3_dense/assets\n",
            "INFO:tensorflow:Assets written to: model_experiments/model_3_dense/assets\n",
            "INFO:tensorflow:Assets written to: model_experiments/model_3_dense/assets\n",
            "INFO:tensorflow:Assets written to: model_experiments/model_3_dense/assets\n",
            "INFO:tensorflow:Assets written to: model_experiments/model_3_dense/assets\n",
            "INFO:tensorflow:Assets written to: model_experiments/model_3_dense/assets\n",
            "INFO:tensorflow:Assets written to: model_experiments/model_3_dense/assets\n",
            "INFO:tensorflow:Assets written to: model_experiments/model_3_dense/assets\n"
          ]
        },
        {
          "output_type": "execute_result",
          "data": {
            "text/plain": [
              "<keras.callbacks.History at 0x7ffadbc90390>"
            ]
          },
          "metadata": {},
          "execution_count": 65
        }
      ]
    },
    {
      "cell_type": "code",
      "metadata": {
        "colab": {
          "base_uri": "https://localhost:8080/"
        },
        "id": "Gky4RHkYRnOV",
        "outputId": "c8a635ae-6054-43ab-d738-558c96191687"
      },
      "source": [
        "# How did our model with a larger window size and horizon go?\n",
        "model_3.evaluate(test_windows, test_labels)"
      ],
      "execution_count": 66,
      "outputs": [
        {
          "output_type": "stream",
          "name": "stdout",
          "text": [
            "18/18 [==============================] - 0s 2ms/step - loss: 614.8192\n"
          ]
        },
        {
          "output_type": "execute_result",
          "data": {
            "text/plain": [
              "614.8192138671875"
            ]
          },
          "metadata": {},
          "execution_count": 66
        }
      ]
    },
    {
      "cell_type": "code",
      "metadata": {
        "colab": {
          "base_uri": "https://localhost:8080/"
        },
        "id": "luLzwL58RqtM",
        "outputId": "93240973-e125-4c84-924b-daaa0b622f63"
      },
      "source": [
        "#load the best parameters\n",
        "model_3=tf.keras.models.load_model(\"/content/model_experiments/model_3_dense/\")\n",
        "model_3.evaluate(test_windows,test_labels)"
      ],
      "execution_count": 67,
      "outputs": [
        {
          "output_type": "stream",
          "name": "stdout",
          "text": [
            "18/18 [==============================] - 0s 2ms/step - loss: 599.4505\n"
          ]
        },
        {
          "output_type": "execute_result",
          "data": {
            "text/plain": [
              "599.4505004882812"
            ]
          },
          "metadata": {},
          "execution_count": 67
        }
      ]
    },
    {
      "cell_type": "code",
      "metadata": {
        "id": "k1UOYgpARtsN"
      },
      "source": [
        "#get the predictions\n",
        "model_3_preds =make_preds(model_3,\n",
        "                          input_data=test_windows)"
      ],
      "execution_count": 68,
      "outputs": []
    },
    {
      "cell_type": "code",
      "metadata": {
        "colab": {
          "base_uri": "https://localhost:8080/"
        },
        "id": "o5zXAR7_TnIK",
        "outputId": "b9078b68-9b5d-405d-8de0-7f07b60f67be"
      },
      "source": [
        "model_3_preds[:5],model_3_preds.shape"
      ],
      "execution_count": 69,
      "outputs": [
        {
          "output_type": "execute_result",
          "data": {
            "text/plain": [
              "(<tf.Tensor: shape=(5, 7), dtype=float32, numpy=\n",
              " array([[9204.087, 9307.428, 9346.239, 9322.108, 9257.569, 9408.65 ,\n",
              "         9321.06 ],\n",
              "        [8878.963, 8993.068, 9073.988, 8917.815, 8803.415, 8948.541,\n",
              "         8976.297],\n",
              "        [8878.328, 8860.245, 8951.54 , 8820.758, 8678.005, 8791.144,\n",
              "         8837.626],\n",
              "        [9049.313, 8896.042, 8904.545, 8942.667, 8702.5  , 8909.269,\n",
              "         8862.655],\n",
              "        [8939.769, 8811.958, 8700.014, 8811.644, 8785.342, 8908.778,\n",
              "         8771.228]], dtype=float32)>, TensorShape([551, 7]))"
            ]
          },
          "metadata": {},
          "execution_count": 69
        }
      ]
    },
    {
      "cell_type": "markdown",
      "metadata": {
        "id": "kCoG1k-2UOfh"
      },
      "source": [
        "#Make Evaluation Function to larger horizons"
      ]
    },
    {
      "cell_type": "code",
      "metadata": {
        "id": "8qyajLdRUlRr"
      },
      "source": [
        "def evaluate_preds(y_true, y_pred):\n",
        "  # Make sure float32 (for metric calculations)\n",
        "  y_true = tf.cast(y_true, dtype=tf.float32)\n",
        "  y_pred = tf.cast(y_pred, dtype=tf.float32)\n",
        "\n",
        "  # Calculate various metrics\n",
        "  mae = tf.keras.metrics.mean_absolute_error(y_true, y_pred)\n",
        "  mse = tf.keras.metrics.mean_squared_error(y_true, y_pred)\n",
        "  rmse = tf.sqrt(mse)\n",
        "  mape = tf.keras.metrics.mean_absolute_percentage_error(y_true, y_pred)\n",
        "  mase = mean_absolute_scaled_error(y_true, y_pred)\n",
        "\n",
        "  # Account for different sized metrics (for longer horizons, reduce to single number)\n",
        "  if mae.ndim > 0: # if mae isn't already a scalar, reduce it to one by aggregating tensors to mean\n",
        "    mae = tf.reduce_mean(mae)\n",
        "    mse = tf.reduce_mean(mse)\n",
        "    rmse = tf.reduce_mean(rmse)\n",
        "    mape = tf.reduce_mean(mape)\n",
        "    mase = tf.reduce_mean(mase)\n",
        "\n",
        "  return {\"mae\": mae.numpy(),\n",
        "          \"mse\": mse.numpy(),\n",
        "          \"rmse\": rmse.numpy(),\n",
        "          \"mape\": mape.numpy(),\n",
        "          \"mase\": mase.numpy()}\n"
      ],
      "execution_count": 70,
      "outputs": []
    },
    {
      "cell_type": "code",
      "metadata": {
        "colab": {
          "base_uri": "https://localhost:8080/"
        },
        "id": "uonGRxKDWffz",
        "outputId": "a9a173c9-f31d-4629-d467-485abf4759c8"
      },
      "source": [
        "model_3_preds"
      ],
      "execution_count": 71,
      "outputs": [
        {
          "output_type": "execute_result",
          "data": {
            "text/plain": [
              "<tf.Tensor: shape=(551, 7), dtype=float32, numpy=\n",
              "array([[ 9204.087,  9307.428,  9346.239, ...,  9257.569,  9408.65 ,\n",
              "         9321.06 ],\n",
              "       [ 8878.963,  8993.068,  9073.988, ...,  8803.415,  8948.541,\n",
              "         8976.297],\n",
              "       [ 8878.328,  8860.245,  8951.54 , ...,  8678.005,  8791.144,\n",
              "         8837.626],\n",
              "       ...,\n",
              "       [58022.695, 58599.32 , 58288.598, ..., 57827.69 , 58837.508,\n",
              "        58451.793],\n",
              "       [57997.766, 58582.61 , 58645.945, ..., 57853.39 , 58861.723,\n",
              "        58168.816],\n",
              "       [56972.453, 57467.188, 56865.645, ..., 56488.65 , 56211.066,\n",
              "        57261.836]], dtype=float32)>"
            ]
          },
          "metadata": {},
          "execution_count": 71
        }
      ]
    },
    {
      "cell_type": "code",
      "metadata": {
        "colab": {
          "base_uri": "https://localhost:8080/"
        },
        "id": "Yy0pI1F6WTy4",
        "outputId": "3f2b9209-86ff-4282-be69-8220a36c3d2d"
      },
      "source": [
        "#evaluate results\n",
        "model_3_results=evaluate_preds(y_true=test_labels,\n",
        "                               y_pred=tf.reduce_mean(model_3_preds))\n",
        "model_3_results"
      ],
      "execution_count": 72,
      "outputs": [
        {
          "output_type": "execute_result",
          "data": {
            "text/plain": [
              "{'mae': 14180.907,\n",
              " 'mape': 96.06718,\n",
              " 'mase': 25.829008,\n",
              " 'mse': 301476260.0,\n",
              " 'rmse': 17363.072}"
            ]
          },
          "metadata": {},
          "execution_count": 72
        }
      ]
    },
    {
      "cell_type": "code",
      "metadata": {
        "colab": {
          "base_uri": "https://localhost:8080/",
          "height": 442
        },
        "id": "DdEVpEHGWWbA",
        "outputId": "41679708-f386-4672-9d93-9a85c0ea3ca8"
      },
      "source": [
        "offset=300\n",
        "plt.figure(figsize=(10,7))\n",
        "\n",
        "#account the test windows size\n",
        "plot_time_series(timesteps=X_test[-len(test_windows):],values=test_labels,start=offset,label=\"Test Data\")\n",
        "plot_time_series(timesteps=X_test[-len(test_windows):],\n",
        "                 values=model_3_preds,\n",
        "                 start=offset,label=\"Model 3 Preds\")"
      ],
      "execution_count": 73,
      "outputs": [
        {
          "output_type": "display_data",
          "data": {
            "image/png": "[encoded data removed]",
            "text/plain": [
              "<Figure size 720x504 with 1 Axes>"
            ]
          },
          "metadata": {
            "needs_background": "light"
          }
        }
      ]
    },
    {
      "cell_type": "code",
      "metadata": {
        "colab": {
          "base_uri": "https://localhost:8080/",
          "height": 442
        },
        "id": "I4XM6L6RZNOc",
        "outputId": "6523ec0d-0e7c-4624-da0a-76fef0677720"
      },
      "source": [
        "offset=300\n",
        "plt.figure(figsize=(10,7))\n",
        "\n",
        "#account the test windows size\n",
        "plot_time_series(timesteps=X_test[-len(test_windows):],values=test_labels,start=offset,label=\"Test Data\")\n",
        "plot_time_series(timesteps=X_test[-len(test_windows):],\n",
        "                 values=tf.reduce_mean(model_3_preds,axis=1),\n",
        "                 start=offset,\n",
        "                 format=\"-\",\n",
        "                 label=\"Model 3 Preds\")"
      ],
      "execution_count": 74,
      "outputs": [
        {
          "output_type": "display_data",
          "data": {
            "image/png": "[encoded data removed]",
            "text/plain": [
              "<Figure size 720x504 with 1 Axes>"
            ]
          },
          "metadata": {
            "needs_background": "light"
          }
        }
      ]
    },
    {
      "cell_type": "markdown",
      "metadata": {
        "id": "odeeQk3kaYWt"
      },
      "source": [
        "#Check the model performance "
      ]
    },
    {
      "cell_type": "code",
      "metadata": {
        "colab": {
          "base_uri": "https://localhost:8080/",
          "height": 457
        },
        "id": "jt7m6Npnbd_M",
        "outputId": "a97f10cd-8c6b-4721-aedd-73861c526712"
      },
      "source": [
        "pd.DataFrame({\"naive\":naive_results[\"mae\"],\n",
        "              \"horizon_1_window_7:\":model_1_results[\"mae\"],\n",
        "              \"horizon_1_window_30:\":model_2_results[\"mae\"],\n",
        "              \"horizon__window_30:\":model_3_results[\"mae\"]},index=[\"mae\"]).plot(figsize=(10,7),kind=\"bar\")\n",
        "            "
      ],
      "execution_count": 75,
      "outputs": [
        {
          "output_type": "execute_result",
          "data": {
            "text/plain": [
              "<matplotlib.axes._subplots.AxesSubplot at 0x7ffadb68e690>"
            ]
          },
          "metadata": {},
          "execution_count": 75
        },
        {
          "output_type": "display_data",
          "data": {
            "image/png": "[encoded data removed]",
            "text/plain": [
              "<Figure size 720x504 with 1 Axes>"
            ]
          },
          "metadata": {
            "needs_background": "light"
          }
        }
      ]
    },
    {
      "cell_type": "markdown",
      "metadata": {
        "id": "3X_bfJDncLgY"
      },
      "source": [
        "#Model 4 -CONV1D model"
      ]
    },
    {
      "cell_type": "code",
      "metadata": {
        "id": "38MZksaanuRG"
      },
      "source": [
        "HORIZON=1\n",
        "WINDOW_SIZE=7"
      ],
      "execution_count": 76,
      "outputs": []
    },
    {
      "cell_type": "code",
      "metadata": {
        "colab": {
          "base_uri": "https://localhost:8080/"
        },
        "id": "hR2imijFn8pW",
        "outputId": "a13de22f-198b-418a-dfa1-c03552c02d88"
      },
      "source": [
        "#create windowed data\n",
        "full_windows,full_labels=make_windows(prices,window_size=WINDOW_SIZE,horizon=HORIZON)\n",
        "len(full_windows),len(full_labels)"
      ],
      "execution_count": 77,
      "outputs": [
        {
          "output_type": "stream",
          "name": "stdout",
          "text": [
            "Window indexes :\n",
            " (array([[   0,    1,    2, ...,    5,    6,    7],\n",
            "       [   1,    2,    3, ...,    6,    7,    8],\n",
            "       [   2,    3,    4, ...,    7,    8,    9],\n",
            "       ...,\n",
            "       [2777, 2778, 2779, ..., 2782, 2783, 2784],\n",
            "       [2778, 2779, 2780, ..., 2783, 2784, 2785],\n",
            "       [2779, 2780, 2781, ..., 2784, 2785, 2786]]), (2780, 8))\n",
            "[[  123.65499      125.455        108.58483    ...   120.65533\n",
            "    121.795        123.033     ]\n",
            " [  125.455        108.58483      118.67466    ...   121.795\n",
            "    123.033        124.049     ]\n",
            " [  108.58483      118.67466      121.33866    ...   123.033\n",
            "    124.049        125.96116   ]\n",
            " ...\n",
            " [58788.20967893 58102.19142623 55715.54665129 ... 49764.1320816\n",
            "  50032.69313676 47885.62525472]\n",
            " [58102.19142623 55715.54665129 56573.5554719  ... 50032.69313676\n",
            "  47885.62525472 45604.61575361]\n",
            " [55715.54665129 56573.5554719  52147.82118698 ... 47885.62525472\n",
            "  45604.61575361 43144.47129086]]\n"
          ]
        },
        {
          "output_type": "execute_result",
          "data": {
            "text/plain": [
              "(2780, 2780)"
            ]
          },
          "metadata": {},
          "execution_count": 77
        }
      ]
    },
    {
      "cell_type": "code",
      "metadata": {
        "colab": {
          "base_uri": "https://localhost:8080/"
        },
        "id": "XXunK_ILoS0p",
        "outputId": "db11a704-e182-4a28-e2b4-6846149cf361"
      },
      "source": [
        "#craete train/test data\n",
        "train_windows,test_windows,train_labels,test_labels =make_train_test_splits(full_windows,full_labels)\n",
        "len(train_windows),len(test_labels),len(train_labels), len(test_labels)"
      ],
      "execution_count": 78,
      "outputs": [
        {
          "output_type": "execute_result",
          "data": {
            "text/plain": [
              "(2224, 556, 2224, 556)"
            ]
          },
          "metadata": {},
          "execution_count": 78
        }
      ]
    },
    {
      "cell_type": "code",
      "metadata": {
        "colab": {
          "base_uri": "https://localhost:8080/"
        },
        "id": "v3kr6QVx3lcQ",
        "outputId": "40af3165-63ae-434b-e005-d440bb333212"
      },
      "source": [
        "test_windows[0]"
      ],
      "execution_count": 79,
      "outputs": [
        {
          "output_type": "execute_result",
          "data": {
            "text/plain": [
              "array([9290.89660239, 9202.41545055, 9369.62808116, 9326.59962378,\n",
              "       9335.75240233, 9226.48582088, 8794.35864452])"
            ]
          },
          "metadata": {},
          "execution_count": 79
        }
      ]
    },
    {
      "cell_type": "code",
      "metadata": {
        "colab": {
          "base_uri": "https://localhost:8080/"
        },
        "id": "N5j1QW7K39UM",
        "outputId": "c6aa87da-7072-43c4-c4c1-ef6cc3e7e625"
      },
      "source": [
        "test_windows[0].shape"
      ],
      "execution_count": 80,
      "outputs": [
        {
          "output_type": "execute_result",
          "data": {
            "text/plain": [
              "(7,)"
            ]
          },
          "metadata": {},
          "execution_count": 80
        }
      ]
    },
    {
      "cell_type": "markdown",
      "metadata": {
        "id": "TOPTYYVNon-8"
      },
      "source": [
        "#Reshape the data"
      ]
    },
    {
      "cell_type": "code",
      "metadata": {
        "colab": {
          "base_uri": "https://localhost:8080/"
        },
        "id": "igy_1rcGvK3F",
        "outputId": "568a0f67-1a90-4d86-f0c6-7a1ac373c787"
      },
      "source": [
        "x=tf.constant(train_windows[0])\n",
        "x"
      ],
      "execution_count": 81,
      "outputs": [
        {
          "output_type": "execute_result",
          "data": {
            "text/plain": [
              "<tf.Tensor: shape=(7,), dtype=float64, numpy=\n",
              "array([123.65499, 125.455  , 108.58483, 118.67466, 121.33866, 120.65533,\n",
              "       121.795  ])>"
            ]
          },
          "metadata": {},
          "execution_count": 81
        }
      ]
    },
    {
      "cell_type": "code",
      "metadata": {
        "id": "7V-3D8h7vWsm"
      },
      "source": [
        "expand_dims_layer =layers.Lambda(lambda x:tf.expand_dims(x,axis=1))"
      ],
      "execution_count": 82,
      "outputs": []
    },
    {
      "cell_type": "code",
      "metadata": {
        "colab": {
          "base_uri": "https://localhost:8080/"
        },
        "id": "0R_ieQOuwDFA",
        "outputId": "43aaaffa-0f9c-420f-c1e3-5c3b89138c53"
      },
      "source": [
        "#test our out lambda layer\n",
        "print(f\"Original shape :{x.shape}\")\n",
        "print(f\"Expand shape :{expand_dims_layer(x).shape}\")\n",
        "print(f\"Original Value with expand shape :\\n{expand_dims_layer(x)}\")\n",
        "\n"
      ],
      "execution_count": 83,
      "outputs": [
        {
          "output_type": "stream",
          "name": "stdout",
          "text": [
            "Original shape :(7,)\n",
            "Expand shape :(7, 1)\n",
            "Original Value with expand shape :\n",
            "[[123.65499]\n",
            " [125.455  ]\n",
            " [108.58483]\n",
            " [118.67466]\n",
            " [121.33866]\n",
            " [120.65533]\n",
            " [121.795  ]]\n"
          ]
        }
      ]
    },
    {
      "cell_type": "code",
      "metadata": {
        "colab": {
          "base_uri": "https://localhost:8080/"
        },
        "id": "wtZD1rjmwZKf",
        "outputId": "1a701934-b565-4a50-bfcd-5e7bd65f8476"
      },
      "source": [
        "tf.random.set_seed(42)\n",
        "\n",
        "# Create model\n",
        "model_4 = tf.keras.Sequential([\n",
        "  # Create Lambda layer to reshape inputs, without this layer, the model will error\n",
        "  layers.Lambda(lambda x: tf.expand_dims(x, axis=1)), # resize the inputs to adjust for window size / Conv1D 3D input requirements\n",
        "  layers.Conv1D(filters=128, kernel_size=5, padding=\"causal\", activation=\"relu\"),\n",
        "  layers.Dense(HORIZON)\n",
        "], name=\"model_4_conv1D\")\n",
        "\n",
        "# Compile model\n",
        "model_4.compile(loss=\"mae\",\n",
        "                optimizer=tf.keras.optimizers.Adam())\n",
        "\n",
        "# Fit model\n",
        "model_4.fit(train_windows,\n",
        "            train_labels,\n",
        "            batch_size=128, \n",
        "            epochs=100,\n",
        "            verbose=0,\n",
        "            validation_data=(test_windows, test_labels),\n",
        "            callbacks=[create_model_checkpoint(model_name=model_4.name)])\n",
        "\n"
      ],
      "execution_count": 84,
      "outputs": [
        {
          "output_type": "stream",
          "name": "stdout",
          "text": [
            "INFO:tensorflow:Assets written to: model_experiments/model_4_conv1D/assets\n",
            "INFO:tensorflow:Assets written to: model_experiments/model_4_conv1D/assets\n",
            "INFO:tensorflow:Assets written to: model_experiments/model_4_conv1D/assets\n",
            "INFO:tensorflow:Assets written to: model_experiments/model_4_conv1D/assets\n",
            "INFO:tensorflow:Assets written to: model_experiments/model_4_conv1D/assets\n",
            "INFO:tensorflow:Assets written to: model_experiments/model_4_conv1D/assets\n",
            "INFO:tensorflow:Assets written to: model_experiments/model_4_conv1D/assets\n",
            "INFO:tensorflow:Assets written to: model_experiments/model_4_conv1D/assets\n",
            "INFO:tensorflow:Assets written to: model_experiments/model_4_conv1D/assets\n",
            "INFO:tensorflow:Assets written to: model_experiments/model_4_conv1D/assets\n",
            "INFO:tensorflow:Assets written to: model_experiments/model_4_conv1D/assets\n",
            "INFO:tensorflow:Assets written to: model_experiments/model_4_conv1D/assets\n",
            "INFO:tensorflow:Assets written to: model_experiments/model_4_conv1D/assets\n",
            "INFO:tensorflow:Assets written to: model_experiments/model_4_conv1D/assets\n",
            "INFO:tensorflow:Assets written to: model_experiments/model_4_conv1D/assets\n",
            "INFO:tensorflow:Assets written to: model_experiments/model_4_conv1D/assets\n",
            "INFO:tensorflow:Assets written to: model_experiments/model_4_conv1D/assets\n",
            "INFO:tensorflow:Assets written to: model_experiments/model_4_conv1D/assets\n",
            "INFO:tensorflow:Assets written to: model_experiments/model_4_conv1D/assets\n",
            "INFO:tensorflow:Assets written to: model_experiments/model_4_conv1D/assets\n",
            "INFO:tensorflow:Assets written to: model_experiments/model_4_conv1D/assets\n",
            "INFO:tensorflow:Assets written to: model_experiments/model_4_conv1D/assets\n",
            "INFO:tensorflow:Assets written to: model_experiments/model_4_conv1D/assets\n",
            "INFO:tensorflow:Assets written to: model_experiments/model_4_conv1D/assets\n",
            "INFO:tensorflow:Assets written to: model_experiments/model_4_conv1D/assets\n",
            "INFO:tensorflow:Assets written to: model_experiments/model_4_conv1D/assets\n",
            "INFO:tensorflow:Assets written to: model_experiments/model_4_conv1D/assets\n",
            "INFO:tensorflow:Assets written to: model_experiments/model_4_conv1D/assets\n",
            "INFO:tensorflow:Assets written to: model_experiments/model_4_conv1D/assets\n",
            "INFO:tensorflow:Assets written to: model_experiments/model_4_conv1D/assets\n",
            "INFO:tensorflow:Assets written to: model_experiments/model_4_conv1D/assets\n",
            "INFO:tensorflow:Assets written to: model_experiments/model_4_conv1D/assets\n",
            "INFO:tensorflow:Assets written to: model_experiments/model_4_conv1D/assets\n",
            "INFO:tensorflow:Assets written to: model_experiments/model_4_conv1D/assets\n",
            "INFO:tensorflow:Assets written to: model_experiments/model_4_conv1D/assets\n",
            "INFO:tensorflow:Assets written to: model_experiments/model_4_conv1D/assets\n",
            "INFO:tensorflow:Assets written to: model_experiments/model_4_conv1D/assets\n",
            "INFO:tensorflow:Assets written to: model_experiments/model_4_conv1D/assets\n",
            "INFO:tensorflow:Assets written to: model_experiments/model_4_conv1D/assets\n"
          ]
        },
        {
          "output_type": "execute_result",
          "data": {
            "text/plain": [
              "<keras.callbacks.History at 0x7ffadb4dba50>"
            ]
          },
          "metadata": {},
          "execution_count": 84
        }
      ]
    },
    {
      "cell_type": "code",
      "metadata": {
        "colab": {
          "base_uri": "https://localhost:8080/"
        },
        "id": "eLFnpU0Nztfb",
        "outputId": "6d3a4945-462d-4b10-ff05-efc1f4900b83"
      },
      "source": [
        "model_4.summary()"
      ],
      "execution_count": 85,
      "outputs": [
        {
          "output_type": "stream",
          "name": "stdout",
          "text": [
            "Model: \"model_4_conv1D\"\n",
            "_________________________________________________________________\n",
            "Layer (type)                 Output Shape              Param #   \n",
            "=================================================================\n",
            "lambda_1 (Lambda)            (None, 1, 7)              0         \n",
            "_________________________________________________________________\n",
            "conv1d (Conv1D)              (None, 1, 128)            4608      \n",
            "_________________________________________________________________\n",
            "dense_6 (Dense)              (None, 1, 1)              129       \n",
            "=================================================================\n",
            "Total params: 4,737\n",
            "Trainable params: 4,737\n",
            "Non-trainable params: 0\n",
            "_________________________________________________________________\n"
          ]
        }
      ]
    },
    {
      "cell_type": "code",
      "metadata": {
        "colab": {
          "base_uri": "https://localhost:8080/"
        },
        "id": "8jsrt3YI7TAd",
        "outputId": "1377abc6-8034-4357-e91e-8d2397efc7a5"
      },
      "source": [
        "#evaluate the model\n",
        "model_4.evaluate(test_windows,test_labels)"
      ],
      "execution_count": 86,
      "outputs": [
        {
          "output_type": "stream",
          "name": "stdout",
          "text": [
            "18/18 [==============================] - 0s 3ms/step - loss: 610.1540\n"
          ]
        },
        {
          "output_type": "execute_result",
          "data": {
            "text/plain": [
              "610.1539916992188"
            ]
          },
          "metadata": {},
          "execution_count": 86
        }
      ]
    },
    {
      "cell_type": "code",
      "metadata": {
        "colab": {
          "base_uri": "https://localhost:8080/"
        },
        "id": "G3qgI9z07bPu",
        "outputId": "7512533e-6544-440f-b6b6-b41d5fba15b7"
      },
      "source": [
        "#load the best parameters\n",
        "model_4=tf.keras.models.load_model(\"/content/model_experiments/model_4_conv1D/\")\n",
        "model_4.evaluate(test_windows,test_labels)"
      ],
      "execution_count": 87,
      "outputs": [
        {
          "output_type": "stream",
          "name": "stdout",
          "text": [
            "18/18 [==============================] - 0s 3ms/step - loss: 570.8284\n"
          ]
        },
        {
          "output_type": "execute_result",
          "data": {
            "text/plain": [
              "570.8284301757812"
            ]
          },
          "metadata": {},
          "execution_count": 87
        }
      ]
    },
    {
      "cell_type": "code",
      "metadata": {
        "colab": {
          "base_uri": "https://localhost:8080/"
        },
        "id": "ejqCzfPM7pFd",
        "outputId": "ae4c21bb-73ef-44d4-f43c-f8e57a1d9c2c"
      },
      "source": [
        "#make predcitons\n",
        "model_4_preds=make_preds(model_4,test_windows)\n",
        "model_4_preds[:10]"
      ],
      "execution_count": 88,
      "outputs": [
        {
          "output_type": "execute_result",
          "data": {
            "text/plain": [
              "<tf.Tensor: shape=(10,), dtype=float32, numpy=\n",
              "array([8851.465, 8754.47 , 8983.928, 8759.672, 8703.628, 8708.294,\n",
              "       8661.668, 8494.839, 8435.316, 8492.114], dtype=float32)>"
            ]
          },
          "metadata": {},
          "execution_count": 88
        }
      ]
    },
    {
      "cell_type": "code",
      "metadata": {
        "colab": {
          "base_uri": "https://localhost:8080/"
        },
        "id": "plZGeFBq8fHc",
        "outputId": "b1da0083-31d3-45ae-8bbe-4d0734dedc8b"
      },
      "source": [
        "#evaluate the predcitons\n",
        "model_4_results =evaluate_preds(y_true=test_labels,\n",
        "                                y_pred=model_4_preds)\n",
        "\n",
        "model_4_results"
      ],
      "execution_count": 89,
      "outputs": [
        {
          "output_type": "execute_result",
          "data": {
            "text/plain": [
              "{'mae': 570.8284,\n",
              " 'mape': 2.5593357,\n",
              " 'mase': 1.0027875,\n",
              " 'mse': 1176671.2,\n",
              " 'rmse': 1084.7448}"
            ]
          },
          "metadata": {},
          "execution_count": 89
        }
      ]
    },
    {
      "cell_type": "markdown",
      "metadata": {
        "id": "goxzJgrC8sOX"
      },
      "source": [
        "#Model 5 :RNN-LSTM Layer Model\n"
      ]
    },
    {
      "cell_type": "code",
      "metadata": {
        "id": "ZBN3tb0f9Sa4"
      },
      "source": [
        "HORIZON=1\n",
        "WINDOW_SIZE=7"
      ],
      "execution_count": 90,
      "outputs": []
    },
    {
      "cell_type": "code",
      "metadata": {
        "colab": {
          "base_uri": "https://localhost:8080/"
        },
        "id": "uAR2lZup9W8t",
        "outputId": "4c942933-6464-4bbf-8397-d1a42da2dc96"
      },
      "source": [
        "#create windowed data\n",
        "full_windows,full_labels=make_windows(prices,window_size=WINDOW_SIZE,horizon=HORIZON)\n",
        "len(full_windows),len(full_labels)"
      ],
      "execution_count": 91,
      "outputs": [
        {
          "output_type": "stream",
          "name": "stdout",
          "text": [
            "Window indexes :\n",
            " (array([[   0,    1,    2, ...,    5,    6,    7],\n",
            "       [   1,    2,    3, ...,    6,    7,    8],\n",
            "       [   2,    3,    4, ...,    7,    8,    9],\n",
            "       ...,\n",
            "       [2777, 2778, 2779, ..., 2782, 2783, 2784],\n",
            "       [2778, 2779, 2780, ..., 2783, 2784, 2785],\n",
            "       [2779, 2780, 2781, ..., 2784, 2785, 2786]]), (2780, 8))\n",
            "[[  123.65499      125.455        108.58483    ...   120.65533\n",
            "    121.795        123.033     ]\n",
            " [  125.455        108.58483      118.67466    ...   121.795\n",
            "    123.033        124.049     ]\n",
            " [  108.58483      118.67466      121.33866    ...   123.033\n",
            "    124.049        125.96116   ]\n",
            " ...\n",
            " [58788.20967893 58102.19142623 55715.54665129 ... 49764.1320816\n",
            "  50032.69313676 47885.62525472]\n",
            " [58102.19142623 55715.54665129 56573.5554719  ... 50032.69313676\n",
            "  47885.62525472 45604.61575361]\n",
            " [55715.54665129 56573.5554719  52147.82118698 ... 47885.62525472\n",
            "  45604.61575361 43144.47129086]]\n"
          ]
        },
        {
          "output_type": "execute_result",
          "data": {
            "text/plain": [
              "(2780, 2780)"
            ]
          },
          "metadata": {},
          "execution_count": 91
        }
      ]
    },
    {
      "cell_type": "code",
      "metadata": {
        "colab": {
          "base_uri": "https://localhost:8080/"
        },
        "id": "5kWgNKiw9bzr",
        "outputId": "cffc4256-9c12-4346-d026-3a23634ff5da"
      },
      "source": [
        "#craete train/test data\n",
        "train_windows,test_windows,train_labels,test_labels =make_train_test_splits(full_windows,full_labels)\n",
        "len(train_windows),len(test_labels),len(train_labels), len(test_labels)"
      ],
      "execution_count": 92,
      "outputs": [
        {
          "output_type": "execute_result",
          "data": {
            "text/plain": [
              "(2224, 556, 2224, 556)"
            ]
          },
          "metadata": {},
          "execution_count": 92
        }
      ]
    },
    {
      "cell_type": "code",
      "metadata": {
        "colab": {
          "base_uri": "https://localhost:8080/"
        },
        "id": "QEcNGpcG9gzl",
        "outputId": "7173566a-be2b-420e-c852-21a3ed180fa2"
      },
      "source": [
        "test_windows[0].shape"
      ],
      "execution_count": 93,
      "outputs": [
        {
          "output_type": "execute_result",
          "data": {
            "text/plain": [
              "(7,)"
            ]
          },
          "metadata": {},
          "execution_count": 93
        }
      ]
    },
    {
      "cell_type": "code",
      "metadata": {
        "colab": {
          "base_uri": "https://localhost:8080/"
        },
        "id": "UY93EkSx9kQf",
        "outputId": "c6f91aa6-e2a4-4258-e690-686c4ca6204e"
      },
      "source": [
        "x=tf.constant(train_windows[0])\n",
        "x"
      ],
      "execution_count": 94,
      "outputs": [
        {
          "output_type": "execute_result",
          "data": {
            "text/plain": [
              "<tf.Tensor: shape=(7,), dtype=float64, numpy=\n",
              "array([123.65499, 125.455  , 108.58483, 118.67466, 121.33866, 120.65533,\n",
              "       121.795  ])>"
            ]
          },
          "metadata": {},
          "execution_count": 94
        }
      ]
    },
    {
      "cell_type": "code",
      "metadata": {
        "id": "Egbx3z2_9nXC"
      },
      "source": [
        "expand_dims_layer =layers.Lambda(lambda x:tf.expand_dims(x,axis=1))"
      ],
      "execution_count": 95,
      "outputs": []
    },
    {
      "cell_type": "code",
      "metadata": {
        "colab": {
          "base_uri": "https://localhost:8080/"
        },
        "id": "HyjN5g_K9sLo",
        "outputId": "bf770168-6b9e-4374-9635-ab196c5972fd"
      },
      "source": [
        "tf.random.set_seed(42)\n",
        "\n",
        "# Create model\n",
        "model_5 = tf.keras.Sequential([\n",
        "  # Create Lambda layer to reshape inputs, without this layer, the model will error\n",
        "  layers.Lambda(lambda x: tf.expand_dims(x, axis=1)), # resize the inputs to adjust for window size / Conv1D 3D input requirements\n",
        "  layers.LSTM(units=128, activation=\"relu\"),\n",
        "  layers.Dense(HORIZON)\n",
        "], name=\"model_5_LSTM\")\n",
        "\n",
        "# Compile model\n",
        "model_5.compile(loss=\"mae\",\n",
        "                optimizer=tf.keras.optimizers.Adam())\n",
        "\n",
        "# Fit model\n",
        "model_5.fit(train_windows,\n",
        "            train_labels,\n",
        "            batch_size=128, \n",
        "            epochs=100,\n",
        "            verbose=1,\n",
        "            validation_data=(test_windows, test_labels),\n",
        "            callbacks=[create_model_checkpoint(model_name=model_5.name)])"
      ],
      "execution_count": 96,
      "outputs": [
        {
          "output_type": "stream",
          "name": "stdout",
          "text": [
            "WARNING:tensorflow:Layer lstm will not use cuDNN kernels since it doesn't meet the criteria. It will use a generic GPU kernel as fallback when running on GPU.\n",
            "Epoch 1/100\n",
            "18/18 [==============================] - 2s 27ms/step - loss: 2323.6082 - val_loss: 9222.6523\n",
            "INFO:tensorflow:Assets written to: model_experiments/model_5_LSTM/assets\n",
            "Epoch 2/100\n",
            "18/18 [==============================] - 0s 9ms/step - loss: 695.4739 - val_loss: 1486.0555\n",
            "INFO:tensorflow:Assets written to: model_experiments/model_5_LSTM/assets\n",
            "Epoch 3/100\n",
            "18/18 [==============================] - 0s 9ms/step - loss: 237.3967 - val_loss: 1298.9084\n",
            "INFO:tensorflow:Assets written to: model_experiments/model_5_LSTM/assets\n",
            "Epoch 4/100\n",
            "18/18 [==============================] - 0s 9ms/step - loss: 181.9180 - val_loss: 966.6430\n",
            "INFO:tensorflow:Assets written to: model_experiments/model_5_LSTM/assets\n",
            "Epoch 5/100\n",
            "18/18 [==============================] - 0s 10ms/step - loss: 173.4022 - val_loss: 970.9295\n",
            "Epoch 6/100\n",
            "18/18 [==============================] - 0s 10ms/step - loss: 173.5414 - val_loss: 941.4746\n",
            "INFO:tensorflow:Assets written to: model_experiments/model_5_LSTM/assets\n",
            "Epoch 7/100\n",
            "18/18 [==============================] - 0s 9ms/step - loss: 170.3566 - val_loss: 898.5215\n",
            "INFO:tensorflow:Assets written to: model_experiments/model_5_LSTM/assets\n",
            "Epoch 8/100\n",
            "18/18 [==============================] - 0s 10ms/step - loss: 157.6371 - val_loss: 887.1068\n",
            "INFO:tensorflow:Assets written to: model_experiments/model_5_LSTM/assets\n",
            "Epoch 9/100\n",
            "18/18 [==============================] - 0s 9ms/step - loss: 159.0397 - val_loss: 941.6472\n",
            "Epoch 10/100\n",
            "18/18 [==============================] - 0s 9ms/step - loss: 166.8723 - val_loss: 932.8405\n",
            "Epoch 11/100\n",
            "18/18 [==============================] - 0s 10ms/step - loss: 166.4009 - val_loss: 912.6633\n",
            "Epoch 12/100\n",
            "18/18 [==============================] - 0s 9ms/step - loss: 169.3308 - val_loss: 911.7051\n",
            "Epoch 13/100\n",
            "18/18 [==============================] - 0s 10ms/step - loss: 163.4948 - val_loss: 912.0139\n",
            "Epoch 14/100\n",
            "18/18 [==============================] - 0s 10ms/step - loss: 161.2514 - val_loss: 954.6788\n",
            "Epoch 15/100\n",
            "18/18 [==============================] - 0s 10ms/step - loss: 160.0829 - val_loss: 929.0609\n",
            "Epoch 16/100\n",
            "18/18 [==============================] - 0s 9ms/step - loss: 150.1265 - val_loss: 837.1278\n",
            "INFO:tensorflow:Assets written to: model_experiments/model_5_LSTM/assets\n",
            "Epoch 17/100\n",
            "18/18 [==============================] - 0s 9ms/step - loss: 146.4163 - val_loss: 853.6609\n",
            "Epoch 18/100\n",
            "18/18 [==============================] - 0s 9ms/step - loss: 160.1422 - val_loss: 872.8707\n",
            "Epoch 19/100\n",
            "18/18 [==============================] - 0s 9ms/step - loss: 162.7850 - val_loss: 948.1254\n",
            "Epoch 20/100\n",
            "18/18 [==============================] - 0s 10ms/step - loss: 157.5906 - val_loss: 879.2178\n",
            "Epoch 21/100\n",
            "18/18 [==============================] - 0s 9ms/step - loss: 152.0355 - val_loss: 862.6779\n",
            "Epoch 22/100\n",
            "18/18 [==============================] - 0s 9ms/step - loss: 150.7321 - val_loss: 837.5231\n",
            "Epoch 23/100\n",
            "18/18 [==============================] - 0s 9ms/step - loss: 149.8567 - val_loss: 863.5775\n",
            "Epoch 24/100\n",
            "18/18 [==============================] - 0s 10ms/step - loss: 147.5116 - val_loss: 857.3812\n",
            "Epoch 25/100\n",
            "18/18 [==============================] - 0s 9ms/step - loss: 145.9861 - val_loss: 839.5695\n",
            "Epoch 26/100\n",
            "18/18 [==============================] - 0s 9ms/step - loss: 145.0650 - val_loss: 814.3981\n",
            "INFO:tensorflow:Assets written to: model_experiments/model_5_LSTM/assets\n",
            "Epoch 27/100\n",
            "18/18 [==============================] - 0s 10ms/step - loss: 143.5609 - val_loss: 803.5717\n",
            "INFO:tensorflow:Assets written to: model_experiments/model_5_LSTM/assets\n",
            "Epoch 28/100\n",
            "18/18 [==============================] - 0s 9ms/step - loss: 141.8002 - val_loss: 787.3266\n",
            "INFO:tensorflow:Assets written to: model_experiments/model_5_LSTM/assets\n",
            "Epoch 29/100\n",
            "18/18 [==============================] - 0s 10ms/step - loss: 140.9613 - val_loss: 802.5433\n",
            "Epoch 30/100\n",
            "18/18 [==============================] - 0s 9ms/step - loss: 141.4158 - val_loss: 792.4999\n",
            "Epoch 31/100\n",
            "18/18 [==============================] - 0s 9ms/step - loss: 138.1068 - val_loss: 769.0401\n",
            "INFO:tensorflow:Assets written to: model_experiments/model_5_LSTM/assets\n",
            "Epoch 32/100\n",
            "18/18 [==============================] - 0s 9ms/step - loss: 136.2222 - val_loss: 766.1754\n",
            "INFO:tensorflow:Assets written to: model_experiments/model_5_LSTM/assets\n",
            "Epoch 33/100\n",
            "18/18 [==============================] - 0s 9ms/step - loss: 136.6590 - val_loss: 799.5139\n",
            "Epoch 34/100\n",
            "18/18 [==============================] - 0s 8ms/step - loss: 136.5250 - val_loss: 751.2918\n",
            "INFO:tensorflow:Assets written to: model_experiments/model_5_LSTM/assets\n",
            "Epoch 35/100\n",
            "18/18 [==============================] - 0s 9ms/step - loss: 133.8809 - val_loss: 760.8372\n",
            "Epoch 36/100\n",
            "18/18 [==============================] - 0s 9ms/step - loss: 154.6745 - val_loss: 755.5354\n",
            "Epoch 37/100\n",
            "18/18 [==============================] - 0s 9ms/step - loss: 155.9529 - val_loss: 830.3295\n",
            "Epoch 38/100\n",
            "18/18 [==============================] - 0s 9ms/step - loss: 133.3048 - val_loss: 721.6966\n",
            "INFO:tensorflow:Assets written to: model_experiments/model_5_LSTM/assets\n",
            "Epoch 39/100\n",
            "18/18 [==============================] - 0s 10ms/step - loss: 130.8634 - val_loss: 716.1732\n",
            "INFO:tensorflow:Assets written to: model_experiments/model_5_LSTM/assets\n",
            "Epoch 40/100\n",
            "18/18 [==============================] - 0s 10ms/step - loss: 131.4340 - val_loss: 722.9930\n",
            "Epoch 41/100\n",
            "18/18 [==============================] - 0s 9ms/step - loss: 127.9265 - val_loss: 706.7328\n",
            "INFO:tensorflow:Assets written to: model_experiments/model_5_LSTM/assets\n",
            "Epoch 42/100\n",
            "18/18 [==============================] - 0s 10ms/step - loss: 126.9680 - val_loss: 711.0533\n",
            "Epoch 43/100\n",
            "18/18 [==============================] - 0s 9ms/step - loss: 125.9146 - val_loss: 699.5353\n",
            "INFO:tensorflow:Assets written to: model_experiments/model_5_LSTM/assets\n",
            "Epoch 44/100\n",
            "18/18 [==============================] - 0s 9ms/step - loss: 126.0430 - val_loss: 694.9196\n",
            "INFO:tensorflow:Assets written to: model_experiments/model_5_LSTM/assets\n",
            "Epoch 45/100\n",
            "18/18 [==============================] - 0s 10ms/step - loss: 124.3085 - val_loss: 688.0770\n",
            "INFO:tensorflow:Assets written to: model_experiments/model_5_LSTM/assets\n",
            "Epoch 46/100\n",
            "18/18 [==============================] - 0s 10ms/step - loss: 125.3113 - val_loss: 688.4483\n",
            "Epoch 47/100\n",
            "18/18 [==============================] - 0s 11ms/step - loss: 123.8175 - val_loss: 697.9514\n",
            "Epoch 48/100\n",
            "18/18 [==============================] - 0s 10ms/step - loss: 123.1645 - val_loss: 678.4639\n",
            "INFO:tensorflow:Assets written to: model_experiments/model_5_LSTM/assets\n",
            "Epoch 49/100\n",
            "18/18 [==============================] - 0s 9ms/step - loss: 122.5109 - val_loss: 691.3550\n",
            "Epoch 50/100\n",
            "18/18 [==============================] - 0s 9ms/step - loss: 124.5405 - val_loss: 711.7109\n",
            "Epoch 51/100\n",
            "18/18 [==============================] - 0s 9ms/step - loss: 125.1063 - val_loss: 767.2318\n",
            "Epoch 52/100\n",
            "18/18 [==============================] - 0s 9ms/step - loss: 124.1389 - val_loss: 667.4608\n",
            "INFO:tensorflow:Assets written to: model_experiments/model_5_LSTM/assets\n",
            "Epoch 53/100\n",
            "18/18 [==============================] - 0s 9ms/step - loss: 120.9903 - val_loss: 664.1362\n",
            "INFO:tensorflow:Assets written to: model_experiments/model_5_LSTM/assets\n",
            "Epoch 54/100\n",
            "18/18 [==============================] - 0s 9ms/step - loss: 120.4420 - val_loss: 668.9783\n",
            "Epoch 55/100\n",
            "18/18 [==============================] - 0s 10ms/step - loss: 120.3250 - val_loss: 657.9633\n",
            "INFO:tensorflow:Assets written to: model_experiments/model_5_LSTM/assets\n",
            "Epoch 56/100\n",
            "18/18 [==============================] - 0s 9ms/step - loss: 120.8700 - val_loss: 651.8962\n",
            "INFO:tensorflow:Assets written to: model_experiments/model_5_LSTM/assets\n",
            "Epoch 57/100\n",
            "18/18 [==============================] - 0s 9ms/step - loss: 123.8955 - val_loss: 676.6164\n",
            "Epoch 58/100\n",
            "18/18 [==============================] - 0s 9ms/step - loss: 119.2845 - val_loss: 647.5352\n",
            "INFO:tensorflow:Assets written to: model_experiments/model_5_LSTM/assets\n",
            "Epoch 59/100\n",
            "18/18 [==============================] - 0s 10ms/step - loss: 118.8511 - val_loss: 650.0970\n",
            "Epoch 60/100\n",
            "18/18 [==============================] - 0s 10ms/step - loss: 119.7555 - val_loss: 647.5707\n",
            "Epoch 61/100\n",
            "18/18 [==============================] - 0s 9ms/step - loss: 120.2817 - val_loss: 713.6541\n",
            "Epoch 62/100\n",
            "18/18 [==============================] - 0s 9ms/step - loss: 125.3768 - val_loss: 794.2557\n",
            "Epoch 63/100\n",
            "18/18 [==============================] - 0s 9ms/step - loss: 124.9135 - val_loss: 664.7369\n",
            "Epoch 64/100\n",
            "18/18 [==============================] - 0s 10ms/step - loss: 118.2151 - val_loss: 674.3688\n",
            "Epoch 65/100\n",
            "18/18 [==============================] - 0s 10ms/step - loss: 120.2008 - val_loss: 642.3018\n",
            "INFO:tensorflow:Assets written to: model_experiments/model_5_LSTM/assets\n",
            "Epoch 66/100\n",
            "18/18 [==============================] - 0s 10ms/step - loss: 118.4315 - val_loss: 641.6985\n",
            "INFO:tensorflow:Assets written to: model_experiments/model_5_LSTM/assets\n",
            "Epoch 67/100\n",
            "18/18 [==============================] - 0s 9ms/step - loss: 119.0471 - val_loss: 634.3810\n",
            "INFO:tensorflow:Assets written to: model_experiments/model_5_LSTM/assets\n",
            "Epoch 68/100\n",
            "18/18 [==============================] - 0s 9ms/step - loss: 116.6638 - val_loss: 636.2444\n",
            "Epoch 69/100\n",
            "18/18 [==============================] - 0s 9ms/step - loss: 120.7408 - val_loss: 634.6295\n",
            "Epoch 70/100\n",
            "18/18 [==============================] - 0s 10ms/step - loss: 115.4599 - val_loss: 626.6804\n",
            "INFO:tensorflow:Assets written to: model_experiments/model_5_LSTM/assets\n",
            "Epoch 71/100\n",
            "18/18 [==============================] - 0s 10ms/step - loss: 115.9339 - val_loss: 656.0879\n",
            "Epoch 72/100\n",
            "18/18 [==============================] - 0s 9ms/step - loss: 119.8699 - val_loss: 632.4768\n",
            "Epoch 73/100\n",
            "18/18 [==============================] - 0s 9ms/step - loss: 116.7878 - val_loss: 632.6958\n",
            "Epoch 74/100\n",
            "18/18 [==============================] - 0s 9ms/step - loss: 115.9789 - val_loss: 628.7859\n",
            "Epoch 75/100\n",
            "18/18 [==============================] - 0s 9ms/step - loss: 116.2208 - val_loss: 649.0289\n",
            "Epoch 76/100\n",
            "18/18 [==============================] - 0s 9ms/step - loss: 115.7762 - val_loss: 619.4288\n",
            "INFO:tensorflow:Assets written to: model_experiments/model_5_LSTM/assets\n",
            "Epoch 77/100\n",
            "18/18 [==============================] - 0s 10ms/step - loss: 116.0675 - val_loss: 678.6984\n",
            "Epoch 78/100\n",
            "18/18 [==============================] - 0s 10ms/step - loss: 117.8725 - val_loss: 637.9999\n",
            "Epoch 79/100\n",
            "18/18 [==============================] - 0s 10ms/step - loss: 114.5718 - val_loss: 615.1740\n",
            "INFO:tensorflow:Assets written to: model_experiments/model_5_LSTM/assets\n",
            "Epoch 80/100\n",
            "18/18 [==============================] - 0s 10ms/step - loss: 113.9234 - val_loss: 624.7345\n",
            "Epoch 81/100\n",
            "18/18 [==============================] - 0s 9ms/step - loss: 114.3944 - val_loss: 639.4200\n",
            "Epoch 82/100\n",
            "18/18 [==============================] - 0s 9ms/step - loss: 116.8732 - val_loss: 617.3772\n",
            "Epoch 83/100\n",
            "18/18 [==============================] - 0s 8ms/step - loss: 114.0267 - val_loss: 634.4542\n",
            "Epoch 84/100\n",
            "18/18 [==============================] - 0s 9ms/step - loss: 115.1687 - val_loss: 629.7076\n",
            "Epoch 85/100\n",
            "18/18 [==============================] - 0s 10ms/step - loss: 115.5395 - val_loss: 627.2795\n",
            "Epoch 86/100\n",
            "18/18 [==============================] - 0s 10ms/step - loss: 116.9436 - val_loss: 612.4603\n",
            "INFO:tensorflow:Assets written to: model_experiments/model_5_LSTM/assets\n",
            "Epoch 87/100\n",
            "18/18 [==============================] - 0s 10ms/step - loss: 113.0372 - val_loss: 612.8317\n",
            "Epoch 88/100\n",
            "18/18 [==============================] - 0s 9ms/step - loss: 113.1021 - val_loss: 606.8931\n",
            "INFO:tensorflow:Assets written to: model_experiments/model_5_LSTM/assets\n",
            "Epoch 89/100\n",
            "18/18 [==============================] - 0s 10ms/step - loss: 113.0304 - val_loss: 642.7141\n",
            "Epoch 90/100\n",
            "18/18 [==============================] - 0s 10ms/step - loss: 118.6202 - val_loss: 646.4847\n",
            "Epoch 91/100\n",
            "18/18 [==============================] - 0s 9ms/step - loss: 117.4917 - val_loss: 663.0123\n",
            "Epoch 92/100\n",
            "18/18 [==============================] - 0s 10ms/step - loss: 114.2570 - val_loss: 622.4062\n",
            "Epoch 93/100\n",
            "18/18 [==============================] - 0s 9ms/step - loss: 113.8049 - val_loss: 604.2598\n",
            "INFO:tensorflow:Assets written to: model_experiments/model_5_LSTM/assets\n",
            "Epoch 94/100\n",
            "18/18 [==============================] - 0s 9ms/step - loss: 111.5645 - val_loss: 602.4208\n",
            "INFO:tensorflow:Assets written to: model_experiments/model_5_LSTM/assets\n",
            "Epoch 95/100\n",
            "18/18 [==============================] - 0s 9ms/step - loss: 111.9235 - val_loss: 601.1179\n",
            "INFO:tensorflow:Assets written to: model_experiments/model_5_LSTM/assets\n",
            "Epoch 96/100\n",
            "18/18 [==============================] - 0s 10ms/step - loss: 112.3632 - val_loss: 607.5757\n",
            "Epoch 97/100\n",
            "18/18 [==============================] - 0s 10ms/step - loss: 112.2150 - val_loss: 633.6397\n",
            "Epoch 98/100\n",
            "18/18 [==============================] - 0s 9ms/step - loss: 112.6847 - val_loss: 605.8774\n",
            "Epoch 99/100\n",
            "18/18 [==============================] - 0s 9ms/step - loss: 111.3979 - val_loss: 598.6749\n",
            "INFO:tensorflow:Assets written to: model_experiments/model_5_LSTM/assets\n",
            "Epoch 100/100\n",
            "18/18 [==============================] - 0s 9ms/step - loss: 112.0812 - val_loss: 599.3067\n"
          ]
        },
        {
          "output_type": "execute_result",
          "data": {
            "text/plain": [
              "<keras.callbacks.History at 0x7ffadf383510>"
            ]
          },
          "metadata": {},
          "execution_count": 96
        }
      ]
    },
    {
      "cell_type": "code",
      "metadata": {
        "colab": {
          "base_uri": "https://localhost:8080/"
        },
        "id": "Y6ywDy3y-_Xc",
        "outputId": "ae26f6a6-eeee-40ab-bc3e-ae0591afc5dc"
      },
      "source": [
        "model_5.summary()"
      ],
      "execution_count": 97,
      "outputs": [
        {
          "output_type": "stream",
          "name": "stdout",
          "text": [
            "Model: \"model_5_LSTM\"\n",
            "_________________________________________________________________\n",
            "Layer (type)                 Output Shape              Param #   \n",
            "=================================================================\n",
            "lambda_3 (Lambda)            (None, 1, 7)              0         \n",
            "_________________________________________________________________\n",
            "lstm (LSTM)                  (None, 128)               69632     \n",
            "_________________________________________________________________\n",
            "dense_7 (Dense)              (None, 1)                 129       \n",
            "=================================================================\n",
            "Total params: 69,761\n",
            "Trainable params: 69,761\n",
            "Non-trainable params: 0\n",
            "_________________________________________________________________\n"
          ]
        }
      ]
    },
    {
      "cell_type": "code",
      "metadata": {
        "colab": {
          "base_uri": "https://localhost:8080/"
        },
        "id": "7ytWuZLI_AU7",
        "outputId": "1e05d164-b4c4-4d32-8dd1-f1c54972e62d"
      },
      "source": [
        "#evaluate the model\n",
        "model_5.evaluate(test_windows,test_labels)"
      ],
      "execution_count": 98,
      "outputs": [
        {
          "output_type": "stream",
          "name": "stdout",
          "text": [
            "18/18 [==============================] - 0s 2ms/step - loss: 599.3067\n"
          ]
        },
        {
          "output_type": "execute_result",
          "data": {
            "text/plain": [
              "599.3067016601562"
            ]
          },
          "metadata": {},
          "execution_count": 98
        }
      ]
    },
    {
      "cell_type": "code",
      "metadata": {
        "colab": {
          "base_uri": "https://localhost:8080/"
        },
        "id": "rP3R094t_H00",
        "outputId": "8e659899-abeb-4ebf-8263-d9d1b42d6fbd"
      },
      "source": [
        "#load the best parameters\n",
        "model_5=tf.keras.models.load_model(\"/content/model_experiments/model_5_LSTM/\")\n",
        "model_5.evaluate(test_windows,test_labels)"
      ],
      "execution_count": 99,
      "outputs": [
        {
          "output_type": "stream",
          "name": "stdout",
          "text": [
            "WARNING:tensorflow:Layer lstm will not use cuDNN kernels since it doesn't meet the criteria. It will use a generic GPU kernel as fallback when running on GPU.\n",
            "18/18 [==============================] - 0s 3ms/step - loss: 598.6749\n"
          ]
        },
        {
          "output_type": "execute_result",
          "data": {
            "text/plain": [
              "598.6749267578125"
            ]
          },
          "metadata": {},
          "execution_count": 99
        }
      ]
    },
    {
      "cell_type": "code",
      "metadata": {
        "colab": {
          "base_uri": "https://localhost:8080/"
        },
        "id": "EgefFk7L_NDG",
        "outputId": "23572bc0-c302-4c5d-f857-c3351d826fa0"
      },
      "source": [
        "#make predcitons\n",
        "model_5_preds=make_preds(model_5,test_windows)\n",
        "model_5_preds[:10]"
      ],
      "execution_count": 100,
      "outputs": [
        {
          "output_type": "execute_result",
          "data": {
            "text/plain": [
              "<tf.Tensor: shape=(10,), dtype=float32, numpy=\n",
              "array([8983.033, 8811.561, 8991.205, 8832.373, 8724.737, 8774.172,\n",
              "       8732.739, 8537.5  , 8501.837, 8527.82 ], dtype=float32)>"
            ]
          },
          "metadata": {},
          "execution_count": 100
        }
      ]
    },
    {
      "cell_type": "code",
      "metadata": {
        "colab": {
          "base_uri": "https://localhost:8080/"
        },
        "id": "uCW9hp8e_Wri",
        "outputId": "73d82268-5b4e-447e-f502-2cc5ce49fee8"
      },
      "source": [
        "#evaluate the predcitons\n",
        "model_5_results =evaluate_preds(y_true=test_labels,\n",
        "                                y_pred=model_5_preds)\n",
        "\n",
        "model_5_results"
      ],
      "execution_count": 101,
      "outputs": [
        {
          "output_type": "execute_result",
          "data": {
            "text/plain": [
              "{'mae': 598.67487,\n",
              " 'mape': 2.6902084,\n",
              " 'mase': 1.051706,\n",
              " 'mse': 1279866.4,\n",
              " 'rmse': 1131.3118}"
            ]
          },
          "metadata": {},
          "execution_count": 101
        }
      ]
    },
    {
      "cell_type": "code",
      "metadata": {
        "colab": {
          "base_uri": "https://localhost:8080/"
        },
        "id": "OygV6F6o_Y9F",
        "outputId": "2b5c6611-d262-4193-c85d-0291c0ee2ce7"
      },
      "source": [
        "naive_results"
      ],
      "execution_count": 102,
      "outputs": [
        {
          "output_type": "execute_result",
          "data": {
            "text/plain": [
              "{'mae': 567.9802,\n",
              " 'mape': 2.516525,\n",
              " 'mase': 0.99957,\n",
              " 'mse': 1147547.0,\n",
              " 'rmse': 1071.2362}"
            ]
          },
          "metadata": {},
          "execution_count": 102
        }
      ]
    },
    {
      "cell_type": "markdown",
      "metadata": {
        "id": "B3_hVhzSW1bL"
      },
      "source": [
        "#Built multivariate dataset\n",
        "\n"
      ]
    },
    {
      "cell_type": "code",
      "metadata": {
        "colab": {
          "base_uri": "https://localhost:8080/",
          "height": 234
        },
        "id": "q2ncKPs-XrLE",
        "outputId": "ceb35b99-b0fe-43b7-fceb-f04104d73155"
      },
      "source": [
        "bitcoin_prices.head()"
      ],
      "execution_count": 103,
      "outputs": [
        {
          "output_type": "execute_result",
          "data": {
            "text/html": [
              "<div>\n",
              "<style scoped>\n",
              "    .dataframe tbody tr th:only-of-type {\n",
              "        vertical-align: middle;\n",
              "    }\n",
              "\n",
              "    .dataframe tbody tr th {\n",
              "        vertical-align: top;\n",
              "    }\n",
              "\n",
              "    .dataframe thead th {\n",
              "        text-align: right;\n",
              "    }\n",
              "</style>\n",
              "<table border=\"1\" class=\"dataframe\">\n",
              "  <thead>\n",
              "    <tr style=\"text-align: right;\">\n",
              "      <th></th>\n",
              "      <th>Price</th>\n",
              "    </tr>\n",
              "    <tr>\n",
              "      <th>Date</th>\n",
              "      <th></th>\n",
              "    </tr>\n",
              "  </thead>\n",
              "  <tbody>\n",
              "    <tr>\n",
              "      <th>2013-10-01</th>\n",
              "      <td>123.65499</td>\n",
              "    </tr>\n",
              "    <tr>\n",
              "      <th>2013-10-02</th>\n",
              "      <td>125.45500</td>\n",
              "    </tr>\n",
              "    <tr>\n",
              "      <th>2013-10-03</th>\n",
              "      <td>108.58483</td>\n",
              "    </tr>\n",
              "    <tr>\n",
              "      <th>2013-10-04</th>\n",
              "      <td>118.67466</td>\n",
              "    </tr>\n",
              "    <tr>\n",
              "      <th>2013-10-05</th>\n",
              "      <td>121.33866</td>\n",
              "    </tr>\n",
              "  </tbody>\n",
              "</table>\n",
              "</div>"
            ],
            "text/plain": [
              "                Price\n",
              "Date                 \n",
              "2013-10-01  123.65499\n",
              "2013-10-02  125.45500\n",
              "2013-10-03  108.58483\n",
              "2013-10-04  118.67466\n",
              "2013-10-05  121.33866"
            ]
          },
          "metadata": {},
          "execution_count": 103
        }
      ]
    },
    {
      "cell_type": "code",
      "metadata": {
        "id": "P8viniEqZDOl"
      },
      "source": [
        "#add halving events\n",
        "block_reward_1 =50\n",
        "block_reward_2 =25\n",
        "block_reward_3 =12.5\n",
        "block_reward_4 =6.25\n",
        "block_reward_5 =3.125\n",
        "\n",
        "#block reward date\n",
        "block_reward_2_datetime =np.datetime64(\"2012-11-28\")\n",
        "block_reward_3_datetime =np.datetime64(\"2016-07-09\")\n",
        "block_reward_4_datetime =np.datetime64(\"2020-05-18\")\n"
      ],
      "execution_count": 104,
      "outputs": []
    },
    {
      "cell_type": "code",
      "metadata": {
        "colab": {
          "base_uri": "https://localhost:8080/"
        },
        "id": "3PyKy8KbaZod",
        "outputId": "66af47c5-68f4-42a4-dc1e-92ae89edeb3d"
      },
      "source": [
        "#create data rangers for the values\n",
        "block_reward_2_days=(block_reward_3_datetime-bitcoin_prices.index[0]).days\n",
        "block_reward_3_days=(block_reward_4_datetime-bitcoin_prices.index[0]).days\n",
        "block_reward_2_days,block_reward_3_days"
      ],
      "execution_count": 105,
      "outputs": [
        {
          "output_type": "execute_result",
          "data": {
            "text/plain": [
              "(1012, 2421)"
            ]
          },
          "metadata": {},
          "execution_count": 105
        }
      ]
    },
    {
      "cell_type": "code",
      "metadata": {
        "id": "cBOgZ400baoU"
      },
      "source": [
        "#add block reward column\n",
        "bitcoin_prices_block =bitcoin_prices.copy()\n",
        "bitcoin_prices_block[\"block_reward\"]=None\n",
        "\n"
      ],
      "execution_count": 106,
      "outputs": []
    },
    {
      "cell_type": "code",
      "metadata": {
        "id": "58-TGGaja370"
      },
      "source": [
        "#add block reawrd values to the feature\n",
        "bitcoin_prices_block.iloc[:block_reward_2_days,-1] =block_reward_2\n",
        "bitcoin_prices_block.iloc[block_reward_2_days:block_reward_3_days,-1] =block_reward_3\n",
        "bitcoin_prices_block.iloc[block_reward_3_days:,-1] =block_reward_4"
      ],
      "execution_count": 107,
      "outputs": []
    },
    {
      "cell_type": "code",
      "metadata": {
        "colab": {
          "base_uri": "https://localhost:8080/",
          "height": 234
        },
        "id": "eTFETS9Ob9Oe",
        "outputId": "d09fbfe7-e329-47cd-d139-a12c88a3ce1e"
      },
      "source": [
        "bitcoin_prices_block.head()"
      ],
      "execution_count": 108,
      "outputs": [
        {
          "output_type": "execute_result",
          "data": {
            "text/html": [
              "<div>\n",
              "<style scoped>\n",
              "    .dataframe tbody tr th:only-of-type {\n",
              "        vertical-align: middle;\n",
              "    }\n",
              "\n",
              "    .dataframe tbody tr th {\n",
              "        vertical-align: top;\n",
              "    }\n",
              "\n",
              "    .dataframe thead th {\n",
              "        text-align: right;\n",
              "    }\n",
              "</style>\n",
              "<table border=\"1\" class=\"dataframe\">\n",
              "  <thead>\n",
              "    <tr style=\"text-align: right;\">\n",
              "      <th></th>\n",
              "      <th>Price</th>\n",
              "      <th>block_reward</th>\n",
              "    </tr>\n",
              "    <tr>\n",
              "      <th>Date</th>\n",
              "      <th></th>\n",
              "      <th></th>\n",
              "    </tr>\n",
              "  </thead>\n",
              "  <tbody>\n",
              "    <tr>\n",
              "      <th>2013-10-01</th>\n",
              "      <td>123.65499</td>\n",
              "      <td>25</td>\n",
              "    </tr>\n",
              "    <tr>\n",
              "      <th>2013-10-02</th>\n",
              "      <td>125.45500</td>\n",
              "      <td>25</td>\n",
              "    </tr>\n",
              "    <tr>\n",
              "      <th>2013-10-03</th>\n",
              "      <td>108.58483</td>\n",
              "      <td>25</td>\n",
              "    </tr>\n",
              "    <tr>\n",
              "      <th>2013-10-04</th>\n",
              "      <td>118.67466</td>\n",
              "      <td>25</td>\n",
              "    </tr>\n",
              "    <tr>\n",
              "      <th>2013-10-05</th>\n",
              "      <td>121.33866</td>\n",
              "      <td>25</td>\n",
              "    </tr>\n",
              "  </tbody>\n",
              "</table>\n",
              "</div>"
            ],
            "text/plain": [
              "                Price block_reward\n",
              "Date                              \n",
              "2013-10-01  123.65499           25\n",
              "2013-10-02  125.45500           25\n",
              "2013-10-03  108.58483           25\n",
              "2013-10-04  118.67466           25\n",
              "2013-10-05  121.33866           25"
            ]
          },
          "metadata": {},
          "execution_count": 108
        }
      ]
    },
    {
      "cell_type": "code",
      "metadata": {
        "colab": {
          "base_uri": "https://localhost:8080/",
          "height": 234
        },
        "id": "dym3zbC8caqp",
        "outputId": "7a2bded1-1fd6-4a2c-aa62-23f9635497f6"
      },
      "source": [
        "bitcoin_prices_block.tail()"
      ],
      "execution_count": 109,
      "outputs": [
        {
          "output_type": "execute_result",
          "data": {
            "text/html": [
              "<div>\n",
              "<style scoped>\n",
              "    .dataframe tbody tr th:only-of-type {\n",
              "        vertical-align: middle;\n",
              "    }\n",
              "\n",
              "    .dataframe tbody tr th {\n",
              "        vertical-align: top;\n",
              "    }\n",
              "\n",
              "    .dataframe thead th {\n",
              "        text-align: right;\n",
              "    }\n",
              "</style>\n",
              "<table border=\"1\" class=\"dataframe\">\n",
              "  <thead>\n",
              "    <tr style=\"text-align: right;\">\n",
              "      <th></th>\n",
              "      <th>Price</th>\n",
              "      <th>block_reward</th>\n",
              "    </tr>\n",
              "    <tr>\n",
              "      <th>Date</th>\n",
              "      <th></th>\n",
              "      <th></th>\n",
              "    </tr>\n",
              "  </thead>\n",
              "  <tbody>\n",
              "    <tr>\n",
              "      <th>2021-05-14</th>\n",
              "      <td>49764.132082</td>\n",
              "      <td>6.25</td>\n",
              "    </tr>\n",
              "    <tr>\n",
              "      <th>2021-05-15</th>\n",
              "      <td>50032.693137</td>\n",
              "      <td>6.25</td>\n",
              "    </tr>\n",
              "    <tr>\n",
              "      <th>2021-05-16</th>\n",
              "      <td>47885.625255</td>\n",
              "      <td>6.25</td>\n",
              "    </tr>\n",
              "    <tr>\n",
              "      <th>2021-05-17</th>\n",
              "      <td>45604.615754</td>\n",
              "      <td>6.25</td>\n",
              "    </tr>\n",
              "    <tr>\n",
              "      <th>2021-05-18</th>\n",
              "      <td>43144.471291</td>\n",
              "      <td>6.25</td>\n",
              "    </tr>\n",
              "  </tbody>\n",
              "</table>\n",
              "</div>"
            ],
            "text/plain": [
              "                   Price block_reward\n",
              "Date                                 \n",
              "2021-05-14  49764.132082         6.25\n",
              "2021-05-15  50032.693137         6.25\n",
              "2021-05-16  47885.625255         6.25\n",
              "2021-05-17  45604.615754         6.25\n",
              "2021-05-18  43144.471291         6.25"
            ]
          },
          "metadata": {},
          "execution_count": 109
        }
      ]
    },
    {
      "cell_type": "code",
      "metadata": {
        "colab": {
          "base_uri": "https://localhost:8080/",
          "height": 459
        },
        "id": "X2oaFU0lcc_S",
        "outputId": "e678e6e4-7bb5-4dc7-fcb0-9fd38f2b5fc1"
      },
      "source": [
        "#plot the block reward with time\n",
        "from sklearn.preprocessing import minmax_scale\n",
        "scaled_price_block_df=pd.DataFrame(minmax_scale(bitcoin_prices_block[[\"Price\",\"block_reward\"]]),\n",
        "                                                                     columns=bitcoin_prices_block.columns,\n",
        "                                                                     index=bitcoin_prices_block.index)\n",
        "\n",
        "scaled_price_block_df.plot(figsize=(10,7))"
      ],
      "execution_count": 110,
      "outputs": [
        {
          "output_type": "execute_result",
          "data": {
            "text/plain": [
              "<matplotlib.axes._subplots.AxesSubplot at 0x7ffa7b387450>"
            ]
          },
          "metadata": {},
          "execution_count": 110
        },
        {
          "output_type": "display_data",
          "data": {
            "image/png": "[encoded data removed]",
            "text/plain": [
              "<Figure size 720x504 with 1 Axes>"
            ]
          },
          "metadata": {
            "needs_background": "light"
          }
        }
      ]
    },
    {
      "cell_type": "markdown",
      "metadata": {
        "id": "ZM5HhouO0_Rk"
      },
      "source": [
        "#Make windowed dataset with pandas"
      ]
    },
    {
      "cell_type": "code",
      "metadata": {
        "id": "vd67z5-g_hlE"
      },
      "source": [
        "#setup dataset parameters\n",
        "HORIZON=1\n",
        "WINDOW_SIZE=7"
      ],
      "execution_count": 111,
      "outputs": []
    },
    {
      "cell_type": "code",
      "metadata": {
        "colab": {
          "base_uri": "https://localhost:8080/",
          "height": 447
        },
        "id": "ELN3jRTeAeNY",
        "outputId": "e4636e2d-5b77-4446-d6b8-2e8f674b52b6"
      },
      "source": [
        "#make copy of the dataset\n",
        "bitcoin_prices_windowed =bitcoin_prices_block.copy()\n",
        "bitcoin_prices_windowed"
      ],
      "execution_count": 112,
      "outputs": [
        {
          "output_type": "execute_result",
          "data": {
            "text/html": [
              "<div>\n",
              "<style scoped>\n",
              "    .dataframe tbody tr th:only-of-type {\n",
              "        vertical-align: middle;\n",
              "    }\n",
              "\n",
              "    .dataframe tbody tr th {\n",
              "        vertical-align: top;\n",
              "    }\n",
              "\n",
              "    .dataframe thead th {\n",
              "        text-align: right;\n",
              "    }\n",
              "</style>\n",
              "<table border=\"1\" class=\"dataframe\">\n",
              "  <thead>\n",
              "    <tr style=\"text-align: right;\">\n",
              "      <th></th>\n",
              "      <th>Price</th>\n",
              "      <th>block_reward</th>\n",
              "    </tr>\n",
              "    <tr>\n",
              "      <th>Date</th>\n",
              "      <th></th>\n",
              "      <th></th>\n",
              "    </tr>\n",
              "  </thead>\n",
              "  <tbody>\n",
              "    <tr>\n",
              "      <th>2013-10-01</th>\n",
              "      <td>123.654990</td>\n",
              "      <td>25</td>\n",
              "    </tr>\n",
              "    <tr>\n",
              "      <th>2013-10-02</th>\n",
              "      <td>125.455000</td>\n",
              "      <td>25</td>\n",
              "    </tr>\n",
              "    <tr>\n",
              "      <th>2013-10-03</th>\n",
              "      <td>108.584830</td>\n",
              "      <td>25</td>\n",
              "    </tr>\n",
              "    <tr>\n",
              "      <th>2013-10-04</th>\n",
              "      <td>118.674660</td>\n",
              "      <td>25</td>\n",
              "    </tr>\n",
              "    <tr>\n",
              "      <th>2013-10-05</th>\n",
              "      <td>121.338660</td>\n",
              "      <td>25</td>\n",
              "    </tr>\n",
              "    <tr>\n",
              "      <th>...</th>\n",
              "      <td>...</td>\n",
              "      <td>...</td>\n",
              "    </tr>\n",
              "    <tr>\n",
              "      <th>2021-05-14</th>\n",
              "      <td>49764.132082</td>\n",
              "      <td>6.25</td>\n",
              "    </tr>\n",
              "    <tr>\n",
              "      <th>2021-05-15</th>\n",
              "      <td>50032.693137</td>\n",
              "      <td>6.25</td>\n",
              "    </tr>\n",
              "    <tr>\n",
              "      <th>2021-05-16</th>\n",
              "      <td>47885.625255</td>\n",
              "      <td>6.25</td>\n",
              "    </tr>\n",
              "    <tr>\n",
              "      <th>2021-05-17</th>\n",
              "      <td>45604.615754</td>\n",
              "      <td>6.25</td>\n",
              "    </tr>\n",
              "    <tr>\n",
              "      <th>2021-05-18</th>\n",
              "      <td>43144.471291</td>\n",
              "      <td>6.25</td>\n",
              "    </tr>\n",
              "  </tbody>\n",
              "</table>\n",
              "<p>2787 rows × 2 columns</p>\n",
              "</div>"
            ],
            "text/plain": [
              "                   Price block_reward\n",
              "Date                                 \n",
              "2013-10-01    123.654990           25\n",
              "2013-10-02    125.455000           25\n",
              "2013-10-03    108.584830           25\n",
              "2013-10-04    118.674660           25\n",
              "2013-10-05    121.338660           25\n",
              "...                  ...          ...\n",
              "2021-05-14  49764.132082         6.25\n",
              "2021-05-15  50032.693137         6.25\n",
              "2021-05-16  47885.625255         6.25\n",
              "2021-05-17  45604.615754         6.25\n",
              "2021-05-18  43144.471291         6.25\n",
              "\n",
              "[2787 rows x 2 columns]"
            ]
          },
          "metadata": {},
          "execution_count": 112
        }
      ]
    },
    {
      "cell_type": "code",
      "metadata": {
        "colab": {
          "base_uri": "https://localhost:8080/",
          "height": 234
        },
        "id": "MjV2uIpFA8h-",
        "outputId": "68849950-21bd-45af-e271-a04b77b71b75"
      },
      "source": [
        "#add windowed columns\n",
        "for i in range(WINDOW_SIZE):\n",
        "  bitcoin_prices_windowed[f\"Price {i+1}\"] =bitcoin_prices_windowed[\"Price\"].shift(periods =i+1)\n",
        "\n",
        "bitcoin_prices_windowed.head()"
      ],
      "execution_count": 113,
      "outputs": [
        {
          "output_type": "execute_result",
          "data": {
            "text/html": [
              "<div>\n",
              "<style scoped>\n",
              "    .dataframe tbody tr th:only-of-type {\n",
              "        vertical-align: middle;\n",
              "    }\n",
              "\n",
              "    .dataframe tbody tr th {\n",
              "        vertical-align: top;\n",
              "    }\n",
              "\n",
              "    .dataframe thead th {\n",
              "        text-align: right;\n",
              "    }\n",
              "</style>\n",
              "<table border=\"1\" class=\"dataframe\">\n",
              "  <thead>\n",
              "    <tr style=\"text-align: right;\">\n",
              "      <th></th>\n",
              "      <th>Price</th>\n",
              "      <th>block_reward</th>\n",
              "      <th>Price 1</th>\n",
              "      <th>Price 2</th>\n",
              "      <th>Price 3</th>\n",
              "      <th>Price 4</th>\n",
              "      <th>Price 5</th>\n",
              "      <th>Price 6</th>\n",
              "      <th>Price 7</th>\n",
              "    </tr>\n",
              "    <tr>\n",
              "      <th>Date</th>\n",
              "      <th></th>\n",
              "      <th></th>\n",
              "      <th></th>\n",
              "      <th></th>\n",
              "      <th></th>\n",
              "      <th></th>\n",
              "      <th></th>\n",
              "      <th></th>\n",
              "      <th></th>\n",
              "    </tr>\n",
              "  </thead>\n",
              "  <tbody>\n",
              "    <tr>\n",
              "      <th>2013-10-01</th>\n",
              "      <td>123.65499</td>\n",
              "      <td>25</td>\n",
              "      <td>NaN</td>\n",
              "      <td>NaN</td>\n",
              "      <td>NaN</td>\n",
              "      <td>NaN</td>\n",
              "      <td>NaN</td>\n",
              "      <td>NaN</td>\n",
              "      <td>NaN</td>\n",
              "    </tr>\n",
              "    <tr>\n",
              "      <th>2013-10-02</th>\n",
              "      <td>125.45500</td>\n",
              "      <td>25</td>\n",
              "      <td>123.65499</td>\n",
              "      <td>NaN</td>\n",
              "      <td>NaN</td>\n",
              "      <td>NaN</td>\n",
              "      <td>NaN</td>\n",
              "      <td>NaN</td>\n",
              "      <td>NaN</td>\n",
              "    </tr>\n",
              "    <tr>\n",
              "      <th>2013-10-03</th>\n",
              "      <td>108.58483</td>\n",
              "      <td>25</td>\n",
              "      <td>125.45500</td>\n",
              "      <td>123.65499</td>\n",
              "      <td>NaN</td>\n",
              "      <td>NaN</td>\n",
              "      <td>NaN</td>\n",
              "      <td>NaN</td>\n",
              "      <td>NaN</td>\n",
              "    </tr>\n",
              "    <tr>\n",
              "      <th>2013-10-04</th>\n",
              "      <td>118.67466</td>\n",
              "      <td>25</td>\n",
              "      <td>108.58483</td>\n",
              "      <td>125.45500</td>\n",
              "      <td>123.65499</td>\n",
              "      <td>NaN</td>\n",
              "      <td>NaN</td>\n",
              "      <td>NaN</td>\n",
              "      <td>NaN</td>\n",
              "    </tr>\n",
              "    <tr>\n",
              "      <th>2013-10-05</th>\n",
              "      <td>121.33866</td>\n",
              "      <td>25</td>\n",
              "      <td>118.67466</td>\n",
              "      <td>108.58483</td>\n",
              "      <td>125.45500</td>\n",
              "      <td>123.65499</td>\n",
              "      <td>NaN</td>\n",
              "      <td>NaN</td>\n",
              "      <td>NaN</td>\n",
              "    </tr>\n",
              "  </tbody>\n",
              "</table>\n",
              "</div>"
            ],
            "text/plain": [
              "                Price block_reward    Price 1  ...  Price 5  Price 6  Price 7\n",
              "Date                                           ...                           \n",
              "2013-10-01  123.65499           25        NaN  ...      NaN      NaN      NaN\n",
              "2013-10-02  125.45500           25  123.65499  ...      NaN      NaN      NaN\n",
              "2013-10-03  108.58483           25  125.45500  ...      NaN      NaN      NaN\n",
              "2013-10-04  118.67466           25  108.58483  ...      NaN      NaN      NaN\n",
              "2013-10-05  121.33866           25  118.67466  ...      NaN      NaN      NaN\n",
              "\n",
              "[5 rows x 9 columns]"
            ]
          },
          "metadata": {},
          "execution_count": 113
        }
      ]
    },
    {
      "cell_type": "code",
      "metadata": {
        "colab": {
          "base_uri": "https://localhost:8080/",
          "height": 234
        },
        "id": "1HIjL_jOBd2l",
        "outputId": "7a89252f-d793-45b1-d2c7-f7fd99592082"
      },
      "source": [
        "#create X windows and y horizon features\n",
        "X =bitcoin_prices_windowed.dropna().drop(\"Price\",axis=1).astype(np.float32)\n",
        "y =bitcoin_prices_windowed.dropna()[\"Price\"].astype(np.float32)\n",
        "X.head()"
      ],
      "execution_count": 114,
      "outputs": [
        {
          "output_type": "execute_result",
          "data": {
            "text/html": [
              "<div>\n",
              "<style scoped>\n",
              "    .dataframe tbody tr th:only-of-type {\n",
              "        vertical-align: middle;\n",
              "    }\n",
              "\n",
              "    .dataframe tbody tr th {\n",
              "        vertical-align: top;\n",
              "    }\n",
              "\n",
              "    .dataframe thead th {\n",
              "        text-align: right;\n",
              "    }\n",
              "</style>\n",
              "<table border=\"1\" class=\"dataframe\">\n",
              "  <thead>\n",
              "    <tr style=\"text-align: right;\">\n",
              "      <th></th>\n",
              "      <th>block_reward</th>\n",
              "      <th>Price 1</th>\n",
              "      <th>Price 2</th>\n",
              "      <th>Price 3</th>\n",
              "      <th>Price 4</th>\n",
              "      <th>Price 5</th>\n",
              "      <th>Price 6</th>\n",
              "      <th>Price 7</th>\n",
              "    </tr>\n",
              "    <tr>\n",
              "      <th>Date</th>\n",
              "      <th></th>\n",
              "      <th></th>\n",
              "      <th></th>\n",
              "      <th></th>\n",
              "      <th></th>\n",
              "      <th></th>\n",
              "      <th></th>\n",
              "      <th></th>\n",
              "    </tr>\n",
              "  </thead>\n",
              "  <tbody>\n",
              "    <tr>\n",
              "      <th>2013-10-08</th>\n",
              "      <td>25.0</td>\n",
              "      <td>121.794998</td>\n",
              "      <td>120.655327</td>\n",
              "      <td>121.338661</td>\n",
              "      <td>118.674660</td>\n",
              "      <td>108.584831</td>\n",
              "      <td>125.455002</td>\n",
              "      <td>123.654991</td>\n",
              "    </tr>\n",
              "    <tr>\n",
              "      <th>2013-10-09</th>\n",
              "      <td>25.0</td>\n",
              "      <td>123.032997</td>\n",
              "      <td>121.794998</td>\n",
              "      <td>120.655327</td>\n",
              "      <td>121.338661</td>\n",
              "      <td>118.674660</td>\n",
              "      <td>108.584831</td>\n",
              "      <td>125.455002</td>\n",
              "    </tr>\n",
              "    <tr>\n",
              "      <th>2013-10-10</th>\n",
              "      <td>25.0</td>\n",
              "      <td>124.049004</td>\n",
              "      <td>123.032997</td>\n",
              "      <td>121.794998</td>\n",
              "      <td>120.655327</td>\n",
              "      <td>121.338661</td>\n",
              "      <td>118.674660</td>\n",
              "      <td>108.584831</td>\n",
              "    </tr>\n",
              "    <tr>\n",
              "      <th>2013-10-11</th>\n",
              "      <td>25.0</td>\n",
              "      <td>125.961159</td>\n",
              "      <td>124.049004</td>\n",
              "      <td>123.032997</td>\n",
              "      <td>121.794998</td>\n",
              "      <td>120.655327</td>\n",
              "      <td>121.338661</td>\n",
              "      <td>118.674660</td>\n",
              "    </tr>\n",
              "    <tr>\n",
              "      <th>2013-10-12</th>\n",
              "      <td>25.0</td>\n",
              "      <td>125.279663</td>\n",
              "      <td>125.961159</td>\n",
              "      <td>124.049004</td>\n",
              "      <td>123.032997</td>\n",
              "      <td>121.794998</td>\n",
              "      <td>120.655327</td>\n",
              "      <td>121.338661</td>\n",
              "    </tr>\n",
              "  </tbody>\n",
              "</table>\n",
              "</div>"
            ],
            "text/plain": [
              "            block_reward     Price 1  ...     Price 6     Price 7\n",
              "Date                                  ...                        \n",
              "2013-10-08          25.0  121.794998  ...  125.455002  123.654991\n",
              "2013-10-09          25.0  123.032997  ...  108.584831  125.455002\n",
              "2013-10-10          25.0  124.049004  ...  118.674660  108.584831\n",
              "2013-10-11          25.0  125.961159  ...  121.338661  118.674660\n",
              "2013-10-12          25.0  125.279663  ...  120.655327  121.338661\n",
              "\n",
              "[5 rows x 8 columns]"
            ]
          },
          "metadata": {},
          "execution_count": 114
        }
      ]
    },
    {
      "cell_type": "code",
      "metadata": {
        "colab": {
          "base_uri": "https://localhost:8080/"
        },
        "id": "Ulvxt1CdCX0A",
        "outputId": "d18b9890-1fb8-4d0d-8147-773c08508d9f"
      },
      "source": [
        "y.head()\n"
      ],
      "execution_count": 115,
      "outputs": [
        {
          "output_type": "execute_result",
          "data": {
            "text/plain": [
              "Date\n",
              "2013-10-08    123.032997\n",
              "2013-10-09    124.049004\n",
              "2013-10-10    125.961159\n",
              "2013-10-11    125.279663\n",
              "2013-10-12    125.927498\n",
              "Name: Price, dtype: float32"
            ]
          },
          "metadata": {},
          "execution_count": 115
        }
      ]
    },
    {
      "cell_type": "code",
      "metadata": {
        "colab": {
          "base_uri": "https://localhost:8080/"
        },
        "id": "2kCahpS1Cb3H",
        "outputId": "e4adacc4-844e-427e-d57a-a53599ff1822"
      },
      "source": [
        "#make train and test dataset\n",
        "split_size=int(len(X)*0.8)\n",
        "X_train,y_train =X[:split_size],y[:split_size]\n",
        "X_test,y_test =X[split_size:],y[split_size:]\n",
        "len(X_train),len(X_test),len(y_train),len(y_test)"
      ],
      "execution_count": 116,
      "outputs": [
        {
          "output_type": "execute_result",
          "data": {
            "text/plain": [
              "(2224, 556, 2224, 556)"
            ]
          },
          "metadata": {},
          "execution_count": 116
        }
      ]
    },
    {
      "cell_type": "markdown",
      "metadata": {
        "id": "q8jFaqySDys_"
      },
      "source": [
        "#Model 6 -Dense (Multivariate Time Series)"
      ]
    },
    {
      "cell_type": "code",
      "metadata": {
        "colab": {
          "base_uri": "https://localhost:8080/"
        },
        "id": "zOiJlU2PDEAU",
        "outputId": "31574f4f-89f8-4eec-b666-4df694ff3c26"
      },
      "source": [
        "import tensorflow as tf\n",
        "from tensorflow.keras import layers\n",
        "\n",
        "#set a random seed for as reprodicibale results as possible\n",
        "tf.random.set_seed(42)\n",
        "\n",
        "#construct the model\n",
        "model_6 =tf.keras.Sequential([\n",
        "                              layers.Dense(128,activation=\"relu\"),\n",
        "                              layers.Dense(64,activation=\"relu\"),\n",
        "                              layers.Dense(HORIZON,activation=\"linear\")\n",
        "],name=\"model_6_dense\")\n",
        "\n",
        "#compile the model\n",
        "model_6.compile(loss=\"mae\",\n",
        "                optimizer=tf.keras.optimizers.Adam(),\n",
        "                metrics=[\"mae\",\"mse\"])\n",
        "\n",
        "#fit the model\n",
        "model_6.fit(x=X_train,\n",
        "            y=y_train,\n",
        "            epochs=100,\n",
        "            verbose=1,\n",
        "            batch_size=128,\n",
        "            validation_data=(X_test,y_test),\n",
        "            callbacks=[create_model_checkpoint(model_name=model_6.name)])"
      ],
      "execution_count": 117,
      "outputs": [
        {
          "output_type": "stream",
          "name": "stdout",
          "text": [
            "Epoch 1/100\n",
            "18/18 [==============================] - 1s 18ms/step - loss: 2079.9956 - mae: 2079.9956 - mse: 13861946.0000 - val_loss: 1938.4285 - val_mae: 1938.4285 - val_mse: 10203312.0000\n",
            "INFO:tensorflow:Assets written to: model_experiments/model_6_dense/assets\n",
            "Epoch 2/100\n",
            "18/18 [==============================] - 0s 5ms/step - loss: 413.2998 - mae: 413.2998 - mse: 653961.3125 - val_loss: 1856.3627 - val_mae: 1856.3627 - val_mse: 8139813.0000\n",
            "INFO:tensorflow:Assets written to: model_experiments/model_6_dense/assets\n",
            "Epoch 3/100\n",
            "18/18 [==============================] - 0s 6ms/step - loss: 222.7559 - mae: 222.7559 - mse: 237900.5938 - val_loss: 1327.1108 - val_mae: 1327.1108 - val_mse: 4725947.5000\n",
            "INFO:tensorflow:Assets written to: model_experiments/model_6_dense/assets\n",
            "Epoch 4/100\n",
            "18/18 [==============================] - 0s 5ms/step - loss: 192.0770 - mae: 192.0770 - mse: 192315.0625 - val_loss: 1037.4915 - val_mae: 1037.4915 - val_mse: 3487516.5000\n",
            "INFO:tensorflow:Assets written to: model_experiments/model_6_dense/assets\n",
            "Epoch 5/100\n",
            "18/18 [==============================] - 0s 5ms/step - loss: 180.9112 - mae: 180.9112 - mse: 175970.2969 - val_loss: 995.9293 - val_mae: 995.9293 - val_mse: 3207107.2500\n",
            "INFO:tensorflow:Assets written to: model_experiments/model_6_dense/assets\n",
            "Epoch 6/100\n",
            "18/18 [==============================] - 0s 7ms/step - loss: 173.0443 - mae: 173.0443 - mse: 159576.2031 - val_loss: 931.7135 - val_mae: 931.7135 - val_mse: 2851018.2500\n",
            "INFO:tensorflow:Assets written to: model_experiments/model_6_dense/assets\n",
            "Epoch 7/100\n",
            "18/18 [==============================] - 0s 6ms/step - loss: 160.4259 - mae: 160.4259 - mse: 141605.5781 - val_loss: 886.8236 - val_mae: 886.8236 - val_mse: 2515035.2500\n",
            "INFO:tensorflow:Assets written to: model_experiments/model_6_dense/assets\n",
            "Epoch 8/100\n",
            "18/18 [==============================] - 0s 7ms/step - loss: 151.6769 - mae: 151.6769 - mse: 125597.5703 - val_loss: 822.2672 - val_mae: 822.2672 - val_mse: 2267503.0000\n",
            "INFO:tensorflow:Assets written to: model_experiments/model_6_dense/assets\n",
            "Epoch 9/100\n",
            "18/18 [==============================] - 0s 5ms/step - loss: 149.5921 - mae: 149.5921 - mse: 117816.2656 - val_loss: 779.9331 - val_mae: 779.9331 - val_mse: 2037411.5000\n",
            "INFO:tensorflow:Assets written to: model_experiments/model_6_dense/assets\n",
            "Epoch 10/100\n",
            "18/18 [==============================] - 0s 6ms/step - loss: 137.4854 - mae: 137.4854 - mse: 103492.0938 - val_loss: 769.6070 - val_mae: 769.6070 - val_mse: 1975268.3750\n",
            "INFO:tensorflow:Assets written to: model_experiments/model_6_dense/assets\n",
            "Epoch 11/100\n",
            "18/18 [==============================] - 0s 7ms/step - loss: 131.8702 - mae: 131.8702 - mse: 97764.0469 - val_loss: 735.6382 - val_mae: 735.6382 - val_mse: 1702115.1250\n",
            "INFO:tensorflow:Assets written to: model_experiments/model_6_dense/assets\n",
            "Epoch 12/100\n",
            "18/18 [==============================] - 0s 5ms/step - loss: 130.7595 - mae: 130.7595 - mse: 94127.8984 - val_loss: 804.4266 - val_mae: 804.4266 - val_mse: 1881678.6250\n",
            "Epoch 13/100\n",
            "18/18 [==============================] - 0s 5ms/step - loss: 142.3675 - mae: 142.3675 - mse: 100560.5000 - val_loss: 720.3207 - val_mae: 720.3207 - val_mse: 1624385.6250\n",
            "INFO:tensorflow:Assets written to: model_experiments/model_6_dense/assets\n",
            "Epoch 14/100\n",
            "18/18 [==============================] - 0s 6ms/step - loss: 128.6277 - mae: 128.6278 - mse: 91183.4922 - val_loss: 651.8816 - val_mae: 651.8816 - val_mse: 1468421.6250\n",
            "INFO:tensorflow:Assets written to: model_experiments/model_6_dense/assets\n",
            "Epoch 15/100\n",
            "18/18 [==============================] - 0s 5ms/step - loss: 122.7230 - mae: 122.7230 - mse: 85048.4219 - val_loss: 650.4579 - val_mae: 650.4579 - val_mse: 1469924.8750\n",
            "INFO:tensorflow:Assets written to: model_experiments/model_6_dense/assets\n",
            "Epoch 16/100\n",
            "18/18 [==============================] - 0s 5ms/step - loss: 125.1527 - mae: 125.1527 - mse: 85882.8281 - val_loss: 689.3226 - val_mae: 689.3226 - val_mse: 1510953.2500\n",
            "Epoch 17/100\n",
            "18/18 [==============================] - 0s 6ms/step - loss: 118.3934 - mae: 118.3934 - mse: 81235.3125 - val_loss: 631.1407 - val_mae: 631.1407 - val_mse: 1364043.1250\n",
            "INFO:tensorflow:Assets written to: model_experiments/model_6_dense/assets\n",
            "Epoch 18/100\n",
            "18/18 [==============================] - 0s 6ms/step - loss: 117.4119 - mae: 117.4119 - mse: 79513.3828 - val_loss: 618.2428 - val_mae: 618.2428 - val_mse: 1329362.0000\n",
            "INFO:tensorflow:Assets written to: model_experiments/model_6_dense/assets\n",
            "Epoch 19/100\n",
            "18/18 [==============================] - 0s 5ms/step - loss: 116.5400 - mae: 116.5400 - mse: 79319.5859 - val_loss: 704.2455 - val_mae: 704.2455 - val_mse: 1531420.0000\n",
            "Epoch 20/100\n",
            "18/18 [==============================] - 0s 6ms/step - loss: 119.4998 - mae: 119.4998 - mse: 78105.7656 - val_loss: 673.2580 - val_mae: 673.2580 - val_mse: 1493446.2500\n",
            "Epoch 21/100\n",
            "18/18 [==============================] - 0s 6ms/step - loss: 120.4440 - mae: 120.4440 - mse: 82150.2422 - val_loss: 619.4385 - val_mae: 619.4385 - val_mse: 1332995.1250\n",
            "Epoch 22/100\n",
            "18/18 [==============================] - 0s 6ms/step - loss: 119.7412 - mae: 119.7412 - mse: 80771.7656 - val_loss: 679.2915 - val_mae: 679.2915 - val_mse: 1453429.8750\n",
            "Epoch 23/100\n",
            "18/18 [==============================] - 0s 6ms/step - loss: 115.7253 - mae: 115.7253 - mse: 75214.0078 - val_loss: 627.2438 - val_mae: 627.2438 - val_mse: 1344997.6250\n",
            "Epoch 24/100\n",
            "18/18 [==============================] - 0s 6ms/step - loss: 112.7092 - mae: 112.7092 - mse: 75197.2500 - val_loss: 598.3615 - val_mae: 598.3615 - val_mse: 1253538.7500\n",
            "INFO:tensorflow:Assets written to: model_experiments/model_6_dense/assets\n",
            "Epoch 25/100\n",
            "18/18 [==============================] - 0s 6ms/step - loss: 110.8481 - mae: 110.8481 - mse: 73903.6953 - val_loss: 593.3990 - val_mae: 593.3990 - val_mse: 1252864.0000\n",
            "INFO:tensorflow:Assets written to: model_experiments/model_6_dense/assets\n",
            "Epoch 26/100\n",
            "18/18 [==============================] - 0s 5ms/step - loss: 111.7814 - mae: 111.7814 - mse: 74615.3984 - val_loss: 623.6429 - val_mae: 623.6429 - val_mse: 1298009.5000\n",
            "Epoch 27/100\n",
            "18/18 [==============================] - 0s 5ms/step - loss: 118.3458 - mae: 118.3458 - mse: 75732.4688 - val_loss: 702.5558 - val_mae: 702.5558 - val_mse: 1545471.6250\n",
            "Epoch 28/100\n",
            "18/18 [==============================] - 0s 5ms/step - loss: 114.9041 - mae: 114.9041 - mse: 74405.2266 - val_loss: 579.5914 - val_mae: 579.5914 - val_mse: 1211826.0000\n",
            "INFO:tensorflow:Assets written to: model_experiments/model_6_dense/assets\n",
            "Epoch 29/100\n",
            "18/18 [==============================] - 0s 6ms/step - loss: 109.0436 - mae: 109.0436 - mse: 70916.4062 - val_loss: 621.2324 - val_mae: 621.2324 - val_mse: 1284162.6250\n",
            "Epoch 30/100\n",
            "18/18 [==============================] - 0s 5ms/step - loss: 120.6157 - mae: 120.6157 - mse: 78565.7656 - val_loss: 596.6081 - val_mae: 596.6081 - val_mse: 1250267.8750\n",
            "Epoch 31/100\n",
            "18/18 [==============================] - 0s 6ms/step - loss: 109.0804 - mae: 109.0804 - mse: 70959.0625 - val_loss: 638.3173 - val_mae: 638.3173 - val_mse: 1320796.3750\n",
            "Epoch 32/100\n",
            "18/18 [==============================] - 0s 5ms/step - loss: 110.9091 - mae: 110.9091 - mse: 72717.2031 - val_loss: 601.0840 - val_mae: 601.0840 - val_mse: 1238246.8750\n",
            "Epoch 33/100\n",
            "18/18 [==============================] - 0s 5ms/step - loss: 109.0897 - mae: 109.0897 - mse: 70859.0000 - val_loss: 584.9042 - val_mae: 584.9042 - val_mse: 1208037.2500\n",
            "Epoch 34/100\n",
            "18/18 [==============================] - 0s 5ms/step - loss: 108.3116 - mae: 108.3116 - mse: 70576.5781 - val_loss: 622.9835 - val_mae: 622.9835 - val_mse: 1308239.3750\n",
            "Epoch 35/100\n",
            "18/18 [==============================] - 0s 6ms/step - loss: 107.0909 - mae: 107.0909 - mse: 70359.8906 - val_loss: 599.9538 - val_mae: 599.9538 - val_mse: 1253274.5000\n",
            "Epoch 36/100\n",
            "18/18 [==============================] - 0s 6ms/step - loss: 109.3746 - mae: 109.3746 - mse: 70894.8594 - val_loss: 574.5521 - val_mae: 574.5521 - val_mse: 1195817.1250\n",
            "INFO:tensorflow:Assets written to: model_experiments/model_6_dense/assets\n",
            "Epoch 37/100\n",
            "18/18 [==============================] - 0s 6ms/step - loss: 109.4986 - mae: 109.4986 - mse: 70268.8750 - val_loss: 576.1978 - val_mae: 576.1978 - val_mse: 1198351.3750\n",
            "Epoch 38/100\n",
            "18/18 [==============================] - 0s 6ms/step - loss: 111.5860 - mae: 111.5860 - mse: 71118.1328 - val_loss: 617.5945 - val_mae: 617.5945 - val_mse: 1289140.2500\n",
            "Epoch 39/100\n",
            "18/18 [==============================] - 0s 6ms/step - loss: 107.6895 - mae: 107.6895 - mse: 70507.0625 - val_loss: 567.2877 - val_mae: 567.2877 - val_mse: 1172864.3750\n",
            "INFO:tensorflow:Assets written to: model_experiments/model_6_dense/assets\n",
            "Epoch 40/100\n",
            "18/18 [==============================] - 0s 5ms/step - loss: 107.5909 - mae: 107.5909 - mse: 69758.6094 - val_loss: 567.9732 - val_mae: 567.9732 - val_mse: 1175995.6250\n",
            "Epoch 41/100\n",
            "18/18 [==============================] - 0s 6ms/step - loss: 107.9258 - mae: 107.9258 - mse: 68281.2188 - val_loss: 567.9628 - val_mae: 567.9628 - val_mse: 1174021.1250\n",
            "Epoch 42/100\n",
            "18/18 [==============================] - 0s 5ms/step - loss: 112.1424 - mae: 112.1424 - mse: 74212.3359 - val_loss: 805.6912 - val_mae: 805.6912 - val_mse: 1767762.0000\n",
            "Epoch 43/100\n",
            "18/18 [==============================] - 0s 6ms/step - loss: 124.0784 - mae: 124.0784 - mse: 75942.3359 - val_loss: 695.3389 - val_mae: 695.3389 - val_mse: 1485261.3750\n",
            "Epoch 44/100\n",
            "18/18 [==============================] - 0s 5ms/step - loss: 113.3142 - mae: 113.3142 - mse: 71506.2500 - val_loss: 595.3036 - val_mae: 595.3036 - val_mse: 1215384.0000\n",
            "Epoch 45/100\n",
            "18/18 [==============================] - 0s 6ms/step - loss: 107.1354 - mae: 107.1354 - mse: 69096.3828 - val_loss: 567.6268 - val_mae: 567.6268 - val_mse: 1173900.7500\n",
            "Epoch 46/100\n",
            "18/18 [==============================] - 0s 5ms/step - loss: 110.1954 - mae: 110.1954 - mse: 69392.5000 - val_loss: 592.7030 - val_mae: 592.7030 - val_mse: 1209700.8750\n",
            "Epoch 47/100\n",
            "18/18 [==============================] - 0s 6ms/step - loss: 109.6566 - mae: 109.6566 - mse: 70860.8984 - val_loss: 566.2691 - val_mae: 566.2691 - val_mse: 1168469.2500\n",
            "INFO:tensorflow:Assets written to: model_experiments/model_6_dense/assets\n",
            "Epoch 48/100\n",
            "18/18 [==============================] - 0s 6ms/step - loss: 106.1027 - mae: 106.1027 - mse: 68522.5000 - val_loss: 570.2828 - val_mae: 570.2828 - val_mse: 1169859.1250\n",
            "Epoch 49/100\n",
            "18/18 [==============================] - 0s 5ms/step - loss: 109.4374 - mae: 109.4374 - mse: 70636.4844 - val_loss: 666.7937 - val_mae: 666.7937 - val_mse: 1365786.1250\n",
            "Epoch 50/100\n",
            "18/18 [==============================] - 0s 6ms/step - loss: 117.2923 - mae: 117.2923 - mse: 75365.9531 - val_loss: 759.7376 - val_mae: 759.7376 - val_mse: 1682081.5000\n",
            "Epoch 51/100\n",
            "18/18 [==============================] - 0s 5ms/step - loss: 115.3957 - mae: 115.3957 - mse: 73218.7422 - val_loss: 616.0695 - val_mae: 616.0695 - val_mse: 1254875.0000\n",
            "Epoch 52/100\n",
            "18/18 [==============================] - 0s 5ms/step - loss: 115.6136 - mae: 115.6136 - mse: 74656.4922 - val_loss: 615.7877 - val_mae: 615.7877 - val_mse: 1275525.1250\n",
            "Epoch 53/100\n",
            "18/18 [==============================] - 0s 5ms/step - loss: 108.2808 - mae: 108.2808 - mse: 69369.7344 - val_loss: 566.4622 - val_mae: 566.4622 - val_mse: 1161347.6250\n",
            "Epoch 54/100\n",
            "18/18 [==============================] - 0s 5ms/step - loss: 105.3355 - mae: 105.3355 - mse: 68010.4922 - val_loss: 571.7233 - val_mae: 571.7233 - val_mse: 1167978.8750\n",
            "Epoch 55/100\n",
            "18/18 [==============================] - 0s 6ms/step - loss: 108.2281 - mae: 108.2281 - mse: 69662.2656 - val_loss: 590.3173 - val_mae: 590.3173 - val_mse: 1200029.2500\n",
            "Epoch 56/100\n",
            "18/18 [==============================] - 0s 5ms/step - loss: 109.7896 - mae: 109.7896 - mse: 69085.3125 - val_loss: 854.8387 - val_mae: 854.8387 - val_mse: 2036864.8750\n",
            "Epoch 57/100\n",
            "18/18 [==============================] - 0s 6ms/step - loss: 119.5551 - mae: 119.5551 - mse: 76955.3359 - val_loss: 628.4753 - val_mae: 628.4753 - val_mse: 1279936.2500\n",
            "Epoch 58/100\n",
            "18/18 [==============================] - 0s 6ms/step - loss: 108.4463 - mae: 108.4463 - mse: 69511.6875 - val_loss: 573.8140 - val_mae: 573.8140 - val_mse: 1185582.8750\n",
            "Epoch 59/100\n",
            "18/18 [==============================] - 0s 5ms/step - loss: 104.7282 - mae: 104.7282 - mse: 66946.4531 - val_loss: 584.8696 - val_mae: 584.8696 - val_mse: 1208887.3750\n",
            "Epoch 60/100\n",
            "18/18 [==============================] - 0s 5ms/step - loss: 108.8723 - mae: 108.8723 - mse: 70275.5938 - val_loss: 593.1224 - val_mae: 593.1224 - val_mse: 1202952.2500\n",
            "Epoch 61/100\n",
            "18/18 [==============================] - 0s 6ms/step - loss: 105.9351 - mae: 105.9351 - mse: 67636.6250 - val_loss: 580.8750 - val_mae: 580.8750 - val_mse: 1178552.3750\n",
            "Epoch 62/100\n",
            "18/18 [==============================] - 0s 6ms/step - loss: 106.8623 - mae: 106.8623 - mse: 68308.3594 - val_loss: 577.0870 - val_mae: 577.0870 - val_mse: 1192937.0000\n",
            "Epoch 63/100\n",
            "18/18 [==============================] - 0s 5ms/step - loss: 108.4814 - mae: 108.4814 - mse: 68938.7422 - val_loss: 571.4549 - val_mae: 571.4549 - val_mse: 1178336.7500\n",
            "Epoch 64/100\n",
            "18/18 [==============================] - 0s 6ms/step - loss: 104.9960 - mae: 104.9960 - mse: 67190.4297 - val_loss: 601.2195 - val_mae: 601.2195 - val_mse: 1217590.3750\n",
            "Epoch 65/100\n",
            "18/18 [==============================] - 0s 5ms/step - loss: 107.3823 - mae: 107.3823 - mse: 68866.5000 - val_loss: 580.0632 - val_mae: 580.0632 - val_mse: 1177233.5000\n",
            "Epoch 66/100\n",
            "18/18 [==============================] - 0s 6ms/step - loss: 105.1228 - mae: 105.1228 - mse: 67377.3125 - val_loss: 564.5521 - val_mae: 564.5521 - val_mse: 1158976.5000\n",
            "INFO:tensorflow:Assets written to: model_experiments/model_6_dense/assets\n",
            "Epoch 67/100\n",
            "18/18 [==============================] - 0s 6ms/step - loss: 107.4114 - mae: 107.4114 - mse: 68030.9062 - val_loss: 671.3242 - val_mae: 671.3242 - val_mse: 1408091.1250\n",
            "Epoch 68/100\n",
            "18/18 [==============================] - 0s 5ms/step - loss: 111.9654 - mae: 111.9654 - mse: 67861.3203 - val_loss: 583.0465 - val_mae: 583.0465 - val_mse: 1206524.2500\n",
            "Epoch 69/100\n",
            "18/18 [==============================] - 0s 6ms/step - loss: 124.2992 - mae: 124.2992 - mse: 75945.1797 - val_loss: 828.8703 - val_mae: 828.8703 - val_mse: 1833048.0000\n",
            "Epoch 70/100\n",
            "18/18 [==============================] - 0s 5ms/step - loss: 125.4816 - mae: 125.4816 - mse: 78185.3984 - val_loss: 615.6193 - val_mae: 615.6193 - val_mse: 1289194.1250\n",
            "Epoch 71/100\n",
            "18/18 [==============================] - 0s 6ms/step - loss: 107.2169 - mae: 107.2169 - mse: 68232.7031 - val_loss: 571.3992 - val_mae: 571.3992 - val_mse: 1168780.6250\n",
            "Epoch 72/100\n",
            "18/18 [==============================] - 0s 5ms/step - loss: 106.7168 - mae: 106.7168 - mse: 67899.0469 - val_loss: 594.8685 - val_mae: 594.8685 - val_mse: 1231542.7500\n",
            "Epoch 73/100\n",
            "18/18 [==============================] - 0s 6ms/step - loss: 107.0832 - mae: 107.0832 - mse: 67366.5469 - val_loss: 601.5558 - val_mae: 601.5558 - val_mse: 1221488.3750\n",
            "Epoch 74/100\n",
            "18/18 [==============================] - 0s 6ms/step - loss: 105.0736 - mae: 105.0736 - mse: 67218.6562 - val_loss: 569.5078 - val_mae: 569.5078 - val_mse: 1163983.3750\n",
            "Epoch 75/100\n",
            "18/18 [==============================] - 0s 5ms/step - loss: 105.1861 - mae: 105.1861 - mse: 66931.5391 - val_loss: 570.4597 - val_mae: 570.4597 - val_mse: 1167705.3750\n",
            "Epoch 76/100\n",
            "18/18 [==============================] - 0s 6ms/step - loss: 108.6690 - mae: 108.6690 - mse: 67817.2734 - val_loss: 590.4670 - val_mae: 590.4670 - val_mse: 1196239.0000\n",
            "Epoch 77/100\n",
            "18/18 [==============================] - 0s 6ms/step - loss: 109.5929 - mae: 109.5929 - mse: 69944.7109 - val_loss: 569.8793 - val_mae: 569.8793 - val_mse: 1173723.1250\n",
            "Epoch 78/100\n",
            "18/18 [==============================] - 0s 6ms/step - loss: 105.7469 - mae: 105.7469 - mse: 65752.4062 - val_loss: 575.4879 - val_mae: 575.4879 - val_mse: 1187112.2500\n",
            "Epoch 79/100\n",
            "18/18 [==============================] - 0s 6ms/step - loss: 105.0366 - mae: 105.0366 - mse: 66228.5859 - val_loss: 647.5240 - val_mae: 647.5240 - val_mse: 1353162.6250\n",
            "Epoch 80/100\n",
            "18/18 [==============================] - 0s 6ms/step - loss: 114.5809 - mae: 114.5809 - mse: 73586.7188 - val_loss: 623.4442 - val_mae: 623.4442 - val_mse: 1266471.1250\n",
            "Epoch 81/100\n",
            "18/18 [==============================] - 0s 6ms/step - loss: 108.5294 - mae: 108.5294 - mse: 69664.8906 - val_loss: 569.2402 - val_mae: 569.2402 - val_mse: 1170300.2500\n",
            "Epoch 82/100\n",
            "18/18 [==============================] - 0s 6ms/step - loss: 113.7940 - mae: 113.7940 - mse: 72763.1641 - val_loss: 725.4540 - val_mae: 725.4540 - val_mse: 1511971.6250\n",
            "Epoch 83/100\n",
            "18/18 [==============================] - 0s 6ms/step - loss: 126.6104 - mae: 126.6104 - mse: 80476.4219 - val_loss: 620.9507 - val_mae: 620.9507 - val_mse: 1289631.5000\n",
            "Epoch 84/100\n",
            "18/18 [==============================] - 0s 6ms/step - loss: 115.5889 - mae: 115.5889 - mse: 72254.8359 - val_loss: 592.3180 - val_mae: 592.3180 - val_mse: 1232913.1250\n",
            "Epoch 85/100\n",
            "18/18 [==============================] - 0s 5ms/step - loss: 107.3624 - mae: 107.3624 - mse: 68152.0625 - val_loss: 570.6095 - val_mae: 570.6095 - val_mse: 1164696.0000\n",
            "Epoch 86/100\n",
            "18/18 [==============================] - 0s 6ms/step - loss: 107.6097 - mae: 107.6097 - mse: 66674.5234 - val_loss: 565.7461 - val_mae: 565.7461 - val_mse: 1161633.8750\n",
            "Epoch 87/100\n",
            "18/18 [==============================] - 0s 6ms/step - loss: 104.3889 - mae: 104.3889 - mse: 66409.0312 - val_loss: 595.7055 - val_mae: 595.7055 - val_mse: 1233545.0000\n",
            "Epoch 88/100\n",
            "18/18 [==============================] - 0s 7ms/step - loss: 109.9993 - mae: 109.9993 - mse: 69276.8359 - val_loss: 577.8081 - val_mae: 577.8081 - val_mse: 1178713.2500\n",
            "Epoch 89/100\n",
            "18/18 [==============================] - 0s 5ms/step - loss: 108.2439 - mae: 108.2439 - mse: 67178.3438 - val_loss: 575.2933 - val_mae: 575.2933 - val_mse: 1179631.2500\n",
            "Epoch 90/100\n",
            "18/18 [==============================] - 0s 7ms/step - loss: 108.9844 - mae: 108.9844 - mse: 65007.9414 - val_loss: 566.1083 - val_mae: 566.1083 - val_mse: 1161289.3750\n",
            "Epoch 91/100\n",
            "18/18 [==============================] - 0s 7ms/step - loss: 112.0199 - mae: 112.0199 - mse: 70312.2266 - val_loss: 565.9926 - val_mae: 565.9926 - val_mse: 1157178.0000\n",
            "Epoch 92/100\n",
            "18/18 [==============================] - 0s 6ms/step - loss: 109.7375 - mae: 109.7375 - mse: 69363.6016 - val_loss: 661.1884 - val_mae: 661.1884 - val_mse: 1382626.1250\n",
            "Epoch 93/100\n",
            "18/18 [==============================] - 0s 6ms/step - loss: 116.7537 - mae: 116.7537 - mse: 71359.1172 - val_loss: 590.9522 - val_mae: 590.9522 - val_mse: 1225742.7500\n",
            "Epoch 94/100\n",
            "18/18 [==============================] - 0s 6ms/step - loss: 115.1829 - mae: 115.1829 - mse: 73502.7812 - val_loss: 597.0104 - val_mae: 597.0104 - val_mse: 1212591.6250\n",
            "Epoch 95/100\n",
            "18/18 [==============================] - 0s 7ms/step - loss: 105.2863 - mae: 105.2863 - mse: 66032.3906 - val_loss: 566.7692 - val_mae: 566.7692 - val_mse: 1157958.8750\n",
            "Epoch 96/100\n",
            "18/18 [==============================] - 0s 6ms/step - loss: 104.8605 - mae: 104.8605 - mse: 66285.6406 - val_loss: 588.9888 - val_mae: 588.9888 - val_mse: 1219000.0000\n",
            "Epoch 97/100\n",
            "18/18 [==============================] - 0s 6ms/step - loss: 104.5540 - mae: 104.5540 - mse: 66716.2109 - val_loss: 565.9912 - val_mae: 565.9912 - val_mse: 1156749.7500\n",
            "Epoch 98/100\n",
            "18/18 [==============================] - 0s 6ms/step - loss: 103.6910 - mae: 103.6910 - mse: 66609.4453 - val_loss: 570.2508 - val_mae: 570.2508 - val_mse: 1166719.5000\n",
            "Epoch 99/100\n",
            "18/18 [==============================] - 0s 6ms/step - loss: 107.0240 - mae: 107.0240 - mse: 68300.5938 - val_loss: 578.3054 - val_mae: 578.3054 - val_mse: 1170182.1250\n",
            "Epoch 100/100\n",
            "18/18 [==============================] - 0s 6ms/step - loss: 110.8426 - mae: 110.8426 - mse: 67684.7500 - val_loss: 569.0422 - val_mae: 569.0422 - val_mse: 1161159.6250\n"
          ]
        },
        {
          "output_type": "execute_result",
          "data": {
            "text/plain": [
              "<keras.callbacks.History at 0x7ffaddb03310>"
            ]
          },
          "metadata": {},
          "execution_count": 117
        }
      ]
    },
    {
      "cell_type": "code",
      "metadata": {
        "colab": {
          "base_uri": "https://localhost:8080/"
        },
        "id": "3ymki1s4D9SW",
        "outputId": "115ba51f-f11c-4c0e-e7f7-20453a0d9d15"
      },
      "source": [
        "#evaluate model on test data\n",
        "model_6_results=model_6.evaluate(X_test,y_test)\n",
        "model_6_results"
      ],
      "execution_count": 118,
      "outputs": [
        {
          "output_type": "stream",
          "name": "stdout",
          "text": [
            "18/18 [==============================] - 0s 3ms/step - loss: 569.0422 - mae: 569.0422 - mse: 1161159.6250\n"
          ]
        },
        {
          "output_type": "execute_result",
          "data": {
            "text/plain": [
              "[569.042236328125, 569.042236328125, 1161159.625]"
            ]
          },
          "metadata": {},
          "execution_count": 118
        }
      ]
    },
    {
      "cell_type": "code",
      "metadata": {
        "colab": {
          "base_uri": "https://localhost:8080/"
        },
        "id": "pBBE9NgzECsp",
        "outputId": "e2208fae-1ce4-4a04-ef3b-32da07c10e90"
      },
      "source": [
        "#load the save best performing model and evaluate\n",
        "model_6 =tf.keras.models.load_model(\"/content/model_experiments/model_6_dense\")\n",
        "model_6_results=model_6.evaluate(X_test,y_test)\n",
        "model_6_results"
      ],
      "execution_count": 119,
      "outputs": [
        {
          "output_type": "stream",
          "name": "stdout",
          "text": [
            "18/18 [==============================] - 0s 3ms/step - loss: 564.5521 - mae: 564.5521 - mse: 1158976.5000\n"
          ]
        },
        {
          "output_type": "execute_result",
          "data": {
            "text/plain": [
              "[564.5520629882812, 564.5520629882812, 1158976.5]"
            ]
          },
          "metadata": {},
          "execution_count": 119
        }
      ]
    },
    {
      "cell_type": "code",
      "metadata": {
        "colab": {
          "base_uri": "https://localhost:8080/"
        },
        "id": "lZqU4k6iFORy",
        "outputId": "9ee169b1-1f33-4c71-90c6-61c074764c86"
      },
      "source": [
        "#make predictions\n",
        "model_6_preds =make_preds(model_6,X_test)\n",
        "model_6_preds[:10]"
      ],
      "execution_count": 120,
      "outputs": [
        {
          "output_type": "execute_result",
          "data": {
            "text/plain": [
              "<tf.Tensor: shape=(10,), dtype=float32, numpy=\n",
              "array([8843.243, 8775.287, 9034.422, 8755.49 , 8744.502, 8750.394,\n",
              "       8671.321, 8520.411, 8459.68 , 8528.583], dtype=float32)>"
            ]
          },
          "metadata": {},
          "execution_count": 120
        }
      ]
    },
    {
      "cell_type": "code",
      "metadata": {
        "colab": {
          "base_uri": "https://localhost:8080/"
        },
        "id": "LGDZIR8PFty_",
        "outputId": "0b62b588-1176-4b48-ffb4-d920435e409b"
      },
      "source": [
        "model_6_preds[0]\n",
        "\n"
      ],
      "execution_count": 121,
      "outputs": [
        {
          "output_type": "execute_result",
          "data": {
            "text/plain": [
              "<tf.Tensor: shape=(), dtype=float32, numpy=8843.243>"
            ]
          },
          "metadata": {},
          "execution_count": 121
        }
      ]
    },
    {
      "cell_type": "code",
      "metadata": {
        "colab": {
          "base_uri": "https://localhost:8080/"
        },
        "id": "GXfhFb7_FYbR",
        "outputId": "90558afe-802b-4593-a9db-dc80c94a74d3"
      },
      "source": [
        "#evaluate the predcitons\n",
        "model_6_results =evaluate_preds(y_true=y_test,\n",
        "                                y_pred=model_6_preds)\n",
        "\n",
        "model_6_results"
      ],
      "execution_count": 122,
      "outputs": [
        {
          "output_type": "execute_result",
          "data": {
            "text/plain": [
              "{'mae': 564.5521,\n",
              " 'mape': 2.538174,\n",
              " 'mase': 0.99176174,\n",
              " 'mse': 1158976.5,\n",
              " 'rmse': 1076.5577}"
            ]
          },
          "metadata": {},
          "execution_count": 122
        }
      ]
    },
    {
      "cell_type": "code",
      "metadata": {
        "colab": {
          "base_uri": "https://localhost:8080/"
        },
        "id": "w45__LurGGJj",
        "outputId": "514d3221-2c7a-4b5e-93a9-8fcd55613537"
      },
      "source": [
        "naive_results"
      ],
      "execution_count": 123,
      "outputs": [
        {
          "output_type": "execute_result",
          "data": {
            "text/plain": [
              "{'mae': 567.9802,\n",
              " 'mape': 2.516525,\n",
              " 'mase': 0.99957,\n",
              " 'mse': 1147547.0,\n",
              " 'rmse': 1071.2362}"
            ]
          },
          "metadata": {},
          "execution_count": 123
        }
      ]
    },
    {
      "cell_type": "markdown",
      "metadata": {
        "id": "IYBFnvEFGK61"
      },
      "source": [
        "#Model 7 -N-BEATS Algorithem"
      ]
    },
    {
      "cell_type": "code",
      "metadata": {
        "id": "vjP1ZWc7KmsJ"
      },
      "source": [
        "#create n-beats custom layer\n",
        "class NBeatsBlock(tf.keras.layers.Layer):\n",
        "  def __init__(self,\n",
        "               input_size:int,\n",
        "               theta_size:int,\n",
        "               horizon:int,\n",
        "               n_neurons:int,\n",
        "               n_layers:int,\n",
        "               **kwargs):\n",
        "    super().__init__(**kwargs)\n",
        "    self.input_size=input_size\n",
        "    self.theta_size=theta_size\n",
        "    self.horizon =horizon\n",
        "    self.n_neurons=n_neurons\n",
        "    self.n_layers=n_layers\n",
        "\n",
        "    #block contains stack of 4 fully connected layers\n",
        "    self.hidden=[tf.keras.layers.Dense(n_neurons,activation=\"relu\") for _ in range(n_layers) ]\n",
        "\n",
        "    #output block\n",
        "    self.theta_layer =tf.keras.layers.Dense(theta_size,activation=\"linear\",name=\"theta\")\n",
        "\n",
        "  \n",
        "  def call(self,inputs):\n",
        "    x=inputs\n",
        "    for layer in self.hidden:\n",
        "      x=layer(x)\n",
        "\n",
        "    theta=self.theta_layer(x)\n",
        "\n",
        "    #output the backcast and forecast from theta\n",
        "    backcast,forecast =theta[:self.input_size],theta[:,-self.horizon:]\n",
        "    return backcast,forecast\n",
        "\n",
        "     "
      ],
      "execution_count": 124,
      "outputs": []
    },
    {
      "cell_type": "code",
      "metadata": {
        "id": "tLKwYa3SNPdl"
      },
      "source": [
        "#setup dummy NBeats layer to reperesent data\n",
        "tf.random.set_seed(42)\n",
        "dummy_nbbeats_block_layer=NBeatsBlock(input_size=WINDOW_SIZE,\n",
        "                                      theta_size=WINDOW_SIZE+HORIZON,\n",
        "                                      horizon=HORIZON,\n",
        "                                      n_neurons=128,\n",
        "                                      n_layers=4)"
      ],
      "execution_count": 132,
      "outputs": []
    },
    {
      "cell_type": "code",
      "metadata": {
        "colab": {
          "base_uri": "https://localhost:8080/"
        },
        "id": "uaV1_rd4UfOj",
        "outputId": "15200403-c8c3-497e-bb55-fc8db703bda3"
      },
      "source": [
        "#caeate dummy inputs\n",
        "dummy_inputs=tf.expand_dims(tf.range(WINDOW_SIZE)+1,axis=0)\n",
        "dummy_inputs"
      ],
      "execution_count": 133,
      "outputs": [
        {
          "output_type": "execute_result",
          "data": {
            "text/plain": [
              "<tf.Tensor: shape=(1, 7), dtype=int32, numpy=array([[1, 2, 3, 4, 5, 6, 7]], dtype=int32)>"
            ]
          },
          "metadata": {},
          "execution_count": 133
        }
      ]
    },
    {
      "cell_type": "code",
      "metadata": {
        "colab": {
          "base_uri": "https://localhost:8080/"
        },
        "id": "BaATJDr9VL9A",
        "outputId": "8e94a686-7c82-495e-a2dd-419cc6e02908"
      },
      "source": [
        "#pass dummy inputs to dummy nebeats layer\n",
        "backcast,forecast =dummy_nbbeats_block_layer(dummy_inputs)\n",
        "\n",
        "#these are the activation outputs of theta layer\n",
        "print(f\"Backcast :{tf.squeeze(backcast.numpy())}\")\n",
        "print(f\"Forecast :{tf.squeeze(forecast.numpy())}\")"
      ],
      "execution_count": 134,
      "outputs": [
        {
          "output_type": "stream",
          "name": "stdout",
          "text": [
            "Backcast :[ 0.07960155  0.32512054 -0.84286827 -0.69389844 -0.31720546 -0.5698734\n",
            " -0.6396661   1.007165  ]\n",
            "Forecast :1.0071649551391602\n"
          ]
        }
      ]
    },
    {
      "cell_type": "markdown",
      "metadata": {
        "id": "nDuxj_UMVFge"
      },
      "source": [
        "#Preparing data for NBeats algorithem using tf.data API"
      ]
    },
    {
      "cell_type": "code",
      "metadata": {
        "id": "0S4OAiXUW4aK"
      },
      "source": [
        "HORIZON=1\n",
        "WINDOW_SIZE=7"
      ],
      "execution_count": 136,
      "outputs": []
    },
    {
      "cell_type": "code",
      "metadata": {
        "colab": {
          "base_uri": "https://localhost:8080/",
          "height": 234
        },
        "id": "I_FaJTFMW38j",
        "outputId": "c9703854-efde-49fa-f085-b539f235742d"
      },
      "source": [
        "#Create n-beats data inputs\n",
        "bitcoin_prices.head()"
      ],
      "execution_count": 137,
      "outputs": [
        {
          "output_type": "execute_result",
          "data": {
            "text/html": [
              "<div>\n",
              "<style scoped>\n",
              "    .dataframe tbody tr th:only-of-type {\n",
              "        vertical-align: middle;\n",
              "    }\n",
              "\n",
              "    .dataframe tbody tr th {\n",
              "        vertical-align: top;\n",
              "    }\n",
              "\n",
              "    .dataframe thead th {\n",
              "        text-align: right;\n",
              "    }\n",
              "</style>\n",
              "<table border=\"1\" class=\"dataframe\">\n",
              "  <thead>\n",
              "    <tr style=\"text-align: right;\">\n",
              "      <th></th>\n",
              "      <th>Price</th>\n",
              "    </tr>\n",
              "    <tr>\n",
              "      <th>Date</th>\n",
              "      <th></th>\n",
              "    </tr>\n",
              "  </thead>\n",
              "  <tbody>\n",
              "    <tr>\n",
              "      <th>2013-10-01</th>\n",
              "      <td>123.65499</td>\n",
              "    </tr>\n",
              "    <tr>\n",
              "      <th>2013-10-02</th>\n",
              "      <td>125.45500</td>\n",
              "    </tr>\n",
              "    <tr>\n",
              "      <th>2013-10-03</th>\n",
              "      <td>108.58483</td>\n",
              "    </tr>\n",
              "    <tr>\n",
              "      <th>2013-10-04</th>\n",
              "      <td>118.67466</td>\n",
              "    </tr>\n",
              "    <tr>\n",
              "      <th>2013-10-05</th>\n",
              "      <td>121.33866</td>\n",
              "    </tr>\n",
              "  </tbody>\n",
              "</table>\n",
              "</div>"
            ],
            "text/plain": [
              "                Price\n",
              "Date                 \n",
              "2013-10-01  123.65499\n",
              "2013-10-02  125.45500\n",
              "2013-10-03  108.58483\n",
              "2013-10-04  118.67466\n",
              "2013-10-05  121.33866"
            ]
          },
          "metadata": {},
          "execution_count": 137
        }
      ]
    },
    {
      "cell_type": "code",
      "metadata": {
        "colab": {
          "base_uri": "https://localhost:8080/",
          "height": 234
        },
        "id": "4f54sevCXQhC",
        "outputId": "48dc8c4b-499d-433d-8e07-bc029d0c8e12"
      },
      "source": [
        "#add windows columns\n",
        "bitcoin_prices_nbeats=bitcoin_prices.copy()\n",
        "for i in range(WINDOW_SIZE):\n",
        "  bitcoin_prices_nbeats[f\"Price +{i+1}\"] =bitcoin_prices_nbeats[\"Price\"].shift(periods=i+1)\n",
        "bitcoin_prices_nbeats.head()"
      ],
      "execution_count": 138,
      "outputs": [
        {
          "output_type": "execute_result",
          "data": {
            "text/html": [
              "<div>\n",
              "<style scoped>\n",
              "    .dataframe tbody tr th:only-of-type {\n",
              "        vertical-align: middle;\n",
              "    }\n",
              "\n",
              "    .dataframe tbody tr th {\n",
              "        vertical-align: top;\n",
              "    }\n",
              "\n",
              "    .dataframe thead th {\n",
              "        text-align: right;\n",
              "    }\n",
              "</style>\n",
              "<table border=\"1\" class=\"dataframe\">\n",
              "  <thead>\n",
              "    <tr style=\"text-align: right;\">\n",
              "      <th></th>\n",
              "      <th>Price</th>\n",
              "      <th>Price +1</th>\n",
              "      <th>Price +2</th>\n",
              "      <th>Price +3</th>\n",
              "      <th>Price +4</th>\n",
              "      <th>Price +5</th>\n",
              "      <th>Price +6</th>\n",
              "      <th>Price +7</th>\n",
              "    </tr>\n",
              "    <tr>\n",
              "      <th>Date</th>\n",
              "      <th></th>\n",
              "      <th></th>\n",
              "      <th></th>\n",
              "      <th></th>\n",
              "      <th></th>\n",
              "      <th></th>\n",
              "      <th></th>\n",
              "      <th></th>\n",
              "    </tr>\n",
              "  </thead>\n",
              "  <tbody>\n",
              "    <tr>\n",
              "      <th>2013-10-01</th>\n",
              "      <td>123.65499</td>\n",
              "      <td>NaN</td>\n",
              "      <td>NaN</td>\n",
              "      <td>NaN</td>\n",
              "      <td>NaN</td>\n",
              "      <td>NaN</td>\n",
              "      <td>NaN</td>\n",
              "      <td>NaN</td>\n",
              "    </tr>\n",
              "    <tr>\n",
              "      <th>2013-10-02</th>\n",
              "      <td>125.45500</td>\n",
              "      <td>123.65499</td>\n",
              "      <td>NaN</td>\n",
              "      <td>NaN</td>\n",
              "      <td>NaN</td>\n",
              "      <td>NaN</td>\n",
              "      <td>NaN</td>\n",
              "      <td>NaN</td>\n",
              "    </tr>\n",
              "    <tr>\n",
              "      <th>2013-10-03</th>\n",
              "      <td>108.58483</td>\n",
              "      <td>125.45500</td>\n",
              "      <td>123.65499</td>\n",
              "      <td>NaN</td>\n",
              "      <td>NaN</td>\n",
              "      <td>NaN</td>\n",
              "      <td>NaN</td>\n",
              "      <td>NaN</td>\n",
              "    </tr>\n",
              "    <tr>\n",
              "      <th>2013-10-04</th>\n",
              "      <td>118.67466</td>\n",
              "      <td>108.58483</td>\n",
              "      <td>125.45500</td>\n",
              "      <td>123.65499</td>\n",
              "      <td>NaN</td>\n",
              "      <td>NaN</td>\n",
              "      <td>NaN</td>\n",
              "      <td>NaN</td>\n",
              "    </tr>\n",
              "    <tr>\n",
              "      <th>2013-10-05</th>\n",
              "      <td>121.33866</td>\n",
              "      <td>118.67466</td>\n",
              "      <td>108.58483</td>\n",
              "      <td>125.45500</td>\n",
              "      <td>123.65499</td>\n",
              "      <td>NaN</td>\n",
              "      <td>NaN</td>\n",
              "      <td>NaN</td>\n",
              "    </tr>\n",
              "  </tbody>\n",
              "</table>\n",
              "</div>"
            ],
            "text/plain": [
              "                Price   Price +1   Price +2  ...  Price +5  Price +6  Price +7\n",
              "Date                                         ...                              \n",
              "2013-10-01  123.65499        NaN        NaN  ...       NaN       NaN       NaN\n",
              "2013-10-02  125.45500  123.65499        NaN  ...       NaN       NaN       NaN\n",
              "2013-10-03  108.58483  125.45500  123.65499  ...       NaN       NaN       NaN\n",
              "2013-10-04  118.67466  108.58483  125.45500  ...       NaN       NaN       NaN\n",
              "2013-10-05  121.33866  118.67466  108.58483  ...       NaN       NaN       NaN\n",
              "\n",
              "[5 rows x 8 columns]"
            ]
          },
          "metadata": {},
          "execution_count": 138
        }
      ]
    },
    {
      "cell_type": "code",
      "metadata": {
        "colab": {
          "base_uri": "https://localhost:8080/"
        },
        "id": "FGqEDP2QXulU",
        "outputId": "13dfc162-a6e1-4308-8dfc-ad65d379bd95"
      },
      "source": [
        "#make features and laabels \n",
        "X=bitcoin_prices_nbeats.dropna().drop(\"Price\",axis=1)\n",
        "y=bitcoin_prices_nbeats.dropna()[\"Price\"]\n",
        "\n",
        "#make train and test data set\n",
        "split_size=int(len(X) *0.8)\n",
        "X_train,y_train =X[:split_size],y[:split_size]\n",
        "X_test,y_test =X[split_size:],y[split_size:]\n",
        "len(X_train),len(X_test),len(y_train),len(y_test)"
      ],
      "execution_count": 139,
      "outputs": [
        {
          "output_type": "execute_result",
          "data": {
            "text/plain": [
              "(2224, 556, 2224, 556)"
            ]
          },
          "metadata": {},
          "execution_count": 139
        }
      ]
    },
    {
      "cell_type": "code",
      "metadata": {
        "colab": {
          "base_uri": "https://localhost:8080/"
        },
        "id": "L82sIeYSYWo6",
        "outputId": "47dc59dd-83dd-4ea5-86bb-767acdc1adf0"
      },
      "source": [
        "#make tenserflow datasets\n",
        "train_features_dataset =tf.data.Dataset.from_tensor_slices(X_train)\n",
        "train_labels_features=tf.data.Dataset.from_tensor_slices(y_train)\n",
        "\n",
        "test_features_dataset =tf.data.Dataset.from_tensor_slices(X_test)\n",
        "test_labels_features=tf.data.Dataset.from_tensor_slices(y_test)\n",
        "\n",
        "#combine labels and features\n",
        "train_dataset=tf.data.Dataset.zip((train_features_dataset,train_labels_features))\n",
        "test_dataset=tf.data.Dataset.zip((test_features_dataset,test_labels_features))\n",
        "\n",
        "#batch and prefetch \n",
        "BATCH_SIZE=1024\n",
        "train_dataset =train_dataset.batch(BATCH_SIZE).prefetch(tf.data.AUTOTUNE)\n",
        "test_dataset =test_dataset.batch(BATCH_SIZE).prefetch(tf.data.AUTOTUNE)\n",
        "\n",
        "train_dataset,test_dataset"
      ],
      "execution_count": 142,
      "outputs": [
        {
          "output_type": "execute_result",
          "data": {
            "text/plain": [
              "(<PrefetchDataset shapes: ((None, 7), (None,)), types: (tf.float64, tf.float64)>,\n",
              " <PrefetchDataset shapes: ((None, 7), (None,)), types: (tf.float64, tf.float64)>)"
            ]
          },
          "metadata": {},
          "execution_count": 142
        }
      ]
    },
    {
      "cell_type": "markdown",
      "metadata": {
        "id": "wtTvhSruZKMY"
      },
      "source": [
        "#Setup hyper parameters to N-Beats Algorithem"
      ]
    },
    {
      "cell_type": "code",
      "metadata": {
        "colab": {
          "base_uri": "https://localhost:8080/"
        },
        "id": "LgMjTq0malzo",
        "outputId": "e256c413-eab5-4d81-b883-d1be48124590"
      },
      "source": [
        "#values from n-beats paper\n",
        "N_EPOCHS=5000\n",
        "N_NEURONS =512\n",
        "N_LAYERS=4\n",
        "N_STACKS=30\n",
        "\n",
        "INPUT_SIZE=WINDOW_SIZE*HORIZON\n",
        "THETA_SIZE=INPUT_SIZE+HORIZON\n",
        "\n",
        "INPUT_SIZE,THETA_SIZE"
      ],
      "execution_count": 143,
      "outputs": [
        {
          "output_type": "execute_result",
          "data": {
            "text/plain": [
              "(7, 8)"
            ]
          },
          "metadata": {},
          "execution_count": 143
        }
      ]
    },
    {
      "cell_type": "code",
      "metadata": {
        "id": "ofjHQhvwcJdL"
      },
      "source": [
        ""
      ],
      "execution_count": null,
      "outputs": []
    }
  ]
}